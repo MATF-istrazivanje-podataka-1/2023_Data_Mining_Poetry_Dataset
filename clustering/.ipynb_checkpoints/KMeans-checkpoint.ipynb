{
 "cells": [
  {
   "cell_type": "markdown",
   "id": "harmful-commander",
   "metadata": {},
   "source": [
    "# KMEANS algorithm"
   ]
  },
  {
   "cell_type": "code",
   "execution_count": 1,
   "id": "authorized-citizenship",
   "metadata": {},
   "outputs": [],
   "source": [
    "# pip install pyclustertend"
   ]
  },
  {
   "cell_type": "code",
   "execution_count": 2,
   "id": "related-specific",
   "metadata": {},
   "outputs": [],
   "source": [
    "# pip install numpy==<1.20>"
   ]
  },
  {
   "cell_type": "code",
   "execution_count": 3,
   "id": "after-america",
   "metadata": {},
   "outputs": [],
   "source": [
    "import pandas as pd\n",
    "import numpy as np\n",
    "import matplotlib.pyplot as plt\n",
    "import math\n",
    "\n",
    "from pyclustertend import hopkins\n",
    "\n",
    "from sklearn.cluster import KMeans\n",
    "from sklearn.decomposition import PCA\n",
    "from sklearn.metrics import silhouette_score, classification_report, confusion_matrix\n",
    "from sklearn.feature_extraction.text import TfidfVectorizer, CountVectorizer\n",
    "from sklearn.preprocessing import LabelEncoder"
   ]
  },
  {
   "cell_type": "code",
   "execution_count": 4,
   "id": "studied-album",
   "metadata": {
    "scrolled": true
   },
   "outputs": [
    {
     "data": {
      "text/html": [
       "<div>\n",
       "<style scoped>\n",
       "    .dataframe tbody tr th:only-of-type {\n",
       "        vertical-align: middle;\n",
       "    }\n",
       "\n",
       "    .dataframe tbody tr th {\n",
       "        vertical-align: top;\n",
       "    }\n",
       "\n",
       "    .dataframe thead th {\n",
       "        text-align: right;\n",
       "    }\n",
       "</style>\n",
       "<table border=\"1\" class=\"dataframe\">\n",
       "  <thead>\n",
       "    <tr style=\"text-align: right;\">\n",
       "      <th></th>\n",
       "      <th>author</th>\n",
       "      <th>content</th>\n",
       "      <th>poem name</th>\n",
       "      <th>age</th>\n",
       "      <th>type</th>\n",
       "      <th>age_type</th>\n",
       "    </tr>\n",
       "  </thead>\n",
       "  <tbody>\n",
       "    <tr>\n",
       "      <th>0</th>\n",
       "      <td>william shakespeare</td>\n",
       "      <td>let the bird of loudest layon the sole arabian...</td>\n",
       "      <td>The Phoenix and the Turtle</td>\n",
       "      <td>Renaissance</td>\n",
       "      <td>Mythology &amp; Folklore</td>\n",
       "      <td>Renaissance Mythology &amp; Folklore</td>\n",
       "    </tr>\n",
       "    <tr>\n",
       "      <th>1</th>\n",
       "      <td>duchess of newcastle margaret cavendish</td>\n",
       "      <td>sir charles into my chamber coming in when i w...</td>\n",
       "      <td>An Epilogue to the Above</td>\n",
       "      <td>Renaissance</td>\n",
       "      <td>Mythology &amp; Folklore</td>\n",
       "      <td>Renaissance Mythology &amp; Folklore</td>\n",
       "    </tr>\n",
       "    <tr>\n",
       "      <th>2</th>\n",
       "      <td>thomas bastard</td>\n",
       "      <td>our vice runs beyond all that old men saw and ...</td>\n",
       "      <td>Book 7, Epigram 42</td>\n",
       "      <td>Renaissance</td>\n",
       "      <td>Mythology &amp; Folklore</td>\n",
       "      <td>Renaissance Mythology &amp; Folklore</td>\n",
       "    </tr>\n",
       "    <tr>\n",
       "      <th>3</th>\n",
       "      <td>edmund spenser</td>\n",
       "      <td>lo i the man  whose muse whilome did maske as ...</td>\n",
       "      <td>from The Faerie Queene: Book I, Canto I</td>\n",
       "      <td>Renaissance</td>\n",
       "      <td>Mythology &amp; Folklore</td>\n",
       "      <td>Renaissance Mythology &amp; Folklore</td>\n",
       "    </tr>\n",
       "    <tr>\n",
       "      <th>4</th>\n",
       "      <td>richard barnfield</td>\n",
       "      <td>long have i longd to see my love againe still ...</td>\n",
       "      <td>Sonnet 16</td>\n",
       "      <td>Renaissance</td>\n",
       "      <td>Mythology &amp; Folklore</td>\n",
       "      <td>Renaissance Mythology &amp; Folklore</td>\n",
       "    </tr>\n",
       "  </tbody>\n",
       "</table>\n",
       "</div>"
      ],
      "text/plain": [
       "                                    author  \\\n",
       "0                      william shakespeare   \n",
       "1  duchess of newcastle margaret cavendish   \n",
       "2                           thomas bastard   \n",
       "3                           edmund spenser   \n",
       "4                        richard barnfield   \n",
       "\n",
       "                                             content  \\\n",
       "0  let the bird of loudest layon the sole arabian...   \n",
       "1  sir charles into my chamber coming in when i w...   \n",
       "2  our vice runs beyond all that old men saw and ...   \n",
       "3  lo i the man  whose muse whilome did maske as ...   \n",
       "4  long have i longd to see my love againe still ...   \n",
       "\n",
       "                                 poem name          age                  type  \\\n",
       "0               The Phoenix and the Turtle  Renaissance  Mythology & Folklore   \n",
       "1                 An Epilogue to the Above  Renaissance  Mythology & Folklore   \n",
       "2                       Book 7, Epigram 42  Renaissance  Mythology & Folklore   \n",
       "3  from The Faerie Queene: Book I, Canto I  Renaissance  Mythology & Folklore   \n",
       "4                                Sonnet 16  Renaissance  Mythology & Folklore   \n",
       "\n",
       "                           age_type  \n",
       "0  Renaissance Mythology & Folklore  \n",
       "1  Renaissance Mythology & Folklore  \n",
       "2  Renaissance Mythology & Folklore  \n",
       "3  Renaissance Mythology & Folklore  \n",
       "4  Renaissance Mythology & Folklore  "
      ]
     },
     "execution_count": 4,
     "metadata": {},
     "output_type": "execute_result"
    }
   ],
   "source": [
    "df = pd.read_csv('../data/all_preprocessed.csv')\n",
    "df.head()"
   ]
  },
  {
   "cell_type": "code",
   "execution_count": 5,
   "id": "antique-fruit",
   "metadata": {},
   "outputs": [],
   "source": [
    "tfidfVectorizer = TfidfVectorizer(stop_words='english')\n",
    "vectorizedContent = tfidfVectorizer.fit_transform(df['content'])"
   ]
  },
  {
   "cell_type": "code",
   "execution_count": 6,
   "id": "conditional-coral",
   "metadata": {
    "scrolled": false
   },
   "outputs": [
    {
     "data": {
      "text/html": [
       "<div>\n",
       "<style scoped>\n",
       "    .dataframe tbody tr th:only-of-type {\n",
       "        vertical-align: middle;\n",
       "    }\n",
       "\n",
       "    .dataframe tbody tr th {\n",
       "        vertical-align: top;\n",
       "    }\n",
       "\n",
       "    .dataframe thead th {\n",
       "        text-align: right;\n",
       "    }\n",
       "</style>\n",
       "<table border=\"1\" class=\"dataframe\">\n",
       "  <thead>\n",
       "    <tr style=\"text-align: right;\">\n",
       "      <th></th>\n",
       "      <th>10</th>\n",
       "      <th>13</th>\n",
       "      <th>1538</th>\n",
       "      <th>19</th>\n",
       "      <th>1904</th>\n",
       "      <th>1914</th>\n",
       "      <th>1917</th>\n",
       "      <th>1919</th>\n",
       "      <th>1921</th>\n",
       "      <th>1922</th>\n",
       "      <th>...</th>\n",
       "      <th>yvory</th>\n",
       "      <th>ywis</th>\n",
       "      <th>zeal</th>\n",
       "      <th>zealous</th>\n",
       "      <th>zenophontes</th>\n",
       "      <th>zephyrs</th>\n",
       "      <th>zephyrus</th>\n",
       "      <th>zeus</th>\n",
       "      <th>zone</th>\n",
       "      <th>zoo</th>\n",
       "    </tr>\n",
       "  </thead>\n",
       "  <tbody>\n",
       "    <tr>\n",
       "      <th>0</th>\n",
       "      <td>0.0</td>\n",
       "      <td>0.0</td>\n",
       "      <td>0.0</td>\n",
       "      <td>0.0</td>\n",
       "      <td>0.0</td>\n",
       "      <td>0.0</td>\n",
       "      <td>0.0</td>\n",
       "      <td>0.0</td>\n",
       "      <td>0.0</td>\n",
       "      <td>0.0</td>\n",
       "      <td>...</td>\n",
       "      <td>0.000000</td>\n",
       "      <td>0.0</td>\n",
       "      <td>0.0</td>\n",
       "      <td>0.0</td>\n",
       "      <td>0.0</td>\n",
       "      <td>0.0</td>\n",
       "      <td>0.0</td>\n",
       "      <td>0.0</td>\n",
       "      <td>0.0</td>\n",
       "      <td>0.0</td>\n",
       "    </tr>\n",
       "    <tr>\n",
       "      <th>1</th>\n",
       "      <td>0.0</td>\n",
       "      <td>0.0</td>\n",
       "      <td>0.0</td>\n",
       "      <td>0.0</td>\n",
       "      <td>0.0</td>\n",
       "      <td>0.0</td>\n",
       "      <td>0.0</td>\n",
       "      <td>0.0</td>\n",
       "      <td>0.0</td>\n",
       "      <td>0.0</td>\n",
       "      <td>...</td>\n",
       "      <td>0.000000</td>\n",
       "      <td>0.0</td>\n",
       "      <td>0.0</td>\n",
       "      <td>0.0</td>\n",
       "      <td>0.0</td>\n",
       "      <td>0.0</td>\n",
       "      <td>0.0</td>\n",
       "      <td>0.0</td>\n",
       "      <td>0.0</td>\n",
       "      <td>0.0</td>\n",
       "    </tr>\n",
       "    <tr>\n",
       "      <th>2</th>\n",
       "      <td>0.0</td>\n",
       "      <td>0.0</td>\n",
       "      <td>0.0</td>\n",
       "      <td>0.0</td>\n",
       "      <td>0.0</td>\n",
       "      <td>0.0</td>\n",
       "      <td>0.0</td>\n",
       "      <td>0.0</td>\n",
       "      <td>0.0</td>\n",
       "      <td>0.0</td>\n",
       "      <td>...</td>\n",
       "      <td>0.000000</td>\n",
       "      <td>0.0</td>\n",
       "      <td>0.0</td>\n",
       "      <td>0.0</td>\n",
       "      <td>0.0</td>\n",
       "      <td>0.0</td>\n",
       "      <td>0.0</td>\n",
       "      <td>0.0</td>\n",
       "      <td>0.0</td>\n",
       "      <td>0.0</td>\n",
       "    </tr>\n",
       "    <tr>\n",
       "      <th>3</th>\n",
       "      <td>0.0</td>\n",
       "      <td>0.0</td>\n",
       "      <td>0.0</td>\n",
       "      <td>0.0</td>\n",
       "      <td>0.0</td>\n",
       "      <td>0.0</td>\n",
       "      <td>0.0</td>\n",
       "      <td>0.0</td>\n",
       "      <td>0.0</td>\n",
       "      <td>0.0</td>\n",
       "      <td>...</td>\n",
       "      <td>0.014873</td>\n",
       "      <td>0.0</td>\n",
       "      <td>0.0</td>\n",
       "      <td>0.0</td>\n",
       "      <td>0.0</td>\n",
       "      <td>0.0</td>\n",
       "      <td>0.0</td>\n",
       "      <td>0.0</td>\n",
       "      <td>0.0</td>\n",
       "      <td>0.0</td>\n",
       "    </tr>\n",
       "    <tr>\n",
       "      <th>4</th>\n",
       "      <td>0.0</td>\n",
       "      <td>0.0</td>\n",
       "      <td>0.0</td>\n",
       "      <td>0.0</td>\n",
       "      <td>0.0</td>\n",
       "      <td>0.0</td>\n",
       "      <td>0.0</td>\n",
       "      <td>0.0</td>\n",
       "      <td>0.0</td>\n",
       "      <td>0.0</td>\n",
       "      <td>...</td>\n",
       "      <td>0.000000</td>\n",
       "      <td>0.0</td>\n",
       "      <td>0.0</td>\n",
       "      <td>0.0</td>\n",
       "      <td>0.0</td>\n",
       "      <td>0.0</td>\n",
       "      <td>0.0</td>\n",
       "      <td>0.0</td>\n",
       "      <td>0.0</td>\n",
       "      <td>0.0</td>\n",
       "    </tr>\n",
       "  </tbody>\n",
       "</table>\n",
       "<p>5 rows × 13324 columns</p>\n",
       "</div>"
      ],
      "text/plain": [
       "    10   13  1538   19  1904  1914  1917  1919  1921  1922  ...     yvory  \\\n",
       "0  0.0  0.0   0.0  0.0   0.0   0.0   0.0   0.0   0.0   0.0  ...  0.000000   \n",
       "1  0.0  0.0   0.0  0.0   0.0   0.0   0.0   0.0   0.0   0.0  ...  0.000000   \n",
       "2  0.0  0.0   0.0  0.0   0.0   0.0   0.0   0.0   0.0   0.0  ...  0.000000   \n",
       "3  0.0  0.0   0.0  0.0   0.0   0.0   0.0   0.0   0.0   0.0  ...  0.014873   \n",
       "4  0.0  0.0   0.0  0.0   0.0   0.0   0.0   0.0   0.0   0.0  ...  0.000000   \n",
       "\n",
       "   ywis  zeal  zealous  zenophontes  zephyrs  zephyrus  zeus  zone  zoo  \n",
       "0   0.0   0.0      0.0          0.0      0.0       0.0   0.0   0.0  0.0  \n",
       "1   0.0   0.0      0.0          0.0      0.0       0.0   0.0   0.0  0.0  \n",
       "2   0.0   0.0      0.0          0.0      0.0       0.0   0.0   0.0  0.0  \n",
       "3   0.0   0.0      0.0          0.0      0.0       0.0   0.0   0.0  0.0  \n",
       "4   0.0   0.0      0.0          0.0      0.0       0.0   0.0   0.0  0.0  \n",
       "\n",
       "[5 rows x 13324 columns]"
      ]
     },
     "execution_count": 6,
     "metadata": {},
     "output_type": "execute_result"
    }
   ],
   "source": [
    "finalData = pd.DataFrame(vectorizedContent.toarray(), columns=tfidfVectorizer.get_feature_names_out())\n",
    "finalData.head()"
   ]
  },
  {
   "cell_type": "code",
   "execution_count": 7,
   "id": "sustained-infrared",
   "metadata": {},
   "outputs": [],
   "source": [
    "colors = ['red', 'green', 'blue', 'purple', 'brown','pink', 'orange', 'darkblue', 'yellow', 'darkgreen']"
   ]
  },
  {
   "cell_type": "code",
   "execution_count": 8,
   "id": "early-vessel",
   "metadata": {},
   "outputs": [],
   "source": [
    "def drawPlot(nClusters, labels, xs, ys, model):\n",
    "    if labels == []:\n",
    "        labels = ['cluster ' + str(i+1) for i in range(nClusters+1)]\n",
    "\n",
    "    plt.figure(figsize=(8, 8))\n",
    "    for i in range(nClusters):\n",
    "        plt.scatter(reduced_data[model.labels_ == i, 0],\n",
    "                    reduced_data[model.labels_ == i, 1], \n",
    "                    s=10, color=colors[i], \n",
    "                    label=f' {labels[i]}')\n",
    "    plt.legend()\n",
    "    plt.show()"
   ]
  },
  {
   "cell_type": "markdown",
   "id": "fifth-valve",
   "metadata": {},
   "source": [
    "## Hopkins statistic"
   ]
  },
  {
   "cell_type": "code",
   "execution_count": 9,
   "id": "religious-deposit",
   "metadata": {},
   "outputs": [
    {
     "data": {
      "text/plain": [
       "0.0857080350507027"
      ]
     },
     "execution_count": 9,
     "metadata": {},
     "output_type": "execute_result"
    }
   ],
   "source": [
    "hs = hopkins(finalData, finalData.shape[0])\n",
    "hs"
   ]
  },
  {
   "cell_type": "markdown",
   "id": "middle-happening",
   "metadata": {},
   "source": [
    "## KMEANS - nonreduced data"
   ]
  },
  {
   "cell_type": "markdown",
   "id": "innocent-billy",
   "metadata": {},
   "source": [
    "#### Reduce the dimensionality of the data using PCA for plot creation"
   ]
  },
  {
   "cell_type": "code",
   "execution_count": 10,
   "id": "promising-march",
   "metadata": {},
   "outputs": [
    {
     "data": {
      "text/plain": [
       "array([[-1.22324382e-01, -1.32599829e-02],\n",
       "       [-1.60406323e-04,  3.18143277e-03],\n",
       "       [-1.97451592e-02,  1.01470648e-03],\n",
       "       ...,\n",
       "       [-4.74607385e-02,  8.67704108e-05],\n",
       "       [-4.05900450e-02, -1.69912954e-03],\n",
       "       [-1.52498297e-01, -2.53641754e-02]])"
      ]
     },
     "execution_count": 10,
     "metadata": {},
     "output_type": "execute_result"
    }
   ],
   "source": [
    "pca = PCA(n_components=2)\n",
    "reduced_data = pca.fit_transform(finalData)\n",
    "reduced_data"
   ]
  },
  {
   "cell_type": "markdown",
   "id": "visible-subject",
   "metadata": {},
   "source": [
    "### K = 2"
   ]
  },
  {
   "cell_type": "code",
   "execution_count": 11,
   "id": "prerequisite-wyoming",
   "metadata": {},
   "outputs": [],
   "source": [
    "k = 2"
   ]
  },
  {
   "cell_type": "markdown",
   "id": "intended-sponsorship",
   "metadata": {},
   "source": [
    "#### Model creation"
   ]
  },
  {
   "cell_type": "code",
   "execution_count": 12,
   "id": "level-preparation",
   "metadata": {},
   "outputs": [],
   "source": [
    "model = KMeans(n_clusters=k, init='k-means++', n_init=20, max_iter=400, tol=0.00001)"
   ]
  },
  {
   "cell_type": "code",
   "execution_count": 13,
   "id": "environmental-article",
   "metadata": {
    "scrolled": true
   },
   "outputs": [
    {
     "data": {
      "text/html": [
       "<style>#sk-container-id-1 {color: black;background-color: white;}#sk-container-id-1 pre{padding: 0;}#sk-container-id-1 div.sk-toggleable {background-color: white;}#sk-container-id-1 label.sk-toggleable__label {cursor: pointer;display: block;width: 100%;margin-bottom: 0;padding: 0.3em;box-sizing: border-box;text-align: center;}#sk-container-id-1 label.sk-toggleable__label-arrow:before {content: \"▸\";float: left;margin-right: 0.25em;color: #696969;}#sk-container-id-1 label.sk-toggleable__label-arrow:hover:before {color: black;}#sk-container-id-1 div.sk-estimator:hover label.sk-toggleable__label-arrow:before {color: black;}#sk-container-id-1 div.sk-toggleable__content {max-height: 0;max-width: 0;overflow: hidden;text-align: left;background-color: #f0f8ff;}#sk-container-id-1 div.sk-toggleable__content pre {margin: 0.2em;color: black;border-radius: 0.25em;background-color: #f0f8ff;}#sk-container-id-1 input.sk-toggleable__control:checked~div.sk-toggleable__content {max-height: 200px;max-width: 100%;overflow: auto;}#sk-container-id-1 input.sk-toggleable__control:checked~label.sk-toggleable__label-arrow:before {content: \"▾\";}#sk-container-id-1 div.sk-estimator input.sk-toggleable__control:checked~label.sk-toggleable__label {background-color: #d4ebff;}#sk-container-id-1 div.sk-label input.sk-toggleable__control:checked~label.sk-toggleable__label {background-color: #d4ebff;}#sk-container-id-1 input.sk-hidden--visually {border: 0;clip: rect(1px 1px 1px 1px);clip: rect(1px, 1px, 1px, 1px);height: 1px;margin: -1px;overflow: hidden;padding: 0;position: absolute;width: 1px;}#sk-container-id-1 div.sk-estimator {font-family: monospace;background-color: #f0f8ff;border: 1px dotted black;border-radius: 0.25em;box-sizing: border-box;margin-bottom: 0.5em;}#sk-container-id-1 div.sk-estimator:hover {background-color: #d4ebff;}#sk-container-id-1 div.sk-parallel-item::after {content: \"\";width: 100%;border-bottom: 1px solid gray;flex-grow: 1;}#sk-container-id-1 div.sk-label:hover label.sk-toggleable__label {background-color: #d4ebff;}#sk-container-id-1 div.sk-serial::before {content: \"\";position: absolute;border-left: 1px solid gray;box-sizing: border-box;top: 0;bottom: 0;left: 50%;z-index: 0;}#sk-container-id-1 div.sk-serial {display: flex;flex-direction: column;align-items: center;background-color: white;padding-right: 0.2em;padding-left: 0.2em;position: relative;}#sk-container-id-1 div.sk-item {position: relative;z-index: 1;}#sk-container-id-1 div.sk-parallel {display: flex;align-items: stretch;justify-content: center;background-color: white;position: relative;}#sk-container-id-1 div.sk-item::before, #sk-container-id-1 div.sk-parallel-item::before {content: \"\";position: absolute;border-left: 1px solid gray;box-sizing: border-box;top: 0;bottom: 0;left: 50%;z-index: -1;}#sk-container-id-1 div.sk-parallel-item {display: flex;flex-direction: column;z-index: 1;position: relative;background-color: white;}#sk-container-id-1 div.sk-parallel-item:first-child::after {align-self: flex-end;width: 50%;}#sk-container-id-1 div.sk-parallel-item:last-child::after {align-self: flex-start;width: 50%;}#sk-container-id-1 div.sk-parallel-item:only-child::after {width: 0;}#sk-container-id-1 div.sk-dashed-wrapped {border: 1px dashed gray;margin: 0 0.4em 0.5em 0.4em;box-sizing: border-box;padding-bottom: 0.4em;background-color: white;}#sk-container-id-1 div.sk-label label {font-family: monospace;font-weight: bold;display: inline-block;line-height: 1.2em;}#sk-container-id-1 div.sk-label-container {text-align: center;}#sk-container-id-1 div.sk-container {/* jupyter's `normalize.less` sets `[hidden] { display: none; }` but bootstrap.min.css set `[hidden] { display: none !important; }` so we also need the `!important` here to be able to override the default hidden behavior on the sphinx rendered scikit-learn.org. See: https://github.com/scikit-learn/scikit-learn/issues/21755 */display: inline-block !important;position: relative;}#sk-container-id-1 div.sk-text-repr-fallback {display: none;}</style><div id=\"sk-container-id-1\" class=\"sk-top-container\"><div class=\"sk-text-repr-fallback\"><pre>KMeans(max_iter=400, n_clusters=2, n_init=20, tol=1e-05)</pre><b>In a Jupyter environment, please rerun this cell to show the HTML representation or trust the notebook. <br />On GitHub, the HTML representation is unable to render, please try loading this page with nbviewer.org.</b></div><div class=\"sk-container\" hidden><div class=\"sk-item\"><div class=\"sk-estimator sk-toggleable\"><input class=\"sk-toggleable__control sk-hidden--visually\" id=\"sk-estimator-id-1\" type=\"checkbox\" checked><label for=\"sk-estimator-id-1\" class=\"sk-toggleable__label sk-toggleable__label-arrow\">KMeans</label><div class=\"sk-toggleable__content\"><pre>KMeans(max_iter=400, n_clusters=2, n_init=20, tol=1e-05)</pre></div></div></div></div></div>"
      ],
      "text/plain": [
       "KMeans(max_iter=400, n_clusters=2, n_init=20, tol=1e-05)"
      ]
     },
     "execution_count": 13,
     "metadata": {},
     "output_type": "execute_result"
    }
   ],
   "source": [
    "model.fit(finalData)"
   ]
  },
  {
   "cell_type": "code",
   "execution_count": 14,
   "id": "jewish-sweet",
   "metadata": {
    "scrolled": true
   },
   "outputs": [
    {
     "data": {
      "text/plain": [
       "<matplotlib.legend.Legend at 0x7fd4071094f0>"
      ]
     },
     "execution_count": 14,
     "metadata": {},
     "output_type": "execute_result"
    },
    {
     "data": {
      "image/png": "[encoded data removed]",
      "text/plain": [
       "<Figure size 1080x576 with 2 Axes>"
      ]
     },
     "metadata": {
      "needs_background": "light"
     },
     "output_type": "display_data"
    }
   ],
   "source": [
    "fig, (ax1, ax2) = plt.subplots(1, 2, figsize=(15, 8))\n",
    "fig.suptitle('Cluster vs Age')\n",
    "cluster = ['cluster ' + str(i+1) for i in range(k+1)]\n",
    "\n",
    "for i in range(k):\n",
    "    ax1.scatter(reduced_data[model.labels_ == i, 0],\n",
    "                reduced_data[model.labels_ == i, 1], \n",
    "                s=10, color=colors[i], \n",
    "                label=f' {cluster[i]}')\n",
    "ax1.legend()\n",
    "\n",
    "ages = df.age.unique()\n",
    "\n",
    "i = 0\n",
    "for a in ages:\n",
    "    ids = df.index[df['age'] == a].tolist()\n",
    "    ax2.scatter(np.array(reduced_data)[ids, 0],\n",
    "                np.array(reduced_data)[ids, 1], \n",
    "                s=10, color=colors[i], \n",
    "                label=f' {ages[i]}')\n",
    "    i+=1\n",
    "ax2.legend()"
   ]
  },
  {
   "cell_type": "markdown",
   "id": "yellow-requirement",
   "metadata": {},
   "source": [
    "## K = 3"
   ]
  },
  {
   "cell_type": "code",
   "execution_count": 15,
   "id": "charged-tuesday",
   "metadata": {},
   "outputs": [],
   "source": [
    "k = 3"
   ]
  },
  {
   "cell_type": "code",
   "execution_count": 16,
   "id": "greenhouse-average",
   "metadata": {},
   "outputs": [],
   "source": [
    "model = KMeans(n_clusters=k, init='k-means++', n_init=20, max_iter=400, tol=0.00001)"
   ]
  },
  {
   "cell_type": "code",
   "execution_count": 17,
   "id": "higher-stable",
   "metadata": {},
   "outputs": [
    {
     "data": {
      "text/html": [
       "<style>#sk-container-id-2 {color: black;background-color: white;}#sk-container-id-2 pre{padding: 0;}#sk-container-id-2 div.sk-toggleable {background-color: white;}#sk-container-id-2 label.sk-toggleable__label {cursor: pointer;display: block;width: 100%;margin-bottom: 0;padding: 0.3em;box-sizing: border-box;text-align: center;}#sk-container-id-2 label.sk-toggleable__label-arrow:before {content: \"▸\";float: left;margin-right: 0.25em;color: #696969;}#sk-container-id-2 label.sk-toggleable__label-arrow:hover:before {color: black;}#sk-container-id-2 div.sk-estimator:hover label.sk-toggleable__label-arrow:before {color: black;}#sk-container-id-2 div.sk-toggleable__content {max-height: 0;max-width: 0;overflow: hidden;text-align: left;background-color: #f0f8ff;}#sk-container-id-2 div.sk-toggleable__content pre {margin: 0.2em;color: black;border-radius: 0.25em;background-color: #f0f8ff;}#sk-container-id-2 input.sk-toggleable__control:checked~div.sk-toggleable__content {max-height: 200px;max-width: 100%;overflow: auto;}#sk-container-id-2 input.sk-toggleable__control:checked~label.sk-toggleable__label-arrow:before {content: \"▾\";}#sk-container-id-2 div.sk-estimator input.sk-toggleable__control:checked~label.sk-toggleable__label {background-color: #d4ebff;}#sk-container-id-2 div.sk-label input.sk-toggleable__control:checked~label.sk-toggleable__label {background-color: #d4ebff;}#sk-container-id-2 input.sk-hidden--visually {border: 0;clip: rect(1px 1px 1px 1px);clip: rect(1px, 1px, 1px, 1px);height: 1px;margin: -1px;overflow: hidden;padding: 0;position: absolute;width: 1px;}#sk-container-id-2 div.sk-estimator {font-family: monospace;background-color: #f0f8ff;border: 1px dotted black;border-radius: 0.25em;box-sizing: border-box;margin-bottom: 0.5em;}#sk-container-id-2 div.sk-estimator:hover {background-color: #d4ebff;}#sk-container-id-2 div.sk-parallel-item::after {content: \"\";width: 100%;border-bottom: 1px solid gray;flex-grow: 1;}#sk-container-id-2 div.sk-label:hover label.sk-toggleable__label {background-color: #d4ebff;}#sk-container-id-2 div.sk-serial::before {content: \"\";position: absolute;border-left: 1px solid gray;box-sizing: border-box;top: 0;bottom: 0;left: 50%;z-index: 0;}#sk-container-id-2 div.sk-serial {display: flex;flex-direction: column;align-items: center;background-color: white;padding-right: 0.2em;padding-left: 0.2em;position: relative;}#sk-container-id-2 div.sk-item {position: relative;z-index: 1;}#sk-container-id-2 div.sk-parallel {display: flex;align-items: stretch;justify-content: center;background-color: white;position: relative;}#sk-container-id-2 div.sk-item::before, #sk-container-id-2 div.sk-parallel-item::before {content: \"\";position: absolute;border-left: 1px solid gray;box-sizing: border-box;top: 0;bottom: 0;left: 50%;z-index: -1;}#sk-container-id-2 div.sk-parallel-item {display: flex;flex-direction: column;z-index: 1;position: relative;background-color: white;}#sk-container-id-2 div.sk-parallel-item:first-child::after {align-self: flex-end;width: 50%;}#sk-container-id-2 div.sk-parallel-item:last-child::after {align-self: flex-start;width: 50%;}#sk-container-id-2 div.sk-parallel-item:only-child::after {width: 0;}#sk-container-id-2 div.sk-dashed-wrapped {border: 1px dashed gray;margin: 0 0.4em 0.5em 0.4em;box-sizing: border-box;padding-bottom: 0.4em;background-color: white;}#sk-container-id-2 div.sk-label label {font-family: monospace;font-weight: bold;display: inline-block;line-height: 1.2em;}#sk-container-id-2 div.sk-label-container {text-align: center;}#sk-container-id-2 div.sk-container {/* jupyter's `normalize.less` sets `[hidden] { display: none; }` but bootstrap.min.css set `[hidden] { display: none !important; }` so we also need the `!important` here to be able to override the default hidden behavior on the sphinx rendered scikit-learn.org. See: https://github.com/scikit-learn/scikit-learn/issues/21755 */display: inline-block !important;position: relative;}#sk-container-id-2 div.sk-text-repr-fallback {display: none;}</style><div id=\"sk-container-id-2\" class=\"sk-top-container\"><div class=\"sk-text-repr-fallback\"><pre>KMeans(max_iter=400, n_clusters=3, n_init=20, tol=1e-05)</pre><b>In a Jupyter environment, please rerun this cell to show the HTML representation or trust the notebook. <br />On GitHub, the HTML representation is unable to render, please try loading this page with nbviewer.org.</b></div><div class=\"sk-container\" hidden><div class=\"sk-item\"><div class=\"sk-estimator sk-toggleable\"><input class=\"sk-toggleable__control sk-hidden--visually\" id=\"sk-estimator-id-2\" type=\"checkbox\" checked><label for=\"sk-estimator-id-2\" class=\"sk-toggleable__label sk-toggleable__label-arrow\">KMeans</label><div class=\"sk-toggleable__content\"><pre>KMeans(max_iter=400, n_clusters=3, n_init=20, tol=1e-05)</pre></div></div></div></div></div>"
      ],
      "text/plain": [
       "KMeans(max_iter=400, n_clusters=3, n_init=20, tol=1e-05)"
      ]
     },
     "execution_count": 17,
     "metadata": {},
     "output_type": "execute_result"
    }
   ],
   "source": [
    "model.fit(finalData)"
   ]
  },
  {
   "cell_type": "code",
   "execution_count": 18,
   "id": "spectacular-aerospace",
   "metadata": {},
   "outputs": [
    {
     "data": {
      "text/plain": [
       "<matplotlib.legend.Legend at 0x7fd406f4bc70>"
      ]
     },
     "execution_count": 18,
     "metadata": {},
     "output_type": "execute_result"
    },
    {
     "data": {
      "image/png": "[encoded data removed]",
      "text/plain": [
       "<Figure size 1080x576 with 2 Axes>"
      ]
     },
     "metadata": {
      "needs_background": "light"
     },
     "output_type": "display_data"
    }
   ],
   "source": [
    "fig, (ax1, ax2) = plt.subplots(1, 2, figsize=(15, 8))\n",
    "fig.suptitle('Cluster vs Type')\n",
    "cluster = ['cluster ' + str(i+1) for i in range(k+1)]\n",
    "\n",
    "for i in range(k):\n",
    "    ax1.scatter(reduced_data[model.labels_ == i, 0],\n",
    "                reduced_data[model.labels_ == i, 1], \n",
    "                s=10, color=colors[i], \n",
    "                label=f' {cluster[i]}')\n",
    "ax1.legend()\n",
    "\n",
    "types = df.type.unique()\n",
    "\n",
    "i = 0\n",
    "for a in types:\n",
    "    ids = df.index[df['type'] == a].tolist()\n",
    "    ax2.scatter(np.array(reduced_data)[ids, 0],\n",
    "                np.array(reduced_data)[ids, 1], \n",
    "                s=10, color=colors[i], \n",
    "                label=f' {types[i]}')\n",
    "    i+=1\n",
    "ax2.legend()"
   ]
  },
  {
   "cell_type": "markdown",
   "id": "domestic-addition",
   "metadata": {},
   "source": [
    "#### Elbow method on nonreduced data"
   ]
  },
  {
   "cell_type": "code",
   "execution_count": 19,
   "id": "virtual-visibility",
   "metadata": {},
   "outputs": [],
   "source": [
    "ks = range(2, 10)\n",
    "inertias = []\n",
    "silhouettes = []\n",
    "for k in ks:\n",
    "    kmeans = KMeans(n_clusters=k, init='k-means++', n_init=20)\n",
    "    kmeans.fit(finalData)\n",
    "    inertias.append(kmeans.inertia_)\n",
    "    silhouettes.append(silhouette_score(finalData, kmeans.labels_))"
   ]
  },
  {
   "cell_type": "code",
   "execution_count": 20,
   "id": "everyday-publicity",
   "metadata": {
    "scrolled": false
   },
   "outputs": [
    {
     "data": {
      "text/plain": [
       "[<matplotlib.lines.Line2D at 0x7fd406eb48e0>]"
      ]
     },
     "execution_count": 20,
     "metadata": {},
     "output_type": "execute_result"
    },
    {
     "data": {
      "text/plain": [
       "<Figure size 720x360 with 0 Axes>"
      ]
     },
     "metadata": {},
     "output_type": "display_data"
    },
    {
     "data": {
      "image/png": "[encoded data removed]",
      "text/plain": [
       "<Figure size 1080x576 with 2 Axes>"
      ]
     },
     "metadata": {
      "needs_background": "light"
     },
     "output_type": "display_data"
    }
   ],
   "source": [
    "fig = plt.figure(figsize=(10, 5))\n",
    "\n",
    "fig, (ax1, ax2) = plt.subplots(1, 2, figsize=(15, 8))\n",
    "fig.suptitle('Inertias and Silhouettes')\n",
    "\n",
    "ax1.plot(ks, inertias, marker='o', color='red')\n",
    "ax2.plot(ks, silhouettes, marker='o', color='blue')"
   ]
  },
  {
   "cell_type": "markdown",
   "id": "postal-silver",
   "metadata": {},
   "source": [
    "## KMEANS - reduced data"
   ]
  },
  {
   "cell_type": "code",
   "execution_count": 21,
   "id": "suited-graduation",
   "metadata": {},
   "outputs": [
    {
     "data": {
      "text/plain": [
       "array([[-0.12233868, -0.01275084],\n",
       "       [-0.00016197,  0.00312224],\n",
       "       [-0.01974551,  0.00091987],\n",
       "       ...,\n",
       "       [-0.04747181,  0.00041124],\n",
       "       [-0.04060348, -0.00162159],\n",
       "       [-0.15249523, -0.02560605]])"
      ]
     },
     "execution_count": 21,
     "metadata": {},
     "output_type": "execute_result"
    }
   ],
   "source": [
    "pca = PCA(n_components=2)\n",
    "reduced_data = pca.fit_transform(finalData)\n",
    "reduced_data"
   ]
  },
  {
   "cell_type": "code",
   "execution_count": 22,
   "id": "hawaiian-gauge",
   "metadata": {},
   "outputs": [],
   "source": [
    "ks = range(2, 10)\n",
    "inertias = []\n",
    "silhouettes = []\n",
    "for k in ks:\n",
    "    kmeans = KMeans(n_clusters=k, init='k-means++', n_init=20)\n",
    "    kmeans.fit(reduced_data)\n",
    "    inertias.append(kmeans.inertia_)\n",
    "    silhouettes.append(silhouette_score(reduced_data, kmeans.labels_))"
   ]
  },
  {
   "cell_type": "code",
   "execution_count": 23,
   "id": "statutory-walter",
   "metadata": {
    "scrolled": false
   },
   "outputs": [
    {
     "data": {
      "text/plain": [
       "[<matplotlib.lines.Line2D at 0x7fd406dc0430>]"
      ]
     },
     "execution_count": 23,
     "metadata": {},
     "output_type": "execute_result"
    },
    {
     "data": {
      "text/plain": [
       "<Figure size 720x360 with 0 Axes>"
      ]
     },
     "metadata": {},
     "output_type": "display_data"
    },
    {
     "data": {
      "image/png": "[encoded data removed]",
      "text/plain": [
       "<Figure size 1080x576 with 2 Axes>"
      ]
     },
     "metadata": {
      "needs_background": "light"
     },
     "output_type": "display_data"
    }
   ],
   "source": [
    "fig = plt.figure(figsize=(10, 5))\n",
    "\n",
    "fig, (ax1, ax2) = plt.subplots(1, 2, figsize=(15, 8))\n",
    "fig.suptitle('Inertias and Silhouettes')\n",
    "\n",
    "ax1.plot(ks, inertias, marker='o', color = 'red')\n",
    "ax2.plot(ks, silhouettes, marker='o', color = 'blue')"
   ]
  },
  {
   "cell_type": "code",
   "execution_count": 24,
   "id": "cross-adelaide",
   "metadata": {},
   "outputs": [],
   "source": [
    "k = 4  "
   ]
  },
  {
   "cell_type": "code",
   "execution_count": 25,
   "id": "raising-abuse",
   "metadata": {},
   "outputs": [],
   "source": [
    "model = KMeans(n_clusters=k, init='k-means++', n_init=30, max_iter=400, tol=0.00001)"
   ]
  },
  {
   "cell_type": "code",
   "execution_count": 26,
   "id": "alert-center",
   "metadata": {},
   "outputs": [
    {
     "data": {
      "text/html": [
       "<style>#sk-container-id-3 {color: black;background-color: white;}#sk-container-id-3 pre{padding: 0;}#sk-container-id-3 div.sk-toggleable {background-color: white;}#sk-container-id-3 label.sk-toggleable__label {cursor: pointer;display: block;width: 100%;margin-bottom: 0;padding: 0.3em;box-sizing: border-box;text-align: center;}#sk-container-id-3 label.sk-toggleable__label-arrow:before {content: \"▸\";float: left;margin-right: 0.25em;color: #696969;}#sk-container-id-3 label.sk-toggleable__label-arrow:hover:before {color: black;}#sk-container-id-3 div.sk-estimator:hover label.sk-toggleable__label-arrow:before {color: black;}#sk-container-id-3 div.sk-toggleable__content {max-height: 0;max-width: 0;overflow: hidden;text-align: left;background-color: #f0f8ff;}#sk-container-id-3 div.sk-toggleable__content pre {margin: 0.2em;color: black;border-radius: 0.25em;background-color: #f0f8ff;}#sk-container-id-3 input.sk-toggleable__control:checked~div.sk-toggleable__content {max-height: 200px;max-width: 100%;overflow: auto;}#sk-container-id-3 input.sk-toggleable__control:checked~label.sk-toggleable__label-arrow:before {content: \"▾\";}#sk-container-id-3 div.sk-estimator input.sk-toggleable__control:checked~label.sk-toggleable__label {background-color: #d4ebff;}#sk-container-id-3 div.sk-label input.sk-toggleable__control:checked~label.sk-toggleable__label {background-color: #d4ebff;}#sk-container-id-3 input.sk-hidden--visually {border: 0;clip: rect(1px 1px 1px 1px);clip: rect(1px, 1px, 1px, 1px);height: 1px;margin: -1px;overflow: hidden;padding: 0;position: absolute;width: 1px;}#sk-container-id-3 div.sk-estimator {font-family: monospace;background-color: #f0f8ff;border: 1px dotted black;border-radius: 0.25em;box-sizing: border-box;margin-bottom: 0.5em;}#sk-container-id-3 div.sk-estimator:hover {background-color: #d4ebff;}#sk-container-id-3 div.sk-parallel-item::after {content: \"\";width: 100%;border-bottom: 1px solid gray;flex-grow: 1;}#sk-container-id-3 div.sk-label:hover label.sk-toggleable__label {background-color: #d4ebff;}#sk-container-id-3 div.sk-serial::before {content: \"\";position: absolute;border-left: 1px solid gray;box-sizing: border-box;top: 0;bottom: 0;left: 50%;z-index: 0;}#sk-container-id-3 div.sk-serial {display: flex;flex-direction: column;align-items: center;background-color: white;padding-right: 0.2em;padding-left: 0.2em;position: relative;}#sk-container-id-3 div.sk-item {position: relative;z-index: 1;}#sk-container-id-3 div.sk-parallel {display: flex;align-items: stretch;justify-content: center;background-color: white;position: relative;}#sk-container-id-3 div.sk-item::before, #sk-container-id-3 div.sk-parallel-item::before {content: \"\";position: absolute;border-left: 1px solid gray;box-sizing: border-box;top: 0;bottom: 0;left: 50%;z-index: -1;}#sk-container-id-3 div.sk-parallel-item {display: flex;flex-direction: column;z-index: 1;position: relative;background-color: white;}#sk-container-id-3 div.sk-parallel-item:first-child::after {align-self: flex-end;width: 50%;}#sk-container-id-3 div.sk-parallel-item:last-child::after {align-self: flex-start;width: 50%;}#sk-container-id-3 div.sk-parallel-item:only-child::after {width: 0;}#sk-container-id-3 div.sk-dashed-wrapped {border: 1px dashed gray;margin: 0 0.4em 0.5em 0.4em;box-sizing: border-box;padding-bottom: 0.4em;background-color: white;}#sk-container-id-3 div.sk-label label {font-family: monospace;font-weight: bold;display: inline-block;line-height: 1.2em;}#sk-container-id-3 div.sk-label-container {text-align: center;}#sk-container-id-3 div.sk-container {/* jupyter's `normalize.less` sets `[hidden] { display: none; }` but bootstrap.min.css set `[hidden] { display: none !important; }` so we also need the `!important` here to be able to override the default hidden behavior on the sphinx rendered scikit-learn.org. See: https://github.com/scikit-learn/scikit-learn/issues/21755 */display: inline-block !important;position: relative;}#sk-container-id-3 div.sk-text-repr-fallback {display: none;}</style><div id=\"sk-container-id-3\" class=\"sk-top-container\"><div class=\"sk-text-repr-fallback\"><pre>KMeans(max_iter=400, n_clusters=4, n_init=30, tol=1e-05)</pre><b>In a Jupyter environment, please rerun this cell to show the HTML representation or trust the notebook. <br />On GitHub, the HTML representation is unable to render, please try loading this page with nbviewer.org.</b></div><div class=\"sk-container\" hidden><div class=\"sk-item\"><div class=\"sk-estimator sk-toggleable\"><input class=\"sk-toggleable__control sk-hidden--visually\" id=\"sk-estimator-id-3\" type=\"checkbox\" checked><label for=\"sk-estimator-id-3\" class=\"sk-toggleable__label sk-toggleable__label-arrow\">KMeans</label><div class=\"sk-toggleable__content\"><pre>KMeans(max_iter=400, n_clusters=4, n_init=30, tol=1e-05)</pre></div></div></div></div></div>"
      ],
      "text/plain": [
       "KMeans(max_iter=400, n_clusters=4, n_init=30, tol=1e-05)"
      ]
     },
     "execution_count": 26,
     "metadata": {},
     "output_type": "execute_result"
    }
   ],
   "source": [
    "model.fit(reduced_data)"
   ]
  },
  {
   "cell_type": "code",
   "execution_count": 27,
   "id": "rough-translator",
   "metadata": {},
   "outputs": [
    {
     "data": {
      "image/png": "[encoded data removed]",
      "text/plain": [
       "<Figure size 576x576 with 1 Axes>"
      ]
     },
     "metadata": {
      "needs_background": "light"
     },
     "output_type": "display_data"
    }
   ],
   "source": [
    "cluster = ['cluster ' + str(i+1) for i in range(k+1)]\n",
    "\n",
    "plt.figure(figsize=(8, 8))\n",
    "for i in range(k):\n",
    "    plt.scatter(reduced_data[model.labels_ == i, 0],\n",
    "                reduced_data[model.labels_ == i, 1], \n",
    "                s=10, color=colors[i], \n",
    "                label=f' {cluster[i]}')\n",
    "plt.legend()\n",
    "plt.show()"
   ]
  },
  {
   "cell_type": "markdown",
   "id": "failing-fantasy",
   "metadata": {},
   "source": [
    "Number of instances in each cluster:"
   ]
  },
  {
   "cell_type": "code",
   "execution_count": 28,
   "id": "promotional-feature",
   "metadata": {
    "scrolled": true
   },
   "outputs": [
    {
     "data": {
      "text/plain": [
       "array([482,  10,  72,   9])"
      ]
     },
     "execution_count": 28,
     "metadata": {},
     "output_type": "execute_result"
    }
   ],
   "source": [
    "np.bincount(model.labels_)"
   ]
  },
  {
   "cell_type": "markdown",
   "id": "sudden-beatles",
   "metadata": {},
   "source": [
    "Age vs clusters:\n",
    "(Clusers 2, 3 and 4 are treated as same cluster)"
   ]
  },
  {
   "cell_type": "code",
   "execution_count": 29,
   "id": "parental-isolation",
   "metadata": {},
   "outputs": [],
   "source": [
    "labels = []\n",
    "for l in model.labels_:\n",
    "    if(l == 0):\n",
    "        labels.append(0)\n",
    "    else:\n",
    "        labels.append(1)\n",
    "labels_ = np.array(labels)"
   ]
  },
  {
   "cell_type": "code",
   "execution_count": 30,
   "id": "offshore-salvation",
   "metadata": {},
   "outputs": [
    {
     "data": {
      "text/plain": [
       "<matplotlib.legend.Legend at 0x7fd406d3e280>"
      ]
     },
     "execution_count": 30,
     "metadata": {},
     "output_type": "execute_result"
    },
    {
     "data": {
      "image/png": "[encoded data removed]",
      "text/plain": [
       "<Figure size 1080x576 with 2 Axes>"
      ]
     },
     "metadata": {
      "needs_background": "light"
     },
     "output_type": "display_data"
    }
   ],
   "source": [
    "k = 2\n",
    "fig, (ax1, ax2) = plt.subplots(1, 2, figsize=(15, 8))\n",
    "fig.suptitle('Cluster vs Age')\n",
    "cluster = ['cluster ' + str(i+1) for i in range(k+1)]\n",
    "\n",
    "for i in range(k):\n",
    "    ax1.scatter(reduced_data[labels_ == i, 0],\n",
    "                reduced_data[labels_ == i, 1], \n",
    "                s=10, color=colors[i], \n",
    "                label=f' {cluster[i]}')\n",
    "ax1.legend()\n",
    "\n",
    "ages = df.age.unique()\n",
    "\n",
    "i = 0\n",
    "for a in ages:\n",
    "    ids = df.index[df['age'] == a].tolist()\n",
    "    ax2.scatter(np.array(reduced_data)[ids, 0],\n",
    "                np.array(reduced_data)[ids, 1], \n",
    "                s=10, color=colors[i], \n",
    "                label=f' {ages[i]}')\n",
    "    i+=1\n",
    "ax2.legend()"
   ]
  },
  {
   "cell_type": "code",
   "execution_count": 31,
   "id": "adolescent-appraisal",
   "metadata": {},
   "outputs": [
    {
     "data": {
      "text/plain": [
       "['Renaissance',\n",
       " 'Renaissance',\n",
       " 'Renaissance',\n",
       " 'Renaissance',\n",
       " 'Renaissance',\n",
       " 'Renaissance',\n",
       " 'Renaissance',\n",
       " 'Renaissance',\n",
       " 'Renaissance',\n",
       " 'Renaissance',\n",
       " 'Renaissance',\n",
       " 'Renaissance',\n",
       " 'Renaissance',\n",
       " 'Renaissance',\n",
       " 'Renaissance',\n",
       " 'Renaissance',\n",
       " 'Renaissance',\n",
       " 'Renaissance',\n",
       " 'Renaissance',\n",
       " 'Renaissance',\n",
       " 'Renaissance',\n",
       " 'Renaissance',\n",
       " 'Renaissance',\n",
       " 'Renaissance',\n",
       " 'Renaissance',\n",
       " 'Renaissance',\n",
       " 'Renaissance',\n",
       " 'Renaissance',\n",
       " 'Renaissance',\n",
       " 'Renaissance',\n",
       " 'Renaissance',\n",
       " 'Renaissance',\n",
       " 'Renaissance',\n",
       " 'Renaissance',\n",
       " 'Renaissance',\n",
       " 'Renaissance',\n",
       " 'Renaissance',\n",
       " 'Renaissance',\n",
       " 'Renaissance',\n",
       " 'Renaissance',\n",
       " 'Renaissance',\n",
       " 'Renaissance',\n",
       " 'Renaissance',\n",
       " 'Renaissance',\n",
       " 'Renaissance',\n",
       " 'Renaissance',\n",
       " 'Renaissance',\n",
       " 'Renaissance',\n",
       " 'Renaissance',\n",
       " 'Renaissance',\n",
       " 'Renaissance',\n",
       " 'Renaissance',\n",
       " 'Renaissance',\n",
       " 'Renaissance',\n",
       " 'Renaissance',\n",
       " 'Renaissance',\n",
       " 'Renaissance',\n",
       " 'Renaissance',\n",
       " 'Renaissance',\n",
       " 'Renaissance',\n",
       " 'Renaissance',\n",
       " 'Renaissance',\n",
       " 'Renaissance',\n",
       " 'Renaissance',\n",
       " 'Renaissance',\n",
       " 'Renaissance',\n",
       " 'Renaissance',\n",
       " 'Renaissance',\n",
       " 'Renaissance',\n",
       " 'Renaissance',\n",
       " 'Renaissance',\n",
       " 'Renaissance',\n",
       " 'Renaissance',\n",
       " 'Renaissance',\n",
       " 'Renaissance',\n",
       " 'Renaissance',\n",
       " 'Renaissance',\n",
       " 'Renaissance',\n",
       " 'Renaissance',\n",
       " 'Renaissance',\n",
       " 'Renaissance',\n",
       " 'Renaissance',\n",
       " 'Renaissance',\n",
       " 'Renaissance',\n",
       " 'Renaissance',\n",
       " 'Renaissance',\n",
       " 'Renaissance',\n",
       " 'Renaissance',\n",
       " 'Renaissance',\n",
       " 'Renaissance',\n",
       " 'Renaissance',\n",
       " 'Renaissance',\n",
       " 'Renaissance',\n",
       " 'Renaissance',\n",
       " 'Renaissance',\n",
       " 'Renaissance',\n",
       " 'Renaissance',\n",
       " 'Renaissance',\n",
       " 'Renaissance',\n",
       " 'Renaissance',\n",
       " 'Renaissance',\n",
       " 'Renaissance',\n",
       " 'Renaissance',\n",
       " 'Renaissance',\n",
       " 'Renaissance',\n",
       " 'Renaissance',\n",
       " 'Renaissance',\n",
       " 'Renaissance',\n",
       " 'Renaissance',\n",
       " 'Renaissance',\n",
       " 'Renaissance',\n",
       " 'Renaissance',\n",
       " 'Renaissance',\n",
       " 'Renaissance',\n",
       " 'Renaissance',\n",
       " 'Renaissance',\n",
       " 'Renaissance',\n",
       " 'Renaissance',\n",
       " 'Renaissance',\n",
       " 'Renaissance',\n",
       " 'Renaissance',\n",
       " 'Renaissance',\n",
       " 'Renaissance',\n",
       " 'Renaissance',\n",
       " 'Renaissance',\n",
       " 'Renaissance',\n",
       " 'Renaissance',\n",
       " 'Renaissance',\n",
       " 'Renaissance',\n",
       " 'Renaissance',\n",
       " 'Renaissance',\n",
       " 'Renaissance',\n",
       " 'Renaissance',\n",
       " 'Renaissance',\n",
       " 'Renaissance',\n",
       " 'Renaissance',\n",
       " 'Renaissance',\n",
       " 'Renaissance',\n",
       " 'Renaissance',\n",
       " 'Renaissance',\n",
       " 'Renaissance',\n",
       " 'Renaissance',\n",
       " 'Renaissance',\n",
       " 'Renaissance',\n",
       " 'Renaissance',\n",
       " 'Renaissance',\n",
       " 'Renaissance',\n",
       " 'Renaissance',\n",
       " 'Renaissance',\n",
       " 'Renaissance',\n",
       " 'Renaissance',\n",
       " 'Renaissance',\n",
       " 'Renaissance',\n",
       " 'Renaissance',\n",
       " 'Renaissance',\n",
       " 'Renaissance',\n",
       " 'Renaissance',\n",
       " 'Renaissance',\n",
       " 'Renaissance',\n",
       " 'Renaissance',\n",
       " 'Renaissance',\n",
       " 'Renaissance',\n",
       " 'Renaissance',\n",
       " 'Renaissance',\n",
       " 'Renaissance',\n",
       " 'Renaissance',\n",
       " 'Renaissance',\n",
       " 'Renaissance',\n",
       " 'Renaissance',\n",
       " 'Renaissance',\n",
       " 'Renaissance',\n",
       " 'Renaissance',\n",
       " 'Renaissance',\n",
       " 'Renaissance',\n",
       " 'Renaissance',\n",
       " 'Renaissance',\n",
       " 'Renaissance',\n",
       " 'Renaissance',\n",
       " 'Renaissance',\n",
       " 'Renaissance',\n",
       " 'Renaissance',\n",
       " 'Renaissance',\n",
       " 'Renaissance',\n",
       " 'Renaissance',\n",
       " 'Renaissance',\n",
       " 'Renaissance',\n",
       " 'Renaissance',\n",
       " 'Renaissance',\n",
       " 'Renaissance',\n",
       " 'Renaissance',\n",
       " 'Renaissance',\n",
       " 'Renaissance',\n",
       " 'Renaissance',\n",
       " 'Renaissance',\n",
       " 'Renaissance',\n",
       " 'Renaissance',\n",
       " 'Renaissance',\n",
       " 'Renaissance',\n",
       " 'Renaissance',\n",
       " 'Renaissance',\n",
       " 'Renaissance',\n",
       " 'Renaissance',\n",
       " 'Renaissance',\n",
       " 'Renaissance',\n",
       " 'Renaissance',\n",
       " 'Renaissance',\n",
       " 'Renaissance',\n",
       " 'Renaissance',\n",
       " 'Renaissance',\n",
       " 'Renaissance',\n",
       " 'Renaissance',\n",
       " 'Renaissance',\n",
       " 'Renaissance',\n",
       " 'Renaissance',\n",
       " 'Renaissance',\n",
       " 'Renaissance',\n",
       " 'Renaissance',\n",
       " 'Renaissance',\n",
       " 'Renaissance',\n",
       " 'Renaissance',\n",
       " 'Renaissance',\n",
       " 'Renaissance',\n",
       " 'Renaissance',\n",
       " 'Renaissance',\n",
       " 'Renaissance',\n",
       " 'Renaissance',\n",
       " 'Renaissance',\n",
       " 'Renaissance',\n",
       " 'Renaissance',\n",
       " 'Renaissance',\n",
       " 'Renaissance',\n",
       " 'Renaissance',\n",
       " 'Renaissance',\n",
       " 'Renaissance',\n",
       " 'Renaissance',\n",
       " 'Renaissance',\n",
       " 'Renaissance',\n",
       " 'Renaissance',\n",
       " 'Renaissance',\n",
       " 'Renaissance',\n",
       " 'Renaissance',\n",
       " 'Renaissance',\n",
       " 'Renaissance',\n",
       " 'Renaissance',\n",
       " 'Renaissance',\n",
       " 'Renaissance',\n",
       " 'Renaissance',\n",
       " 'Renaissance',\n",
       " 'Renaissance',\n",
       " 'Renaissance',\n",
       " 'Renaissance',\n",
       " 'Renaissance',\n",
       " 'Renaissance',\n",
       " 'Renaissance',\n",
       " 'Renaissance',\n",
       " 'Renaissance',\n",
       " 'Renaissance',\n",
       " 'Renaissance',\n",
       " 'Renaissance',\n",
       " 'Renaissance',\n",
       " 'Renaissance',\n",
       " 'Renaissance',\n",
       " 'Renaissance',\n",
       " 'Renaissance',\n",
       " 'Renaissance',\n",
       " 'Renaissance',\n",
       " 'Renaissance',\n",
       " 'Renaissance',\n",
       " 'Renaissance',\n",
       " 'Renaissance',\n",
       " 'Renaissance',\n",
       " 'Renaissance',\n",
       " 'Renaissance',\n",
       " 'Renaissance',\n",
       " 'Renaissance',\n",
       " 'Renaissance',\n",
       " 'Renaissance',\n",
       " 'Renaissance',\n",
       " 'Renaissance',\n",
       " 'Renaissance',\n",
       " 'Renaissance',\n",
       " 'Renaissance',\n",
       " 'Renaissance',\n",
       " 'Renaissance',\n",
       " 'Renaissance',\n",
       " 'Renaissance',\n",
       " 'Renaissance',\n",
       " 'Renaissance',\n",
       " 'Renaissance',\n",
       " 'Renaissance',\n",
       " 'Renaissance',\n",
       " 'Renaissance',\n",
       " 'Renaissance',\n",
       " 'Renaissance',\n",
       " 'Renaissance',\n",
       " 'Renaissance',\n",
       " 'Renaissance',\n",
       " 'Renaissance',\n",
       " 'Renaissance',\n",
       " 'Renaissance',\n",
       " 'Renaissance',\n",
       " 'Renaissance',\n",
       " 'Renaissance',\n",
       " 'Renaissance',\n",
       " 'Renaissance',\n",
       " 'Renaissance',\n",
       " 'Renaissance',\n",
       " 'Renaissance',\n",
       " 'Renaissance',\n",
       " 'Renaissance',\n",
       " 'Renaissance',\n",
       " 'Renaissance',\n",
       " 'Renaissance',\n",
       " 'Renaissance',\n",
       " 'Renaissance',\n",
       " 'Renaissance',\n",
       " 'Renaissance',\n",
       " 'Renaissance',\n",
       " 'Modern',\n",
       " 'Renaissance',\n",
       " 'Renaissance',\n",
       " 'Renaissance',\n",
       " 'Renaissance',\n",
       " 'Renaissance',\n",
       " 'Renaissance',\n",
       " 'Renaissance',\n",
       " 'Renaissance',\n",
       " 'Renaissance',\n",
       " 'Renaissance',\n",
       " 'Modern',\n",
       " 'Modern',\n",
       " 'Modern',\n",
       " 'Modern',\n",
       " 'Modern',\n",
       " 'Modern',\n",
       " 'Modern',\n",
       " 'Renaissance',\n",
       " 'Renaissance',\n",
       " 'Renaissance',\n",
       " 'Modern',\n",
       " 'Modern',\n",
       " 'Renaissance',\n",
       " 'Renaissance',\n",
       " 'Renaissance',\n",
       " 'Modern',\n",
       " 'Renaissance',\n",
       " 'Renaissance',\n",
       " 'Modern',\n",
       " 'Renaissance',\n",
       " 'Renaissance',\n",
       " 'Modern',\n",
       " 'Renaissance',\n",
       " 'Renaissance',\n",
       " 'Renaissance',\n",
       " 'Renaissance',\n",
       " 'Renaissance',\n",
       " 'Renaissance',\n",
       " 'Modern',\n",
       " 'Modern',\n",
       " 'Modern',\n",
       " 'Renaissance',\n",
       " 'Renaissance',\n",
       " 'Renaissance',\n",
       " 'Renaissance',\n",
       " 'Renaissance',\n",
       " 'Modern',\n",
       " 'Renaissance',\n",
       " 'Renaissance',\n",
       " 'Renaissance',\n",
       " 'Renaissance',\n",
       " 'Renaissance',\n",
       " 'Renaissance',\n",
       " 'Modern',\n",
       " 'Modern',\n",
       " 'Renaissance',\n",
       " 'Renaissance',\n",
       " 'Renaissance',\n",
       " 'Renaissance',\n",
       " 'Renaissance',\n",
       " 'Renaissance',\n",
       " 'Renaissance',\n",
       " 'Renaissance',\n",
       " 'Renaissance',\n",
       " 'Renaissance',\n",
       " 'Renaissance',\n",
       " 'Renaissance',\n",
       " 'Renaissance',\n",
       " 'Renaissance',\n",
       " 'Renaissance',\n",
       " 'Renaissance',\n",
       " 'Modern',\n",
       " 'Modern',\n",
       " 'Modern',\n",
       " 'Modern',\n",
       " 'Modern',\n",
       " 'Modern',\n",
       " 'Renaissance',\n",
       " 'Renaissance',\n",
       " 'Modern',\n",
       " 'Renaissance',\n",
       " 'Modern',\n",
       " 'Modern',\n",
       " 'Modern',\n",
       " 'Modern',\n",
       " 'Modern',\n",
       " 'Modern',\n",
       " 'Modern',\n",
       " 'Modern',\n",
       " 'Renaissance',\n",
       " 'Modern',\n",
       " 'Modern',\n",
       " 'Renaissance',\n",
       " 'Modern',\n",
       " 'Renaissance',\n",
       " 'Modern',\n",
       " 'Modern',\n",
       " 'Modern',\n",
       " 'Modern',\n",
       " 'Modern',\n",
       " 'Renaissance',\n",
       " 'Modern',\n",
       " 'Renaissance',\n",
       " 'Renaissance',\n",
       " 'Renaissance',\n",
       " 'Modern',\n",
       " 'Renaissance',\n",
       " 'Modern',\n",
       " 'Modern',\n",
       " 'Modern',\n",
       " 'Modern',\n",
       " 'Renaissance',\n",
       " 'Modern',\n",
       " 'Modern',\n",
       " 'Modern',\n",
       " 'Renaissance',\n",
       " 'Renaissance',\n",
       " 'Renaissance',\n",
       " 'Modern',\n",
       " 'Renaissance',\n",
       " 'Renaissance',\n",
       " 'Modern',\n",
       " 'Renaissance',\n",
       " 'Modern',\n",
       " 'Modern',\n",
       " 'Renaissance',\n",
       " 'Renaissance',\n",
       " 'Renaissance',\n",
       " 'Modern',\n",
       " 'Renaissance',\n",
       " 'Renaissance',\n",
       " 'Renaissance',\n",
       " 'Renaissance',\n",
       " 'Renaissance',\n",
       " 'Modern',\n",
       " 'Renaissance',\n",
       " 'Renaissance',\n",
       " 'Renaissance',\n",
       " 'Renaissance',\n",
       " 'Modern',\n",
       " 'Modern',\n",
       " 'Renaissance',\n",
       " 'Renaissance',\n",
       " 'Renaissance',\n",
       " 'Renaissance',\n",
       " 'Modern',\n",
       " 'Renaissance',\n",
       " 'Renaissance',\n",
       " 'Modern',\n",
       " 'Renaissance',\n",
       " 'Renaissance',\n",
       " 'Renaissance',\n",
       " 'Renaissance',\n",
       " 'Renaissance',\n",
       " 'Renaissance',\n",
       " 'Renaissance',\n",
       " 'Modern',\n",
       " 'Renaissance',\n",
       " 'Renaissance',\n",
       " 'Modern',\n",
       " 'Modern',\n",
       " 'Renaissance',\n",
       " 'Renaissance',\n",
       " 'Renaissance',\n",
       " 'Renaissance',\n",
       " 'Renaissance',\n",
       " 'Renaissance',\n",
       " 'Renaissance',\n",
       " 'Renaissance',\n",
       " 'Renaissance',\n",
       " 'Renaissance',\n",
       " 'Modern',\n",
       " 'Renaissance',\n",
       " 'Renaissance',\n",
       " 'Modern',\n",
       " 'Modern',\n",
       " 'Renaissance',\n",
       " 'Renaissance',\n",
       " 'Renaissance',\n",
       " 'Renaissance',\n",
       " 'Renaissance',\n",
       " 'Renaissance',\n",
       " 'Renaissance',\n",
       " 'Renaissance',\n",
       " 'Renaissance',\n",
       " 'Renaissance',\n",
       " 'Modern',\n",
       " 'Modern',\n",
       " 'Renaissance',\n",
       " 'Renaissance',\n",
       " 'Renaissance',\n",
       " 'Renaissance',\n",
       " 'Renaissance',\n",
       " 'Renaissance',\n",
       " 'Modern',\n",
       " 'Modern',\n",
       " 'Renaissance',\n",
       " 'Modern',\n",
       " 'Modern',\n",
       " 'Renaissance',\n",
       " 'Renaissance',\n",
       " 'Renaissance',\n",
       " 'Modern',\n",
       " 'Renaissance',\n",
       " 'Modern',\n",
       " 'Modern',\n",
       " 'Renaissance',\n",
       " 'Modern',\n",
       " 'Renaissance',\n",
       " 'Modern',\n",
       " 'Modern',\n",
       " 'Modern',\n",
       " 'Modern',\n",
       " 'Modern',\n",
       " 'Modern',\n",
       " 'Modern',\n",
       " 'Modern',\n",
       " 'Renaissance',\n",
       " 'Renaissance',\n",
       " 'Modern',\n",
       " 'Modern',\n",
       " 'Modern',\n",
       " 'Modern',\n",
       " 'Renaissance',\n",
       " 'Renaissance',\n",
       " 'Renaissance',\n",
       " 'Renaissance',\n",
       " 'Renaissance',\n",
       " 'Renaissance',\n",
       " 'Renaissance',\n",
       " 'Renaissance',\n",
       " 'Renaissance',\n",
       " 'Renaissance',\n",
       " 'Modern',\n",
       " 'Renaissance',\n",
       " 'Renaissance',\n",
       " 'Renaissance',\n",
       " 'Renaissance',\n",
       " 'Renaissance',\n",
       " 'Renaissance',\n",
       " 'Renaissance',\n",
       " 'Renaissance',\n",
       " 'Renaissance',\n",
       " 'Renaissance',\n",
       " 'Renaissance',\n",
       " 'Renaissance',\n",
       " 'Renaissance',\n",
       " 'Renaissance',\n",
       " 'Renaissance',\n",
       " 'Renaissance',\n",
       " 'Modern',\n",
       " 'Renaissance',\n",
       " 'Renaissance',\n",
       " 'Renaissance']"
      ]
     },
     "execution_count": 31,
     "metadata": {},
     "output_type": "execute_result"
    }
   ],
   "source": [
    "labels = []\n",
    "for l in labels_:\n",
    "    if l == 0:\n",
    "        labels.append('Renaissance')\n",
    "    else:\n",
    "        labels.append('Modern')\n",
    "labels"
   ]
  },
  {
   "cell_type": "code",
   "execution_count": 32,
   "id": "hydraulic-floating",
   "metadata": {},
   "outputs": [
    {
     "name": "stdout",
     "output_type": "stream",
     "text": [
      "[[ 91 167]\n",
      " [  0 315]]\n",
      "              precision    recall  f1-score   support\n",
      "\n",
      "      Modern       1.00      0.35      0.52       258\n",
      " Renaissance       0.65      1.00      0.79       315\n",
      "\n",
      "    accuracy                           0.71       573\n",
      "   macro avg       0.83      0.68      0.66       573\n",
      "weighted avg       0.81      0.71      0.67       573\n",
      "\n"
     ]
    }
   ],
   "source": [
    "print(confusion_matrix(df['age'], labels))\n",
    "print(classification_report(df['age'], labels, zero_division=True))"
   ]
  },
  {
   "cell_type": "code",
   "execution_count": null,
   "id": "considerable-intro",
   "metadata": {},
   "outputs": [],
   "source": []
  }
 ],
 "metadata": {
  "kernelspec": {
   "display_name": "Python 3",
   "language": "python",
   "name": "python3"
  },
  "language_info": {
   "codemirror_mode": {
    "name": "ipython",
    "version": 3
   },
   "file_extension": ".py",
   "mimetype": "text/x-python",
   "name": "python",
   "nbconvert_exporter": "python",
   "pygments_lexer": "ipython3",
   "version": "3.8.10"
  }
 },
 "nbformat": 4,
 "nbformat_minor": 5
}
