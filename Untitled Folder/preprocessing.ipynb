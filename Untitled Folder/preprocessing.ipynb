{
 "cells": [
  {
   "cell_type": "markdown",
   "id": "daily-arthur",
   "metadata": {},
   "source": [
    "# Data preprocessing for Apriori algorithm"
   ]
  },
  {
   "cell_type": "code",
   "execution_count": 1,
   "id": "religious-lloyd",
   "metadata": {},
   "outputs": [],
   "source": [
    "import pandas as pd\n",
    "import numpy as np\n",
    "import re\n",
    "\n",
    "import nltk\n",
    "from nltk.corpus import stopwords\n",
    "\n",
    "from sklearn.feature_extraction.text import CountVectorizer, TfidfVectorizer\n",
    "from sklearn.preprocessing import LabelEncoder"
   ]
  },
  {
   "cell_type": "code",
   "execution_count": 2,
   "id": "acquired-bangladesh",
   "metadata": {
    "scrolled": true
   },
   "outputs": [
    {
     "data": {
      "text/html": [
       "<div>\n",
       "<style scoped>\n",
       "    .dataframe tbody tr th:only-of-type {\n",
       "        vertical-align: middle;\n",
       "    }\n",
       "\n",
       "    .dataframe tbody tr th {\n",
       "        vertical-align: top;\n",
       "    }\n",
       "\n",
       "    .dataframe thead th {\n",
       "        text-align: right;\n",
       "    }\n",
       "</style>\n",
       "<table border=\"1\" class=\"dataframe\">\n",
       "  <thead>\n",
       "    <tr style=\"text-align: right;\">\n",
       "      <th></th>\n",
       "      <th>author</th>\n",
       "      <th>content</th>\n",
       "      <th>poem name</th>\n",
       "      <th>age</th>\n",
       "      <th>type</th>\n",
       "      <th>age_type</th>\n",
       "    </tr>\n",
       "  </thead>\n",
       "  <tbody>\n",
       "    <tr>\n",
       "      <th>count</th>\n",
       "      <td>573</td>\n",
       "      <td>573</td>\n",
       "      <td>571</td>\n",
       "      <td>573</td>\n",
       "      <td>573</td>\n",
       "      <td>573</td>\n",
       "    </tr>\n",
       "    <tr>\n",
       "      <th>unique</th>\n",
       "      <td>67</td>\n",
       "      <td>506</td>\n",
       "      <td>508</td>\n",
       "      <td>2</td>\n",
       "      <td>3</td>\n",
       "      <td>6</td>\n",
       "    </tr>\n",
       "    <tr>\n",
       "      <th>top</th>\n",
       "      <td>william shakespeare</td>\n",
       "      <td>originally published in poetry  march 1914</td>\n",
       "      <td>Canto IV</td>\n",
       "      <td>Renaissance</td>\n",
       "      <td>Love</td>\n",
       "      <td>Renaissance Love</td>\n",
       "    </tr>\n",
       "    <tr>\n",
       "      <th>freq</th>\n",
       "      <td>71</td>\n",
       "      <td>4</td>\n",
       "      <td>3</td>\n",
       "      <td>315</td>\n",
       "      <td>326</td>\n",
       "      <td>243</td>\n",
       "    </tr>\n",
       "  </tbody>\n",
       "</table>\n",
       "</div>"
      ],
      "text/plain": [
       "                     author                                      content  \\\n",
       "count                   573                                          573   \n",
       "unique                   67                                          506   \n",
       "top     william shakespeare  originally published in poetry  march 1914    \n",
       "freq                     71                                            4   \n",
       "\n",
       "       poem name          age  type          age_type  \n",
       "count        571          573   573               573  \n",
       "unique       508            2     3                 6  \n",
       "top     Canto IV  Renaissance  Love  Renaissance Love  \n",
       "freq           3          315   326               243  "
      ]
     },
     "execution_count": 2,
     "metadata": {},
     "output_type": "execute_result"
    }
   ],
   "source": [
    "df = pd.read_csv('../data/all_preprocessed.csv')\n",
    "df.describe()"
   ]
  },
  {
   "cell_type": "code",
   "execution_count": 3,
   "id": "productive-national",
   "metadata": {},
   "outputs": [
    {
     "data": {
      "text/plain": [
       "0      [let, the, bird, of, loudest, layon, the, sole...\n",
       "1      [sir, charles, into, my, chamber, coming, in, ...\n",
       "2      [our, vice, runs, beyond, all, that, old, men,...\n",
       "3      [lo, i, the, man, whose, muse, whilome, did, m...\n",
       "4      [long, have, i, longd, to, see, my, love, agai...\n",
       "                             ...                        \n",
       "568    [with, the, man, i, love, who, loves, me, not,...\n",
       "569    [hart, crane, voyages, i, ii, iii, iv, v, vi, ...\n",
       "570    [when, you, are, old, and, grey, and, full, of...\n",
       "571    [give, me, hunger, o, you, gods, that, sit, an...\n",
       "572    [potuia, potuiawhite, grave, goddess, pity, my...\n",
       "Name: content, Length: 573, dtype: object"
      ]
     },
     "execution_count": 3,
     "metadata": {},
     "output_type": "execute_result"
    }
   ],
   "source": [
    "df['content'] = df['content'].apply(lambda x: x.split())\n",
    "df['content']"
   ]
  },
  {
   "cell_type": "code",
   "execution_count": 4,
   "id": "gothic-publisher",
   "metadata": {},
   "outputs": [],
   "source": [
    "stop_words = set(stopwords.words('english'))"
   ]
  },
  {
   "cell_type": "code",
   "execution_count": 5,
   "id": "labeled-radius",
   "metadata": {
    "scrolled": true
   },
   "outputs": [
    {
     "data": {
      "text/plain": [
       "0      [let, bird, loudest, layon, sole, arabian, tre...\n",
       "1      [sir, charles, chamber, coming, writing, fairy...\n",
       "2      [vice, runs, beyond, old, men, saw, far, authe...\n",
       "3      [lo, man, whose, muse, whilome, maske, time, t...\n",
       "4      [long, longd, see, love, againe, still, wisht,...\n",
       "                             ...                        \n",
       "568    [man, love, loves, walked, street, lamps, flar...\n",
       "569    [hart, crane, voyages, ii, iii, iv, v, vi, com...\n",
       "570    [old, grey, full, sleep, nodding, fire, take, ...\n",
       "571    [give, hunger, gods, sit, givethe, world, orde...\n",
       "572    [potuia, potuiawhite, grave, goddess, pity, sa...\n",
       "Name: content, Length: 573, dtype: object"
      ]
     },
     "execution_count": 5,
     "metadata": {},
     "output_type": "execute_result"
    }
   ],
   "source": [
    "df['content'] = df['content'].apply(lambda x: [item for item in x if item not in stop_words])\n",
    "df['content']"
   ]
  },
  {
   "cell_type": "code",
   "execution_count": 6,
   "id": "stunning-cookbook",
   "metadata": {},
   "outputs": [
    {
     "data": {
      "text/plain": [
       "0      [two, single, layon, phoenix, concordant, mine...\n",
       "1      [sent, made, fearing, fames, tell, seen, chamb...\n",
       "2      [proverbs, laws, golden, thy, themes, saw, cir...\n",
       "3      [strangle, infixe, tumbling, fielde, retrate, ...\n",
       "4      [gaine, precious, loves, beautie, fees, longd,...\n",
       "                             ...                        \n",
       "568    [saidthat, picture, lovein, knew, walkedpast, ...\n",
       "569    [used, permission, liveright, complete, corpor...\n",
       "570    [crowd, changing, take, grace, lookyour, beaut...\n",
       "571    [sunset, changing, comingof, give, orders, sha...\n",
       "572    [pity, shade, feet, thy, loves, shepherdmoved,...\n",
       "Name: content, Length: 573, dtype: object"
      ]
     },
     "execution_count": 6,
     "metadata": {},
     "output_type": "execute_result"
    }
   ],
   "source": [
    "df['content'] = df['content'].apply(lambda x: list(set(x)))\n",
    "df['content']"
   ]
  },
  {
   "cell_type": "code",
   "execution_count": 12,
   "id": "thousand-adjustment",
   "metadata": {},
   "outputs": [
    {
     "data": {
      "text/html": [
       "<div>\n",
       "<style scoped>\n",
       "    .dataframe tbody tr th:only-of-type {\n",
       "        vertical-align: middle;\n",
       "    }\n",
       "\n",
       "    .dataframe tbody tr th {\n",
       "        vertical-align: top;\n",
       "    }\n",
       "\n",
       "    .dataframe thead th {\n",
       "        text-align: right;\n",
       "    }\n",
       "</style>\n",
       "<table border=\"1\" class=\"dataframe\">\n",
       "  <thead>\n",
       "    <tr style=\"text-align: right;\">\n",
       "      <th></th>\n",
       "      <th>document</th>\n",
       "      <th>word</th>\n",
       "    </tr>\n",
       "  </thead>\n",
       "  <tbody>\n",
       "    <tr>\n",
       "      <th>0</th>\n",
       "      <td>0</td>\n",
       "      <td>two</td>\n",
       "    </tr>\n",
       "    <tr>\n",
       "      <th>1</th>\n",
       "      <td>0</td>\n",
       "      <td>single</td>\n",
       "    </tr>\n",
       "    <tr>\n",
       "      <th>2</th>\n",
       "      <td>0</td>\n",
       "      <td>layon</td>\n",
       "    </tr>\n",
       "    <tr>\n",
       "      <th>3</th>\n",
       "      <td>0</td>\n",
       "      <td>phoenix</td>\n",
       "    </tr>\n",
       "    <tr>\n",
       "      <th>4</th>\n",
       "      <td>0</td>\n",
       "      <td>concordant</td>\n",
       "    </tr>\n",
       "    <tr>\n",
       "      <th>...</th>\n",
       "      <td>...</td>\n",
       "      <td>...</td>\n",
       "    </tr>\n",
       "    <tr>\n",
       "      <th>41</th>\n",
       "      <td>572</td>\n",
       "      <td>cicada</td>\n",
       "    </tr>\n",
       "    <tr>\n",
       "      <th>42</th>\n",
       "      <td>572</td>\n",
       "      <td>sadness</td>\n",
       "    </tr>\n",
       "    <tr>\n",
       "      <th>43</th>\n",
       "      <td>572</td>\n",
       "      <td>shoulders</td>\n",
       "    </tr>\n",
       "    <tr>\n",
       "      <th>44</th>\n",
       "      <td>572</td>\n",
       "      <td>potuia</td>\n",
       "    </tr>\n",
       "    <tr>\n",
       "      <th>45</th>\n",
       "      <td>572</td>\n",
       "      <td>slim</td>\n",
       "    </tr>\n",
       "  </tbody>\n",
       "</table>\n",
       "<p>43994 rows × 2 columns</p>\n",
       "</div>"
      ],
      "text/plain": [
       "   document        word\n",
       "0         0         two\n",
       "1         0      single\n",
       "2         0       layon\n",
       "3         0     phoenix\n",
       "4         0  concordant\n",
       "..      ...         ...\n",
       "41      572      cicada\n",
       "42      572     sadness\n",
       "43      572   shoulders\n",
       "44      572      potuia\n",
       "45      572        slim\n",
       "\n",
       "[43994 rows x 2 columns]"
      ]
     },
     "execution_count": 12,
     "metadata": {},
     "output_type": "execute_result"
    }
   ],
   "source": [
    "newDF = pd.DataFrame(columns =['document', 'word'])\n",
    "for i, content in enumerate(df.content):\n",
    "    doc = [i] * len(content)\n",
    "    \n",
    "    tmp = pd.DataFrame(list(zip(doc, content)), columns =['document', 'word'])\n",
    "    \n",
    "    newDF = pd.concat([newDF, tmp])\n",
    "newDF"
   ]
  },
  {
   "cell_type": "code",
   "execution_count": 9,
   "id": "statistical-latitude",
   "metadata": {},
   "outputs": [],
   "source": [
    "newDF.to_csv('data.csv', index=True)"
   ]
  },
  {
   "cell_type": "code",
   "execution_count": null,
   "id": "digital-turkish",
   "metadata": {},
   "outputs": [],
   "source": []
  }
 ],
 "metadata": {
  "kernelspec": {
   "display_name": "Python 3",
   "language": "python",
   "name": "python3"
  },
  "language_info": {
   "codemirror_mode": {
    "name": "ipython",
    "version": 3
   },
   "file_extension": ".py",
   "mimetype": "text/x-python",
   "name": "python",
   "nbconvert_exporter": "python",
   "pygments_lexer": "ipython3",
   "version": "3.8.10"
  }
 },
 "nbformat": 4,
 "nbformat_minor": 5
}
