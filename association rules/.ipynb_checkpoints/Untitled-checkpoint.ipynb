{
 "cells": [
  {
   "cell_type": "markdown",
   "id": "extensive-gross",
   "metadata": {},
   "source": [
    "# Sequential pattern"
   ]
  },
  {
   "cell_type": "code",
   "execution_count": 4,
   "id": "governmental-stupid",
   "metadata": {},
   "outputs": [],
   "source": [
    "# pip install prefixspan"
   ]
  },
  {
   "cell_type": "code",
   "execution_count": 5,
   "id": "protecting-canberra",
   "metadata": {
    "scrolled": true
   },
   "outputs": [],
   "source": [
    "import pandas as pd\n",
    "import numpy as np\n",
    "import re\n",
    "\n",
    "import nltk\n",
    "from nltk.corpus import stopwords\n",
    "\n",
    "from sklearn.feature_extraction.text import CountVectorizer, TfidfVectorizer\n",
    "from sklearn.preprocessing import LabelEncoder\n",
    "\n",
    "from prefixspan import PrefixSpan"
   ]
  },
  {
   "cell_type": "code",
   "execution_count": 6,
   "id": "sealed-training",
   "metadata": {},
   "outputs": [
    {
     "data": {
      "text/html": [
       "<div>\n",
       "<style scoped>\n",
       "    .dataframe tbody tr th:only-of-type {\n",
       "        vertical-align: middle;\n",
       "    }\n",
       "\n",
       "    .dataframe tbody tr th {\n",
       "        vertical-align: top;\n",
       "    }\n",
       "\n",
       "    .dataframe thead th {\n",
       "        text-align: right;\n",
       "    }\n",
       "</style>\n",
       "<table border=\"1\" class=\"dataframe\">\n",
       "  <thead>\n",
       "    <tr style=\"text-align: right;\">\n",
       "      <th></th>\n",
       "      <th>author</th>\n",
       "      <th>content</th>\n",
       "      <th>poem name</th>\n",
       "      <th>age</th>\n",
       "      <th>type</th>\n",
       "      <th>age_type</th>\n",
       "    </tr>\n",
       "  </thead>\n",
       "  <tbody>\n",
       "    <tr>\n",
       "      <th>count</th>\n",
       "      <td>573</td>\n",
       "      <td>573</td>\n",
       "      <td>571</td>\n",
       "      <td>573</td>\n",
       "      <td>573</td>\n",
       "      <td>573</td>\n",
       "    </tr>\n",
       "    <tr>\n",
       "      <th>unique</th>\n",
       "      <td>67</td>\n",
       "      <td>506</td>\n",
       "      <td>508</td>\n",
       "      <td>2</td>\n",
       "      <td>3</td>\n",
       "      <td>6</td>\n",
       "    </tr>\n",
       "    <tr>\n",
       "      <th>top</th>\n",
       "      <td>william shakespeare</td>\n",
       "      <td>originally published in poetry  march 1914</td>\n",
       "      <td>Canto IV</td>\n",
       "      <td>Renaissance</td>\n",
       "      <td>Love</td>\n",
       "      <td>Renaissance Love</td>\n",
       "    </tr>\n",
       "    <tr>\n",
       "      <th>freq</th>\n",
       "      <td>71</td>\n",
       "      <td>4</td>\n",
       "      <td>3</td>\n",
       "      <td>315</td>\n",
       "      <td>326</td>\n",
       "      <td>243</td>\n",
       "    </tr>\n",
       "  </tbody>\n",
       "</table>\n",
       "</div>"
      ],
      "text/plain": [
       "                     author                                      content  \\\n",
       "count                   573                                          573   \n",
       "unique                   67                                          506   \n",
       "top     william shakespeare  originally published in poetry  march 1914    \n",
       "freq                     71                                            4   \n",
       "\n",
       "       poem name          age  type          age_type  \n",
       "count        571          573   573               573  \n",
       "unique       508            2     3                 6  \n",
       "top     Canto IV  Renaissance  Love  Renaissance Love  \n",
       "freq           3          315   326               243  "
      ]
     },
     "execution_count": 6,
     "metadata": {},
     "output_type": "execute_result"
    }
   ],
   "source": [
    "df = pd.read_csv('../data/all_preprocessed.csv')\n",
    "df.describe()"
   ]
  },
  {
   "cell_type": "code",
   "execution_count": 7,
   "id": "played-pension",
   "metadata": {
    "scrolled": true
   },
   "outputs": [
    {
     "data": {
      "text/plain": [
       "0      [let, the, bird, of, loudest, layon, the, sole...\n",
       "1      [sir, charles, into, my, chamber, coming, in, ...\n",
       "2      [our, vice, runs, beyond, all, that, old, men,...\n",
       "3      [lo, i, the, man, whose, muse, whilome, did, m...\n",
       "4      [long, have, i, longd, to, see, my, love, agai...\n",
       "                             ...                        \n",
       "568    [with, the, man, i, love, who, loves, me, not,...\n",
       "569    [hart, crane, voyages, i, ii, iii, iv, v, vi, ...\n",
       "570    [when, you, are, old, and, grey, and, full, of...\n",
       "571    [give, me, hunger, o, you, gods, that, sit, an...\n",
       "572    [potuia, potuiawhite, grave, goddess, pity, my...\n",
       "Name: content, Length: 573, dtype: object"
      ]
     },
     "execution_count": 7,
     "metadata": {},
     "output_type": "execute_result"
    }
   ],
   "source": [
    "df['content'] = df['content'].apply(lambda x: x.split())\n",
    "df['content']"
   ]
  },
  {
   "cell_type": "code",
   "execution_count": 10,
   "id": "intermediate-photograph",
   "metadata": {},
   "outputs": [],
   "source": [
    "stop_words = set(stopwords.words('english'))"
   ]
  },
  {
   "cell_type": "code",
   "execution_count": 11,
   "id": "later-flavor",
   "metadata": {},
   "outputs": [
    {
     "data": {
      "text/plain": [
       "0      [let, bird, loudest, layon, sole, arabian, tre...\n",
       "1      [sir, charles, chamber, coming, writing, fairy...\n",
       "2      [vice, runs, beyond, old, men, saw, far, authe...\n",
       "3      [lo, man, whose, muse, whilome, maske, time, t...\n",
       "4      [long, longd, see, love, againe, still, wisht,...\n",
       "                             ...                        \n",
       "568    [man, love, loves, walked, street, lamps, flar...\n",
       "569    [hart, crane, voyages, ii, iii, iv, v, vi, com...\n",
       "570    [old, grey, full, sleep, nodding, fire, take, ...\n",
       "571    [give, hunger, gods, sit, givethe, world, orde...\n",
       "572    [potuia, potuiawhite, grave, goddess, pity, sa...\n",
       "Name: content, Length: 573, dtype: object"
      ]
     },
     "execution_count": 11,
     "metadata": {},
     "output_type": "execute_result"
    }
   ],
   "source": [
    "df['content'] = df['content'].apply(lambda x: [item for item in x if item not in stop_words])\n",
    "df['content']"
   ]
  },
  {
   "cell_type": "code",
   "execution_count": 14,
   "id": "selected-secretariat",
   "metadata": {},
   "outputs": [
    {
     "data": {
      "text/plain": [
       "[(234, ['love']),\n",
       " (142, ['like']),\n",
       " (130, ['love', 'love']),\n",
       " (128, ['may']),\n",
       " (124, ['thy']),\n",
       " (123, ['shall']),\n",
       " (120, ['eyes']),\n",
       " (119, ['doth']),\n",
       " (118, ['one']),\n",
       " (118, ['thou']),\n",
       " (115, ['yet']),\n",
       " (110, ['still']),\n",
       " (108, ['heart']),\n",
       " (100, ['let']),\n",
       " (98, ['hath']),\n",
       " (97, ['see']),\n",
       " (95, ['make']),\n",
       " (94, ['though']),\n",
       " (93, ['sweet']),\n",
       " (93, ['thee']),\n",
       " (91, ['would']),\n",
       " (90, ['thy', 'thy']),\n",
       " (88, ['thou', 'thy']),\n",
       " (86, ['long']),\n",
       " (85, ['fair']),\n",
       " (85, ['night']),\n",
       " (85, ['permission']),\n",
       " (84, ['light']),\n",
       " (84, ['time']),\n",
       " (83, ['thou', 'thou'])]"
      ]
     },
     "execution_count": 14,
     "metadata": {},
     "output_type": "execute_result"
    }
   ],
   "source": [
    "ps = PrefixSpan(df['content'])\n",
    "ps.topk(30)  "
   ]
  },
  {
   "cell_type": "code",
   "execution_count": null,
   "id": "important-daughter",
   "metadata": {},
   "outputs": [],
   "source": []
  }
 ],
 "metadata": {
  "kernelspec": {
   "display_name": "Python 3",
   "language": "python",
   "name": "python3"
  },
  "language_info": {
   "codemirror_mode": {
    "name": "ipython",
    "version": 3
   },
   "file_extension": ".py",
   "mimetype": "text/x-python",
   "name": "python",
   "nbconvert_exporter": "python",
   "pygments_lexer": "ipython3",
   "version": "3.8.10"
  }
 },
 "nbformat": 4,
 "nbformat_minor": 5
}
