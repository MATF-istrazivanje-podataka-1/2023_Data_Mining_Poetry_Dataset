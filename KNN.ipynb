{
 "cells": [
  {
   "cell_type": "markdown",
   "id": "dominican-divorce",
   "metadata": {},
   "source": [
    "# KNN - K Nearest Neighbours"
   ]
  },
  {
   "cell_type": "code",
   "execution_count": 1,
   "id": "ancient-female",
   "metadata": {},
   "outputs": [],
   "source": [
    "import pandas as pd\n",
    "import numpy as np\n",
    "import matplotlib.pyplot as plt\n",
    "\n",
    "from sklearn.neighbors import KNeighborsClassifier\n",
    "\n",
    "from sklearn.feature_extraction.text import CountVectorizer, TfidfVectorizer\n",
    "from sklearn.preprocessing import LabelEncoder\n",
    "from sklearn.metrics import accuracy_score, confusion_matrix, classification_report, roc_curve, roc_auc_score\n",
    "from sklearn.model_selection import train_test_split"
   ]
  },
  {
   "cell_type": "code",
   "execution_count": 2,
   "id": "automatic-programming",
   "metadata": {},
   "outputs": [],
   "source": [
    "# X = df[['author', 'content', 'poem name']].apply(lambda x: ' '.join(x.astype(str)), axis=1)"
   ]
  },
  {
   "cell_type": "markdown",
   "id": "introductory-polyester",
   "metadata": {},
   "source": [
    "Read in training data:"
   ]
  },
  {
   "cell_type": "code",
   "execution_count": 3,
   "id": "initial-content",
   "metadata": {},
   "outputs": [],
   "source": [
    "X_train = pd.read_csv('data/train/X_train.csv')\n",
    "y_train = np.ravel(pd.read_csv('data/train/y_train.csv'))"
   ]
  },
  {
   "cell_type": "markdown",
   "id": "armed-distance",
   "metadata": {},
   "source": [
    "### Model creating and training:"
   ]
  },
  {
   "cell_type": "code",
   "execution_count": 4,
   "id": "proprietary-examination",
   "metadata": {},
   "outputs": [],
   "source": [
    "K = 23"
   ]
  },
  {
   "cell_type": "code",
   "execution_count": 5,
   "id": "together-privilege",
   "metadata": {},
   "outputs": [
    {
     "data": {
      "text/html": [
       "<style>#sk-container-id-1 {color: black;background-color: white;}#sk-container-id-1 pre{padding: 0;}#sk-container-id-1 div.sk-toggleable {background-color: white;}#sk-container-id-1 label.sk-toggleable__label {cursor: pointer;display: block;width: 100%;margin-bottom: 0;padding: 0.3em;box-sizing: border-box;text-align: center;}#sk-container-id-1 label.sk-toggleable__label-arrow:before {content: \"▸\";float: left;margin-right: 0.25em;color: #696969;}#sk-container-id-1 label.sk-toggleable__label-arrow:hover:before {color: black;}#sk-container-id-1 div.sk-estimator:hover label.sk-toggleable__label-arrow:before {color: black;}#sk-container-id-1 div.sk-toggleable__content {max-height: 0;max-width: 0;overflow: hidden;text-align: left;background-color: #f0f8ff;}#sk-container-id-1 div.sk-toggleable__content pre {margin: 0.2em;color: black;border-radius: 0.25em;background-color: #f0f8ff;}#sk-container-id-1 input.sk-toggleable__control:checked~div.sk-toggleable__content {max-height: 200px;max-width: 100%;overflow: auto;}#sk-container-id-1 input.sk-toggleable__control:checked~label.sk-toggleable__label-arrow:before {content: \"▾\";}#sk-container-id-1 div.sk-estimator input.sk-toggleable__control:checked~label.sk-toggleable__label {background-color: #d4ebff;}#sk-container-id-1 div.sk-label input.sk-toggleable__control:checked~label.sk-toggleable__label {background-color: #d4ebff;}#sk-container-id-1 input.sk-hidden--visually {border: 0;clip: rect(1px 1px 1px 1px);clip: rect(1px, 1px, 1px, 1px);height: 1px;margin: -1px;overflow: hidden;padding: 0;position: absolute;width: 1px;}#sk-container-id-1 div.sk-estimator {font-family: monospace;background-color: #f0f8ff;border: 1px dotted black;border-radius: 0.25em;box-sizing: border-box;margin-bottom: 0.5em;}#sk-container-id-1 div.sk-estimator:hover {background-color: #d4ebff;}#sk-container-id-1 div.sk-parallel-item::after {content: \"\";width: 100%;border-bottom: 1px solid gray;flex-grow: 1;}#sk-container-id-1 div.sk-label:hover label.sk-toggleable__label {background-color: #d4ebff;}#sk-container-id-1 div.sk-serial::before {content: \"\";position: absolute;border-left: 1px solid gray;box-sizing: border-box;top: 0;bottom: 0;left: 50%;z-index: 0;}#sk-container-id-1 div.sk-serial {display: flex;flex-direction: column;align-items: center;background-color: white;padding-right: 0.2em;padding-left: 0.2em;position: relative;}#sk-container-id-1 div.sk-item {position: relative;z-index: 1;}#sk-container-id-1 div.sk-parallel {display: flex;align-items: stretch;justify-content: center;background-color: white;position: relative;}#sk-container-id-1 div.sk-item::before, #sk-container-id-1 div.sk-parallel-item::before {content: \"\";position: absolute;border-left: 1px solid gray;box-sizing: border-box;top: 0;bottom: 0;left: 50%;z-index: -1;}#sk-container-id-1 div.sk-parallel-item {display: flex;flex-direction: column;z-index: 1;position: relative;background-color: white;}#sk-container-id-1 div.sk-parallel-item:first-child::after {align-self: flex-end;width: 50%;}#sk-container-id-1 div.sk-parallel-item:last-child::after {align-self: flex-start;width: 50%;}#sk-container-id-1 div.sk-parallel-item:only-child::after {width: 0;}#sk-container-id-1 div.sk-dashed-wrapped {border: 1px dashed gray;margin: 0 0.4em 0.5em 0.4em;box-sizing: border-box;padding-bottom: 0.4em;background-color: white;}#sk-container-id-1 div.sk-label label {font-family: monospace;font-weight: bold;display: inline-block;line-height: 1.2em;}#sk-container-id-1 div.sk-label-container {text-align: center;}#sk-container-id-1 div.sk-container {/* jupyter's `normalize.less` sets `[hidden] { display: none; }` but bootstrap.min.css set `[hidden] { display: none !important; }` so we also need the `!important` here to be able to override the default hidden behavior on the sphinx rendered scikit-learn.org. See: https://github.com/scikit-learn/scikit-learn/issues/21755 */display: inline-block !important;position: relative;}#sk-container-id-1 div.sk-text-repr-fallback {display: none;}</style><div id=\"sk-container-id-1\" class=\"sk-top-container\"><div class=\"sk-text-repr-fallback\"><pre>KNeighborsClassifier(n_neighbors=23)</pre><b>In a Jupyter environment, please rerun this cell to show the HTML representation or trust the notebook. <br />On GitHub, the HTML representation is unable to render, please try loading this page with nbviewer.org.</b></div><div class=\"sk-container\" hidden><div class=\"sk-item\"><div class=\"sk-estimator sk-toggleable\"><input class=\"sk-toggleable__control sk-hidden--visually\" id=\"sk-estimator-id-1\" type=\"checkbox\" checked><label for=\"sk-estimator-id-1\" class=\"sk-toggleable__label sk-toggleable__label-arrow\">KNeighborsClassifier</label><div class=\"sk-toggleable__content\"><pre>KNeighborsClassifier(n_neighbors=23)</pre></div></div></div></div></div>"
      ],
      "text/plain": [
       "KNeighborsClassifier(n_neighbors=23)"
      ]
     },
     "execution_count": 5,
     "metadata": {},
     "output_type": "execute_result"
    }
   ],
   "source": [
    "model = KNeighborsClassifier(n_neighbors=K)\n",
    "model.fit(X_train, y_train)"
   ]
  },
  {
   "cell_type": "markdown",
   "id": "posted-collector",
   "metadata": {},
   "source": [
    "### Prediction on training set:"
   ]
  },
  {
   "cell_type": "code",
   "execution_count": 6,
   "id": "compressed-flesh",
   "metadata": {
    "scrolled": false
   },
   "outputs": [],
   "source": [
    "y_train_pred = model.predict(X_train)"
   ]
  },
  {
   "cell_type": "code",
   "execution_count": 7,
   "id": "promotional-florida",
   "metadata": {
    "scrolled": false
   },
   "outputs": [
    {
     "name": "stdout",
     "output_type": "stream",
     "text": [
      "Confusion matrix: \n",
      " [[130  62]\n",
      " [  1 208]]\n",
      "\n",
      "Classification report: \n",
      "               precision    recall  f1-score   support\n",
      "\n",
      "      Modern       0.99      0.68      0.80       192\n",
      " Renaissance       0.77      1.00      0.87       209\n",
      "\n",
      "    accuracy                           0.84       401\n",
      "   macro avg       0.88      0.84      0.84       401\n",
      "weighted avg       0.88      0.84      0.84       401\n",
      "\n"
     ]
    }
   ],
   "source": [
    "print('Confusion matrix: \\n', confusion_matrix(y_train, y_train_pred))\n",
    "print('\\nClassification report: \\n', classification_report(y_train, y_train_pred, zero_division=True))"
   ]
  },
  {
   "cell_type": "markdown",
   "id": "overall-thanks",
   "metadata": {},
   "source": [
    "### Testing model:"
   ]
  },
  {
   "cell_type": "markdown",
   "id": "compound-point",
   "metadata": {},
   "source": [
    "Read in test data:"
   ]
  },
  {
   "cell_type": "code",
   "execution_count": 8,
   "id": "growing-morgan",
   "metadata": {},
   "outputs": [],
   "source": [
    "X_test = pd.read_csv('data/test/X_test.csv')\n",
    "y_test = np.ravel(pd.read_csv('data/test/y_test.csv'))"
   ]
  },
  {
   "cell_type": "code",
   "execution_count": 9,
   "id": "legislative-literacy",
   "metadata": {},
   "outputs": [],
   "source": [
    "y_test_pred = model.predict(X_test)"
   ]
  },
  {
   "cell_type": "code",
   "execution_count": 10,
   "id": "packed-pencil",
   "metadata": {
    "scrolled": false
   },
   "outputs": [
    {
     "name": "stdout",
     "output_type": "stream",
     "text": [
      "Confusion matrix: \n",
      " [[ 41  25]\n",
      " [  0 106]]\n",
      "\n",
      "Classification report: \n",
      "               precision    recall  f1-score   support\n",
      "\n",
      "      Modern       1.00      0.62      0.77        66\n",
      " Renaissance       0.81      1.00      0.89       106\n",
      "\n",
      "    accuracy                           0.85       172\n",
      "   macro avg       0.90      0.81      0.83       172\n",
      "weighted avg       0.88      0.85      0.85       172\n",
      "\n"
     ]
    }
   ],
   "source": [
    "print('Confusion matrix: \\n', confusion_matrix(y_test, y_test_pred))\n",
    "print('\\nClassification report: \\n', classification_report(y_test, y_test_pred, zero_division=True))"
   ]
  },
  {
   "cell_type": "markdown",
   "id": "spread-union",
   "metadata": {},
   "source": [
    "#### Saving predictions and probablilities for model comparison:"
   ]
  },
  {
   "cell_type": "code",
   "execution_count": 11,
   "id": "differential-seeker",
   "metadata": {},
   "outputs": [],
   "source": [
    "pd.DataFrame(y_test_pred).to_csv('results/knn_pred.csv', index=False)\n",
    "pd.DataFrame(model.predict_proba(X_test)[:,1]).to_csv('results/knn_prob.csv', index=False)"
   ]
  },
  {
   "cell_type": "markdown",
   "id": "impaired-matter",
   "metadata": {},
   "source": [
    "### ROC curve - for validation and for testing data"
   ]
  },
  {
   "cell_type": "code",
   "execution_count": 12,
   "id": "sticky-snapshot",
   "metadata": {},
   "outputs": [],
   "source": [
    "Encoder = LabelEncoder()\n",
    "y_train = Encoder.fit_transform(y_train)\n",
    "y_test = Encoder.fit_transform(y_test)"
   ]
  },
  {
   "cell_type": "code",
   "execution_count": 13,
   "id": "bulgarian-companion",
   "metadata": {},
   "outputs": [],
   "source": [
    "#test data\n",
    "y_score1 = model.predict_proba(X_test)[:,1]\n",
    "false_positive_rate1, true_positive_rate1, threshold1 = roc_curve(y_test, y_score1)\n",
    "test_score = round(roc_auc_score(y_test, y_score1), 2)\n",
    "#valiataion data\n",
    "y_score2 = model.predict_proba(X_train)[:,1]\n",
    "false_positive_rate2, true_positive_rate2, threshold2 = roc_curve(y_train, y_score2)\n",
    "val_score = round(roc_auc_score(y_train, y_score2), 2)"
   ]
  },
  {
   "cell_type": "code",
   "execution_count": 16,
   "id": "painted-interpretation",
   "metadata": {},
   "outputs": [
    {
     "data": {
      "image/png": "[encoded data removed]",
      "text/plain": [
       "<Figure size 576x576 with 1 Axes>"
      ]
     },
     "metadata": {
      "needs_background": "light"
     },
     "output_type": "display_data"
    }
   ],
   "source": [
    "plt.subplots(1, figsize=(8,8))\n",
    "plt.title('ROC curve - KNN')\n",
    "#roc curve for test data\n",
    "plt.plot(false_positive_rate1, true_positive_rate1, label=\"Test data AUC: \" + str(test_score))\n",
    "#roc curve for val data\n",
    "plt.plot(false_positive_rate2, true_positive_rate2, label=\"Train data AUC: \" + str(val_score))\n",
    "plt.plot([0, 1], ls=\"--\", color='gray')\n",
    "plt.legend(loc='lower right')\n",
    "plt.ylabel('True positive rate')\n",
    "plt.xlabel('False positive rate')\n",
    "plt.show()"
   ]
  },
  {
   "cell_type": "code",
   "execution_count": null,
   "id": "ultimate-juice",
   "metadata": {},
   "outputs": [],
   "source": []
  }
 ],
 "metadata": {
  "kernelspec": {
   "display_name": "Python 3",
   "language": "python",
   "name": "python3"
  },
  "language_info": {
   "codemirror_mode": {
    "name": "ipython",
    "version": 3
   },
   "file_extension": ".py",
   "mimetype": "text/x-python",
   "name": "python",
   "nbconvert_exporter": "python",
   "pygments_lexer": "ipython3",
   "version": "3.8.10"
  }
 },
 "nbformat": 4,
 "nbformat_minor": 5
}
