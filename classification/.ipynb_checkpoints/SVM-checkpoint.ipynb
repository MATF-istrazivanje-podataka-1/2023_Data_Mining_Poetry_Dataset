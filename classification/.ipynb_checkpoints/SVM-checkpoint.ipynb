{
 "cells": [
  {
   "cell_type": "markdown",
   "id": "awful-swing",
   "metadata": {},
   "source": [
    "# SVM (Support Vector Machines)"
   ]
  },
  {
   "cell_type": "code",
   "execution_count": 1,
   "id": "dietary-snapshot",
   "metadata": {},
   "outputs": [],
   "source": [
    "# pip install plotly"
   ]
  },
  {
   "cell_type": "code",
   "execution_count": 2,
   "id": "appreciated-means",
   "metadata": {},
   "outputs": [],
   "source": [
    "import pandas as pd\n",
    "import numpy as np\n",
    "import matplotlib.pyplot as plt\n",
    "from mpl_toolkits import mplot3d\n",
    "import plotly.graph_objects as go\n",
    "\n",
    "from sklearn.gaussian_process.kernels import RBF\n",
    "from sklearn import svm\n",
    "from sklearn.decomposition import PCA, TruncatedSVD\n",
    "from sklearn.feature_extraction.text import TfidfVectorizer\n",
    "from sklearn.preprocessing import LabelEncoder\n",
    "from sklearn.metrics import accuracy_score, confusion_matrix, classification_report, roc_curve, roc_auc_score\n",
    "from sklearn.model_selection import train_test_split, GridSearchCV\n",
    "from sklearn.model_selection import learning_curve"
   ]
  },
  {
   "cell_type": "markdown",
   "id": "speaking-yorkshire",
   "metadata": {},
   "source": [
    "Read in training data:"
   ]
  },
  {
   "cell_type": "code",
   "execution_count": 3,
   "id": "ranking-beauty",
   "metadata": {},
   "outputs": [],
   "source": [
    "X_train = pd.read_csv('../data/train/X_train.csv')\n",
    "y_train = np.ravel(pd.read_csv('../data/train/y_train.csv'))"
   ]
  },
  {
   "cell_type": "code",
   "execution_count": 4,
   "id": "dietary-brake",
   "metadata": {},
   "outputs": [],
   "source": [
    "def report(Y, pred):\n",
    "    print('Confusion matrix: \\n', confusion_matrix(Y, pred))\n",
    "    print('\\nClassification report: \\n', classification_report(Y, pred, zero_division=True))"
   ]
  },
  {
   "cell_type": "code",
   "execution_count": 5,
   "id": "offensive-sterling",
   "metadata": {},
   "outputs": [],
   "source": [
    "def learning_curves(estimator, X, Y, train_sizes, cv, scoring = \"accuracy\"):\n",
    "    \n",
    "    train_sizes, train_scores, validation_scores = learning_curve(\n",
    "    estimator, X, Y, train_sizes = train_sizes, cv = cv, scoring = scoring)\n",
    "    \n",
    "    train_scores_mean = np.mean(train_scores, axis=1)\n",
    "    validation_scores_mean = np.mean(validation_scores, axis=1)\n",
    "\n",
    "    plt.plot(train_sizes, train_scores_mean, label = 'Training ' + scoring)\n",
    "    plt.plot(train_sizes, validation_scores_mean, label = 'Validation ' + scoring)\n",
    "\n",
    "    plt.ylabel(scoring, fontsize = 14)\n",
    "    plt.xlabel('Training set size', fontsize = 14)\n",
    "    title = 'Learning curves for a ' + str(estimator).split('(')[0] + ' model'\n",
    "    plt.title(title, fontsize = 18, y = 1.03)\n",
    "    plt.legend()"
   ]
  },
  {
   "cell_type": "markdown",
   "id": "guilty-dubai",
   "metadata": {},
   "source": [
    "Some parts of following function is partially copied from: https://community.plotly.com/"
   ]
  },
  {
   "cell_type": "code",
   "execution_count": 6,
   "id": "devoted-excuse",
   "metadata": {},
   "outputs": [],
   "source": [
    "def show3D(X, Y, model):\n",
    "#     if kernel == 'linear':\n",
    "    z = lambda x,y: (-model.intercept_[0]-model.coef_[0][0]*x-model.coef_[0][1]*y) / model.coef_[0][2]\n",
    "#     else:\n",
    "#         z = lambda x, y: np.exp(-gamma * (np.array(X)**2).sum(1))\n",
    "# #         z = lambda x,_: RBF(1.0).__call__(x)[0]\n",
    "        \n",
    "    xm, xM = X[:,0].min(), X[:, 0].max()\n",
    "    ym, yM = X[:,1].min(), X[:, 1].max()\n",
    "    x = np.linspace(xm, xM, 10)\n",
    "    y = np.linspace(ym, yM, 10)\n",
    "    x, y =np.meshgrid(x, y)\n",
    "\n",
    "    fig = go.FigureWidget()\n",
    "    fig.add_surface(x=x, y=y, z=z(x,y), showscale=False, colorscale = [[0, 'rgb(0,0,255)'], [0,\n",
    "        'rgb(255,0,0)']])\n",
    "    fig.add_scatter3d(x=X[Y==0,0], y=X[Y==0,1], z=X[Y==0,2], mode='markers', marker={'color': 'blue'})\n",
    "    fig.add_scatter3d(x=X[Y==1,0], y=X[Y==1,1], z=X[Y==1,2], mode='markers', marker={'color': 'red'})\n",
    "    fig.update_layout(width=800, height=800)\n",
    "    fig.show()"
   ]
  },
  {
   "cell_type": "markdown",
   "id": "everyday-property",
   "metadata": {},
   "source": [
    "### Model creation and training:"
   ]
  },
  {
   "cell_type": "code",
   "execution_count": 7,
   "id": "prescribed-department",
   "metadata": {},
   "outputs": [
    {
     "name": "stdout",
     "output_type": "stream",
     "text": [
      "Fitting 5 folds for each of 8 candidates, totalling 40 fits\n",
      "Best accuracy : 0.933\n",
      "Best hyperparameters : {'C': 5, 'kernel': 'linear'}\n",
      "\n"
     ]
    }
   ],
   "source": [
    "params = {\n",
    "    \"kernel\" : [\"linear\",\"rbf\"],\n",
    "    \"C\" : [0.1, 0.5, 1, 5]\n",
    "}\n",
    "\n",
    "svm_grid = GridSearchCV(svm.SVC(), param_grid=params, n_jobs=-1, cv=5, verbose=5)\n",
    "svm_grid.fit(X_train, y_train)\n",
    "\n",
    "print('Best accuracy : {:.3f}'.format(svm_grid.best_score_))\n",
    "print('Best hyperparameters : {}\\n'.format(svm_grid.best_params_))"
   ]
  },
  {
   "cell_type": "code",
   "execution_count": 8,
   "id": "charitable-corruption",
   "metadata": {},
   "outputs": [],
   "source": [
    "C = svm_grid.best_params_['C']\n",
    "kernel = svm_grid.best_params_['kernel']"
   ]
  },
  {
   "cell_type": "code",
   "execution_count": 9,
   "id": "handled-uzbekistan",
   "metadata": {},
   "outputs": [
    {
     "data": {
      "text/html": [
       "<style>#sk-container-id-1 {color: black;background-color: white;}#sk-container-id-1 pre{padding: 0;}#sk-container-id-1 div.sk-toggleable {background-color: white;}#sk-container-id-1 label.sk-toggleable__label {cursor: pointer;display: block;width: 100%;margin-bottom: 0;padding: 0.3em;box-sizing: border-box;text-align: center;}#sk-container-id-1 label.sk-toggleable__label-arrow:before {content: \"▸\";float: left;margin-right: 0.25em;color: #696969;}#sk-container-id-1 label.sk-toggleable__label-arrow:hover:before {color: black;}#sk-container-id-1 div.sk-estimator:hover label.sk-toggleable__label-arrow:before {color: black;}#sk-container-id-1 div.sk-toggleable__content {max-height: 0;max-width: 0;overflow: hidden;text-align: left;background-color: #f0f8ff;}#sk-container-id-1 div.sk-toggleable__content pre {margin: 0.2em;color: black;border-radius: 0.25em;background-color: #f0f8ff;}#sk-container-id-1 input.sk-toggleable__control:checked~div.sk-toggleable__content {max-height: 200px;max-width: 100%;overflow: auto;}#sk-container-id-1 input.sk-toggleable__control:checked~label.sk-toggleable__label-arrow:before {content: \"▾\";}#sk-container-id-1 div.sk-estimator input.sk-toggleable__control:checked~label.sk-toggleable__label {background-color: #d4ebff;}#sk-container-id-1 div.sk-label input.sk-toggleable__control:checked~label.sk-toggleable__label {background-color: #d4ebff;}#sk-container-id-1 input.sk-hidden--visually {border: 0;clip: rect(1px 1px 1px 1px);clip: rect(1px, 1px, 1px, 1px);height: 1px;margin: -1px;overflow: hidden;padding: 0;position: absolute;width: 1px;}#sk-container-id-1 div.sk-estimator {font-family: monospace;background-color: #f0f8ff;border: 1px dotted black;border-radius: 0.25em;box-sizing: border-box;margin-bottom: 0.5em;}#sk-container-id-1 div.sk-estimator:hover {background-color: #d4ebff;}#sk-container-id-1 div.sk-parallel-item::after {content: \"\";width: 100%;border-bottom: 1px solid gray;flex-grow: 1;}#sk-container-id-1 div.sk-label:hover label.sk-toggleable__label {background-color: #d4ebff;}#sk-container-id-1 div.sk-serial::before {content: \"\";position: absolute;border-left: 1px solid gray;box-sizing: border-box;top: 0;bottom: 0;left: 50%;z-index: 0;}#sk-container-id-1 div.sk-serial {display: flex;flex-direction: column;align-items: center;background-color: white;padding-right: 0.2em;padding-left: 0.2em;position: relative;}#sk-container-id-1 div.sk-item {position: relative;z-index: 1;}#sk-container-id-1 div.sk-parallel {display: flex;align-items: stretch;justify-content: center;background-color: white;position: relative;}#sk-container-id-1 div.sk-item::before, #sk-container-id-1 div.sk-parallel-item::before {content: \"\";position: absolute;border-left: 1px solid gray;box-sizing: border-box;top: 0;bottom: 0;left: 50%;z-index: -1;}#sk-container-id-1 div.sk-parallel-item {display: flex;flex-direction: column;z-index: 1;position: relative;background-color: white;}#sk-container-id-1 div.sk-parallel-item:first-child::after {align-self: flex-end;width: 50%;}#sk-container-id-1 div.sk-parallel-item:last-child::after {align-self: flex-start;width: 50%;}#sk-container-id-1 div.sk-parallel-item:only-child::after {width: 0;}#sk-container-id-1 div.sk-dashed-wrapped {border: 1px dashed gray;margin: 0 0.4em 0.5em 0.4em;box-sizing: border-box;padding-bottom: 0.4em;background-color: white;}#sk-container-id-1 div.sk-label label {font-family: monospace;font-weight: bold;display: inline-block;line-height: 1.2em;}#sk-container-id-1 div.sk-label-container {text-align: center;}#sk-container-id-1 div.sk-container {/* jupyter's `normalize.less` sets `[hidden] { display: none; }` but bootstrap.min.css set `[hidden] { display: none !important; }` so we also need the `!important` here to be able to override the default hidden behavior on the sphinx rendered scikit-learn.org. See: https://github.com/scikit-learn/scikit-learn/issues/21755 */display: inline-block !important;position: relative;}#sk-container-id-1 div.sk-text-repr-fallback {display: none;}</style><div id=\"sk-container-id-1\" class=\"sk-top-container\"><div class=\"sk-text-repr-fallback\"><pre>SVC(C=5, kernel=&#x27;linear&#x27;, probability=True)</pre><b>In a Jupyter environment, please rerun this cell to show the HTML representation or trust the notebook. <br />On GitHub, the HTML representation is unable to render, please try loading this page with nbviewer.org.</b></div><div class=\"sk-container\" hidden><div class=\"sk-item\"><div class=\"sk-estimator sk-toggleable\"><input class=\"sk-toggleable__control sk-hidden--visually\" id=\"sk-estimator-id-1\" type=\"checkbox\" checked><label for=\"sk-estimator-id-1\" class=\"sk-toggleable__label sk-toggleable__label-arrow\">SVC</label><div class=\"sk-toggleable__content\"><pre>SVC(C=5, kernel=&#x27;linear&#x27;, probability=True)</pre></div></div></div></div></div>"
      ],
      "text/plain": [
       "SVC(C=5, kernel='linear', probability=True)"
      ]
     },
     "execution_count": 9,
     "metadata": {},
     "output_type": "execute_result"
    }
   ],
   "source": [
    "model = svm.SVC(C=C, kernel=kernel, degree=3, probability=True)\n",
    "model.fit(X_train,y_train)"
   ]
  },
  {
   "cell_type": "markdown",
   "id": "unique-graphic",
   "metadata": {},
   "source": [
    "### Prediction on training set:"
   ]
  },
  {
   "cell_type": "code",
   "execution_count": 10,
   "id": "minor-publicity",
   "metadata": {
    "scrolled": true
   },
   "outputs": [
    {
     "name": "stdout",
     "output_type": "stream",
     "text": [
      "Confusion matrix: \n",
      " [[178   0]\n",
      " [  0 223]]\n",
      "\n",
      "Classification report: \n",
      "               precision    recall  f1-score   support\n",
      "\n",
      "      Modern       1.00      1.00      1.00       178\n",
      " Renaissance       1.00      1.00      1.00       223\n",
      "\n",
      "    accuracy                           1.00       401\n",
      "   macro avg       1.00      1.00      1.00       401\n",
      "weighted avg       1.00      1.00      1.00       401\n",
      "\n"
     ]
    }
   ],
   "source": [
    "y_train_pred = model.predict(X_train)\n",
    "report(y_train, y_train_pred)"
   ]
  },
  {
   "cell_type": "code",
   "execution_count": 11,
   "id": "upset-committee",
   "metadata": {},
   "outputs": [
    {
     "data": {
      "image/png": "[encoded data removed]",
      "text/plain": [
       "<Figure size 432x288 with 1 Axes>"
      ]
     },
     "metadata": {
      "needs_background": "light"
     },
     "output_type": "display_data"
    }
   ],
   "source": [
    "learning_curves(model, X_train, y_train, np.linspace(0.7, 1.0, 10), 5, scoring = \"accuracy\")"
   ]
  },
  {
   "cell_type": "markdown",
   "id": "consistent-ordering",
   "metadata": {},
   "source": [
    "### Testing model:"
   ]
  },
  {
   "cell_type": "markdown",
   "id": "religious-guidance",
   "metadata": {},
   "source": [
    "Read in test data:"
   ]
  },
  {
   "cell_type": "code",
   "execution_count": 12,
   "id": "champion-maker",
   "metadata": {},
   "outputs": [],
   "source": [
    "X_test = pd.read_csv('../data/test/X_test.csv')\n",
    "y_test = np.ravel(pd.read_csv('../data/test/y_test.csv'))\n",
    "# y_test"
   ]
  },
  {
   "cell_type": "code",
   "execution_count": 13,
   "id": "digital-virginia",
   "metadata": {
    "scrolled": true
   },
   "outputs": [
    {
     "name": "stdout",
     "output_type": "stream",
     "text": [
      "Confusion matrix: \n",
      " [[74  6]\n",
      " [ 1 91]]\n",
      "\n",
      "Classification report: \n",
      "               precision    recall  f1-score   support\n",
      "\n",
      "      Modern       0.99      0.93      0.95        80\n",
      " Renaissance       0.94      0.99      0.96        92\n",
      "\n",
      "    accuracy                           0.96       172\n",
      "   macro avg       0.96      0.96      0.96       172\n",
      "weighted avg       0.96      0.96      0.96       172\n",
      "\n"
     ]
    }
   ],
   "source": [
    "y_test_pred = model.predict(X_test)\n",
    "report(y_test, y_test_pred)"
   ]
  },
  {
   "cell_type": "markdown",
   "id": "affecting-binding",
   "metadata": {},
   "source": [
    "#### Saving predictions and probablilities for model comparison:"
   ]
  },
  {
   "cell_type": "code",
   "execution_count": 14,
   "id": "fatty-prescription",
   "metadata": {},
   "outputs": [],
   "source": [
    "pd.DataFrame(y_test_pred).to_csv('results/svm_pred.csv', index=False)\n",
    "pd.DataFrame(model.predict_proba(X_test)[:,1]).to_csv('results/svm_prob.csv', index=False)"
   ]
  },
  {
   "cell_type": "markdown",
   "id": "oriented-sydney",
   "metadata": {},
   "source": [
    "### ROC curve - for test and train data"
   ]
  },
  {
   "cell_type": "code",
   "execution_count": 36,
   "id": "becoming-midwest",
   "metadata": {},
   "outputs": [],
   "source": [
    "Encoder = LabelEncoder()\n",
    "y_train_encoded = Encoder.fit_transform(y_train)\n",
    "y_test_encoded = Encoder.fit_transform(y_test)"
   ]
  },
  {
   "cell_type": "code",
   "execution_count": 37,
   "id": "coordinate-anchor",
   "metadata": {},
   "outputs": [
    {
     "name": "stderr",
     "output_type": "stream",
     "text": [
      "/home/milica/.local/lib/python3.8/site-packages/sklearn/base.py:432: UserWarning:\n",
      "\n",
      "X has feature names, but SVC was fitted without feature names\n",
      "\n"
     ]
    },
    {
     "ename": "ValueError",
     "evalue": "X has 11576 features, but SVC is expecting 3 features as input.",
     "output_type": "error",
     "traceback": [
      "\u001b[0;31m---------------------------------------------------------------------------\u001b[0m",
      "\u001b[0;31mValueError\u001b[0m                                Traceback (most recent call last)",
      "\u001b[0;32m<ipython-input-37-e3b33e616c4e>\u001b[0m in \u001b[0;36m<module>\u001b[0;34m\u001b[0m\n\u001b[1;32m      1\u001b[0m \u001b[0;31m#test data\u001b[0m\u001b[0;34m\u001b[0m\u001b[0;34m\u001b[0m\u001b[0;34m\u001b[0m\u001b[0m\n\u001b[0;32m----> 2\u001b[0;31m \u001b[0my_score1\u001b[0m \u001b[0;34m=\u001b[0m \u001b[0mmodel\u001b[0m\u001b[0;34m.\u001b[0m\u001b[0mpredict_proba\u001b[0m\u001b[0;34m(\u001b[0m\u001b[0mX_test\u001b[0m\u001b[0;34m)\u001b[0m\u001b[0;34m[\u001b[0m\u001b[0;34m:\u001b[0m\u001b[0;34m,\u001b[0m\u001b[0;36m1\u001b[0m\u001b[0;34m]\u001b[0m\u001b[0;34m\u001b[0m\u001b[0;34m\u001b[0m\u001b[0m\n\u001b[0m\u001b[1;32m      3\u001b[0m \u001b[0mfalse_positive_rate1\u001b[0m\u001b[0;34m,\u001b[0m \u001b[0mtrue_positive_rate1\u001b[0m\u001b[0;34m,\u001b[0m \u001b[0mthreshold1\u001b[0m \u001b[0;34m=\u001b[0m \u001b[0mroc_curve\u001b[0m\u001b[0;34m(\u001b[0m\u001b[0my_test_encoded\u001b[0m\u001b[0;34m,\u001b[0m \u001b[0my_score1\u001b[0m\u001b[0;34m)\u001b[0m\u001b[0;34m\u001b[0m\u001b[0;34m\u001b[0m\u001b[0m\n\u001b[1;32m      4\u001b[0m \u001b[0mtest_score\u001b[0m \u001b[0;34m=\u001b[0m \u001b[0mround\u001b[0m\u001b[0;34m(\u001b[0m\u001b[0mroc_auc_score\u001b[0m\u001b[0;34m(\u001b[0m\u001b[0my_test_encoded\u001b[0m\u001b[0;34m,\u001b[0m \u001b[0my_score1\u001b[0m\u001b[0;34m)\u001b[0m\u001b[0;34m,\u001b[0m \u001b[0;36m2\u001b[0m\u001b[0;34m)\u001b[0m\u001b[0;34m\u001b[0m\u001b[0;34m\u001b[0m\u001b[0m\n\u001b[1;32m      5\u001b[0m \u001b[0;31m#train data\u001b[0m\u001b[0;34m\u001b[0m\u001b[0;34m\u001b[0m\u001b[0;34m\u001b[0m\u001b[0m\n",
      "\u001b[0;32m~/.local/lib/python3.8/site-packages/sklearn/svm/_base.py\u001b[0m in \u001b[0;36mpredict_proba\u001b[0;34m(self, X)\u001b[0m\n\u001b[1;32m    861\u001b[0m         \u001b[0mdatasets\u001b[0m\u001b[0;34m.\u001b[0m\u001b[0;34m\u001b[0m\u001b[0;34m\u001b[0m\u001b[0m\n\u001b[1;32m    862\u001b[0m         \"\"\"\n\u001b[0;32m--> 863\u001b[0;31m         \u001b[0mX\u001b[0m \u001b[0;34m=\u001b[0m \u001b[0mself\u001b[0m\u001b[0;34m.\u001b[0m\u001b[0m_validate_for_predict\u001b[0m\u001b[0;34m(\u001b[0m\u001b[0mX\u001b[0m\u001b[0;34m)\u001b[0m\u001b[0;34m\u001b[0m\u001b[0;34m\u001b[0m\u001b[0m\n\u001b[0m\u001b[1;32m    864\u001b[0m         \u001b[0;32mif\u001b[0m \u001b[0mself\u001b[0m\u001b[0;34m.\u001b[0m\u001b[0mprobA_\u001b[0m\u001b[0;34m.\u001b[0m\u001b[0msize\u001b[0m \u001b[0;34m==\u001b[0m \u001b[0;36m0\u001b[0m \u001b[0;32mor\u001b[0m \u001b[0mself\u001b[0m\u001b[0;34m.\u001b[0m\u001b[0mprobB_\u001b[0m\u001b[0;34m.\u001b[0m\u001b[0msize\u001b[0m \u001b[0;34m==\u001b[0m \u001b[0;36m0\u001b[0m\u001b[0;34m:\u001b[0m\u001b[0;34m\u001b[0m\u001b[0;34m\u001b[0m\u001b[0m\n\u001b[1;32m    865\u001b[0m             raise NotFittedError(\n",
      "\u001b[0;32m~/.local/lib/python3.8/site-packages/sklearn/svm/_base.py\u001b[0m in \u001b[0;36m_validate_for_predict\u001b[0;34m(self, X)\u001b[0m\n\u001b[1;32m    611\u001b[0m \u001b[0;34m\u001b[0m\u001b[0m\n\u001b[1;32m    612\u001b[0m         \u001b[0;32mif\u001b[0m \u001b[0;32mnot\u001b[0m \u001b[0mcallable\u001b[0m\u001b[0;34m(\u001b[0m\u001b[0mself\u001b[0m\u001b[0;34m.\u001b[0m\u001b[0mkernel\u001b[0m\u001b[0;34m)\u001b[0m\u001b[0;34m:\u001b[0m\u001b[0;34m\u001b[0m\u001b[0;34m\u001b[0m\u001b[0m\n\u001b[0;32m--> 613\u001b[0;31m             X = self._validate_data(\n\u001b[0m\u001b[1;32m    614\u001b[0m                 \u001b[0mX\u001b[0m\u001b[0;34m,\u001b[0m\u001b[0;34m\u001b[0m\u001b[0;34m\u001b[0m\u001b[0m\n\u001b[1;32m    615\u001b[0m                 \u001b[0maccept_sparse\u001b[0m\u001b[0;34m=\u001b[0m\u001b[0;34m\"csr\"\u001b[0m\u001b[0;34m,\u001b[0m\u001b[0;34m\u001b[0m\u001b[0;34m\u001b[0m\u001b[0m\n",
      "\u001b[0;32m~/.local/lib/python3.8/site-packages/sklearn/base.py\u001b[0m in \u001b[0;36m_validate_data\u001b[0;34m(self, X, y, reset, validate_separately, **check_params)\u001b[0m\n\u001b[1;32m    586\u001b[0m \u001b[0;34m\u001b[0m\u001b[0m\n\u001b[1;32m    587\u001b[0m         \u001b[0;32mif\u001b[0m \u001b[0;32mnot\u001b[0m \u001b[0mno_val_X\u001b[0m \u001b[0;32mand\u001b[0m \u001b[0mcheck_params\u001b[0m\u001b[0;34m.\u001b[0m\u001b[0mget\u001b[0m\u001b[0;34m(\u001b[0m\u001b[0;34m\"ensure_2d\"\u001b[0m\u001b[0;34m,\u001b[0m \u001b[0;32mTrue\u001b[0m\u001b[0;34m)\u001b[0m\u001b[0;34m:\u001b[0m\u001b[0;34m\u001b[0m\u001b[0;34m\u001b[0m\u001b[0m\n\u001b[0;32m--> 588\u001b[0;31m             \u001b[0mself\u001b[0m\u001b[0;34m.\u001b[0m\u001b[0m_check_n_features\u001b[0m\u001b[0;34m(\u001b[0m\u001b[0mX\u001b[0m\u001b[0;34m,\u001b[0m \u001b[0mreset\u001b[0m\u001b[0;34m=\u001b[0m\u001b[0mreset\u001b[0m\u001b[0;34m)\u001b[0m\u001b[0;34m\u001b[0m\u001b[0;34m\u001b[0m\u001b[0m\n\u001b[0m\u001b[1;32m    589\u001b[0m \u001b[0;34m\u001b[0m\u001b[0m\n\u001b[1;32m    590\u001b[0m         \u001b[0;32mreturn\u001b[0m \u001b[0mout\u001b[0m\u001b[0;34m\u001b[0m\u001b[0;34m\u001b[0m\u001b[0m\n",
      "\u001b[0;32m~/.local/lib/python3.8/site-packages/sklearn/base.py\u001b[0m in \u001b[0;36m_check_n_features\u001b[0;34m(self, X, reset)\u001b[0m\n\u001b[1;32m    387\u001b[0m \u001b[0;34m\u001b[0m\u001b[0m\n\u001b[1;32m    388\u001b[0m         \u001b[0;32mif\u001b[0m \u001b[0mn_features\u001b[0m \u001b[0;34m!=\u001b[0m \u001b[0mself\u001b[0m\u001b[0;34m.\u001b[0m\u001b[0mn_features_in_\u001b[0m\u001b[0;34m:\u001b[0m\u001b[0;34m\u001b[0m\u001b[0;34m\u001b[0m\u001b[0m\n\u001b[0;32m--> 389\u001b[0;31m             raise ValueError(\n\u001b[0m\u001b[1;32m    390\u001b[0m                 \u001b[0;34mf\"X has {n_features} features, but {self.__class__.__name__} \"\u001b[0m\u001b[0;34m\u001b[0m\u001b[0;34m\u001b[0m\u001b[0m\n\u001b[1;32m    391\u001b[0m                 \u001b[0;34mf\"is expecting {self.n_features_in_} features as input.\"\u001b[0m\u001b[0;34m\u001b[0m\u001b[0;34m\u001b[0m\u001b[0m\n",
      "\u001b[0;31mValueError\u001b[0m: X has 11576 features, but SVC is expecting 3 features as input."
     ]
    }
   ],
   "source": [
    "#test data\n",
    "y_score1 = model.predict_proba(X_test)[:,1]\n",
    "false_positive_rate1, true_positive_rate1, threshold1 = roc_curve(y_test_encoded, y_score1)\n",
    "test_score = round(roc_auc_score(y_test_encoded, y_score1), 2)\n",
    "#train data\n",
    "y_score2 = model.predict_proba(X_train)[:,1]\n",
    "false_positive_rate2, true_positive_rate2, threshold2 = roc_curve(y_train_encoded, y_score2)\n",
    "val_score = round(roc_auc_score(y_train_encoded, y_score2), 2)"
   ]
  },
  {
   "cell_type": "code",
   "execution_count": null,
   "id": "desirable-floor",
   "metadata": {
    "scrolled": true
   },
   "outputs": [],
   "source": [
    "plt.subplots(1, figsize=(8,8))\n",
    "plt.title('ROC curve - SVM')\n",
    "#roc curve for test data\n",
    "plt.plot(false_positive_rate1, true_positive_rate1, label=\"Test data AUC: \" + str(test_score))\n",
    "#roc curve for train data\n",
    "plt.plot(false_positive_rate2, true_positive_rate2, label=\"Train data AUC: \" + str(val_score))\n",
    "plt.plot([0, 1], ls=\"--\", color='gray')\n",
    "plt.legend(loc='lower right')\n",
    "plt.ylabel('True positive rate')\n",
    "plt.xlabel('False positive rate')\n",
    "plt.show()"
   ]
  },
  {
   "cell_type": "code",
   "execution_count": 38,
   "id": "voluntary-occasions",
   "metadata": {
    "scrolled": true
   },
   "outputs": [
    {
     "name": "stdout",
     "output_type": "stream",
     "text": [
      "Number of support vector for each class: \n",
      "[124 123]\n",
      "Index of instanced which are support vectors: \n",
      "[  7  10  14  17  22  24  27  29  38  39  43  45  47  48  50  53  58  59\n",
      "  62  65  68  76  80  84  87  95  96 110 111 115 116 118 121 122 127 128\n",
      " 130 132 134 136 137 141 143 146 164 165 171 174 176 177 178 183 185 186\n",
      " 190 195 198 200 201 202 206 208 209 210 218 222 224 227 229 239 240 243\n",
      " 245 247 253 258 264 266 268 270 274 277 282 288 289 290 294 295 296 300\n",
      " 301 305 307 308 309 311 317 319 322 326 327 328 329 330 334 335 340 343\n",
      " 351 352 355 360 361 362 365 368 375 382 385 386 388 390 391 399   1   2\n",
      "   4   5   8  13  16  18  19  21  25  30  31  33  34  35  36  37  44  52\n",
      "  54  56  66  67  70  75  79  82  89  90  93 100 102 103 104 114 123 124\n",
      " 135 138 145 147 148 150 153 154 159 160 161 170 173 180 181 187 193 194\n",
      " 197 203 205 207 211 215 216 217 219 220 221 223 225 228 230 231 233 241\n",
      " 246 256 257 260 262 265 267 272 273 276 278 281 284 285 291 298 299 302\n",
      " 312 313 314 323 332 333 337 341 345 346 348 349 353 354 357 358 359 371\n",
      " 372 374 377 380 383 384 389 392 393 395 396 397 398]\n",
      "Support vectors: \n",
      " [[ 7.81045490e-02 -9.85039869e-04 -6.77054994e-04]\n",
      " [ 1.53866639e-01  5.21801548e-03 -7.54066470e-03]\n",
      " [ 8.88318971e-02 -2.02583261e-03 -1.54957196e-03]\n",
      " [ 9.89921078e-02 -3.02185160e-03  1.88768173e-04]\n",
      " [ 8.35998050e-02  1.26379040e-02 -1.03719804e-02]\n",
      " [ 1.00437828e-01  5.80810460e-04  3.63798920e-04]\n",
      " [ 1.12352542e-01 -1.48640653e-03  1.33997190e-03]\n",
      " [ 7.31933645e-02  4.13751930e-04 -1.09758245e-03]\n",
      " [ 5.32679543e-02 -4.06188012e-04 -1.18549457e-04]\n",
      " [ 9.33386992e-02  2.26197693e-03 -5.07027218e-04]\n",
      " [ 5.21150285e-02  1.61283884e-03  4.92473891e-03]\n",
      " [ 2.82651702e-01 -5.14494756e-03 -3.14305780e-03]\n",
      " [ 6.24376976e-02  2.95872928e-03 -4.00931273e-03]\n",
      " [ 6.44778196e-02  8.23880283e-05  1.28268820e-05]\n",
      " [ 1.29611708e-01 -2.55648043e-03 -2.27322438e-03]\n",
      " [ 1.04499161e-01  1.13340844e-03  3.64282927e-03]\n",
      " [ 9.41170513e-02 -1.81595534e-03 -2.34357570e-03]\n",
      " [ 1.36657340e-01 -3.64282080e-03 -1.37900337e-03]\n",
      " [ 1.15800153e-01 -1.69934183e-03 -1.75979360e-03]\n",
      " [ 1.98811399e-02  8.85439660e-02  3.49477587e-02]\n",
      " [ 2.08656164e-01 -1.00878325e-02  3.36932657e-03]\n",
      " [ 1.12076352e-01  1.35693982e-03  8.32442481e-04]\n",
      " [ 4.35218891e-02 -4.89780173e-04 -5.18569640e-04]\n",
      " [ 1.18232460e-01 -2.10846550e-03 -1.46666343e-03]\n",
      " [ 1.77306283e-01 -4.66860474e-03 -1.77738823e-03]\n",
      " [ 3.68741213e-02  3.64839473e-03 -2.85240375e-03]\n",
      " [ 1.14707531e-01 -1.37063450e-03 -2.85223166e-04]\n",
      " [ 1.64918878e-01 -1.76206191e-03 -2.63651128e-03]\n",
      " [ 1.26850546e-01 -1.92097245e-03 -1.99266772e-03]\n",
      " [ 8.00737861e-02 -1.48633301e-03 -7.90643361e-04]\n",
      " [ 6.35798131e-02  2.37131865e-03 -5.31865586e-04]\n",
      " [ 3.17279628e-02 -1.97974563e-04 -4.63859058e-04]\n",
      " [ 9.39294454e-02  1.62010857e-03  6.22463095e-03]\n",
      " [ 2.04934890e-01 -4.30960781e-03  1.37215544e-03]\n",
      " [ 1.79815432e-02  9.90901971e-02  4.88745457e-02]\n",
      " [ 2.18207199e-02 -6.99986878e-04 -9.55477326e-05]\n",
      " [ 6.27302921e-02  4.02051755e-04  3.12864498e-03]\n",
      " [ 3.84206882e-02  9.73389878e-04 -1.07489027e-03]\n",
      " [ 7.12937381e-02 -1.12208416e-03 -7.26888293e-04]\n",
      " [ 1.08237767e-01 -1.05437795e-03 -1.99915796e-03]\n",
      " [ 8.14335153e-02  1.93024339e-03  4.86785445e-03]\n",
      " [ 3.26536855e-01 -1.40174427e-02  6.27570920e-03]\n",
      " [ 1.13318341e-01  4.20421117e-04 -1.48968183e-04]\n",
      " [ 6.03302774e-02 -1.60744851e-03 -4.44074589e-04]\n",
      " [ 5.14614300e-02 -4.99978214e-04 -2.42614269e-03]\n",
      " [ 1.18600809e-01 -5.56571889e-04  2.22207345e-03]\n",
      " [ 1.90378350e-01  8.91277578e-03 -9.16233352e-03]\n",
      " [ 9.40156471e-02 -2.18263275e-03 -7.28004799e-04]\n",
      " [ 4.44214390e-04  9.91495263e-03 -6.36816667e-04]\n",
      " [ 1.74891498e-01  1.96449405e-02 -1.84102161e-02]\n",
      " [ 2.23979388e-01  7.36507820e-03 -1.02788335e-02]\n",
      " [ 4.79066482e-02  1.94580367e-03  1.01893375e-03]\n",
      " [ 1.69971065e-01 -1.50694897e-03 -2.64232894e-03]\n",
      " [ 5.26258576e-02  3.42920390e-03  1.58559586e-03]\n",
      " [ 2.88490917e-02 -1.01358076e-03 -2.54864654e-04]\n",
      " [ 8.68605583e-03  1.04797247e-01 -9.41007090e-02]\n",
      " [ 4.43110465e-02  1.10484982e-03 -1.52796557e-03]\n",
      " [ 1.29783898e-01 -1.68502624e-03 -1.45337019e-03]\n",
      " [ 2.19714712e-01  7.51755377e-03 -8.89184848e-03]\n",
      " [ 5.35318106e-02  9.47643704e-04 -1.05529517e-03]\n",
      " [ 1.74353003e-01 -3.22703077e-03  1.49181883e-03]\n",
      " [ 2.40915561e-01 -1.88741160e-02  6.48165678e-03]\n",
      " [ 9.74942564e-02 -1.73549685e-03  1.56189492e-03]\n",
      " [ 1.13970476e-01 -7.47310938e-04  8.91355271e-04]\n",
      " [ 3.37593105e-02  6.78454635e-04 -8.12883887e-04]\n",
      " [ 3.02800949e-01 -1.41985875e-02  4.52906445e-03]\n",
      " [ 2.40915561e-01 -1.88741160e-02  6.48165678e-03]\n",
      " [ 9.40156471e-02 -2.18263275e-03 -7.28004799e-04]\n",
      " [ 8.97386614e-02 -2.54628765e-03 -1.77419935e-04]\n",
      " [ 8.17199970e-02 -6.51116083e-04 -4.74445114e-04]\n",
      " [ 1.70389755e-01 -7.14060923e-04 -3.07039644e-03]\n",
      " [ 1.09042425e-01 -3.15052264e-03  6.01319635e-04]\n",
      " [ 2.11052364e-02 -4.28619185e-04 -1.20955319e-04]\n",
      " [ 1.04161986e-01  1.30637271e-02 -1.15368030e-02]\n",
      " [ 5.82279250e-02  1.85970158e-03 -3.01780708e-03]\n",
      " [ 6.39864792e-02  8.15133782e-05  1.64351466e-03]\n",
      " [ 1.52735571e-01 -1.94018910e-04 -2.97395983e-03]\n",
      " [ 3.26377246e-02  2.25395928e-03 -2.66998081e-03]\n",
      " [ 2.18018627e-01 -2.03326190e-03 -4.07611747e-03]\n",
      " [ 1.33980733e-01 -1.34210530e-03 -2.32999506e-03]\n",
      " [ 4.48800304e-02  1.24898601e-02 -6.17221627e-03]\n",
      " [ 3.85867913e-02  1.29332126e-01  1.24456140e-02]\n",
      " [ 1.24703415e-01  9.82833416e-03 -1.08734696e-02]\n",
      " [ 1.01080121e-01  1.79879771e-04 -8.15805037e-04]\n",
      " [ 1.04147829e-01 -1.35168257e-03 -1.16441576e-03]\n",
      " [ 2.82651702e-01 -5.14494756e-03 -3.14305780e-03]\n",
      " [ 1.07986897e-01 -1.79165835e-03 -1.79580402e-03]\n",
      " [ 4.10171533e-02  5.13309435e-03  1.16259415e-02]\n",
      " [ 1.00410772e-01 -1.19034492e-03 -7.58450457e-04]\n",
      " [ 2.11900817e-01 -1.64534849e-03 -1.93186411e-03]\n",
      " [ 8.49176994e-02 -3.37352629e-07 -4.13737804e-04]\n",
      " [ 1.68212295e-01  5.60816246e-03  1.88568632e-03]\n",
      " [ 1.05697509e-01 -1.23089383e-03 -1.28055832e-03]\n",
      " [ 8.02272038e-02 -1.62170778e-03 -6.33071754e-04]\n",
      " [ 9.12755835e-02 -8.07758663e-04  2.19591124e-03]\n",
      " [ 1.70265987e-01 -3.23663479e-03 -1.81220382e-03]\n",
      " [ 1.88323374e-01 -1.92330097e-03  3.34811757e-03]\n",
      " [ 2.06105478e-01  3.68738195e-02 -1.72863061e-02]\n",
      " [ 9.85969252e-02  2.43491557e-04 -5.09181398e-04]\n",
      " [ 8.91003565e-02 -1.56581610e-03 -1.75195609e-03]\n",
      " [ 1.35979003e-01  5.45930420e-04  4.80173404e-03]\n",
      " [ 3.21730252e-02 -3.87667557e-04 -3.79958055e-04]\n",
      " [ 8.89962850e-02 -2.04599602e-03 -1.60418156e-03]\n",
      " [ 1.85923695e-01  1.05898508e-02 -5.60616547e-03]\n",
      " [ 2.98430022e-02  2.45622181e-03  7.36705663e-03]\n",
      " [ 8.09972263e-02 -5.86439546e-04  4.76739779e-04]\n",
      " [ 1.53866639e-01  5.21801548e-03 -7.54066470e-03]\n",
      " [ 5.14614300e-02 -4.99978214e-04 -2.42614269e-03]\n",
      " [ 6.46679733e-02 -1.62476293e-03 -3.08087598e-04]\n",
      " [ 2.56411287e-01  5.27270679e-04  4.04953132e-03]\n",
      " [ 1.79791562e-01 -4.14393856e-03 -4.24632896e-04]\n",
      " [ 5.90973523e-02 -9.47632947e-04 -1.13690498e-03]\n",
      " [ 1.00670374e-01 -2.94203984e-03 -2.60873728e-04]\n",
      " [ 9.65746055e-03  1.10610723e-01 -1.00651630e-01]\n",
      " [ 4.11211222e-02 -5.80362218e-04 -1.01841835e-03]\n",
      " [ 6.21105000e-02 -9.93789066e-04 -6.77333056e-04]\n",
      " [ 1.19172272e-01 -1.36748621e-03 -8.16466586e-04]\n",
      " [ 7.40264921e-02 -1.31997854e-03 -6.68295400e-04]\n",
      " [ 8.49176994e-02 -3.37352629e-07 -4.13737804e-04]\n",
      " [ 1.37925332e-01 -2.09199718e-03 -2.55716453e-03]\n",
      " [ 1.37875293e-01 -2.89933442e-03 -1.31270020e-03]\n",
      " [ 2.03380414e-02  1.42235143e-01  8.26212221e-02]\n",
      " [ 1.45727067e-01 -5.29302681e-03  6.79138139e-04]\n",
      " [ 5.78799563e-02  8.80382225e-03 -1.32401240e-02]\n",
      " [ 6.37496398e-02  5.34684701e-02 -4.27112029e-02]\n",
      " [ 1.62535345e-01 -3.88357583e-03 -2.60742545e-03]\n",
      " [ 1.53825602e-01 -7.79382880e-03  9.44245452e-04]\n",
      " [ 1.00644730e-01 -1.24264536e-03  6.24724610e-04]\n",
      " [ 1.09607121e-01 -2.10076175e-03 -7.20603573e-04]\n",
      " [ 1.67379419e-01 -1.38099615e-03 -8.41393003e-04]\n",
      " [ 1.31672357e-01 -2.68935585e-03  8.24472933e-04]\n",
      " [ 1.01269388e-01  8.60364988e-04  7.13239154e-03]\n",
      " [ 1.00750410e-01 -2.48244610e-03 -8.81882647e-04]\n",
      " [ 1.69787668e-01 -1.93688397e-03  2.72933078e-03]\n",
      " [ 8.98423819e-02 -2.74851422e-03 -8.27009113e-04]\n",
      " [ 1.33521044e-01 -3.95814258e-03 -5.01307834e-04]\n",
      " [ 6.23314331e-02 -1.36695634e-03 -1.12632559e-03]\n",
      " [ 3.94456960e-02 -1.54172489e-03 -4.78741338e-04]\n",
      " [ 1.44442385e-01 -3.18865531e-03 -3.56065147e-03]\n",
      " [ 1.17439280e-01  4.77580867e-03 -4.43062827e-03]\n",
      " [ 1.91861396e-01  5.41930996e-02 -4.85761752e-02]\n",
      " [ 1.52652997e-01 -3.81789199e-03 -1.90853469e-03]\n",
      " [ 3.53704487e-03  1.31765969e-02 -1.33072204e-02]\n",
      " [ 1.42077896e-01  2.24351058e-03 -3.90109009e-03]\n",
      " [ 1.30200521e-01 -4.10057657e-03 -3.10118013e-04]\n",
      " [ 1.15720617e-01  3.09961962e-02 -2.65347799e-02]\n",
      " [ 3.79437638e-02 -1.13262097e-03  1.10455090e-05]\n",
      " [ 1.58095130e-01 -8.17023083e-03  2.23679239e-03]\n",
      " [ 8.91034854e-02  6.11152509e-05 -1.05203923e-03]\n",
      " [ 1.53289525e-01  1.45069139e-04 -2.64094928e-03]\n",
      " [ 1.01862022e-01 -1.62904685e-04  7.38019971e-04]\n",
      " [ 1.52980388e-01 -3.49803384e-03 -5.43373352e-04]\n",
      " [ 1.76086914e-01 -4.24797324e-03 -1.65554279e-03]\n",
      " [ 1.48531914e-01 -4.12942558e-03 -1.36188133e-03]\n",
      " [ 1.03622014e-01  3.04257542e-03  1.22670903e-02]\n",
      " [ 1.34231488e-01 -1.84757604e-03  2.74573514e-03]\n",
      " [ 9.44049956e-02 -1.80796514e-03 -1.43128780e-03]\n",
      " [ 1.13751067e-01  3.06062153e-03  5.50552609e-03]\n",
      " [ 1.75667179e-01 -3.58836118e-03 -1.81130267e-03]\n",
      " [ 1.73362564e-01 -7.89483683e-03  6.42426045e-04]\n",
      " [ 1.33444077e-01 -3.16604085e-03 -7.12372949e-04]\n",
      " [ 1.32924877e-01 -4.02334785e-03 -5.46984321e-04]\n",
      " [ 1.24142024e-01 -3.64498169e-03 -1.10194227e-03]\n",
      " [ 1.66811845e-01 -4.35177381e-03  4.51427476e-03]\n",
      " [ 8.64202954e-02 -3.74459656e-03  1.23477155e-03]\n",
      " [ 1.23700917e-01 -4.11121663e-03 -4.27453504e-04]\n",
      " [ 1.32935327e-01 -3.69465392e-03  1.57957015e-04]\n",
      " [ 1.13874445e-01 -2.26690617e-03 -1.13321129e-03]\n",
      " [ 1.61295538e-01  5.90186173e-03 -1.65377877e-03]\n",
      " [ 1.65610120e-01 -2.89709754e-03 -2.86438939e-03]\n",
      " [ 8.35068319e-02 -9.22922350e-04 -6.86798424e-04]\n",
      " [ 1.60200787e-01  1.31401114e-02 -9.78809396e-03]\n",
      " [ 4.86592375e-02  2.88936968e-03  1.00009745e-03]\n",
      " [ 1.08200651e-01 -3.78122932e-03  1.68436989e-04]\n",
      " [ 1.61980997e-01 -4.51205981e-03 -2.18161108e-04]\n",
      " [ 9.06050114e-02 -2.32552485e-03 -1.26148383e-03]\n",
      " [ 1.13751067e-01  3.06062153e-03  5.50552609e-03]\n",
      " [ 1.25335929e-01  1.95932323e-03 -2.78310953e-03]\n",
      " [ 1.69518257e-01 -5.05467322e-03 -2.99246056e-05]\n",
      " [ 1.00420723e-01 -3.03167116e-03 -5.77121657e-04]\n",
      " [ 1.56957989e-01 -2.24293083e-03  1.55563619e-03]\n",
      " [ 1.13975199e-01 -2.68356188e-03 -6.76614994e-04]\n",
      " [ 1.48940273e-01 -4.61305064e-03  3.94842964e-04]\n",
      " [ 9.48405767e-02 -7.73966356e-04  1.06273127e-03]\n",
      " [ 1.00384125e-01  1.18731567e-03  6.12054826e-04]\n",
      " [ 1.08921843e-01  1.03027979e-02 -1.17128219e-02]\n",
      " [ 7.96179293e-02  5.98077507e-03 -2.45697244e-03]\n",
      " [ 1.55847158e-01 -3.79317390e-03 -1.95609875e-03]\n",
      " [ 1.60376761e-01 -3.88919233e-03  4.64685028e-04]\n",
      " [ 7.54166191e-02 -1.80876560e-03 -3.37709768e-04]\n",
      " [ 1.29232665e-01 -2.55021863e-03 -9.99887431e-04]\n",
      " [ 1.44442385e-01 -3.18865531e-03 -3.56065147e-03]\n",
      " [ 1.78647095e-01 -3.50885091e-03 -1.15065782e-03]\n",
      " [ 1.20001713e-01 -8.37801495e-04 -1.11096079e-03]\n",
      " [ 1.24142024e-01 -3.64498169e-03 -1.10194227e-03]\n",
      " [ 1.16062423e-01 -1.93398688e-03 -3.11847986e-04]\n",
      " [ 1.78142831e-01 -5.27141480e-03 -1.68263106e-03]\n",
      " [ 1.29702872e-01 -3.53985611e-03 -7.16298076e-04]\n",
      " [ 1.25761450e-01 -1.88476123e-03  4.47182327e-03]\n",
      " [ 1.32184070e-01 -4.19721811e-03 -1.54929226e-03]\n",
      " [ 1.18121291e-01 -3.40338582e-03 -6.20181656e-04]\n",
      " [ 1.70966244e-01 -4.37978455e-03 -1.43876046e-03]\n",
      " [ 1.08391381e-01 -1.24944294e-03  3.92364856e-03]\n",
      " [ 1.27787135e-01 -3.84155260e-03 -6.35807715e-04]\n",
      " [ 1.77238688e-01 -9.73550533e-03  2.71140212e-03]\n",
      " [ 9.36296647e-02  8.23651961e-03  1.21532480e-02]\n",
      " [ 1.17387126e-01 -1.40696746e-03 -1.41257291e-03]\n",
      " [ 1.23463922e-01 -4.58426594e-03  4.19276090e-03]\n",
      " [ 7.63032783e-02  2.55995237e-03  9.69976069e-04]\n",
      " [ 1.38677183e-01  4.94921684e-03 -8.84753156e-03]\n",
      " [ 1.42334941e-01 -4.12956678e-03 -6.10543677e-04]\n",
      " [ 1.44342269e-01 -1.08499098e-03  4.36525930e-03]\n",
      " [ 1.42306289e-01  1.64864160e-02  8.31002336e-03]\n",
      " [ 1.41413936e-01 -4.30978638e-03  7.07671133e-06]\n",
      " [ 1.27249620e-01 -2.03072326e-03 -2.33081236e-04]\n",
      " [ 1.44676023e-01 -3.60714891e-03 -1.70815871e-03]\n",
      " [ 1.76489573e-01 -3.54063600e-03 -8.04362964e-04]\n",
      " [ 1.06605251e-01 -5.27048740e-04  1.83375900e-03]\n",
      " [ 1.52628137e-01 -2.38864182e-03  1.43129279e-03]\n",
      " [ 6.93230877e-02  7.31761025e-03 -5.44154229e-03]\n",
      " [ 7.22951309e-02 -1.02635843e-03  1.29989648e-04]\n",
      " [ 6.11008146e-02 -9.46311823e-04 -7.07717308e-04]\n",
      " [ 1.42208281e-01 -5.26666459e-03  2.36476887e-04]\n",
      " [ 1.75779644e-01 -3.99723530e-03 -2.66318412e-03]\n",
      " [ 1.38669976e-01 -4.18278283e-03 -5.84916395e-04]\n",
      " [ 9.69644898e-02 -2.62455621e-03 -2.74056832e-04]\n",
      " [ 1.12185417e-01 -3.34856582e-03 -3.34563239e-03]\n",
      " [ 1.23463922e-01 -4.58426594e-03  4.19276090e-03]\n",
      " [ 1.13881395e-01 -7.59111752e-04  1.62913305e-03]\n",
      " [ 1.22232105e-01 -1.41965204e-03 -1.08741092e-03]\n",
      " [ 1.31422400e-01  3.47712137e-02 -3.15380708e-02]\n",
      " [ 1.48480010e-01  3.47330387e-03 -2.00806169e-03]\n",
      " [ 1.19551743e-01 -5.57484668e-03  1.12310449e-03]\n",
      " [ 1.58533058e-01 -1.72819382e-03  4.24935803e-03]\n",
      " [ 1.72659778e-01 -4.51675582e-03 -1.20123326e-03]\n",
      " [ 1.48160068e-01 -2.89437147e-03 -2.09387343e-03]\n",
      " [ 1.48280211e-01 -3.91760871e-03  1.55704863e-03]\n",
      " [ 1.06553872e-01 -3.35421054e-03  2.19432749e-04]\n",
      " [ 1.19383357e-01 -3.36852916e-03 -3.38274554e-04]\n",
      " [ 1.54585116e-01 -3.65596712e-03  2.09181145e-04]\n",
      " [ 8.17366228e-02  6.66981181e-04 -1.05500626e-03]\n",
      " [ 9.71247379e-02 -2.88524519e-03 -1.64409734e-04]\n",
      " [ 1.48280211e-01 -3.91760871e-03  1.55704863e-03]\n",
      " [ 9.52675992e-02  4.28160069e-04 -5.97873992e-04]\n",
      " [ 1.08943151e-01 -3.00280400e-03 -3.70458054e-03]\n",
      " [ 1.06378168e-01 -3.86251446e-03 -3.48571607e-04]\n",
      " [ 1.31454785e-01 -2.75636087e-03 -1.52552356e-03]]\n"
     ]
    }
   ],
   "source": [
    "print(f'Number of support vector for each class: \\n{model.n_support_}')\n",
    "print(f'Index of instanced which are support vectors: \\n{model.support_}')\n",
    "print(f'Support vectors: \\n {model.support_vectors_}')"
   ]
  },
  {
   "cell_type": "code",
   "execution_count": 41,
   "id": "hazardous-lying",
   "metadata": {},
   "outputs": [],
   "source": [
    "# pca = PCA(n_components=3)\n",
    "# reduced_data = pca.fit_transform(X_test)\n",
    "\n",
    "svd = TruncatedSVD(n_components=3)\n",
    "reduced_data = svd.fit_transform(X_test)"
   ]
  },
  {
   "cell_type": "code",
   "execution_count": 42,
   "id": "stuffed-identifier",
   "metadata": {},
   "outputs": [
    {
     "data": {
      "application/vnd.plotly.v1+json": {
       "config": {
        "plotlyServerURL": "https://plot.ly"
       },
       "data": [
        {
         "colorscale": [
          [
           0,
           "rgb(0,0,255)"
          ],
          [
           0,
           "rgb(255,0,0)"
          ]
         ],
         "showscale": false,
         "type": "surface",
         "uid": "54418e60-d195-4e40-9fd6-1d5fd00b5ebf",
         "x": [
          [
           0,
           0.06282495079898304,
           0.12564990159796607,
           0.1884748523969491,
           0.25129980319593215,
           0.3141247539949152,
           0.3769497047938982,
           0.43977465559288126,
           0.5025996063918643,
           0.5654245571908473
          ],
          [
           0,
           0.06282495079898304,
           0.12564990159796607,
           0.1884748523969491,
           0.25129980319593215,
           0.3141247539949152,
           0.3769497047938982,
           0.43977465559288126,
           0.5025996063918643,
           0.5654245571908473
          ],
          [
           0,
           0.06282495079898304,
           0.12564990159796607,
           0.1884748523969491,
           0.25129980319593215,
           0.3141247539949152,
           0.3769497047938982,
           0.43977465559288126,
           0.5025996063918643,
           0.5654245571908473
          ],
          [
           0,
           0.06282495079898304,
           0.12564990159796607,
           0.1884748523969491,
           0.25129980319593215,
           0.3141247539949152,
           0.3769497047938982,
           0.43977465559288126,
           0.5025996063918643,
           0.5654245571908473
          ],
          [
           0,
           0.06282495079898304,
           0.12564990159796607,
           0.1884748523969491,
           0.25129980319593215,
           0.3141247539949152,
           0.3769497047938982,
           0.43977465559288126,
           0.5025996063918643,
           0.5654245571908473
          ],
          [
           0,
           0.06282495079898304,
           0.12564990159796607,
           0.1884748523969491,
           0.25129980319593215,
           0.3141247539949152,
           0.3769497047938982,
           0.43977465559288126,
           0.5025996063918643,
           0.5654245571908473
          ],
          [
           0,
           0.06282495079898304,
           0.12564990159796607,
           0.1884748523969491,
           0.25129980319593215,
           0.3141247539949152,
           0.3769497047938982,
           0.43977465559288126,
           0.5025996063918643,
           0.5654245571908473
          ],
          [
           0,
           0.06282495079898304,
           0.12564990159796607,
           0.1884748523969491,
           0.25129980319593215,
           0.3141247539949152,
           0.3769497047938982,
           0.43977465559288126,
           0.5025996063918643,
           0.5654245571908473
          ],
          [
           0,
           0.06282495079898304,
           0.12564990159796607,
           0.1884748523969491,
           0.25129980319593215,
           0.3141247539949152,
           0.3769497047938982,
           0.43977465559288126,
           0.5025996063918643,
           0.5654245571908473
          ],
          [
           0,
           0.06282495079898304,
           0.12564990159796607,
           0.1884748523969491,
           0.25129980319593215,
           0.3141247539949152,
           0.3769497047938982,
           0.43977465559288126,
           0.5025996063918643,
           0.5654245571908473
          ]
         ],
         "y": [
          [
           -0.0254939297466972,
           -0.0254939297466972,
           -0.0254939297466972,
           -0.0254939297466972,
           -0.0254939297466972,
           -0.0254939297466972,
           -0.0254939297466972,
           -0.0254939297466972,
           -0.0254939297466972,
           -0.0254939297466972
          ],
          [
           0.07124616853588076,
           0.07124616853588076,
           0.07124616853588076,
           0.07124616853588076,
           0.07124616853588076,
           0.07124616853588076,
           0.07124616853588076,
           0.07124616853588076,
           0.07124616853588076,
           0.07124616853588076
          ],
          [
           0.1679862668184587,
           0.1679862668184587,
           0.1679862668184587,
           0.1679862668184587,
           0.1679862668184587,
           0.1679862668184587,
           0.1679862668184587,
           0.1679862668184587,
           0.1679862668184587,
           0.1679862668184587
          ],
          [
           0.2647263651010367,
           0.2647263651010367,
           0.2647263651010367,
           0.2647263651010367,
           0.2647263651010367,
           0.2647263651010367,
           0.2647263651010367,
           0.2647263651010367,
           0.2647263651010367,
           0.2647263651010367
          ],
          [
           0.36146646338361466,
           0.36146646338361466,
           0.36146646338361466,
           0.36146646338361466,
           0.36146646338361466,
           0.36146646338361466,
           0.36146646338361466,
           0.36146646338361466,
           0.36146646338361466,
           0.36146646338361466
          ],
          [
           0.4582065616661926,
           0.4582065616661926,
           0.4582065616661926,
           0.4582065616661926,
           0.4582065616661926,
           0.4582065616661926,
           0.4582065616661926,
           0.4582065616661926,
           0.4582065616661926,
           0.4582065616661926
          ],
          [
           0.5549466599487706,
           0.5549466599487706,
           0.5549466599487706,
           0.5549466599487706,
           0.5549466599487706,
           0.5549466599487706,
           0.5549466599487706,
           0.5549466599487706,
           0.5549466599487706,
           0.5549466599487706
          ],
          [
           0.6516867582313486,
           0.6516867582313486,
           0.6516867582313486,
           0.6516867582313486,
           0.6516867582313486,
           0.6516867582313486,
           0.6516867582313486,
           0.6516867582313486,
           0.6516867582313486,
           0.6516867582313486
          ],
          [
           0.7484268565139265,
           0.7484268565139265,
           0.7484268565139265,
           0.7484268565139265,
           0.7484268565139265,
           0.7484268565139265,
           0.7484268565139265,
           0.7484268565139265,
           0.7484268565139265,
           0.7484268565139265
          ],
          [
           0.8451669547965044,
           0.8451669547965044,
           0.8451669547965044,
           0.8451669547965044,
           0.8451669547965044,
           0.8451669547965044,
           0.8451669547965044,
           0.8451669547965044,
           0.8451669547965044,
           0.8451669547965044
          ]
         ],
         "z": [
          [
           -6.386631778751791,
           -0.9218406687196353,
           4.54295044131252,
           10.00774155134468,
           15.472532661376832,
           20.937323771408987,
           26.402114881441143,
           31.866905991473296,
           37.331697101505455,
           42.796488211537614
          ],
          [
           -8.667969427966128,
           -3.2031783179339715,
           2.261612792098184,
           7.726403902130342,
           13.191195012162495,
           18.65598612219465,
           24.120777232226807,
           29.58556834225896,
           35.05035945229112,
           40.51515056232328
          ],
          [
           -10.949307077180464,
           -5.484515967148307,
           -0.019724857116152524,
           5.445066252916005,
           10.909857362948157,
           16.374648472980315,
           21.83943958301247,
           27.304230693044623,
           32.76902180307678,
           38.23381291310894
          ],
          [
           -13.2306447263948,
           -7.765853616362645,
           -2.3010625063304895,
           3.163728603701668,
           8.628519713733821,
           14.093310823765979,
           19.558101933798135,
           25.022893043830287,
           30.48768415386245,
           35.9524752638946
          ],
          [
           -15.511982375609138,
           -10.047191265576982,
           -4.582400155544826,
           0.8823909544873315,
           6.347182064519484,
           11.811973174551639,
           17.276764284583795,
           22.74155539461595,
           28.20634650464811,
           33.67113761468027
          ],
          [
           -17.793320024823473,
           -12.328528914791317,
           -6.863737804759162,
           -1.3989466947270042,
           4.065844415305149,
           9.530635525337305,
           14.995426635369462,
           20.460217745401614,
           25.925008855433774,
           31.389799965465933
          ],
          [
           -20.07465767403781,
           -14.609866564005653,
           -9.145075453973499,
           -3.6802843439413406,
           1.784506766090812,
           7.249297876122968,
           12.714088986155126,
           18.178880096187275,
           23.64367120621944,
           29.108462316251597
          ],
          [
           -22.35599532325215,
           -16.891204213219993,
           -11.426413103187837,
           -5.9616219931556795,
           -0.49683088312352636,
           4.96796022690863,
           10.432751336940786,
           15.89754244697294,
           21.362333557005098,
           26.827124667037253
          ],
          [
           -24.637332972466485,
           -19.17254186243433,
           -13.707750752402172,
           -8.242959642370016,
           -2.778168532337863,
           2.6866225776942936,
           8.15141368772645,
           13.616204797758604,
           19.080995907790765,
           24.54578701782292
          ],
          [
           -26.91867062168082,
           -21.453879511648662,
           -15.989088401616506,
           -10.52429729158435,
           -5.059506181552197,
           0.40528492847995906,
           5.870076038512115,
           11.334867148544268,
           16.79965825857643,
           22.264449368608584
          ]
         ]
        },
        {
         "marker": {
          "color": "blue"
         },
         "mode": "markers",
         "type": "scatter3d",
         "uid": "e2906d7a-8c90-4ae7-ad70-fc486d810ac8",
         "x": [
          0.008319714926450747,
          0.16929847022352995,
          0.025280234116045547,
          0.007350782362119338,
          0.16023521394014947,
          0.02495129324847062,
          0.016513558568235994,
          0.023911415266289378,
          0.02289232405971695,
          0.03354390943834813,
          0.13769939161713327,
          0.025622115226173536,
          0.01739224030783765,
          0,
          0.05956225324490651,
          0.1805677560672019,
          0.06060275953627013,
          0.12455571413794972,
          0.040647220927074866,
          0.15089844619860127,
          0.09117642936070226,
          0.03431454260021988,
          0.014306282043106997,
          0.048222997989855014,
          0.13664617001052173,
          0.01967442190421741,
          0.06406905831862215,
          0.00960894728675854,
          0.02213257181801629,
          0.034112785363589415,
          0.11235555866565046,
          0.01759203291481734,
          0.1649039328617952,
          0.011296022351686738,
          0.32151467055881305,
          0.011201242647416863,
          0.017159805829842934,
          0.29653991596894363,
          0.010599560897131948,
          0.014874614457414372,
          0.014256427055368876,
          0.03320160643127354,
          0.13652706243279514,
          0.02505215514416035,
          0.06987009849132314,
          0.09356938167544993,
          0.054918583698308765,
          0.10673957839325537,
          0.09276981869219653,
          0.1332982619543575,
          0.04265130418551114,
          0.02276427623974033,
          0.03620090398658199,
          0.13843319694054465,
          0.07330902982519863,
          0.15522580088907714,
          0.014874614457414372,
          0,
          0.04643856094399159,
          0.06910582626336086,
          0.022811324968069795,
          0.2204165343015172,
          0.15575443428202357,
          0.025622115226173536,
          0.16030811392263927,
          0.014874614457414372,
          0.15802820239075327,
          0.09047692730579089,
          0.02471635031924586,
          0.022043873241053096,
          0.22435617744569802,
          0.06470015083184391,
          0.02311048209109889,
          0.11575069867953579,
          0.15256317743701972,
          0.03354390943834813,
          0.11315569063246382,
          0.09192702944077591,
          0.021021567180143773,
          0.07132193491052234
         ],
         "y": [
          0.15873577659131982,
          -0.005284178106075415,
          0.26740263436325484,
          0.16028492958550788,
          -0.003417587162139233,
          0.2108884932739895,
          0.1172470889981021,
          0.832923886574645,
          0.8451669547965044,
          0.39304490950496684,
          0.0031591198823678604,
          0.26939936882287385,
          0.23306434117609395,
          0,
          -0.0028733310970170327,
          -0.00855005580022782,
          -0.0015044485890719657,
          -0.004874249859288011,
          -0.0007959392201877543,
          -0.006302018258214543,
          -0.0035193980946899425,
          0.19426199197037583,
          0.2078390376383435,
          -0.0010372067428241895,
          -0.0023578729542039194,
          -0.0008831497119320025,
          -0.002737590752338965,
          0.15067928893144947,
          0.8203930144618418,
          0.2571526051528322,
          -0.0005905029880934374,
          0.43691220089994404,
          -0.006204568167987397,
          0.2462857981035323,
          -0.008725056606379107,
          0.26937179501155817,
          0.41969600165501286,
          -0.008279745923219261,
          0.2556443248612794,
          0.11410962935116424,
          -0.0004557564115493331,
          0.25781600702752716,
          -0.0024477981786015387,
          0.26411456801058447,
          -0.0025652395176336768,
          0.0025828117264686465,
          -0.0024990499529014827,
          0.0008413412977430914,
          0.0038436931669196166,
          0.0021719934538001764,
          0.104132569177712,
          0.2331383629972726,
          0.2569938432141566,
          -0.003845048986769889,
          -0.003020497483210808,
          -0.007119122128878651,
          0.11410962935116424,
          0,
          -0.0018505056645285972,
          0.00011772692649132983,
          0.8226808446968306,
          -0.0043675476370245245,
          0.0004120211899485983,
          0.26939936882287385,
          -0.0042029853488914646,
          0.11410962935116424,
          0.0029528845874401315,
          -0.00366100841581269,
          0.21383643362424024,
          0.7992596857736916,
          -0.012475713216948209,
          4.478338519590555e-05,
          0.41506405080586856,
          -0.003678159184616169,
          -0.004981353577698197,
          0.39304490950496684,
          -0.003925557549488695,
          -0.0014602388712358608,
          0.220122719158849,
          -0.002570128179800815
         ],
         "z": [
          0.07893153922428421,
          -0.003988567727328699,
          0.8754264208568588,
          0.07957343390336638,
          0.0030080962731735285,
          0.09717813937950158,
          0.048209459715597425,
          -0.3640796039299004,
          -0.3683333288406944,
          0.2350443864552339,
          0.0016698127518125776,
          0.8833728077546765,
          0.08659189987492878,
          0,
          -0.0006288410177202073,
          -0.005532836552429102,
          -0.0017527606286700072,
          -0.0036653650534753572,
          -0.0008171909400202939,
          -0.0037781158012520732,
          -0.0046221154710690306,
          0.07873630025196597,
          0.10100913434826052,
          0.0005267331735874285,
          -0.0030430470244450876,
          -0.001034928915923194,
          -4.721714151574676e-05,
          0.061181983501347445,
          -0.3595024914399327,
          0.04409257208030963,
          -0.006443642822622626,
          -0.031226922475283067,
          -0.0010675486345803405,
          0.2001228945084642,
          -0.006624744899568123,
          0.21318137846644533,
          -0.02869550992359225,
          -0.003967107597367409,
          0.21060813687295057,
          0.05223680422739619,
          -0.0008780711434513567,
          0.044149341679743194,
          -0.0024679131192041617,
          0.8691886183504441,
          -0.003657437958844727,
          0.001024988287728221,
          -0.0020212135520990405,
          0.01129843013667085,
          -0.006948024077216831,
          -0.008503215319354933,
          0.042401437301300596,
          0.06957709759663294,
          0.0445916723112099,
          -0.003312762924348756,
          -0.0019872228337225665,
          -0.0037596270096161514,
          0.05223680422739619,
          0,
          -0.0021626580268820214,
          -0.002683544347426031,
          -0.3604032522709517,
          0.000762553324045952,
          -0.004909417750142467,
          0.8833728077546765,
          -0.004350668416777531,
          0.05223680422739619,
          -0.0030318683412348625,
          -0.003263822665852066,
          0.11275150660971144,
          -0.3517824920759259,
          -0.005503158758883803,
          -0.001970780954250644,
          -0.03030835735961217,
          -0.00417686594986499,
          -0.006135119551350468,
          0.2350443864552339,
          -0.003886674586617851,
          -0.0035512581948969626,
          0.10204625750580085,
          -0.0011233501219235133
         ]
        },
        {
         "marker": {
          "color": "red"
         },
         "mode": "markers",
         "type": "scatter3d",
         "uid": "b9e6d7cd-7de6-4161-b91c-2ca21269af18",
         "x": [
          0.24516032740018415,
          0.09572326189927527,
          0.18988051938097433,
          0.10371902683680985,
          0.22962350353907185,
          0.35321427841696584,
          0.3061904290265631,
          0.18382403443895823,
          0.14519449220569852,
          0.315092731573751,
          0.31392183111598854,
          0.3800537828376316,
          0.1480522891099707,
          0.12639584177660476,
          0.24516032740018415,
          0.14048134483940833,
          0.300536783551775,
          0.19419214490755504,
          0.27515596268243814,
          0.2561156489598831,
          0.2778093527061333,
          0.1796419825000534,
          0.37707009767087685,
          0.08405350746973346,
          0.31392183111598854,
          0.13618957007120083,
          0.33016935042841755,
          0.27270731847295593,
          0.29791706114548044,
          0.16224759959383017,
          0.22576120503868924,
          0.12837785436906382,
          0.1695458022121054,
          0.2252681287181713,
          0.33420353170420086,
          0.16668986891513976,
          0.26886374174526395,
          0.4299771242774622,
          0.3655907658720938,
          0.1207863193880332,
          0.14739042324947887,
          0.4717596409428627,
          0.13506504083112053,
          0.31164576961078516,
          0.29175653007857993,
          0.10594056687863039,
          0.13838109835850596,
          0.2127312314712094,
          0.25562556001178743,
          0.30502457745512973,
          0.37883218198001056,
          0.23066378841519236,
          0.1441996930929475,
          0.2013146534115881,
          0.1731197915256391,
          0.15081295741125675,
          0.330097215822428,
          0.2681106718457385,
          0.3023479774231242,
          0.28969134801826224,
          0.2463733064872405,
          0.07571235539579392,
          0.4078423791911518,
          0.11895857130958548,
          0.32668230045145047,
          0.1871151957341534,
          0.12258729127449887,
          0.15512217413776883,
          0.1092637884565171,
          0.3535023152127182,
          0.17053164722895023,
          0.16096464693163887,
          0.5243924006806933,
          0.1300902102574718,
          0.20283946874084546,
          0.18991337360214264,
          0.08237277932546626,
          0.5654245571908473,
          0.14780572778264311,
          0.3946766429032686,
          0.3182807674441463,
          0.1698801974752261,
          0.11932727974272515,
          0.11478235283285987,
          0.19873360100834203,
          0.34094652258641106,
          0.2569449375380195,
          0.3521895217236615,
          0.28439438147648255,
          0.20792416116659018,
          0.3609872118475495,
          0.4090464649696285
         ],
         "y": [
          -0.0036724595024243455,
          -0.004501275844055245,
          -0.009176497954663331,
          -0.005138770754710031,
          -0.011198478082721708,
          -0.017599306092377916,
          0.008042644571639519,
          -0.006974878122000913,
          -0.00643043930848854,
          -0.01164903616800808,
          -0.01346545267929113,
          -0.014737334000289959,
          0.0036929574551851536,
          -0.005398352763810465,
          -0.0036724595024243455,
          -0.0022197813793073287,
          -0.013315769539966618,
          -0.005511600388968345,
          -0.008127662021813316,
          -0.006780392059316203,
          -0.013493346675102923,
          -0.0018734646968383366,
          -0.0179053991721785,
          -0.004201330869776713,
          -0.01346545267929113,
          -0.006192612426374866,
          -0.016511388990921354,
          -0.012767230943541175,
          -0.006633192750083752,
          -0.007090392363942789,
          -0.010693574162958885,
          -0.004571847288612936,
          -0.007608786327274022,
          -0.005633590952599069,
          -0.014424242102021598,
          -0.008368622573728111,
          -0.006330439980124593,
          -0.02202274819319066,
          -0.012795903908246555,
          0.0012906556434976412,
          -0.0067125699108466835,
          -0.0254939297466972,
          -0.005598337992856507,
          -0.006928682629062438,
          -0.012962182827431178,
          -0.005396307293184427,
          -0.005417919897109215,
          -0.007964572438411454,
          -0.013413304000841668,
          -0.008725528683346343,
          -0.01704179960066186,
          -0.011558991094940848,
          -0.006154084932217125,
          -0.008542386971546832,
          -0.008307797791304637,
          -0.007740558382452163,
          -0.017387748284412367,
          -0.009667228272758028,
          -0.015922554488737965,
          -0.011575895612311296,
          -0.00515387172349137,
          -0.003755811318047969,
          -0.020938750779691005,
          -0.003749419710588788,
          -0.008066261140224597,
          -0.003275646392917885,
          -0.005656220116451621,
          -0.005775462240281006,
          -0.0035512711234066876,
          -0.00978173234680041,
          0.022543495993990127,
          -0.007876760189936664,
          -0.016198912256201334,
          -0.0057896368827051285,
          -0.009514827223578737,
          -0.00884210581390675,
          -0.0027873127630888015,
          -0.024467882758635474,
          0.002666368046428043,
          -0.020262319650052325,
          -0.003622828310204938,
          -0.00787069820587653,
          -0.005108499704601401,
          -0.003210968177101021,
          -0.005994243098115077,
          -0.016405932105113583,
          -0.011536892985197531,
          -0.013908016505140076,
          -0.008958388524596309,
          -0.0019871179670116375,
          -0.012642487420488615,
          -0.0216192906336573
         ],
         "z": [
          0.019973986751489602,
          -0.0040410767083036815,
          -0.005000389656733161,
          -0.0010860969940424368,
          -0.005072616810977655,
          -0.006284977829439223,
          -0.0038706865879301984,
          -0.0063764960443811036,
          -0.0032433222602628676,
          -0.00745282807927283,
          -0.020205207744513818,
          -0.0072813521625765465,
          0.008499970551542804,
          -0.0032848616145598466,
          0.019973986751489602,
          -0.00012550949162140585,
          -0.005152383667086365,
          -0.003807802445411511,
          0.00021400584560383467,
          -0.00043815679206220764,
          -0.0059332988098064875,
          -0.00467369705989335,
          -0.009453332525797461,
          -0.0021163791305963114,
          -0.020205207744513818,
          -0.0017795832024179823,
          -0.009053882371379975,
          -0.004416169275854656,
          0.011810791840501074,
          -0.003281736277211984,
          -0.00674202780005136,
          -0.0015796046801770467,
          -0.0037477605358205005,
          -0.0029060901615948916,
          -0.007684064154269983,
          -0.003029047165771582,
          0.011835963678980172,
          -0.008398896496038873,
          0.009588214566582447,
          0.014788967823238552,
          -0.00514256780567648,
          -0.010322709593400373,
          -0.006967970540336533,
          0.01340765253791205,
          -0.006346772270481694,
          -0.0026302926155428374,
          -0.005493242105346541,
          -0.006944916279927339,
          -0.007966221197065552,
          -0.007859663729567257,
          -0.015142037846882275,
          -0.006801258440158311,
          -0.0051887350091854405,
          -0.003228298331456592,
          -0.005249807518324939,
          -0.0039831861246405415,
          -0.008720150641367516,
          -0.006052725990588961,
          -0.006580013065405197,
          -0.005591918603824569,
          0.01114762761777504,
          -0.001870724696133332,
          -0.00884245932450455,
          -0.0030647571257445302,
          0.00032216175084382847,
          -0.006547984240337928,
          -0.002079438793436912,
          -0.002083641966567543,
          -0.0005641127378539039,
          -0.008235718686302618,
          -0.024855518378810566,
          -0.003582992786424684,
          0.01716372873477519,
          -0.005109040024738048,
          -0.0046182930428380845,
          -0.004739804672251891,
          -0.0019110797509773428,
          -0.012479643010485784,
          -0.0023032673877635673,
          -0.008195790270218346,
          0.004996937381873511,
          -0.0016880080456627851,
          -0.004099294675790756,
          -0.0028381927111108974,
          -0.005336374797231663,
          -0.008405783128035022,
          -0.006379105367397158,
          -0.0076314965328963,
          -0.0016309966169690126,
          -0.0007287163108400121,
          0.009477973160631457,
          -0.008987659084720798
         ]
        }
       ],
       "layout": {
        "height": 800,
        "template": {
         "data": {
          "bar": [
           {
            "error_x": {
             "color": "#2a3f5f"
            },
            "error_y": {
             "color": "#2a3f5f"
            },
            "marker": {
             "line": {
              "color": "#E5ECF6",
              "width": 0.5
             },
             "pattern": {
              "fillmode": "overlay",
              "size": 10,
              "solidity": 0.2
             }
            },
            "type": "bar"
           }
          ],
          "barpolar": [
           {
            "marker": {
             "line": {
              "color": "#E5ECF6",
              "width": 0.5
             },
             "pattern": {
              "fillmode": "overlay",
              "size": 10,
              "solidity": 0.2
             }
            },
            "type": "barpolar"
           }
          ],
          "carpet": [
           {
            "aaxis": {
             "endlinecolor": "#2a3f5f",
             "gridcolor": "white",
             "linecolor": "white",
             "minorgridcolor": "white",
             "startlinecolor": "#2a3f5f"
            },
            "baxis": {
             "endlinecolor": "#2a3f5f",
             "gridcolor": "white",
             "linecolor": "white",
             "minorgridcolor": "white",
             "startlinecolor": "#2a3f5f"
            },
            "type": "carpet"
           }
          ],
          "choropleth": [
           {
            "colorbar": {
             "outlinewidth": 0,
             "ticks": ""
            },
            "type": "choropleth"
           }
          ],
          "contour": [
           {
            "colorbar": {
             "outlinewidth": 0,
             "ticks": ""
            },
            "colorscale": [
             [
              0,
              "#0d0887"
             ],
             [
              0.1111111111111111,
              "#46039f"
             ],
             [
              0.2222222222222222,
              "#7201a8"
             ],
             [
              0.3333333333333333,
              "#9c179e"
             ],
             [
              0.4444444444444444,
              "#bd3786"
             ],
             [
              0.5555555555555556,
              "#d8576b"
             ],
             [
              0.6666666666666666,
              "#ed7953"
             ],
             [
              0.7777777777777778,
              "#fb9f3a"
             ],
             [
              0.8888888888888888,
              "#fdca26"
             ],
             [
              1,
              "#f0f921"
             ]
            ],
            "type": "contour"
           }
          ],
          "contourcarpet": [
           {
            "colorbar": {
             "outlinewidth": 0,
             "ticks": ""
            },
            "type": "contourcarpet"
           }
          ],
          "heatmap": [
           {
            "colorbar": {
             "outlinewidth": 0,
             "ticks": ""
            },
            "colorscale": [
             [
              0,
              "#0d0887"
             ],
             [
              0.1111111111111111,
              "#46039f"
             ],
             [
              0.2222222222222222,
              "#7201a8"
             ],
             [
              0.3333333333333333,
              "#9c179e"
             ],
             [
              0.4444444444444444,
              "#bd3786"
             ],
             [
              0.5555555555555556,
              "#d8576b"
             ],
             [
              0.6666666666666666,
              "#ed7953"
             ],
             [
              0.7777777777777778,
              "#fb9f3a"
             ],
             [
              0.8888888888888888,
              "#fdca26"
             ],
             [
              1,
              "#f0f921"
             ]
            ],
            "type": "heatmap"
           }
          ],
          "heatmapgl": [
           {
            "colorbar": {
             "outlinewidth": 0,
             "ticks": ""
            },
            "colorscale": [
             [
              0,
              "#0d0887"
             ],
             [
              0.1111111111111111,
              "#46039f"
             ],
             [
              0.2222222222222222,
              "#7201a8"
             ],
             [
              0.3333333333333333,
              "#9c179e"
             ],
             [
              0.4444444444444444,
              "#bd3786"
             ],
             [
              0.5555555555555556,
              "#d8576b"
             ],
             [
              0.6666666666666666,
              "#ed7953"
             ],
             [
              0.7777777777777778,
              "#fb9f3a"
             ],
             [
              0.8888888888888888,
              "#fdca26"
             ],
             [
              1,
              "#f0f921"
             ]
            ],
            "type": "heatmapgl"
           }
          ],
          "histogram": [
           {
            "marker": {
             "pattern": {
              "fillmode": "overlay",
              "size": 10,
              "solidity": 0.2
             }
            },
            "type": "histogram"
           }
          ],
          "histogram2d": [
           {
            "colorbar": {
             "outlinewidth": 0,
             "ticks": ""
            },
            "colorscale": [
             [
              0,
              "#0d0887"
             ],
             [
              0.1111111111111111,
              "#46039f"
             ],
             [
              0.2222222222222222,
              "#7201a8"
             ],
             [
              0.3333333333333333,
              "#9c179e"
             ],
             [
              0.4444444444444444,
              "#bd3786"
             ],
             [
              0.5555555555555556,
              "#d8576b"
             ],
             [
              0.6666666666666666,
              "#ed7953"
             ],
             [
              0.7777777777777778,
              "#fb9f3a"
             ],
             [
              0.8888888888888888,
              "#fdca26"
             ],
             [
              1,
              "#f0f921"
             ]
            ],
            "type": "histogram2d"
           }
          ],
          "histogram2dcontour": [
           {
            "colorbar": {
             "outlinewidth": 0,
             "ticks": ""
            },
            "colorscale": [
             [
              0,
              "#0d0887"
             ],
             [
              0.1111111111111111,
              "#46039f"
             ],
             [
              0.2222222222222222,
              "#7201a8"
             ],
             [
              0.3333333333333333,
              "#9c179e"
             ],
             [
              0.4444444444444444,
              "#bd3786"
             ],
             [
              0.5555555555555556,
              "#d8576b"
             ],
             [
              0.6666666666666666,
              "#ed7953"
             ],
             [
              0.7777777777777778,
              "#fb9f3a"
             ],
             [
              0.8888888888888888,
              "#fdca26"
             ],
             [
              1,
              "#f0f921"
             ]
            ],
            "type": "histogram2dcontour"
           }
          ],
          "mesh3d": [
           {
            "colorbar": {
             "outlinewidth": 0,
             "ticks": ""
            },
            "type": "mesh3d"
           }
          ],
          "parcoords": [
           {
            "line": {
             "colorbar": {
              "outlinewidth": 0,
              "ticks": ""
             }
            },
            "type": "parcoords"
           }
          ],
          "pie": [
           {
            "automargin": true,
            "type": "pie"
           }
          ],
          "scatter": [
           {
            "fillpattern": {
             "fillmode": "overlay",
             "size": 10,
             "solidity": 0.2
            },
            "type": "scatter"
           }
          ],
          "scatter3d": [
           {
            "line": {
             "colorbar": {
              "outlinewidth": 0,
              "ticks": ""
             }
            },
            "marker": {
             "colorbar": {
              "outlinewidth": 0,
              "ticks": ""
             }
            },
            "type": "scatter3d"
           }
          ],
          "scattercarpet": [
           {
            "marker": {
             "colorbar": {
              "outlinewidth": 0,
              "ticks": ""
             }
            },
            "type": "scattercarpet"
           }
          ],
          "scattergeo": [
           {
            "marker": {
             "colorbar": {
              "outlinewidth": 0,
              "ticks": ""
             }
            },
            "type": "scattergeo"
           }
          ],
          "scattergl": [
           {
            "marker": {
             "colorbar": {
              "outlinewidth": 0,
              "ticks": ""
             }
            },
            "type": "scattergl"
           }
          ],
          "scattermapbox": [
           {
            "marker": {
             "colorbar": {
              "outlinewidth": 0,
              "ticks": ""
             }
            },
            "type": "scattermapbox"
           }
          ],
          "scatterpolar": [
           {
            "marker": {
             "colorbar": {
              "outlinewidth": 0,
              "ticks": ""
             }
            },
            "type": "scatterpolar"
           }
          ],
          "scatterpolargl": [
           {
            "marker": {
             "colorbar": {
              "outlinewidth": 0,
              "ticks": ""
             }
            },
            "type": "scatterpolargl"
           }
          ],
          "scatterternary": [
           {
            "marker": {
             "colorbar": {
              "outlinewidth": 0,
              "ticks": ""
             }
            },
            "type": "scatterternary"
           }
          ],
          "surface": [
           {
            "colorbar": {
             "outlinewidth": 0,
             "ticks": ""
            },
            "colorscale": [
             [
              0,
              "#0d0887"
             ],
             [
              0.1111111111111111,
              "#46039f"
             ],
             [
              0.2222222222222222,
              "#7201a8"
             ],
             [
              0.3333333333333333,
              "#9c179e"
             ],
             [
              0.4444444444444444,
              "#bd3786"
             ],
             [
              0.5555555555555556,
              "#d8576b"
             ],
             [
              0.6666666666666666,
              "#ed7953"
             ],
             [
              0.7777777777777778,
              "#fb9f3a"
             ],
             [
              0.8888888888888888,
              "#fdca26"
             ],
             [
              1,
              "#f0f921"
             ]
            ],
            "type": "surface"
           }
          ],
          "table": [
           {
            "cells": {
             "fill": {
              "color": "#EBF0F8"
             },
             "line": {
              "color": "white"
             }
            },
            "header": {
             "fill": {
              "color": "#C8D4E3"
             },
             "line": {
              "color": "white"
             }
            },
            "type": "table"
           }
          ]
         },
         "layout": {
          "annotationdefaults": {
           "arrowcolor": "#2a3f5f",
           "arrowhead": 0,
           "arrowwidth": 1
          },
          "autotypenumbers": "strict",
          "coloraxis": {
           "colorbar": {
            "outlinewidth": 0,
            "ticks": ""
           }
          },
          "colorscale": {
           "diverging": [
            [
             0,
             "#8e0152"
            ],
            [
             0.1,
             "#c51b7d"
            ],
            [
             0.2,
             "#de77ae"
            ],
            [
             0.3,
             "#f1b6da"
            ],
            [
             0.4,
             "#fde0ef"
            ],
            [
             0.5,
             "#f7f7f7"
            ],
            [
             0.6,
             "#e6f5d0"
            ],
            [
             0.7,
             "#b8e186"
            ],
            [
             0.8,
             "#7fbc41"
            ],
            [
             0.9,
             "#4d9221"
            ],
            [
             1,
             "#276419"
            ]
           ],
           "sequential": [
            [
             0,
             "#0d0887"
            ],
            [
             0.1111111111111111,
             "#46039f"
            ],
            [
             0.2222222222222222,
             "#7201a8"
            ],
            [
             0.3333333333333333,
             "#9c179e"
            ],
            [
             0.4444444444444444,
             "#bd3786"
            ],
            [
             0.5555555555555556,
             "#d8576b"
            ],
            [
             0.6666666666666666,
             "#ed7953"
            ],
            [
             0.7777777777777778,
             "#fb9f3a"
            ],
            [
             0.8888888888888888,
             "#fdca26"
            ],
            [
             1,
             "#f0f921"
            ]
           ],
           "sequentialminus": [
            [
             0,
             "#0d0887"
            ],
            [
             0.1111111111111111,
             "#46039f"
            ],
            [
             0.2222222222222222,
             "#7201a8"
            ],
            [
             0.3333333333333333,
             "#9c179e"
            ],
            [
             0.4444444444444444,
             "#bd3786"
            ],
            [
             0.5555555555555556,
             "#d8576b"
            ],
            [
             0.6666666666666666,
             "#ed7953"
            ],
            [
             0.7777777777777778,
             "#fb9f3a"
            ],
            [
             0.8888888888888888,
             "#fdca26"
            ],
            [
             1,
             "#f0f921"
            ]
           ]
          },
          "colorway": [
           "#636efa",
           "#EF553B",
           "#00cc96",
           "#ab63fa",
           "#FFA15A",
           "#19d3f3",
           "#FF6692",
           "#B6E880",
           "#FF97FF",
           "#FECB52"
          ],
          "font": {
           "color": "#2a3f5f"
          },
          "geo": {
           "bgcolor": "white",
           "lakecolor": "white",
           "landcolor": "#E5ECF6",
           "showlakes": true,
           "showland": true,
           "subunitcolor": "white"
          },
          "hoverlabel": {
           "align": "left"
          },
          "hovermode": "closest",
          "mapbox": {
           "style": "light"
          },
          "paper_bgcolor": "white",
          "plot_bgcolor": "#E5ECF6",
          "polar": {
           "angularaxis": {
            "gridcolor": "white",
            "linecolor": "white",
            "ticks": ""
           },
           "bgcolor": "#E5ECF6",
           "radialaxis": {
            "gridcolor": "white",
            "linecolor": "white",
            "ticks": ""
           }
          },
          "scene": {
           "xaxis": {
            "backgroundcolor": "#E5ECF6",
            "gridcolor": "white",
            "gridwidth": 2,
            "linecolor": "white",
            "showbackground": true,
            "ticks": "",
            "zerolinecolor": "white"
           },
           "yaxis": {
            "backgroundcolor": "#E5ECF6",
            "gridcolor": "white",
            "gridwidth": 2,
            "linecolor": "white",
            "showbackground": true,
            "ticks": "",
            "zerolinecolor": "white"
           },
           "zaxis": {
            "backgroundcolor": "#E5ECF6",
            "gridcolor": "white",
            "gridwidth": 2,
            "linecolor": "white",
            "showbackground": true,
            "ticks": "",
            "zerolinecolor": "white"
           }
          },
          "shapedefaults": {
           "line": {
            "color": "#2a3f5f"
           }
          },
          "ternary": {
           "aaxis": {
            "gridcolor": "white",
            "linecolor": "white",
            "ticks": ""
           },
           "baxis": {
            "gridcolor": "white",
            "linecolor": "white",
            "ticks": ""
           },
           "bgcolor": "#E5ECF6",
           "caxis": {
            "gridcolor": "white",
            "linecolor": "white",
            "ticks": ""
           }
          },
          "title": {
           "x": 0.05
          },
          "xaxis": {
           "automargin": true,
           "gridcolor": "white",
           "linecolor": "white",
           "ticks": "",
           "title": {
            "standoff": 15
           },
           "zerolinecolor": "white",
           "zerolinewidth": 2
          },
          "yaxis": {
           "automargin": true,
           "gridcolor": "white",
           "linecolor": "white",
           "ticks": "",
           "title": {
            "standoff": 15
           },
           "zerolinecolor": "white",
           "zerolinewidth": 2
          }
         }
        },
        "width": 800
       }
      },
      "text/html": [
       "<div>                            <div id=\"85ff38a2-0307-49ee-bbd3-aca948dbc9d6\" class=\"plotly-graph-div\" style=\"height:800px; width:800px;\"></div>            <script type=\"text/javascript\">                require([\"plotly\"], function(Plotly) {                    window.PLOTLYENV=window.PLOTLYENV || {};                                    if (document.getElementById(\"85ff38a2-0307-49ee-bbd3-aca948dbc9d6\")) {                    Plotly.newPlot(                        \"85ff38a2-0307-49ee-bbd3-aca948dbc9d6\",                        [{\"colorscale\":[[0,\"rgb(0,0,255)\"],[0,\"rgb(255,0,0)\"]],\"showscale\":false,\"x\":[[0.0,0.06282495079898304,0.12564990159796607,0.1884748523969491,0.25129980319593215,0.3141247539949152,0.3769497047938982,0.43977465559288126,0.5025996063918643,0.5654245571908473],[0.0,0.06282495079898304,0.12564990159796607,0.1884748523969491,0.25129980319593215,0.3141247539949152,0.3769497047938982,0.43977465559288126,0.5025996063918643,0.5654245571908473],[0.0,0.06282495079898304,0.12564990159796607,0.1884748523969491,0.25129980319593215,0.3141247539949152,0.3769497047938982,0.43977465559288126,0.5025996063918643,0.5654245571908473],[0.0,0.06282495079898304,0.12564990159796607,0.1884748523969491,0.25129980319593215,0.3141247539949152,0.3769497047938982,0.43977465559288126,0.5025996063918643,0.5654245571908473],[0.0,0.06282495079898304,0.12564990159796607,0.1884748523969491,0.25129980319593215,0.3141247539949152,0.3769497047938982,0.43977465559288126,0.5025996063918643,0.5654245571908473],[0.0,0.06282495079898304,0.12564990159796607,0.1884748523969491,0.25129980319593215,0.3141247539949152,0.3769497047938982,0.43977465559288126,0.5025996063918643,0.5654245571908473],[0.0,0.06282495079898304,0.12564990159796607,0.1884748523969491,0.25129980319593215,0.3141247539949152,0.3769497047938982,0.43977465559288126,0.5025996063918643,0.5654245571908473],[0.0,0.06282495079898304,0.12564990159796607,0.1884748523969491,0.25129980319593215,0.3141247539949152,0.3769497047938982,0.43977465559288126,0.5025996063918643,0.5654245571908473],[0.0,0.06282495079898304,0.12564990159796607,0.1884748523969491,0.25129980319593215,0.3141247539949152,0.3769497047938982,0.43977465559288126,0.5025996063918643,0.5654245571908473],[0.0,0.06282495079898304,0.12564990159796607,0.1884748523969491,0.25129980319593215,0.3141247539949152,0.3769497047938982,0.43977465559288126,0.5025996063918643,0.5654245571908473]],\"y\":[[-0.0254939297466972,-0.0254939297466972,-0.0254939297466972,-0.0254939297466972,-0.0254939297466972,-0.0254939297466972,-0.0254939297466972,-0.0254939297466972,-0.0254939297466972,-0.0254939297466972],[0.07124616853588076,0.07124616853588076,0.07124616853588076,0.07124616853588076,0.07124616853588076,0.07124616853588076,0.07124616853588076,0.07124616853588076,0.07124616853588076,0.07124616853588076],[0.1679862668184587,0.1679862668184587,0.1679862668184587,0.1679862668184587,0.1679862668184587,0.1679862668184587,0.1679862668184587,0.1679862668184587,0.1679862668184587,0.1679862668184587],[0.2647263651010367,0.2647263651010367,0.2647263651010367,0.2647263651010367,0.2647263651010367,0.2647263651010367,0.2647263651010367,0.2647263651010367,0.2647263651010367,0.2647263651010367],[0.36146646338361466,0.36146646338361466,0.36146646338361466,0.36146646338361466,0.36146646338361466,0.36146646338361466,0.36146646338361466,0.36146646338361466,0.36146646338361466,0.36146646338361466],[0.4582065616661926,0.4582065616661926,0.4582065616661926,0.4582065616661926,0.4582065616661926,0.4582065616661926,0.4582065616661926,0.4582065616661926,0.4582065616661926,0.4582065616661926],[0.5549466599487706,0.5549466599487706,0.5549466599487706,0.5549466599487706,0.5549466599487706,0.5549466599487706,0.5549466599487706,0.5549466599487706,0.5549466599487706,0.5549466599487706],[0.6516867582313486,0.6516867582313486,0.6516867582313486,0.6516867582313486,0.6516867582313486,0.6516867582313486,0.6516867582313486,0.6516867582313486,0.6516867582313486,0.6516867582313486],[0.7484268565139265,0.7484268565139265,0.7484268565139265,0.7484268565139265,0.7484268565139265,0.7484268565139265,0.7484268565139265,0.7484268565139265,0.7484268565139265,0.7484268565139265],[0.8451669547965044,0.8451669547965044,0.8451669547965044,0.8451669547965044,0.8451669547965044,0.8451669547965044,0.8451669547965044,0.8451669547965044,0.8451669547965044,0.8451669547965044]],\"z\":[[-6.386631778751791,-0.9218406687196353,4.54295044131252,10.00774155134468,15.472532661376832,20.937323771408987,26.402114881441143,31.866905991473296,37.331697101505455,42.796488211537614],[-8.667969427966128,-3.2031783179339715,2.261612792098184,7.726403902130342,13.191195012162495,18.65598612219465,24.120777232226807,29.58556834225896,35.05035945229112,40.51515056232328],[-10.949307077180464,-5.484515967148307,-0.019724857116152524,5.445066252916005,10.909857362948157,16.374648472980315,21.83943958301247,27.304230693044623,32.76902180307678,38.23381291310894],[-13.2306447263948,-7.765853616362645,-2.3010625063304895,3.163728603701668,8.628519713733821,14.093310823765979,19.558101933798135,25.022893043830287,30.48768415386245,35.9524752638946],[-15.511982375609138,-10.047191265576982,-4.582400155544826,0.8823909544873315,6.347182064519484,11.811973174551639,17.276764284583795,22.74155539461595,28.20634650464811,33.67113761468027],[-17.793320024823473,-12.328528914791317,-6.863737804759162,-1.3989466947270042,4.065844415305149,9.530635525337305,14.995426635369462,20.460217745401614,25.925008855433774,31.389799965465933],[-20.07465767403781,-14.609866564005653,-9.145075453973499,-3.6802843439413406,1.784506766090812,7.249297876122968,12.714088986155126,18.178880096187275,23.64367120621944,29.108462316251597],[-22.35599532325215,-16.891204213219993,-11.426413103187837,-5.9616219931556795,-0.49683088312352636,4.96796022690863,10.432751336940786,15.89754244697294,21.362333557005098,26.827124667037253],[-24.637332972466485,-19.17254186243433,-13.707750752402172,-8.242959642370016,-2.778168532337863,2.6866225776942936,8.15141368772645,13.616204797758604,19.080995907790765,24.54578701782292],[-26.91867062168082,-21.453879511648662,-15.989088401616506,-10.52429729158435,-5.059506181552197,0.40528492847995906,5.870076038512115,11.334867148544268,16.79965825857643,22.264449368608584]],\"type\":\"surface\",\"uid\":\"54418e60-d195-4e40-9fd6-1d5fd00b5ebf\"},{\"marker\":{\"color\":\"blue\"},\"mode\":\"markers\",\"x\":[0.008319714926450747,0.16929847022352995,0.025280234116045547,0.007350782362119338,0.16023521394014947,0.02495129324847062,0.016513558568235994,0.023911415266289378,0.02289232405971695,0.03354390943834813,0.13769939161713327,0.025622115226173536,0.01739224030783765,0.0,0.05956225324490651,0.1805677560672019,0.06060275953627013,0.12455571413794972,0.040647220927074866,0.15089844619860127,0.09117642936070226,0.03431454260021988,0.014306282043106997,0.048222997989855014,0.13664617001052173,0.01967442190421741,0.06406905831862215,0.00960894728675854,0.02213257181801629,0.034112785363589415,0.11235555866565046,0.01759203291481734,0.1649039328617952,0.011296022351686738,0.32151467055881305,0.011201242647416863,0.017159805829842934,0.29653991596894363,0.010599560897131948,0.014874614457414372,0.014256427055368876,0.03320160643127354,0.13652706243279514,0.02505215514416035,0.06987009849132314,0.09356938167544993,0.054918583698308765,0.10673957839325537,0.09276981869219653,0.1332982619543575,0.04265130418551114,0.02276427623974033,0.03620090398658199,0.13843319694054465,0.07330902982519863,0.15522580088907714,0.014874614457414372,0.0,0.04643856094399159,0.06910582626336086,0.022811324968069795,0.2204165343015172,0.15575443428202357,0.025622115226173536,0.16030811392263927,0.014874614457414372,0.15802820239075327,0.09047692730579089,0.02471635031924586,0.022043873241053096,0.22435617744569802,0.06470015083184391,0.02311048209109889,0.11575069867953579,0.15256317743701972,0.03354390943834813,0.11315569063246382,0.09192702944077591,0.021021567180143773,0.07132193491052234],\"y\":[0.15873577659131982,-0.005284178106075415,0.26740263436325484,0.16028492958550788,-0.003417587162139233,0.2108884932739895,0.1172470889981021,0.832923886574645,0.8451669547965044,0.39304490950496684,0.0031591198823678604,0.26939936882287385,0.23306434117609395,0.0,-0.0028733310970170327,-0.00855005580022782,-0.0015044485890719657,-0.004874249859288011,-0.0007959392201877543,-0.006302018258214543,-0.0035193980946899425,0.19426199197037583,0.2078390376383435,-0.0010372067428241895,-0.0023578729542039194,-0.0008831497119320025,-0.002737590752338965,0.15067928893144947,0.8203930144618418,0.2571526051528322,-0.0005905029880934374,0.43691220089994404,-0.006204568167987397,0.2462857981035323,-0.008725056606379107,0.26937179501155817,0.41969600165501286,-0.008279745923219261,0.2556443248612794,0.11410962935116424,-0.0004557564115493331,0.25781600702752716,-0.0024477981786015387,0.26411456801058447,-0.0025652395176336768,0.0025828117264686465,-0.0024990499529014827,0.0008413412977430914,0.0038436931669196166,0.0021719934538001764,0.104132569177712,0.2331383629972726,0.2569938432141566,-0.003845048986769889,-0.003020497483210808,-0.007119122128878651,0.11410962935116424,0.0,-0.0018505056645285972,0.00011772692649132983,0.8226808446968306,-0.0043675476370245245,0.0004120211899485983,0.26939936882287385,-0.0042029853488914646,0.11410962935116424,0.0029528845874401315,-0.00366100841581269,0.21383643362424024,0.7992596857736916,-0.012475713216948209,4.478338519590555e-05,0.41506405080586856,-0.003678159184616169,-0.004981353577698197,0.39304490950496684,-0.003925557549488695,-0.0014602388712358608,0.220122719158849,-0.002570128179800815],\"z\":[0.07893153922428421,-0.003988567727328699,0.8754264208568588,0.07957343390336638,0.0030080962731735285,0.09717813937950158,0.048209459715597425,-0.3640796039299004,-0.3683333288406944,0.2350443864552339,0.0016698127518125776,0.8833728077546765,0.08659189987492878,0.0,-0.0006288410177202073,-0.005532836552429102,-0.0017527606286700072,-0.0036653650534753572,-0.0008171909400202939,-0.0037781158012520732,-0.0046221154710690306,0.07873630025196597,0.10100913434826052,0.0005267331735874285,-0.0030430470244450876,-0.001034928915923194,-4.721714151574676e-05,0.061181983501347445,-0.3595024914399327,0.04409257208030963,-0.006443642822622626,-0.031226922475283067,-0.0010675486345803405,0.2001228945084642,-0.006624744899568123,0.21318137846644533,-0.02869550992359225,-0.003967107597367409,0.21060813687295057,0.05223680422739619,-0.0008780711434513567,0.044149341679743194,-0.0024679131192041617,0.8691886183504441,-0.003657437958844727,0.001024988287728221,-0.0020212135520990405,0.01129843013667085,-0.006948024077216831,-0.008503215319354933,0.042401437301300596,0.06957709759663294,0.0445916723112099,-0.003312762924348756,-0.0019872228337225665,-0.0037596270096161514,0.05223680422739619,0.0,-0.0021626580268820214,-0.002683544347426031,-0.3604032522709517,0.000762553324045952,-0.004909417750142467,0.8833728077546765,-0.004350668416777531,0.05223680422739619,-0.0030318683412348625,-0.003263822665852066,0.11275150660971144,-0.3517824920759259,-0.005503158758883803,-0.001970780954250644,-0.03030835735961217,-0.00417686594986499,-0.006135119551350468,0.2350443864552339,-0.003886674586617851,-0.0035512581948969626,0.10204625750580085,-0.0011233501219235133],\"type\":\"scatter3d\",\"uid\":\"e2906d7a-8c90-4ae7-ad70-fc486d810ac8\"},{\"marker\":{\"color\":\"red\"},\"mode\":\"markers\",\"x\":[0.24516032740018415,0.09572326189927527,0.18988051938097433,0.10371902683680985,0.22962350353907185,0.35321427841696584,0.3061904290265631,0.18382403443895823,0.14519449220569852,0.315092731573751,0.31392183111598854,0.3800537828376316,0.1480522891099707,0.12639584177660476,0.24516032740018415,0.14048134483940833,0.300536783551775,0.19419214490755504,0.27515596268243814,0.2561156489598831,0.2778093527061333,0.1796419825000534,0.37707009767087685,0.08405350746973346,0.31392183111598854,0.13618957007120083,0.33016935042841755,0.27270731847295593,0.29791706114548044,0.16224759959383017,0.22576120503868924,0.12837785436906382,0.1695458022121054,0.2252681287181713,0.33420353170420086,0.16668986891513976,0.26886374174526395,0.4299771242774622,0.3655907658720938,0.1207863193880332,0.14739042324947887,0.4717596409428627,0.13506504083112053,0.31164576961078516,0.29175653007857993,0.10594056687863039,0.13838109835850596,0.2127312314712094,0.25562556001178743,0.30502457745512973,0.37883218198001056,0.23066378841519236,0.1441996930929475,0.2013146534115881,0.1731197915256391,0.15081295741125675,0.330097215822428,0.2681106718457385,0.3023479774231242,0.28969134801826224,0.2463733064872405,0.07571235539579392,0.4078423791911518,0.11895857130958548,0.32668230045145047,0.1871151957341534,0.12258729127449887,0.15512217413776883,0.1092637884565171,0.3535023152127182,0.17053164722895023,0.16096464693163887,0.5243924006806933,0.1300902102574718,0.20283946874084546,0.18991337360214264,0.08237277932546626,0.5654245571908473,0.14780572778264311,0.3946766429032686,0.3182807674441463,0.1698801974752261,0.11932727974272515,0.11478235283285987,0.19873360100834203,0.34094652258641106,0.2569449375380195,0.3521895217236615,0.28439438147648255,0.20792416116659018,0.3609872118475495,0.4090464649696285],\"y\":[-0.0036724595024243455,-0.004501275844055245,-0.009176497954663331,-0.005138770754710031,-0.011198478082721708,-0.017599306092377916,0.008042644571639519,-0.006974878122000913,-0.00643043930848854,-0.01164903616800808,-0.01346545267929113,-0.014737334000289959,0.0036929574551851536,-0.005398352763810465,-0.0036724595024243455,-0.0022197813793073287,-0.013315769539966618,-0.005511600388968345,-0.008127662021813316,-0.006780392059316203,-0.013493346675102923,-0.0018734646968383366,-0.0179053991721785,-0.004201330869776713,-0.01346545267929113,-0.006192612426374866,-0.016511388990921354,-0.012767230943541175,-0.006633192750083752,-0.007090392363942789,-0.010693574162958885,-0.004571847288612936,-0.007608786327274022,-0.005633590952599069,-0.014424242102021598,-0.008368622573728111,-0.006330439980124593,-0.02202274819319066,-0.012795903908246555,0.0012906556434976412,-0.0067125699108466835,-0.0254939297466972,-0.005598337992856507,-0.006928682629062438,-0.012962182827431178,-0.005396307293184427,-0.005417919897109215,-0.007964572438411454,-0.013413304000841668,-0.008725528683346343,-0.01704179960066186,-0.011558991094940848,-0.006154084932217125,-0.008542386971546832,-0.008307797791304637,-0.007740558382452163,-0.017387748284412367,-0.009667228272758028,-0.015922554488737965,-0.011575895612311296,-0.00515387172349137,-0.003755811318047969,-0.020938750779691005,-0.003749419710588788,-0.008066261140224597,-0.003275646392917885,-0.005656220116451621,-0.005775462240281006,-0.0035512711234066876,-0.00978173234680041,0.022543495993990127,-0.007876760189936664,-0.016198912256201334,-0.0057896368827051285,-0.009514827223578737,-0.00884210581390675,-0.0027873127630888015,-0.024467882758635474,0.002666368046428043,-0.020262319650052325,-0.003622828310204938,-0.00787069820587653,-0.005108499704601401,-0.003210968177101021,-0.005994243098115077,-0.016405932105113583,-0.011536892985197531,-0.013908016505140076,-0.008958388524596309,-0.0019871179670116375,-0.012642487420488615,-0.0216192906336573],\"z\":[0.019973986751489602,-0.0040410767083036815,-0.005000389656733161,-0.0010860969940424368,-0.005072616810977655,-0.006284977829439223,-0.0038706865879301984,-0.0063764960443811036,-0.0032433222602628676,-0.00745282807927283,-0.020205207744513818,-0.0072813521625765465,0.008499970551542804,-0.0032848616145598466,0.019973986751489602,-0.00012550949162140585,-0.005152383667086365,-0.003807802445411511,0.00021400584560383467,-0.00043815679206220764,-0.0059332988098064875,-0.00467369705989335,-0.009453332525797461,-0.0021163791305963114,-0.020205207744513818,-0.0017795832024179823,-0.009053882371379975,-0.004416169275854656,0.011810791840501074,-0.003281736277211984,-0.00674202780005136,-0.0015796046801770467,-0.0037477605358205005,-0.0029060901615948916,-0.007684064154269983,-0.003029047165771582,0.011835963678980172,-0.008398896496038873,0.009588214566582447,0.014788967823238552,-0.00514256780567648,-0.010322709593400373,-0.006967970540336533,0.01340765253791205,-0.006346772270481694,-0.0026302926155428374,-0.005493242105346541,-0.006944916279927339,-0.007966221197065552,-0.007859663729567257,-0.015142037846882275,-0.006801258440158311,-0.0051887350091854405,-0.003228298331456592,-0.005249807518324939,-0.0039831861246405415,-0.008720150641367516,-0.006052725990588961,-0.006580013065405197,-0.005591918603824569,0.01114762761777504,-0.001870724696133332,-0.00884245932450455,-0.0030647571257445302,0.00032216175084382847,-0.006547984240337928,-0.002079438793436912,-0.002083641966567543,-0.0005641127378539039,-0.008235718686302618,-0.024855518378810566,-0.003582992786424684,0.01716372873477519,-0.005109040024738048,-0.0046182930428380845,-0.004739804672251891,-0.0019110797509773428,-0.012479643010485784,-0.0023032673877635673,-0.008195790270218346,0.004996937381873511,-0.0016880080456627851,-0.004099294675790756,-0.0028381927111108974,-0.005336374797231663,-0.008405783128035022,-0.006379105367397158,-0.0076314965328963,-0.0016309966169690126,-0.0007287163108400121,0.009477973160631457,-0.008987659084720798],\"type\":\"scatter3d\",\"uid\":\"b9e6d7cd-7de6-4161-b91c-2ca21269af18\"}],                        {\"template\":{\"data\":{\"barpolar\":[{\"marker\":{\"line\":{\"color\":\"#E5ECF6\",\"width\":0.5},\"pattern\":{\"fillmode\":\"overlay\",\"size\":10,\"solidity\":0.2}},\"type\":\"barpolar\"}],\"bar\":[{\"error_x\":{\"color\":\"#2a3f5f\"},\"error_y\":{\"color\":\"#2a3f5f\"},\"marker\":{\"line\":{\"color\":\"#E5ECF6\",\"width\":0.5},\"pattern\":{\"fillmode\":\"overlay\",\"size\":10,\"solidity\":0.2}},\"type\":\"bar\"}],\"carpet\":[{\"aaxis\":{\"endlinecolor\":\"#2a3f5f\",\"gridcolor\":\"white\",\"linecolor\":\"white\",\"minorgridcolor\":\"white\",\"startlinecolor\":\"#2a3f5f\"},\"baxis\":{\"endlinecolor\":\"#2a3f5f\",\"gridcolor\":\"white\",\"linecolor\":\"white\",\"minorgridcolor\":\"white\",\"startlinecolor\":\"#2a3f5f\"},\"type\":\"carpet\"}],\"choropleth\":[{\"colorbar\":{\"outlinewidth\":0,\"ticks\":\"\"},\"type\":\"choropleth\"}],\"contourcarpet\":[{\"colorbar\":{\"outlinewidth\":0,\"ticks\":\"\"},\"type\":\"contourcarpet\"}],\"contour\":[{\"colorbar\":{\"outlinewidth\":0,\"ticks\":\"\"},\"colorscale\":[[0.0,\"#0d0887\"],[0.1111111111111111,\"#46039f\"],[0.2222222222222222,\"#7201a8\"],[0.3333333333333333,\"#9c179e\"],[0.4444444444444444,\"#bd3786\"],[0.5555555555555556,\"#d8576b\"],[0.6666666666666666,\"#ed7953\"],[0.7777777777777778,\"#fb9f3a\"],[0.8888888888888888,\"#fdca26\"],[1.0,\"#f0f921\"]],\"type\":\"contour\"}],\"heatmapgl\":[{\"colorbar\":{\"outlinewidth\":0,\"ticks\":\"\"},\"colorscale\":[[0.0,\"#0d0887\"],[0.1111111111111111,\"#46039f\"],[0.2222222222222222,\"#7201a8\"],[0.3333333333333333,\"#9c179e\"],[0.4444444444444444,\"#bd3786\"],[0.5555555555555556,\"#d8576b\"],[0.6666666666666666,\"#ed7953\"],[0.7777777777777778,\"#fb9f3a\"],[0.8888888888888888,\"#fdca26\"],[1.0,\"#f0f921\"]],\"type\":\"heatmapgl\"}],\"heatmap\":[{\"colorbar\":{\"outlinewidth\":0,\"ticks\":\"\"},\"colorscale\":[[0.0,\"#0d0887\"],[0.1111111111111111,\"#46039f\"],[0.2222222222222222,\"#7201a8\"],[0.3333333333333333,\"#9c179e\"],[0.4444444444444444,\"#bd3786\"],[0.5555555555555556,\"#d8576b\"],[0.6666666666666666,\"#ed7953\"],[0.7777777777777778,\"#fb9f3a\"],[0.8888888888888888,\"#fdca26\"],[1.0,\"#f0f921\"]],\"type\":\"heatmap\"}],\"histogram2dcontour\":[{\"colorbar\":{\"outlinewidth\":0,\"ticks\":\"\"},\"colorscale\":[[0.0,\"#0d0887\"],[0.1111111111111111,\"#46039f\"],[0.2222222222222222,\"#7201a8\"],[0.3333333333333333,\"#9c179e\"],[0.4444444444444444,\"#bd3786\"],[0.5555555555555556,\"#d8576b\"],[0.6666666666666666,\"#ed7953\"],[0.7777777777777778,\"#fb9f3a\"],[0.8888888888888888,\"#fdca26\"],[1.0,\"#f0f921\"]],\"type\":\"histogram2dcontour\"}],\"histogram2d\":[{\"colorbar\":{\"outlinewidth\":0,\"ticks\":\"\"},\"colorscale\":[[0.0,\"#0d0887\"],[0.1111111111111111,\"#46039f\"],[0.2222222222222222,\"#7201a8\"],[0.3333333333333333,\"#9c179e\"],[0.4444444444444444,\"#bd3786\"],[0.5555555555555556,\"#d8576b\"],[0.6666666666666666,\"#ed7953\"],[0.7777777777777778,\"#fb9f3a\"],[0.8888888888888888,\"#fdca26\"],[1.0,\"#f0f921\"]],\"type\":\"histogram2d\"}],\"histogram\":[{\"marker\":{\"pattern\":{\"fillmode\":\"overlay\",\"size\":10,\"solidity\":0.2}},\"type\":\"histogram\"}],\"mesh3d\":[{\"colorbar\":{\"outlinewidth\":0,\"ticks\":\"\"},\"type\":\"mesh3d\"}],\"parcoords\":[{\"line\":{\"colorbar\":{\"outlinewidth\":0,\"ticks\":\"\"}},\"type\":\"parcoords\"}],\"pie\":[{\"automargin\":true,\"type\":\"pie\"}],\"scatter3d\":[{\"line\":{\"colorbar\":{\"outlinewidth\":0,\"ticks\":\"\"}},\"marker\":{\"colorbar\":{\"outlinewidth\":0,\"ticks\":\"\"}},\"type\":\"scatter3d\"}],\"scattercarpet\":[{\"marker\":{\"colorbar\":{\"outlinewidth\":0,\"ticks\":\"\"}},\"type\":\"scattercarpet\"}],\"scattergeo\":[{\"marker\":{\"colorbar\":{\"outlinewidth\":0,\"ticks\":\"\"}},\"type\":\"scattergeo\"}],\"scattergl\":[{\"marker\":{\"colorbar\":{\"outlinewidth\":0,\"ticks\":\"\"}},\"type\":\"scattergl\"}],\"scattermapbox\":[{\"marker\":{\"colorbar\":{\"outlinewidth\":0,\"ticks\":\"\"}},\"type\":\"scattermapbox\"}],\"scatterpolargl\":[{\"marker\":{\"colorbar\":{\"outlinewidth\":0,\"ticks\":\"\"}},\"type\":\"scatterpolargl\"}],\"scatterpolar\":[{\"marker\":{\"colorbar\":{\"outlinewidth\":0,\"ticks\":\"\"}},\"type\":\"scatterpolar\"}],\"scatter\":[{\"fillpattern\":{\"fillmode\":\"overlay\",\"size\":10,\"solidity\":0.2},\"type\":\"scatter\"}],\"scatterternary\":[{\"marker\":{\"colorbar\":{\"outlinewidth\":0,\"ticks\":\"\"}},\"type\":\"scatterternary\"}],\"surface\":[{\"colorbar\":{\"outlinewidth\":0,\"ticks\":\"\"},\"colorscale\":[[0.0,\"#0d0887\"],[0.1111111111111111,\"#46039f\"],[0.2222222222222222,\"#7201a8\"],[0.3333333333333333,\"#9c179e\"],[0.4444444444444444,\"#bd3786\"],[0.5555555555555556,\"#d8576b\"],[0.6666666666666666,\"#ed7953\"],[0.7777777777777778,\"#fb9f3a\"],[0.8888888888888888,\"#fdca26\"],[1.0,\"#f0f921\"]],\"type\":\"surface\"}],\"table\":[{\"cells\":{\"fill\":{\"color\":\"#EBF0F8\"},\"line\":{\"color\":\"white\"}},\"header\":{\"fill\":{\"color\":\"#C8D4E3\"},\"line\":{\"color\":\"white\"}},\"type\":\"table\"}]},\"layout\":{\"annotationdefaults\":{\"arrowcolor\":\"#2a3f5f\",\"arrowhead\":0,\"arrowwidth\":1},\"autotypenumbers\":\"strict\",\"coloraxis\":{\"colorbar\":{\"outlinewidth\":0,\"ticks\":\"\"}},\"colorscale\":{\"diverging\":[[0,\"#8e0152\"],[0.1,\"#c51b7d\"],[0.2,\"#de77ae\"],[0.3,\"#f1b6da\"],[0.4,\"#fde0ef\"],[0.5,\"#f7f7f7\"],[0.6,\"#e6f5d0\"],[0.7,\"#b8e186\"],[0.8,\"#7fbc41\"],[0.9,\"#4d9221\"],[1,\"#276419\"]],\"sequential\":[[0.0,\"#0d0887\"],[0.1111111111111111,\"#46039f\"],[0.2222222222222222,\"#7201a8\"],[0.3333333333333333,\"#9c179e\"],[0.4444444444444444,\"#bd3786\"],[0.5555555555555556,\"#d8576b\"],[0.6666666666666666,\"#ed7953\"],[0.7777777777777778,\"#fb9f3a\"],[0.8888888888888888,\"#fdca26\"],[1.0,\"#f0f921\"]],\"sequentialminus\":[[0.0,\"#0d0887\"],[0.1111111111111111,\"#46039f\"],[0.2222222222222222,\"#7201a8\"],[0.3333333333333333,\"#9c179e\"],[0.4444444444444444,\"#bd3786\"],[0.5555555555555556,\"#d8576b\"],[0.6666666666666666,\"#ed7953\"],[0.7777777777777778,\"#fb9f3a\"],[0.8888888888888888,\"#fdca26\"],[1.0,\"#f0f921\"]]},\"colorway\":[\"#636efa\",\"#EF553B\",\"#00cc96\",\"#ab63fa\",\"#FFA15A\",\"#19d3f3\",\"#FF6692\",\"#B6E880\",\"#FF97FF\",\"#FECB52\"],\"font\":{\"color\":\"#2a3f5f\"},\"geo\":{\"bgcolor\":\"white\",\"lakecolor\":\"white\",\"landcolor\":\"#E5ECF6\",\"showlakes\":true,\"showland\":true,\"subunitcolor\":\"white\"},\"hoverlabel\":{\"align\":\"left\"},\"hovermode\":\"closest\",\"mapbox\":{\"style\":\"light\"},\"paper_bgcolor\":\"white\",\"plot_bgcolor\":\"#E5ECF6\",\"polar\":{\"angularaxis\":{\"gridcolor\":\"white\",\"linecolor\":\"white\",\"ticks\":\"\"},\"bgcolor\":\"#E5ECF6\",\"radialaxis\":{\"gridcolor\":\"white\",\"linecolor\":\"white\",\"ticks\":\"\"}},\"scene\":{\"xaxis\":{\"backgroundcolor\":\"#E5ECF6\",\"gridcolor\":\"white\",\"gridwidth\":2,\"linecolor\":\"white\",\"showbackground\":true,\"ticks\":\"\",\"zerolinecolor\":\"white\"},\"yaxis\":{\"backgroundcolor\":\"#E5ECF6\",\"gridcolor\":\"white\",\"gridwidth\":2,\"linecolor\":\"white\",\"showbackground\":true,\"ticks\":\"\",\"zerolinecolor\":\"white\"},\"zaxis\":{\"backgroundcolor\":\"#E5ECF6\",\"gridcolor\":\"white\",\"gridwidth\":2,\"linecolor\":\"white\",\"showbackground\":true,\"ticks\":\"\",\"zerolinecolor\":\"white\"}},\"shapedefaults\":{\"line\":{\"color\":\"#2a3f5f\"}},\"ternary\":{\"aaxis\":{\"gridcolor\":\"white\",\"linecolor\":\"white\",\"ticks\":\"\"},\"baxis\":{\"gridcolor\":\"white\",\"linecolor\":\"white\",\"ticks\":\"\"},\"bgcolor\":\"#E5ECF6\",\"caxis\":{\"gridcolor\":\"white\",\"linecolor\":\"white\",\"ticks\":\"\"}},\"title\":{\"x\":0.05},\"xaxis\":{\"automargin\":true,\"gridcolor\":\"white\",\"linecolor\":\"white\",\"ticks\":\"\",\"title\":{\"standoff\":15},\"zerolinecolor\":\"white\",\"zerolinewidth\":2},\"yaxis\":{\"automargin\":true,\"gridcolor\":\"white\",\"linecolor\":\"white\",\"ticks\":\"\",\"title\":{\"standoff\":15},\"zerolinecolor\":\"white\",\"zerolinewidth\":2}}},\"width\":800,\"height\":800},                        {\"responsive\": true}                    ).then(function(){\n",
       "                            \n",
       "var gd = document.getElementById('85ff38a2-0307-49ee-bbd3-aca948dbc9d6');\n",
       "var x = new MutationObserver(function (mutations, observer) {{\n",
       "        var display = window.getComputedStyle(gd).display;\n",
       "        if (!display || display === 'none') {{\n",
       "            console.log([gd, 'removed!']);\n",
       "            Plotly.purge(gd);\n",
       "            observer.disconnect();\n",
       "        }}\n",
       "}});\n",
       "\n",
       "// Listen for the removal of the full notebook cells\n",
       "var notebookContainer = gd.closest('#notebook-container');\n",
       "if (notebookContainer) {{\n",
       "    x.observe(notebookContainer, {childList: true});\n",
       "}}\n",
       "\n",
       "// Listen for the clearing of the current output cell\n",
       "var outputEl = gd.closest('.output');\n",
       "if (outputEl) {{\n",
       "    x.observe(outputEl, {childList: true});\n",
       "}}\n",
       "\n",
       "                        })                };                });            </script>        </div>"
      ]
     },
     "metadata": {},
     "output_type": "display_data"
    }
   ],
   "source": [
    "show3D(reduced_data, y_test_encoded, model)"
   ]
  },
  {
   "cell_type": "markdown",
   "id": "incorporated-arabic",
   "metadata": {},
   "source": [
    "## SVM with SVD"
   ]
  },
  {
   "cell_type": "code",
   "execution_count": 21,
   "id": "incoming-ticket",
   "metadata": {},
   "outputs": [],
   "source": [
    "# pca = PCA(n_components=3)\n",
    "# reduced_data = pca.fit_transform(X_train)\n",
    "\n",
    "svd = TruncatedSVD(n_components=3)\n",
    "reduced_data = svd.fit_transform(X_train)"
   ]
  },
  {
   "cell_type": "code",
   "execution_count": 22,
   "id": "gross-journey",
   "metadata": {
    "scrolled": true
   },
   "outputs": [
    {
     "name": "stdout",
     "output_type": "stream",
     "text": [
      "Fitting 5 folds for each of 4 candidates, totalling 20 fits\n",
      "Best accuracy : 0.771\n",
      "Best hyperparameters : {'C': 5, 'kernel': 'linear'}\n",
      "\n"
     ]
    }
   ],
   "source": [
    "params = {\n",
    "    \"kernel\" : [\"linear\"],\n",
    "    \"C\" : [0.1, 0.5, 1, 5]\n",
    "}\n",
    "\n",
    "svm_grid = GridSearchCV(svm.SVC(), param_grid=params, n_jobs=-1, cv=5, verbose=5)\n",
    "svm_grid.fit(reduced_data, y_train)\n",
    "\n",
    "print('Best accuracy : {:.3f}'.format(svm_grid.best_score_))\n",
    "print('Best hyperparameters : {}\\n'.format(svm_grid.best_params_))"
   ]
  },
  {
   "cell_type": "code",
   "execution_count": 23,
   "id": "talented-battle",
   "metadata": {},
   "outputs": [],
   "source": [
    "C = svm_grid.best_params_['C']\n",
    "kernel = svm_grid.best_params_['kernel']"
   ]
  },
  {
   "cell_type": "code",
   "execution_count": 24,
   "id": "extreme-cleaning",
   "metadata": {
    "scrolled": true
   },
   "outputs": [
    {
     "data": {
      "text/html": [
       "<style>#sk-container-id-2 {color: black;background-color: white;}#sk-container-id-2 pre{padding: 0;}#sk-container-id-2 div.sk-toggleable {background-color: white;}#sk-container-id-2 label.sk-toggleable__label {cursor: pointer;display: block;width: 100%;margin-bottom: 0;padding: 0.3em;box-sizing: border-box;text-align: center;}#sk-container-id-2 label.sk-toggleable__label-arrow:before {content: \"▸\";float: left;margin-right: 0.25em;color: #696969;}#sk-container-id-2 label.sk-toggleable__label-arrow:hover:before {color: black;}#sk-container-id-2 div.sk-estimator:hover label.sk-toggleable__label-arrow:before {color: black;}#sk-container-id-2 div.sk-toggleable__content {max-height: 0;max-width: 0;overflow: hidden;text-align: left;background-color: #f0f8ff;}#sk-container-id-2 div.sk-toggleable__content pre {margin: 0.2em;color: black;border-radius: 0.25em;background-color: #f0f8ff;}#sk-container-id-2 input.sk-toggleable__control:checked~div.sk-toggleable__content {max-height: 200px;max-width: 100%;overflow: auto;}#sk-container-id-2 input.sk-toggleable__control:checked~label.sk-toggleable__label-arrow:before {content: \"▾\";}#sk-container-id-2 div.sk-estimator input.sk-toggleable__control:checked~label.sk-toggleable__label {background-color: #d4ebff;}#sk-container-id-2 div.sk-label input.sk-toggleable__control:checked~label.sk-toggleable__label {background-color: #d4ebff;}#sk-container-id-2 input.sk-hidden--visually {border: 0;clip: rect(1px 1px 1px 1px);clip: rect(1px, 1px, 1px, 1px);height: 1px;margin: -1px;overflow: hidden;padding: 0;position: absolute;width: 1px;}#sk-container-id-2 div.sk-estimator {font-family: monospace;background-color: #f0f8ff;border: 1px dotted black;border-radius: 0.25em;box-sizing: border-box;margin-bottom: 0.5em;}#sk-container-id-2 div.sk-estimator:hover {background-color: #d4ebff;}#sk-container-id-2 div.sk-parallel-item::after {content: \"\";width: 100%;border-bottom: 1px solid gray;flex-grow: 1;}#sk-container-id-2 div.sk-label:hover label.sk-toggleable__label {background-color: #d4ebff;}#sk-container-id-2 div.sk-serial::before {content: \"\";position: absolute;border-left: 1px solid gray;box-sizing: border-box;top: 0;bottom: 0;left: 50%;z-index: 0;}#sk-container-id-2 div.sk-serial {display: flex;flex-direction: column;align-items: center;background-color: white;padding-right: 0.2em;padding-left: 0.2em;position: relative;}#sk-container-id-2 div.sk-item {position: relative;z-index: 1;}#sk-container-id-2 div.sk-parallel {display: flex;align-items: stretch;justify-content: center;background-color: white;position: relative;}#sk-container-id-2 div.sk-item::before, #sk-container-id-2 div.sk-parallel-item::before {content: \"\";position: absolute;border-left: 1px solid gray;box-sizing: border-box;top: 0;bottom: 0;left: 50%;z-index: -1;}#sk-container-id-2 div.sk-parallel-item {display: flex;flex-direction: column;z-index: 1;position: relative;background-color: white;}#sk-container-id-2 div.sk-parallel-item:first-child::after {align-self: flex-end;width: 50%;}#sk-container-id-2 div.sk-parallel-item:last-child::after {align-self: flex-start;width: 50%;}#sk-container-id-2 div.sk-parallel-item:only-child::after {width: 0;}#sk-container-id-2 div.sk-dashed-wrapped {border: 1px dashed gray;margin: 0 0.4em 0.5em 0.4em;box-sizing: border-box;padding-bottom: 0.4em;background-color: white;}#sk-container-id-2 div.sk-label label {font-family: monospace;font-weight: bold;display: inline-block;line-height: 1.2em;}#sk-container-id-2 div.sk-label-container {text-align: center;}#sk-container-id-2 div.sk-container {/* jupyter's `normalize.less` sets `[hidden] { display: none; }` but bootstrap.min.css set `[hidden] { display: none !important; }` so we also need the `!important` here to be able to override the default hidden behavior on the sphinx rendered scikit-learn.org. See: https://github.com/scikit-learn/scikit-learn/issues/21755 */display: inline-block !important;position: relative;}#sk-container-id-2 div.sk-text-repr-fallback {display: none;}</style><div id=\"sk-container-id-2\" class=\"sk-top-container\"><div class=\"sk-text-repr-fallback\"><pre>SVC(C=5, kernel=&#x27;linear&#x27;, probability=True)</pre><b>In a Jupyter environment, please rerun this cell to show the HTML representation or trust the notebook. <br />On GitHub, the HTML representation is unable to render, please try loading this page with nbviewer.org.</b></div><div class=\"sk-container\" hidden><div class=\"sk-item\"><div class=\"sk-estimator sk-toggleable\"><input class=\"sk-toggleable__control sk-hidden--visually\" id=\"sk-estimator-id-2\" type=\"checkbox\" checked><label for=\"sk-estimator-id-2\" class=\"sk-toggleable__label sk-toggleable__label-arrow\">SVC</label><div class=\"sk-toggleable__content\"><pre>SVC(C=5, kernel=&#x27;linear&#x27;, probability=True)</pre></div></div></div></div></div>"
      ],
      "text/plain": [
       "SVC(C=5, kernel='linear', probability=True)"
      ]
     },
     "execution_count": 24,
     "metadata": {},
     "output_type": "execute_result"
    }
   ],
   "source": [
    "model = svm.SVC(C=C, kernel=kernel, degree=3, probability=True)\n",
    "model.fit(reduced_data,y_train)"
   ]
  },
  {
   "cell_type": "code",
   "execution_count": 25,
   "id": "stock-radio",
   "metadata": {
    "scrolled": false
   },
   "outputs": [
    {
     "name": "stdout",
     "output_type": "stream",
     "text": [
      "Confusion matrix: \n",
      " [[ 99  79]\n",
      " [ 12 211]]\n",
      "\n",
      "Classification report: \n",
      "               precision    recall  f1-score   support\n",
      "\n",
      "      Modern       0.89      0.56      0.69       178\n",
      " Renaissance       0.73      0.95      0.82       223\n",
      "\n",
      "    accuracy                           0.77       401\n",
      "   macro avg       0.81      0.75      0.75       401\n",
      "weighted avg       0.80      0.77      0.76       401\n",
      "\n"
     ]
    }
   ],
   "source": [
    "y_train_pred = model.predict(reduced_data)\n",
    "report(y_train, y_train_pred)"
   ]
  },
  {
   "cell_type": "code",
   "execution_count": 26,
   "id": "color-premises",
   "metadata": {
    "scrolled": false
   },
   "outputs": [
    {
     "data": {
      "application/vnd.plotly.v1+json": {
       "config": {
        "plotlyServerURL": "https://plot.ly"
       },
       "data": [
        {
         "colorscale": [
          [
           0,
           "rgb(0,0,255)"
          ],
          [
           0,
           "rgb(255,0,0)"
          ]
         ],
         "showscale": false,
         "type": "surface",
         "uid": "d5e26a83-2071-4903-b470-daa4a3185aae",
         "x": [
          [
           0.0004442143900337658,
           0.043727352636065565,
           0.08701049088209736,
           0.13029362912812914,
           0.17357676737416095,
           0.21685990562019275,
           0.26014304386622455,
           0.30342618211225636,
           0.34670932035828816,
           0.38999245860431997
          ],
          [
           0.0004442143900337658,
           0.043727352636065565,
           0.08701049088209736,
           0.13029362912812914,
           0.17357676737416095,
           0.21685990562019275,
           0.26014304386622455,
           0.30342618211225636,
           0.34670932035828816,
           0.38999245860431997
          ],
          [
           0.0004442143900337658,
           0.043727352636065565,
           0.08701049088209736,
           0.13029362912812914,
           0.17357676737416095,
           0.21685990562019275,
           0.26014304386622455,
           0.30342618211225636,
           0.34670932035828816,
           0.38999245860431997
          ],
          [
           0.0004442143900337658,
           0.043727352636065565,
           0.08701049088209736,
           0.13029362912812914,
           0.17357676737416095,
           0.21685990562019275,
           0.26014304386622455,
           0.30342618211225636,
           0.34670932035828816,
           0.38999245860431997
          ],
          [
           0.0004442143900337658,
           0.043727352636065565,
           0.08701049088209736,
           0.13029362912812914,
           0.17357676737416095,
           0.21685990562019275,
           0.26014304386622455,
           0.30342618211225636,
           0.34670932035828816,
           0.38999245860431997
          ],
          [
           0.0004442143900337658,
           0.043727352636065565,
           0.08701049088209736,
           0.13029362912812914,
           0.17357676737416095,
           0.21685990562019275,
           0.26014304386622455,
           0.30342618211225636,
           0.34670932035828816,
           0.38999245860431997
          ],
          [
           0.0004442143900337658,
           0.043727352636065565,
           0.08701049088209736,
           0.13029362912812914,
           0.17357676737416095,
           0.21685990562019275,
           0.26014304386622455,
           0.30342618211225636,
           0.34670932035828816,
           0.38999245860431997
          ],
          [
           0.0004442143900337658,
           0.043727352636065565,
           0.08701049088209736,
           0.13029362912812914,
           0.17357676737416095,
           0.21685990562019275,
           0.26014304386622455,
           0.30342618211225636,
           0.34670932035828816,
           0.38999245860431997
          ],
          [
           0.0004442143900337658,
           0.043727352636065565,
           0.08701049088209736,
           0.13029362912812914,
           0.17357676737416095,
           0.21685990562019275,
           0.26014304386622455,
           0.30342618211225636,
           0.34670932035828816,
           0.38999245860431997
          ],
          [
           0.0004442143900337658,
           0.043727352636065565,
           0.08701049088209736,
           0.13029362912812914,
           0.17357676737416095,
           0.21685990562019275,
           0.26014304386622455,
           0.30342618211225636,
           0.34670932035828816,
           0.38999245860431997
          ]
         ],
         "y": [
          [
           -0.026768601712267685,
           -0.026768601712267685,
           -0.026768601712267685,
           -0.026768601712267685,
           -0.026768601712267685,
           -0.026768601712267685,
           -0.026768601712267685,
           -0.026768601712267685,
           -0.026768601712267685,
           -0.026768601712267685
          ],
          [
           0.040170588583017426,
           0.040170588583017426,
           0.040170588583017426,
           0.040170588583017426,
           0.040170588583017426,
           0.040170588583017426,
           0.040170588583017426,
           0.040170588583017426,
           0.040170588583017426,
           0.040170588583017426
          ],
          [
           0.10710977887830253,
           0.10710977887830253,
           0.10710977887830253,
           0.10710977887830253,
           0.10710977887830253,
           0.10710977887830253,
           0.10710977887830253,
           0.10710977887830253,
           0.10710977887830253,
           0.10710977887830253
          ],
          [
           0.17404896917358764,
           0.17404896917358764,
           0.17404896917358764,
           0.17404896917358764,
           0.17404896917358764,
           0.17404896917358764,
           0.17404896917358764,
           0.17404896917358764,
           0.17404896917358764,
           0.17404896917358764
          ],
          [
           0.24098815946887275,
           0.24098815946887275,
           0.24098815946887275,
           0.24098815946887275,
           0.24098815946887275,
           0.24098815946887275,
           0.24098815946887275,
           0.24098815946887275,
           0.24098815946887275,
           0.24098815946887275
          ],
          [
           0.30792734976415786,
           0.30792734976415786,
           0.30792734976415786,
           0.30792734976415786,
           0.30792734976415786,
           0.30792734976415786,
           0.30792734976415786,
           0.30792734976415786,
           0.30792734976415786,
           0.30792734976415786
          ],
          [
           0.374866540059443,
           0.374866540059443,
           0.374866540059443,
           0.374866540059443,
           0.374866540059443,
           0.374866540059443,
           0.374866540059443,
           0.374866540059443,
           0.374866540059443,
           0.374866540059443
          ],
          [
           0.4418057303547281,
           0.4418057303547281,
           0.4418057303547281,
           0.4418057303547281,
           0.4418057303547281,
           0.4418057303547281,
           0.4418057303547281,
           0.4418057303547281,
           0.4418057303547281,
           0.4418057303547281
          ],
          [
           0.5087449206500132,
           0.5087449206500132,
           0.5087449206500132,
           0.5087449206500132,
           0.5087449206500132,
           0.5087449206500132,
           0.5087449206500132,
           0.5087449206500132,
           0.5087449206500132,
           0.5087449206500132
          ],
          [
           0.5756841109452984,
           0.5756841109452984,
           0.5756841109452984,
           0.5756841109452984,
           0.5756841109452984,
           0.5756841109452984,
           0.5756841109452984,
           0.5756841109452984,
           0.5756841109452984,
           0.5756841109452984
          ]
         ],
         "z": [
          [
           -6.317932572320942,
           -2.552974445126735,
           1.2119836820674719,
           4.976941809261677,
           8.741899936455884,
           12.506858063650094,
           16.2718161908443,
           20.036774318038507,
           23.801732445232716,
           27.56669057242692
          ],
          [
           -7.896501312064085,
           -4.131543184869877,
           -0.3665850576756707,
           3.3983730695185344,
           7.1633311967127415,
           10.928289323906952,
           14.693247451101158,
           18.45820557829536,
           22.223163705489572,
           25.988121832683778
          ],
          [
           -9.475070051807226,
           -5.71011192461302,
           -1.9451537974188131,
           1.8198043297753919,
           5.5847624569695995,
           9.349720584163808,
           13.114678711358014,
           16.87963683855222,
           20.644594965746432,
           24.409553092940637
          ],
          [
           -11.05363879155037,
           -7.288680664356163,
           -3.523722537161956,
           0.24123559003224881,
           4.006193717226457,
           7.7711518444206655,
           11.53610997161487,
           15.301068098809075,
           19.066026226003284,
           22.830984353197493
          ],
          [
           -12.632207531293513,
           -8.867249404099306,
           -5.102291276905099,
           -1.3373331497108938,
           2.427624977483314,
           6.192583104677523,
           9.95754123187173,
           13.722499359065935,
           17.487457486260144,
           21.25241561345435
          ],
          [
           -14.210776271036654,
           -10.445818143842448,
           -6.680860016648241,
           -2.915901889454036,
           0.8490562377401716,
           4.6140143649343806,
           8.378972492128586,
           12.143930619322791,
           15.908888746517,
           19.673846873711206
          ],
          [
           -15.7893450107798,
           -12.024386883585592,
           -8.259428756391385,
           -4.494470629197179,
           -0.7295125020029719,
           3.0354456251912367,
           6.800403752385443,
           10.56536187957965,
           14.330320006773858,
           18.095278133968062
          ],
          [
           -17.367913750522938,
           -13.602955623328732,
           -9.837997496134527,
           -6.073039368940322,
           -2.3080812417461143,
           1.4568768854480942,
           5.2218350126423,
           8.986793139836506,
           12.751751267030716,
           16.51670939422492
          ],
          [
           -18.946482490266085,
           -15.181524363071878,
           -11.416566235877669,
           -7.651608108683464,
           -3.886649981489257,
           -0.12169185429504827,
           3.6432662728991576,
           7.4082244000933635,
           11.173182527287572,
           14.93814065448178
          ],
          [
           -20.52505123000923,
           -16.760093102815024,
           -12.995134975620815,
           -9.230176848426611,
           -5.465218721232402,
           -1.7002605940381927,
           2.0646975331560133,
           5.829655660350219,
           9.594613787544429,
           13.359571914738634
          ]
         ]
        },
        {
         "marker": {
          "color": "blue"
         },
         "mode": "markers",
         "type": "scatter3d",
         "uid": "e9e2243b-e6ec-4c13-a955-5bcae9269fdb",
         "x": [
          0.011450478305243345,
          0.003758757507410948,
          0.07810454898646521,
          0.15386663897333602,
          0.008068161394105043,
          0.08883189705982501,
          0.09899210784393582,
          0.08359980502821875,
          0.007568438178548586,
          0.10043782782545496,
          0.11235254178040915,
          0.0731933645387387,
          0.05326795434428153,
          0.09333869917229277,
          0.05211502846226233,
          0.2826517021713883,
          0.06243769759214238,
          0.06447781957537009,
          0.12961170822415735,
          0.10449916075740523,
          0.09411705126045426,
          0.1366573399462249,
          0.11580015288110726,
          0.019881139886796705,
          0.20865616363079129,
          0.01673944496720903,
          0.011824873436250695,
          0.01103742467440267,
          0.11207635166051766,
          0.043521889103207895,
          0.010208840449631737,
          0.11823245984842991,
          0.17730628289287623,
          0.016301341687695592,
          0.017810978684413052,
          0.01411081673888888,
          0.03687412125752033,
          0.11470753104522301,
          0.024299333822134214,
          0.009143139151282991,
          0.009140305238120046,
          0.018026716313580368,
          0.16491887801609031,
          0.12685054615123015,
          0.007309414615438195,
          0.08007378607693487,
          0.06357981313657583,
          0.016489972541160046,
          0.031727962840212016,
          0.004345463556827554,
          0.09392944536357858,
          0.20493489037781457,
          0.01798154321778729,
          0.021820719921179406,
          0.011214425902448316,
          0.06273029213059736,
          0.03842068820395155,
          0.018867439614154526,
          0.07129373805403524,
          0.10823776702346957,
          0.08143351533720597,
          0.01436680602554974,
          0.32653685458146553,
          0.11331834134727978,
          0.018255361949521647,
          0.06033027742395239,
          0.011024499185042027,
          0.01673944496720903,
          0.010497196233104817,
          0.02884078352555984,
          0.011590948897066727,
          0.05146142995679436,
          0.11860080946740369,
          0.011380065385635376,
          0.19037834996661487,
          0.09401564706916386,
          0.0004442143900337658,
          0.17489149803396148,
          0.22397938750197316,
          0.0479066482304595,
          0.16997106545051477,
          0.052625857638565414,
          0.01390313895176926,
          0.028849091695310917,
          0.02280053208919384,
          0.008686055826571944,
          0.04431104646631777,
          0.023951523117817376,
          0.12978389798845782,
          0.21971471200219075,
          0.05353181055718579,
          0.014872522595913963,
          0.174353002806023,
          0.2409155610468607,
          0.09749425644469685,
          0.1139704763231446,
          0.010675812843877324,
          0.027269322195811085,
          0.03375931046643631,
          0.30280094947462993,
          0.2409155610468607,
          0.011916903291414937,
          0.09401564706916386,
          0.08973866144424038,
          0.02134994570776221,
          0.017016132807065366,
          0.024299333822134214,
          0.0817199970189517,
          0.17038975545774013,
          0.009657460549413747,
          0.10904242532467152,
          0.021105236390593043,
          0.10416198609201935,
          0.01636789247353072,
          0.058227925006702375,
          0.06398647922845205,
          0.026147341311161504,
          0.1527355712005818,
          0.03263772458944694,
          0.21801862663524588,
          0.13398073307878156,
          0.044880030422682106,
          0.038586791326879755,
          0.01636789247359095,
          0.12470341548429566,
          0.010631904239658799,
          0.011699168844984608,
          0.10108012105694474,
          0.1041478291075374,
          0.2826517021713883,
          0.013867903189101511,
          0.10798689654964151,
          0.041017153291170054,
          0.1004107715618563,
          0.21190081681073725,
          0.08491769944637712,
          0.1682122949683834,
          0.10569750914421373,
          0.08022720383742009,
          0.09127558345722503,
          0.17026598681753863,
          0.015201265860451806,
          0.18832337366419452,
          0.20610547832401307,
          0.009678240252552579,
          0.09859692522244116,
          0.009292734775113252,
          0.08910035646345314,
          0.1359790029054396,
          0.032173025229560566,
          0.08899628501031279,
          0.18592369508786896,
          0.02984300224736539,
          0.08099722631156583,
          0.15386663897333602,
          0.05146142995679436,
          0.010631904239658799,
          0.06466797332152197,
          0.25641128728059726,
          0.17979156164880009,
          0.020216779712525803,
          0.059097352343918594,
          0.10067037424916349,
          0.009657460549413747,
          0.003683905735402211,
          0.04112112216004501,
          0.062110500024156724,
          0.022800532069951484,
          0.11917227186731515,
          0.004862655480988184,
          0.07402649207852535,
          0.08491769944637712,
          0.1379253318061972,
          0.13787529253011935,
          0.02033804144280977,
          0.14572706689814305,
          0.010428970048404486,
          0.05787995630572119
         ],
         "y": [
          0.13912397340571367,
          0.11837708502221961,
          -0.0009850398691191651,
          0.0052180154846596,
          0.23632648314936883,
          -0.0020258326122025512,
          -0.0030218515974140634,
          0.012637904018952395,
          0.23570942011936413,
          0.0005808104599182996,
          -0.0014864065273897692,
          0.000413751930318328,
          -0.000406188012185324,
          0.0022619769260039677,
          0.0016128388423410382,
          -0.005144947559012143,
          0.0029587292782595614,
          8.238802831591448e-05,
          -0.002556480425528335,
          0.0011334084375347127,
          -0.0018159553391774274,
          -0.0036428207969611123,
          -0.0016993418269153628,
          0.0885439660257702,
          -0.010087832477817915,
          0.43440852325730517,
          0.24774524057826713,
          0.3108645308341919,
          0.0013569398205134841,
          -0.0004897801731798136,
          0.25104308618241,
          -0.0021084654975216956,
          -0.0046686047350533106,
          0.13738569462208305,
          0.509602462510332,
          0.3751424116500527,
          0.0036483947282643626,
          -0.0013706344970972118,
          0.5756841109452984,
          0.17912172454568162,
          0.11395699687620243,
          0.506703885403755,
          -0.0017620619077204603,
          -0.0019209724483667163,
          0.1036972257438972,
          -0.0014863330106056605,
          0.0023713186524715506,
          0.5089094858915314,
          -0.0001979745628112475,
          0.09792600514928543,
          0.0016201085688680142,
          -0.0043096078110208625,
          0.0990901970850998,
          -0.0006999868776995358,
          0.4967131933256287,
          0.00040205175502637335,
          0.0009733898782176366,
          0.20888329671571804,
          -0.0011220841637280662,
          -0.0010543779486618574,
          0.0019302433875326695,
          0.3810639930995574,
          -0.014017442728036924,
          0.00042042111738190176,
          0.31128711502302625,
          -0.001607448508158229,
          0.29685200100356907,
          0.43440852325730517,
          0.46407649596010275,
          0.24628069491200627,
          0.5113361145787947,
          -0.0004999782139482858,
          -0.0005565718889273757,
          0.23402702155640775,
          0.008912775778052167,
          -0.002182632750668774,
          0.009914952631165602,
          0.019644940472671447,
          0.007365078204327404,
          0.0019458036662756961,
          -0.0015069489743454291,
          0.0034292039003293064,
          0.130128047573473,
          -0.0010135807563005634,
          0.5402129299695867,
          0.10479724664150761,
          0.0011048498217581329,
          0.5309536194813539,
          -0.0016850262352607207,
          0.007517553769747083,
          0.0009476437035596104,
          0.5029249089014017,
          -0.0032270307720955156,
          -0.018874115982645358,
          -0.0017354968536361722,
          -0.0007473109384812075,
          0.315441210607727,
          0.23761034232872819,
          0.0006784546345187266,
          -0.014198587545687617,
          -0.018874115982645358,
          0.4521477153900083,
          -0.002182632750668774,
          -0.0025462876535097463,
          0.21045927745703866,
          0.4320721799113749,
          0.5756841109452984,
          -0.0006511160833750352,
          -0.000714060922829298,
          0.11061072329850136,
          -0.0031505226353860144,
          -0.0004286191849666831,
          0.01306372711011306,
          0.4271686064830394,
          0.0018597015805117815,
          8.15133781840309e-05,
          0.3771399287806256,
          -0.0001940189101029882,
          0.0022539592760477075,
          -0.00203326190485651,
          -0.0013421052962697697,
          0.012489860086767163,
          0.1293321256426975,
          0.42716860648288735,
          0.009828334155660553,
          0.47216771998615603,
          0.2779375065511976,
          0.00017987977139474298,
          -0.001351682574863607,
          -0.005144947559012143,
          0.3694779026349501,
          -0.001791658350343041,
          0.005133094353265321,
          -0.0011903449215008067,
          -0.0016453484931989487,
          -3.373526293850429e-07,
          0.005608162458470294,
          -0.0012308938342767907,
          -0.0016217077782211186,
          -0.0008077586625198056,
          -0.0032366347930710094,
          0.33844936689162475,
          -0.0019233009654162476,
          0.03687381947936146,
          0.1340807384452266,
          0.00024349155715892574,
          0.18167478666227901,
          -0.0015658160997128125,
          0.000545930419735462,
          -0.00038766755670780384,
          -0.0020459960179847326,
          0.010589850837268188,
          0.0024562218071646357,
          -0.0005864395458183243,
          0.0052180154846596,
          -0.0004999782139482858,
          0.47216771998615603,
          -0.0016247629295560837,
          0.0005272706786777624,
          -0.004143938555260045,
          0.45979576930990934,
          -0.0009476329472583426,
          -0.002942039841905474,
          0.11061072329850136,
          0.12747825832250248,
          -0.0005803622183693811,
          -0.0009937890663800578,
          0.5402129292065029,
          -0.0013674862091868935,
          0.13085460872121663,
          -0.0013199785411984201,
          -3.373526293850429e-07,
          -0.002091997178836597,
          -0.0028993344153535466,
          0.14223514288977615,
          -0.005293026811602426,
          0.24637359559436234,
          0.00880382225415804
         ],
         "z": [
          0.08007753865924555,
          0.03845676304005913,
          -0.0006770549937740156,
          -0.007540664697645752,
          0.02057473697910249,
          -0.001549571963788575,
          0.0001887681733889574,
          -0.010371980433650802,
          0.020506139887836016,
          0.00036379891956024325,
          0.0013399718999427526,
          -0.0010975824491875105,
          -0.00011854945743381386,
          -0.000507027218267624,
          0.0049247389076524225,
          -0.003143057804483459,
          -0.004009312731761957,
          1.282688198953596e-05,
          -0.0022732243755395082,
          0.003642829271567395,
          -0.002343575701499841,
          -0.00137900337127153,
          -0.0017597935989170327,
          0.03494775871555674,
          0.0033693265699132452,
          -0.37189588648771854,
          0.02145334175222863,
          -0.13310298422239292,
          0.0008324424813315346,
          -0.0005185696397803062,
          -0.043077524749088554,
          -0.0014666634277179255,
          -0.001777388227161687,
          -0.0349432720553726,
          0.7792447730650601,
          -0.029261954469348775,
          -0.0028524037460746963,
          -0.00028522316637641517,
          -0.36327784356503134,
          0.03618972615695875,
          -0.10439906808690286,
          0.7748894581922969,
          -0.0026365112759359193,
          -0.0019926677220430847,
          -0.09319468508731024,
          -0.0007906433610852552,
          -0.0005318655860210154,
          0.7779955289339876,
          -0.00046385905833605393,
          0.021070616844752806,
          0.006224630946950419,
          0.0013721554391644651,
          0.04887454570360111,
          -9.554773255072293e-05,
          0.7612596518607262,
          0.003128644981626237,
          -0.001074890268932605,
          0.14087399560940492,
          -0.0007268882926136748,
          -0.0019991579604220705,
          0.004867854453756514,
          -0.029673506935435384,
          0.006275709202930888,
          -0.00014896818311220915,
          -0.06951828637498272,
          -0.00044407458882745926,
          -0.1251010987079271,
          -0.37189588648771854,
          -0.18829232674153756,
          -0.004954029410385424,
          0.7810836649197226,
          -0.002426142688788223,
          0.002222073448281929,
          0.12767612340438605,
          -0.009162333517717053,
          -0.0007280047987940093,
          -0.000636816666860598,
          -0.018410216114887343,
          -0.010278833516883117,
          0.0010189337487568225,
          -0.002642328935056499,
          0.001585595856293813,
          -0.025392391744863397,
          -0.00025486465413899356,
          -0.3409137434524606,
          -0.09410070898996395,
          -0.0015279655737195125,
          -0.3357120463307771,
          -0.0014533701850745592,
          -0.008891848484244926,
          -0.001055295166608345,
          0.7701227693518589,
          0.001491818827125809,
          0.006481656782611166,
          0.0015618949203224759,
          0.0008913552707499013,
          -0.12966645526636628,
          0.08442468714280138,
          -0.0008128838870372196,
          0.004529064450748427,
          0.006481656782611166,
          -0.18425694813555848,
          -0.0007280047987940093,
          -0.00017741993497663217,
          0.0756908845337129,
          -0.3690603928507133,
          -0.36327784356503134,
          -0.0004744451143314272,
          -0.00307039644344562,
          -0.10065162999599281,
          0.0006013196351752408,
          -0.00012095531917686808,
          -0.011536802997988774,
          -0.3656373009891261,
          -0.0030178070752195567,
          0.0016435146555292058,
          -0.029232527574709833,
          -0.002973959830555251,
          -0.002669980811656793,
          -0.004076117472851336,
          -0.0023299950571042645,
          -0.006172216267425101,
          0.012445614003300907,
          -0.365637300984997,
          -0.010873469631505848,
          -0.19229967701513015,
          -0.0470565903192641,
          -0.0008158050365449025,
          -0.0011644157576141175,
          -0.003143057804483459,
          -0.028865613352488467,
          -0.001795804016182445,
          0.011625941540857478,
          -0.0007584504570615981,
          -0.001931864111305018,
          -0.0004137378039458916,
          0.0018856863242881188,
          -0.0012805583157147911,
          -0.0006330717536394005,
          0.00219591124044813,
          -0.0018122038203351033,
          -0.14934220485777577,
          0.0033481175656952873,
          -0.017286306086746042,
          -0.04049021709696676,
          -0.0005091813978080834,
          0.03665609289386997,
          -0.0017519560930152273,
          0.004801734044374169,
          -0.00037995805490202293,
          -0.0016041815576655015,
          -0.005606165469646359,
          0.0073670566328664444,
          0.0004767397792453607,
          -0.007540664697645752,
          -0.002426142688788223,
          -0.19229967701513015,
          -0.000308087598381434,
          0.00404953132148255,
          -0.00042463289577653073,
          -0.1868541957349784,
          -0.0011369049769493643,
          -0.0002608737284586224,
          -0.10065162999599281,
          0.23573191607196356,
          -0.0010184183479784812,
          -0.0006773330557672156,
          -0.3409137489797409,
          -0.0008164665857766498,
          -0.006105773910183843,
          -0.0006682954002228423,
          -0.0004137378039458916,
          -0.002557164531288006,
          -0.001312700201173739,
          0.0826212221467407,
          0.000679138139379405,
          -0.00472093153786508,
          -0.013240123962838895
         ]
        },
        {
         "marker": {
          "color": "red"
         },
         "mode": "markers",
         "type": "scatter3d",
         "uid": "c2d68f59-6e27-4d97-b876-d7e0df6f9f02",
         "x": [
          0.0637496398006523,
          0.1625353454176754,
          0.21579455111034002,
          0.15382560155135086,
          0.10064472993486613,
          0.10960712061369526,
          0.3312853696962725,
          0.24786331558386038,
          0.16737941927956773,
          0.2848854276780347,
          0.13167235661190108,
          0.10126938826716117,
          0.10075041007879187,
          0.3095444852121832,
          0.16978766822395447,
          0.0898423819182465,
          0.22436298688552936,
          0.35958969708623145,
          0.1335210438603593,
          0.062331433125466275,
          0.2600668442837765,
          0.03944569600832326,
          0.14444238457246403,
          0.11743928038479037,
          0.19186139574895789,
          0.15265299654349884,
          0.22525418228312338,
          0.28709533794728714,
          0.33961688251548605,
          0.003537044866485694,
          0.2948569972048804,
          0.30196020829788967,
          0.3788680865845654,
          0.14207789622176467,
          0.13020052083441466,
          0.3436957802718601,
          0.11572061716355474,
          0.2051881500917575,
          0.28709533794728714,
          0.31472512937150143,
          0.24689037337250072,
          0.21842926879891036,
          0.037943763760941995,
          0.15809512958596994,
          0.1929172138150653,
          0.08910348538177845,
          0.27184011566526506,
          0.1532895246977206,
          0.3779593996523307,
          0.32184522121834575,
          0.10186202202768936,
          0.2015714607273333,
          0.15298038844731018,
          0.25205810147251906,
          0.26438167533611995,
          0.25886052041987173,
          0.1760869136870309,
          0.14853191393235263,
          0.10362201417755486,
          0.28987573874134,
          0.20559832738154324,
          0.3298084722803745,
          0.13423148843802457,
          0.30601067462119635,
          0.0944049955927733,
          0.11375106662407405,
          0.17566717864059866,
          0.22533778935754822,
          0.2948569972048804,
          0.17336256376156714,
          0.27926846541864747,
          0.133444077301961,
          0.13292487680076784,
          0.2987212460832644,
          0.3152875630289511,
          0.18045595553230268,
          0.1241420237084818,
          0.16681184512978603,
          0.20641513204610587,
          0.3136610033986345,
          0.08642029538200131,
          0.12370091709893416,
          0.1329353266616537,
          0.11387444526406501,
          0.19521757665016537,
          0.16129553801506513,
          0.16561011979908227,
          0.20283365751293012,
          0.31261384657053554,
          0.27089078600208377,
          0.0835068319070802,
          0.16020078734439847,
          0.0486592374823449,
          0.209813430604889,
          0.36001895436823306,
          0.3319332980766101,
          0.10820065063742898,
          0.24934246620784592,
          0.16198099669039132,
          0.30188256858595314,
          0.3281020380447527,
          0.09060501138306541,
          0.11375106662407405,
          0.18406836955392739,
          0.3453253579207267,
          0.12533592888710346,
          0.2977288640011306,
          0.31146959265323776,
          0.16951825699433187,
          0.10042072329880572,
          0.1854714404722798,
          0.1569579887098363,
          0.11397519921795572,
          0.14894027273869487,
          0.0948405767249616,
          0.10038412540720418,
          0.2542713282750753,
          0.10892184304914214,
          0.07961792925510411,
          0.15584715776834612,
          0.1603767611586817,
          0.0754166190858987,
          0.12923266528866778,
          0.14444238457246403,
          0.178647094783881,
          0.1200017128555762,
          0.1241420237084818,
          0.1160624233588579,
          0.17814283051916407,
          0.3021901174334717,
          0.3281020380447527,
          0.2504994124059998,
          0.12970287179996287,
          0.3135546987156219,
          0.12576145007838455,
          0.2985144462397485,
          0.1906477041504471,
          0.32979824270563735,
          0.2469764898412947,
          0.3779593996523307,
          0.2482972392245652,
          0.13218407044382266,
          0.11812129094327095,
          0.18710257139027991,
          0.17096624354411125,
          0.10839138062131037,
          0.3095444852121832,
          0.12778713478354836,
          0.17723868837684054,
          0.2599426921727554,
          0.2985144462397485,
          0.0936296647163481,
          0.11738712624587694,
          0.33090986191595884,
          0.12346392162615596,
          0.07630327826370725,
          0.27698817028662837,
          0.1386771831452551,
          0.20569653989136633,
          0.14233494078798534,
          0.1443422690416728,
          0.14230628933641934,
          0.20866760118986843,
          0.3457772755248819,
          0.14141393583441497,
          0.1272496198048018,
          0.14467602330234555,
          0.19324841613857976,
          0.18643146105832023,
          0.34667255629551463,
          0.23228416413366298,
          0.17648957279094393,
          0.10660525075664033,
          0.1526281370789754,
          0.18322784790525543,
          0.35216521080531515,
          0.22852220658520772,
          0.06932308767902766,
          0.35047318631334684,
          0.184294367550159,
          0.07229513093186558,
          0.06110081463158344,
          0.28948054900738324,
          0.14220828149150552,
          0.31472512937150143,
          0.18894669725246604,
          0.17577964442869481,
          0.20047661672388906,
          0.26868631580934027,
          0.1386699763149187,
          0.09696448981404839,
          0.35110403955991876,
          0.1121854170254587,
          0.12346392162615596,
          0.11388139510238302,
          0.12223210496174357,
          0.13142240024967441,
          0.14848000995183733,
          0.11955174332285577,
          0.25255601041759107,
          0.32184522121834575,
          0.3312853696962725,
          0.27089078600208377,
          0.15853305751939073,
          0.17265977796833093,
          0.22436298688552936,
          0.14816006796549153,
          0.1482802108960399,
          0.29379672879763885,
          0.2904618359566019,
          0.10655387243985869,
          0.3140407520414215,
          0.11938335669540984,
          0.1545851164314397,
          0.38999245860431997,
          0.08173662278780265,
          0.0971247378777341,
          0.1482802108960399,
          0.09526759916168334,
          0.10894315122042865,
          0.1063781683925906,
          0.13145478538758928,
          0.19798744049328215
         ],
         "y": [
          0.0534684700907388,
          -0.0038835758334928505,
          -0.0052005144358281095,
          -0.007793828795122513,
          -0.0012426453590164404,
          -0.0021007617518366195,
          -0.023381125278693064,
          0.0038785292689525485,
          -0.0013809961458504034,
          -0.014384667253487943,
          -0.0026893558514448947,
          0.0008603649880402696,
          -0.0024824461031147365,
          -0.014028480907806734,
          -0.0019368839696156494,
          -0.0027485142241997587,
          -0.008209055414648657,
          -0.017338198262164334,
          -0.003958142579525641,
          -0.0013669563449055218,
          -0.010575325793179512,
          -0.0015417248934582034,
          -0.0031886553147937252,
          0.00477580867258767,
          0.05419309958220852,
          -0.0038178919878836086,
          -0.01609020046128945,
          -0.014719976042220057,
          -0.008006999910886261,
          0.013176596927729677,
          0.006260134709951262,
          0.007911973249313186,
          -0.02564649650870829,
          0.0022435105837076853,
          -0.004100576566651681,
          -0.019589466021451535,
          0.030996196176557522,
          -0.004622841806818793,
          -0.014719976042220057,
          -0.01605226524908777,
          -0.01190169703693861,
          -0.008846429610630535,
          -0.001132620973001838,
          -0.00817023082760798,
          -0.003068321754613886,
          6.111525091511406e-05,
          -0.013815401510721375,
          0.00014506913885293143,
          -0.0038946825494523564,
          -0.002578640243944342,
          -0.00016290468453441498,
          -0.013066202798352486,
          -0.0034980338427253637,
          -0.012332077612873174,
          0.007527117980202528,
          -0.015134747860232903,
          -0.004247973239041465,
          -0.004129425575054091,
          0.0030425754215625527,
          -0.016684952925511556,
          -0.004760089768464577,
          -0.016844315042338524,
          -0.001847576039272033,
          -0.004065606948423596,
          -0.0018079651426084068,
          0.0030606215324534593,
          -0.003588361184541079,
          0.003920675318503366,
          0.006260134709951262,
          -0.007894836833435101,
          0.002985259574989967,
          -0.0031660408491396125,
          -0.004023347853748239,
          -0.00936434566987403,
          -0.013111900694990295,
          -0.007559503442598144,
          -0.003644981688998614,
          -0.004351773813926444,
          -0.011670123417044126,
          0.0063546816424250524,
          -0.003744596562432673,
          -0.004111216632049376,
          -0.0036946539196552317,
          -0.0022669061677992523,
          -0.004140104635592804,
          0.005901861728916299,
          -0.002897097543175062,
          -0.010769748358377188,
          0.0014827197365798433,
          -0.016624012463294185,
          -0.0009229223500957754,
          0.013140111367324792,
          0.002889369679949336,
          -0.006972520876095446,
          -0.016254022743180396,
          -0.016074041308901346,
          -0.00378122932333036,
          -0.0035551605788261102,
          -0.004512059811988327,
          0.0012710808081017103,
          -0.017051324057306416,
          -0.002325524849020981,
          0.0030606215324534593,
          -0.011201226927255925,
          -0.014153395623184562,
          0.001959323231612349,
          -0.01951208527934874,
          -0.016758566391525467,
          -0.005054673215291566,
          -0.003031671156537722,
          -0.0032294426207682475,
          -0.0022429308299344412,
          -0.002683561882901634,
          -0.0046130506396499585,
          -0.0007739663562347475,
          0.001187315667130272,
          0.0045693801625545935,
          0.010302797876060166,
          0.0059807750713443434,
          -0.003793173896448532,
          -0.003889192331336439,
          -0.0018087655991925924,
          -0.002550218634421086,
          -0.0031886553147937252,
          -0.00350885090846404,
          -0.0008378014954346297,
          -0.003644981688998614,
          -0.0019339868848533106,
          -0.005271414797702047,
          -0.009105404738837376,
          -0.017051324057306416,
          -0.004131662870226031,
          -0.0035398561118587637,
          -0.01574663204351227,
          -0.0018847612305946332,
          -0.008840629145453308,
          0.01936783293463731,
          -0.02105390403456402,
          -0.010876591441063808,
          -0.0038946825494523564,
          -0.0056813526900613524,
          -0.004197218112482656,
          -0.00340338582414895,
          -0.004446096005070064,
          -0.004379784545734316,
          -0.0012494429361573445,
          -0.014028480907806734,
          -0.003841552603534853,
          -0.009735505325656878,
          -0.015759620989972755,
          -0.008840629145453308,
          0.008236519606385006,
          -0.0014069674597474325,
          -0.023261673650156696,
          -0.004584265935678338,
          0.002559952372675804,
          -0.012588708178563437,
          0.004949216840295043,
          -0.003105040779128069,
          -0.00412956677596771,
          -0.001084990981545163,
          0.016486415964076087,
          -0.0027740113842138533,
          0.004521922430246009,
          -0.004309786382568843,
          -0.002030723260812821,
          -0.003607148906255733,
          -0.004879248272552294,
          0.005651380987979718,
          -0.01507154307687385,
          -0.011735872029794264,
          -0.0035406359971358716,
          -0.0005270487396716856,
          -0.002388641824658607,
          -0.0051251945017128766,
          -0.02136723797724209,
          -0.007877739932009237,
          0.007317610253238552,
          -0.012296053874145674,
          -0.008305522527400274,
          -0.0010263584332916192,
          -0.0009463118226306208,
          -0.019687607863408556,
          -0.005266664588336727,
          -0.01605226524908777,
          -0.005091764973862935,
          -0.003997235295719266,
          -0.0009400579045213465,
          -0.01029753192954218,
          -0.004182782828110536,
          -0.002624556211351973,
          -0.02235975613977348,
          -0.0033485658165345964,
          -0.004584265935678338,
          -0.0007591117522202123,
          -0.0014196520401013508,
          0.034771213700054385,
          0.00347330387458475,
          -0.005574846676932125,
          -0.014808915702221509,
          -0.002578640243944342,
          -0.023381125278693064,
          -0.016624012463294185,
          -0.0017281938175141083,
          -0.004516755821943218,
          -0.008209055414648657,
          -0.002894371467961507,
          -0.003917608708688979,
          -0.006602077114763502,
          -0.00795080690976177,
          -0.003354210540050701,
          -0.015411470630956133,
          -0.0033685291611278197,
          -0.0036559671245061814,
          -0.026768601712267685,
          0.0006669811812209632,
          -0.0028852451899293754,
          -0.003917608708688979,
          0.00042816006852494166,
          -0.003002804004345155,
          -0.0038625144565399313,
          -0.002756360871235575,
          -0.0036392706376053682
         ],
         "z": [
          -0.04271120292861841,
          -0.0026074254453781536,
          -0.0015853858022879513,
          0.000944245451673175,
          0.0006247246099420209,
          -0.0007206035734877375,
          0.012014912889400126,
          -0.009974661749545291,
          -0.000841393003255405,
          0.004016995363575403,
          0.0008244729330283032,
          0.007132391544355618,
          -0.0008818826467375336,
          0.008582849899394639,
          0.0027293307765150106,
          -0.0008270091131748278,
          0.002828098799370816,
          0.007303658840775928,
          -0.0005013078336789328,
          -0.0011263255865448932,
          0.0014721971570370788,
          -0.00047874133817232036,
          -0.003560651468633941,
          -0.004430628267624379,
          -0.04857617522177342,
          -0.0019085346905543977,
          0.007006931312958979,
          0.007868462880510475,
          0.001651234066419257,
          -0.0133072203531896,
          -0.018453367488092558,
          -0.011128728640069632,
          0.010835917146151706,
          -0.0039010900917409008,
          -0.0003101180125299587,
          0.010401165305255118,
          -0.026534779886078424,
          0.0036715151137454854,
          0.007868462880510475,
          0.0023347976173100234,
          0.002233400131531147,
          0.0019730323627950666,
          1.1045509008518786e-05,
          0.0022367923909787342,
          0.001743000794094413,
          -0.0010520392266920703,
          0.0036006720128609923,
          -0.002640949281115715,
          0.002076381595846108,
          -0.0004607936459314965,
          0.0007380199712943867,
          0.0035688215034142532,
          -0.0005433733523209396,
          0.004694662529592728,
          -0.008526824287364045,
          0.004079538439068714,
          -0.0016555427865426642,
          -0.0013618813330166148,
          0.012267090328984633,
          0.004655180272742418,
          -0.0015954486271242238,
          0.002529761030505475,
          0.0027457351369169986,
          -0.008274073261529617,
          -0.0014312878030790564,
          0.0055055260932078106,
          -0.0018113026669602662,
          -0.007946553148759333,
          -0.018453367488092558,
          0.0006424260454083025,
          -0.006270171181550306,
          -0.0007123729490667969,
          -0.0005469843214620391,
          0.00010439993085348206,
          0.0018247117791375862,
          0.008224456608483175,
          -0.0011019422720333848,
          0.004514274757139077,
          0.003560830483765042,
          -0.00916526145114908,
          0.0012347715521413532,
          -0.0004274535038759135,
          0.00015795701509158577,
          -0.0011332112913753814,
          -0.001210637737417913,
          -0.0016537787684629563,
          -0.0028643893897692366,
          0.001641394542690077,
          0.0009091914309933797,
          0.008257260850526199,
          -0.0006867984242788463,
          -0.009788093960218586,
          0.0010000974500111934,
          -4.409823690045669e-05,
          0.0060591199090638545,
          0.0037181775879893643,
          0.0001684369893136257,
          -0.002996960851989523,
          -0.00021816110761807903,
          -0.008615484868221848,
          0.002546906370087453,
          -0.0012614838280978642,
          0.0055055260932078106,
          0.0037880252223758495,
          0.01122725350352318,
          -0.002783109534927117,
          0.00855003552045524,
          0.005979335165105281,
          -2.9924605601784046e-05,
          -0.0005771216567591531,
          -0.0015737842760694739,
          0.0015556361933371432,
          -0.0006766149944344056,
          0.0003948429642158989,
          0.0010627312739128938,
          0.0006120548264755475,
          -0.008549748468501808,
          -0.01171282194002552,
          -0.0024569724352461364,
          -0.001956098748028823,
          0.0004646850282855554,
          -0.00033770976783340325,
          -0.0009998874312871023,
          -0.003560651468633941,
          -0.0011506578243683356,
          -0.001110960794828379,
          -0.0011019422720333848,
          -0.00031184798552949446,
          -0.001682631057943236,
          -0.0006977611487629709,
          0.002546906370087453,
          -0.000689083488032209,
          -0.0007162980760493956,
          0.007377454768637975,
          0.004471823271291088,
          0.0010922257160397675,
          -0.019851089171462104,
          0.00511620228598158,
          0.0028268369475114275,
          0.002076381595846108,
          -0.002627120696371869,
          -0.0015492922620286857,
          -0.0006201816555534901,
          -0.0008205084858858507,
          -0.0014387604643829042,
          0.003923648558892634,
          0.008582849899394639,
          -0.0006358077154414441,
          0.0027114021232395665,
          0.005026227749311194,
          0.0010922257160397675,
          0.012153248040475968,
          -0.0014125729133028365,
          0.009176114414285091,
          0.004192760903619946,
          0.0009699760686579688,
          0.003088857658091987,
          -0.008847531560848575,
          -0.0010499545962708709,
          -0.0006105436765403648,
          0.004365259303918198,
          0.008310023363718035,
          0.005037192649248267,
          -0.0067303518403937865,
          7.0767113293820325e-06,
          -0.00023308123559646166,
          -0.0017081587133862973,
          -0.0007555935676718403,
          0.014959026161423944,
          0.002203891460329907,
          0.002517304260199236,
          -0.0008043629641280288,
          0.0018337589962927304,
          0.0014312927915581658,
          0.0006866130720580924,
          0.0065691743972508265,
          -0.0009073327297362801,
          -0.005441542294556621,
          0.004278266976777819,
          0.0010777630667528463,
          0.00012998964757211895,
          -0.0007077173076678333,
          0.006695992652187987,
          0.00023647688686238516,
          0.0023347976173100234,
          0.00013606159858628767,
          -0.0026631841194995234,
          0.005366670636453195,
          0.00383235742818877,
          -0.0005849163947321788,
          -0.0002740568316945072,
          0.007673036775396844,
          -0.0033456323885796297,
          0.004192760903619946,
          0.0016291330479788633,
          -0.0010874109203480834,
          -0.03153807077403136,
          -0.002008061686306896,
          0.00112310448547682,
          0.005102675485351936,
          -0.0004607936459314965,
          0.012014912889400126,
          0.008257260850526199,
          0.004249358025058363,
          -0.001201233258061275,
          0.002828098799370816,
          -0.0020938734258664493,
          0.0015570486253455036,
          -0.002110236793051103,
          -0.0006577477320133828,
          0.00021943274903766263,
          0.003737347628925058,
          -0.0003382745543525051,
          0.0002091811445500514,
          0.011413010768238026,
          -0.0010550062557216384,
          -0.0001644097335217167,
          0.0015570486253455036,
          -0.0005978739924833512,
          -0.003704580535700904,
          -0.0003485716069480842,
          -0.0015255235580395356,
          -0.0011234742557769918
         ]
        }
       ],
       "layout": {
        "height": 800,
        "template": {
         "data": {
          "bar": [
           {
            "error_x": {
             "color": "#2a3f5f"
            },
            "error_y": {
             "color": "#2a3f5f"
            },
            "marker": {
             "line": {
              "color": "#E5ECF6",
              "width": 0.5
             },
             "pattern": {
              "fillmode": "overlay",
              "size": 10,
              "solidity": 0.2
             }
            },
            "type": "bar"
           }
          ],
          "barpolar": [
           {
            "marker": {
             "line": {
              "color": "#E5ECF6",
              "width": 0.5
             },
             "pattern": {
              "fillmode": "overlay",
              "size": 10,
              "solidity": 0.2
             }
            },
            "type": "barpolar"
           }
          ],
          "carpet": [
           {
            "aaxis": {
             "endlinecolor": "#2a3f5f",
             "gridcolor": "white",
             "linecolor": "white",
             "minorgridcolor": "white",
             "startlinecolor": "#2a3f5f"
            },
            "baxis": {
             "endlinecolor": "#2a3f5f",
             "gridcolor": "white",
             "linecolor": "white",
             "minorgridcolor": "white",
             "startlinecolor": "#2a3f5f"
            },
            "type": "carpet"
           }
          ],
          "choropleth": [
           {
            "colorbar": {
             "outlinewidth": 0,
             "ticks": ""
            },
            "type": "choropleth"
           }
          ],
          "contour": [
           {
            "colorbar": {
             "outlinewidth": 0,
             "ticks": ""
            },
            "colorscale": [
             [
              0,
              "#0d0887"
             ],
             [
              0.1111111111111111,
              "#46039f"
             ],
             [
              0.2222222222222222,
              "#7201a8"
             ],
             [
              0.3333333333333333,
              "#9c179e"
             ],
             [
              0.4444444444444444,
              "#bd3786"
             ],
             [
              0.5555555555555556,
              "#d8576b"
             ],
             [
              0.6666666666666666,
              "#ed7953"
             ],
             [
              0.7777777777777778,
              "#fb9f3a"
             ],
             [
              0.8888888888888888,
              "#fdca26"
             ],
             [
              1,
              "#f0f921"
             ]
            ],
            "type": "contour"
           }
          ],
          "contourcarpet": [
           {
            "colorbar": {
             "outlinewidth": 0,
             "ticks": ""
            },
            "type": "contourcarpet"
           }
          ],
          "heatmap": [
           {
            "colorbar": {
             "outlinewidth": 0,
             "ticks": ""
            },
            "colorscale": [
             [
              0,
              "#0d0887"
             ],
             [
              0.1111111111111111,
              "#46039f"
             ],
             [
              0.2222222222222222,
              "#7201a8"
             ],
             [
              0.3333333333333333,
              "#9c179e"
             ],
             [
              0.4444444444444444,
              "#bd3786"
             ],
             [
              0.5555555555555556,
              "#d8576b"
             ],
             [
              0.6666666666666666,
              "#ed7953"
             ],
             [
              0.7777777777777778,
              "#fb9f3a"
             ],
             [
              0.8888888888888888,
              "#fdca26"
             ],
             [
              1,
              "#f0f921"
             ]
            ],
            "type": "heatmap"
           }
          ],
          "heatmapgl": [
           {
            "colorbar": {
             "outlinewidth": 0,
             "ticks": ""
            },
            "colorscale": [
             [
              0,
              "#0d0887"
             ],
             [
              0.1111111111111111,
              "#46039f"
             ],
             [
              0.2222222222222222,
              "#7201a8"
             ],
             [
              0.3333333333333333,
              "#9c179e"
             ],
             [
              0.4444444444444444,
              "#bd3786"
             ],
             [
              0.5555555555555556,
              "#d8576b"
             ],
             [
              0.6666666666666666,
              "#ed7953"
             ],
             [
              0.7777777777777778,
              "#fb9f3a"
             ],
             [
              0.8888888888888888,
              "#fdca26"
             ],
             [
              1,
              "#f0f921"
             ]
            ],
            "type": "heatmapgl"
           }
          ],
          "histogram": [
           {
            "marker": {
             "pattern": {
              "fillmode": "overlay",
              "size": 10,
              "solidity": 0.2
             }
            },
            "type": "histogram"
           }
          ],
          "histogram2d": [
           {
            "colorbar": {
             "outlinewidth": 0,
             "ticks": ""
            },
            "colorscale": [
             [
              0,
              "#0d0887"
             ],
             [
              0.1111111111111111,
              "#46039f"
             ],
             [
              0.2222222222222222,
              "#7201a8"
             ],
             [
              0.3333333333333333,
              "#9c179e"
             ],
             [
              0.4444444444444444,
              "#bd3786"
             ],
             [
              0.5555555555555556,
              "#d8576b"
             ],
             [
              0.6666666666666666,
              "#ed7953"
             ],
             [
              0.7777777777777778,
              "#fb9f3a"
             ],
             [
              0.8888888888888888,
              "#fdca26"
             ],
             [
              1,
              "#f0f921"
             ]
            ],
            "type": "histogram2d"
           }
          ],
          "histogram2dcontour": [
           {
            "colorbar": {
             "outlinewidth": 0,
             "ticks": ""
            },
            "colorscale": [
             [
              0,
              "#0d0887"
             ],
             [
              0.1111111111111111,
              "#46039f"
             ],
             [
              0.2222222222222222,
              "#7201a8"
             ],
             [
              0.3333333333333333,
              "#9c179e"
             ],
             [
              0.4444444444444444,
              "#bd3786"
             ],
             [
              0.5555555555555556,
              "#d8576b"
             ],
             [
              0.6666666666666666,
              "#ed7953"
             ],
             [
              0.7777777777777778,
              "#fb9f3a"
             ],
             [
              0.8888888888888888,
              "#fdca26"
             ],
             [
              1,
              "#f0f921"
             ]
            ],
            "type": "histogram2dcontour"
           }
          ],
          "mesh3d": [
           {
            "colorbar": {
             "outlinewidth": 0,
             "ticks": ""
            },
            "type": "mesh3d"
           }
          ],
          "parcoords": [
           {
            "line": {
             "colorbar": {
              "outlinewidth": 0,
              "ticks": ""
             }
            },
            "type": "parcoords"
           }
          ],
          "pie": [
           {
            "automargin": true,
            "type": "pie"
           }
          ],
          "scatter": [
           {
            "fillpattern": {
             "fillmode": "overlay",
             "size": 10,
             "solidity": 0.2
            },
            "type": "scatter"
           }
          ],
          "scatter3d": [
           {
            "line": {
             "colorbar": {
              "outlinewidth": 0,
              "ticks": ""
             }
            },
            "marker": {
             "colorbar": {
              "outlinewidth": 0,
              "ticks": ""
             }
            },
            "type": "scatter3d"
           }
          ],
          "scattercarpet": [
           {
            "marker": {
             "colorbar": {
              "outlinewidth": 0,
              "ticks": ""
             }
            },
            "type": "scattercarpet"
           }
          ],
          "scattergeo": [
           {
            "marker": {
             "colorbar": {
              "outlinewidth": 0,
              "ticks": ""
             }
            },
            "type": "scattergeo"
           }
          ],
          "scattergl": [
           {
            "marker": {
             "colorbar": {
              "outlinewidth": 0,
              "ticks": ""
             }
            },
            "type": "scattergl"
           }
          ],
          "scattermapbox": [
           {
            "marker": {
             "colorbar": {
              "outlinewidth": 0,
              "ticks": ""
             }
            },
            "type": "scattermapbox"
           }
          ],
          "scatterpolar": [
           {
            "marker": {
             "colorbar": {
              "outlinewidth": 0,
              "ticks": ""
             }
            },
            "type": "scatterpolar"
           }
          ],
          "scatterpolargl": [
           {
            "marker": {
             "colorbar": {
              "outlinewidth": 0,
              "ticks": ""
             }
            },
            "type": "scatterpolargl"
           }
          ],
          "scatterternary": [
           {
            "marker": {
             "colorbar": {
              "outlinewidth": 0,
              "ticks": ""
             }
            },
            "type": "scatterternary"
           }
          ],
          "surface": [
           {
            "colorbar": {
             "outlinewidth": 0,
             "ticks": ""
            },
            "colorscale": [
             [
              0,
              "#0d0887"
             ],
             [
              0.1111111111111111,
              "#46039f"
             ],
             [
              0.2222222222222222,
              "#7201a8"
             ],
             [
              0.3333333333333333,
              "#9c179e"
             ],
             [
              0.4444444444444444,
              "#bd3786"
             ],
             [
              0.5555555555555556,
              "#d8576b"
             ],
             [
              0.6666666666666666,
              "#ed7953"
             ],
             [
              0.7777777777777778,
              "#fb9f3a"
             ],
             [
              0.8888888888888888,
              "#fdca26"
             ],
             [
              1,
              "#f0f921"
             ]
            ],
            "type": "surface"
           }
          ],
          "table": [
           {
            "cells": {
             "fill": {
              "color": "#EBF0F8"
             },
             "line": {
              "color": "white"
             }
            },
            "header": {
             "fill": {
              "color": "#C8D4E3"
             },
             "line": {
              "color": "white"
             }
            },
            "type": "table"
           }
          ]
         },
         "layout": {
          "annotationdefaults": {
           "arrowcolor": "#2a3f5f",
           "arrowhead": 0,
           "arrowwidth": 1
          },
          "autotypenumbers": "strict",
          "coloraxis": {
           "colorbar": {
            "outlinewidth": 0,
            "ticks": ""
           }
          },
          "colorscale": {
           "diverging": [
            [
             0,
             "#8e0152"
            ],
            [
             0.1,
             "#c51b7d"
            ],
            [
             0.2,
             "#de77ae"
            ],
            [
             0.3,
             "#f1b6da"
            ],
            [
             0.4,
             "#fde0ef"
            ],
            [
             0.5,
             "#f7f7f7"
            ],
            [
             0.6,
             "#e6f5d0"
            ],
            [
             0.7,
             "#b8e186"
            ],
            [
             0.8,
             "#7fbc41"
            ],
            [
             0.9,
             "#4d9221"
            ],
            [
             1,
             "#276419"
            ]
           ],
           "sequential": [
            [
             0,
             "#0d0887"
            ],
            [
             0.1111111111111111,
             "#46039f"
            ],
            [
             0.2222222222222222,
             "#7201a8"
            ],
            [
             0.3333333333333333,
             "#9c179e"
            ],
            [
             0.4444444444444444,
             "#bd3786"
            ],
            [
             0.5555555555555556,
             "#d8576b"
            ],
            [
             0.6666666666666666,
             "#ed7953"
            ],
            [
             0.7777777777777778,
             "#fb9f3a"
            ],
            [
             0.8888888888888888,
             "#fdca26"
            ],
            [
             1,
             "#f0f921"
            ]
           ],
           "sequentialminus": [
            [
             0,
             "#0d0887"
            ],
            [
             0.1111111111111111,
             "#46039f"
            ],
            [
             0.2222222222222222,
             "#7201a8"
            ],
            [
             0.3333333333333333,
             "#9c179e"
            ],
            [
             0.4444444444444444,
             "#bd3786"
            ],
            [
             0.5555555555555556,
             "#d8576b"
            ],
            [
             0.6666666666666666,
             "#ed7953"
            ],
            [
             0.7777777777777778,
             "#fb9f3a"
            ],
            [
             0.8888888888888888,
             "#fdca26"
            ],
            [
             1,
             "#f0f921"
            ]
           ]
          },
          "colorway": [
           "#636efa",
           "#EF553B",
           "#00cc96",
           "#ab63fa",
           "#FFA15A",
           "#19d3f3",
           "#FF6692",
           "#B6E880",
           "#FF97FF",
           "#FECB52"
          ],
          "font": {
           "color": "#2a3f5f"
          },
          "geo": {
           "bgcolor": "white",
           "lakecolor": "white",
           "landcolor": "#E5ECF6",
           "showlakes": true,
           "showland": true,
           "subunitcolor": "white"
          },
          "hoverlabel": {
           "align": "left"
          },
          "hovermode": "closest",
          "mapbox": {
           "style": "light"
          },
          "paper_bgcolor": "white",
          "plot_bgcolor": "#E5ECF6",
          "polar": {
           "angularaxis": {
            "gridcolor": "white",
            "linecolor": "white",
            "ticks": ""
           },
           "bgcolor": "#E5ECF6",
           "radialaxis": {
            "gridcolor": "white",
            "linecolor": "white",
            "ticks": ""
           }
          },
          "scene": {
           "xaxis": {
            "backgroundcolor": "#E5ECF6",
            "gridcolor": "white",
            "gridwidth": 2,
            "linecolor": "white",
            "showbackground": true,
            "ticks": "",
            "zerolinecolor": "white"
           },
           "yaxis": {
            "backgroundcolor": "#E5ECF6",
            "gridcolor": "white",
            "gridwidth": 2,
            "linecolor": "white",
            "showbackground": true,
            "ticks": "",
            "zerolinecolor": "white"
           },
           "zaxis": {
            "backgroundcolor": "#E5ECF6",
            "gridcolor": "white",
            "gridwidth": 2,
            "linecolor": "white",
            "showbackground": true,
            "ticks": "",
            "zerolinecolor": "white"
           }
          },
          "shapedefaults": {
           "line": {
            "color": "#2a3f5f"
           }
          },
          "ternary": {
           "aaxis": {
            "gridcolor": "white",
            "linecolor": "white",
            "ticks": ""
           },
           "baxis": {
            "gridcolor": "white",
            "linecolor": "white",
            "ticks": ""
           },
           "bgcolor": "#E5ECF6",
           "caxis": {
            "gridcolor": "white",
            "linecolor": "white",
            "ticks": ""
           }
          },
          "title": {
           "x": 0.05
          },
          "xaxis": {
           "automargin": true,
           "gridcolor": "white",
           "linecolor": "white",
           "ticks": "",
           "title": {
            "standoff": 15
           },
           "zerolinecolor": "white",
           "zerolinewidth": 2
          },
          "yaxis": {
           "automargin": true,
           "gridcolor": "white",
           "linecolor": "white",
           "ticks": "",
           "title": {
            "standoff": 15
           },
           "zerolinecolor": "white",
           "zerolinewidth": 2
          }
         }
        },
        "width": 800
       }
      },
      "text/html": [
       "<div>                            <div id=\"e6e63bea-d5a4-4b6f-be1e-0bcd597379f0\" class=\"plotly-graph-div\" style=\"height:800px; width:800px;\"></div>            <script type=\"text/javascript\">                require([\"plotly\"], function(Plotly) {                    window.PLOTLYENV=window.PLOTLYENV || {};                                    if (document.getElementById(\"e6e63bea-d5a4-4b6f-be1e-0bcd597379f0\")) {                    Plotly.newPlot(                        \"e6e63bea-d5a4-4b6f-be1e-0bcd597379f0\",                        [{\"colorscale\":[[0,\"rgb(0,0,255)\"],[0,\"rgb(255,0,0)\"]],\"showscale\":false,\"x\":[[0.0004442143900337658,0.043727352636065565,0.08701049088209736,0.13029362912812914,0.17357676737416095,0.21685990562019275,0.26014304386622455,0.30342618211225636,0.34670932035828816,0.38999245860431997],[0.0004442143900337658,0.043727352636065565,0.08701049088209736,0.13029362912812914,0.17357676737416095,0.21685990562019275,0.26014304386622455,0.30342618211225636,0.34670932035828816,0.38999245860431997],[0.0004442143900337658,0.043727352636065565,0.08701049088209736,0.13029362912812914,0.17357676737416095,0.21685990562019275,0.26014304386622455,0.30342618211225636,0.34670932035828816,0.38999245860431997],[0.0004442143900337658,0.043727352636065565,0.08701049088209736,0.13029362912812914,0.17357676737416095,0.21685990562019275,0.26014304386622455,0.30342618211225636,0.34670932035828816,0.38999245860431997],[0.0004442143900337658,0.043727352636065565,0.08701049088209736,0.13029362912812914,0.17357676737416095,0.21685990562019275,0.26014304386622455,0.30342618211225636,0.34670932035828816,0.38999245860431997],[0.0004442143900337658,0.043727352636065565,0.08701049088209736,0.13029362912812914,0.17357676737416095,0.21685990562019275,0.26014304386622455,0.30342618211225636,0.34670932035828816,0.38999245860431997],[0.0004442143900337658,0.043727352636065565,0.08701049088209736,0.13029362912812914,0.17357676737416095,0.21685990562019275,0.26014304386622455,0.30342618211225636,0.34670932035828816,0.38999245860431997],[0.0004442143900337658,0.043727352636065565,0.08701049088209736,0.13029362912812914,0.17357676737416095,0.21685990562019275,0.26014304386622455,0.30342618211225636,0.34670932035828816,0.38999245860431997],[0.0004442143900337658,0.043727352636065565,0.08701049088209736,0.13029362912812914,0.17357676737416095,0.21685990562019275,0.26014304386622455,0.30342618211225636,0.34670932035828816,0.38999245860431997],[0.0004442143900337658,0.043727352636065565,0.08701049088209736,0.13029362912812914,0.17357676737416095,0.21685990562019275,0.26014304386622455,0.30342618211225636,0.34670932035828816,0.38999245860431997]],\"y\":[[-0.026768601712267685,-0.026768601712267685,-0.026768601712267685,-0.026768601712267685,-0.026768601712267685,-0.026768601712267685,-0.026768601712267685,-0.026768601712267685,-0.026768601712267685,-0.026768601712267685],[0.040170588583017426,0.040170588583017426,0.040170588583017426,0.040170588583017426,0.040170588583017426,0.040170588583017426,0.040170588583017426,0.040170588583017426,0.040170588583017426,0.040170588583017426],[0.10710977887830253,0.10710977887830253,0.10710977887830253,0.10710977887830253,0.10710977887830253,0.10710977887830253,0.10710977887830253,0.10710977887830253,0.10710977887830253,0.10710977887830253],[0.17404896917358764,0.17404896917358764,0.17404896917358764,0.17404896917358764,0.17404896917358764,0.17404896917358764,0.17404896917358764,0.17404896917358764,0.17404896917358764,0.17404896917358764],[0.24098815946887275,0.24098815946887275,0.24098815946887275,0.24098815946887275,0.24098815946887275,0.24098815946887275,0.24098815946887275,0.24098815946887275,0.24098815946887275,0.24098815946887275],[0.30792734976415786,0.30792734976415786,0.30792734976415786,0.30792734976415786,0.30792734976415786,0.30792734976415786,0.30792734976415786,0.30792734976415786,0.30792734976415786,0.30792734976415786],[0.374866540059443,0.374866540059443,0.374866540059443,0.374866540059443,0.374866540059443,0.374866540059443,0.374866540059443,0.374866540059443,0.374866540059443,0.374866540059443],[0.4418057303547281,0.4418057303547281,0.4418057303547281,0.4418057303547281,0.4418057303547281,0.4418057303547281,0.4418057303547281,0.4418057303547281,0.4418057303547281,0.4418057303547281],[0.5087449206500132,0.5087449206500132,0.5087449206500132,0.5087449206500132,0.5087449206500132,0.5087449206500132,0.5087449206500132,0.5087449206500132,0.5087449206500132,0.5087449206500132],[0.5756841109452984,0.5756841109452984,0.5756841109452984,0.5756841109452984,0.5756841109452984,0.5756841109452984,0.5756841109452984,0.5756841109452984,0.5756841109452984,0.5756841109452984]],\"z\":[[-6.317932572320942,-2.552974445126735,1.2119836820674719,4.976941809261677,8.741899936455884,12.506858063650094,16.2718161908443,20.036774318038507,23.801732445232716,27.56669057242692],[-7.896501312064085,-4.131543184869877,-0.3665850576756707,3.3983730695185344,7.1633311967127415,10.928289323906952,14.693247451101158,18.45820557829536,22.223163705489572,25.988121832683778],[-9.475070051807226,-5.71011192461302,-1.9451537974188131,1.8198043297753919,5.5847624569695995,9.349720584163808,13.114678711358014,16.87963683855222,20.644594965746432,24.409553092940637],[-11.05363879155037,-7.288680664356163,-3.523722537161956,0.24123559003224881,4.006193717226457,7.7711518444206655,11.53610997161487,15.301068098809075,19.066026226003284,22.830984353197493],[-12.632207531293513,-8.867249404099306,-5.102291276905099,-1.3373331497108938,2.427624977483314,6.192583104677523,9.95754123187173,13.722499359065935,17.487457486260144,21.25241561345435],[-14.210776271036654,-10.445818143842448,-6.680860016648241,-2.915901889454036,0.8490562377401716,4.6140143649343806,8.378972492128586,12.143930619322791,15.908888746517,19.673846873711206],[-15.7893450107798,-12.024386883585592,-8.259428756391385,-4.494470629197179,-0.7295125020029719,3.0354456251912367,6.800403752385443,10.56536187957965,14.330320006773858,18.095278133968062],[-17.367913750522938,-13.602955623328732,-9.837997496134527,-6.073039368940322,-2.3080812417461143,1.4568768854480942,5.2218350126423,8.986793139836506,12.751751267030716,16.51670939422492],[-18.946482490266085,-15.181524363071878,-11.416566235877669,-7.651608108683464,-3.886649981489257,-0.12169185429504827,3.6432662728991576,7.4082244000933635,11.173182527287572,14.93814065448178],[-20.52505123000923,-16.760093102815024,-12.995134975620815,-9.230176848426611,-5.465218721232402,-1.7002605940381927,2.0646975331560133,5.829655660350219,9.594613787544429,13.359571914738634]],\"type\":\"surface\",\"uid\":\"d5e26a83-2071-4903-b470-daa4a3185aae\"},{\"marker\":{\"color\":\"blue\"},\"mode\":\"markers\",\"x\":[0.011450478305243345,0.003758757507410948,0.07810454898646521,0.15386663897333602,0.008068161394105043,0.08883189705982501,0.09899210784393582,0.08359980502821875,0.007568438178548586,0.10043782782545496,0.11235254178040915,0.0731933645387387,0.05326795434428153,0.09333869917229277,0.05211502846226233,0.2826517021713883,0.06243769759214238,0.06447781957537009,0.12961170822415735,0.10449916075740523,0.09411705126045426,0.1366573399462249,0.11580015288110726,0.019881139886796705,0.20865616363079129,0.01673944496720903,0.011824873436250695,0.01103742467440267,0.11207635166051766,0.043521889103207895,0.010208840449631737,0.11823245984842991,0.17730628289287623,0.016301341687695592,0.017810978684413052,0.01411081673888888,0.03687412125752033,0.11470753104522301,0.024299333822134214,0.009143139151282991,0.009140305238120046,0.018026716313580368,0.16491887801609031,0.12685054615123015,0.007309414615438195,0.08007378607693487,0.06357981313657583,0.016489972541160046,0.031727962840212016,0.004345463556827554,0.09392944536357858,0.20493489037781457,0.01798154321778729,0.021820719921179406,0.011214425902448316,0.06273029213059736,0.03842068820395155,0.018867439614154526,0.07129373805403524,0.10823776702346957,0.08143351533720597,0.01436680602554974,0.32653685458146553,0.11331834134727978,0.018255361949521647,0.06033027742395239,0.011024499185042027,0.01673944496720903,0.010497196233104817,0.02884078352555984,0.011590948897066727,0.05146142995679436,0.11860080946740369,0.011380065385635376,0.19037834996661487,0.09401564706916386,0.0004442143900337658,0.17489149803396148,0.22397938750197316,0.0479066482304595,0.16997106545051477,0.052625857638565414,0.01390313895176926,0.028849091695310917,0.02280053208919384,0.008686055826571944,0.04431104646631777,0.023951523117817376,0.12978389798845782,0.21971471200219075,0.05353181055718579,0.014872522595913963,0.174353002806023,0.2409155610468607,0.09749425644469685,0.1139704763231446,0.010675812843877324,0.027269322195811085,0.03375931046643631,0.30280094947462993,0.2409155610468607,0.011916903291414937,0.09401564706916386,0.08973866144424038,0.02134994570776221,0.017016132807065366,0.024299333822134214,0.0817199970189517,0.17038975545774013,0.009657460549413747,0.10904242532467152,0.021105236390593043,0.10416198609201935,0.01636789247353072,0.058227925006702375,0.06398647922845205,0.026147341311161504,0.1527355712005818,0.03263772458944694,0.21801862663524588,0.13398073307878156,0.044880030422682106,0.038586791326879755,0.01636789247359095,0.12470341548429566,0.010631904239658799,0.011699168844984608,0.10108012105694474,0.1041478291075374,0.2826517021713883,0.013867903189101511,0.10798689654964151,0.041017153291170054,0.1004107715618563,0.21190081681073725,0.08491769944637712,0.1682122949683834,0.10569750914421373,0.08022720383742009,0.09127558345722503,0.17026598681753863,0.015201265860451806,0.18832337366419452,0.20610547832401307,0.009678240252552579,0.09859692522244116,0.009292734775113252,0.08910035646345314,0.1359790029054396,0.032173025229560566,0.08899628501031279,0.18592369508786896,0.02984300224736539,0.08099722631156583,0.15386663897333602,0.05146142995679436,0.010631904239658799,0.06466797332152197,0.25641128728059726,0.17979156164880009,0.020216779712525803,0.059097352343918594,0.10067037424916349,0.009657460549413747,0.003683905735402211,0.04112112216004501,0.062110500024156724,0.022800532069951484,0.11917227186731515,0.004862655480988184,0.07402649207852535,0.08491769944637712,0.1379253318061972,0.13787529253011935,0.02033804144280977,0.14572706689814305,0.010428970048404486,0.05787995630572119],\"y\":[0.13912397340571367,0.11837708502221961,-0.0009850398691191651,0.0052180154846596,0.23632648314936883,-0.0020258326122025512,-0.0030218515974140634,0.012637904018952395,0.23570942011936413,0.0005808104599182996,-0.0014864065273897692,0.000413751930318328,-0.000406188012185324,0.0022619769260039677,0.0016128388423410382,-0.005144947559012143,0.0029587292782595614,8.238802831591448e-05,-0.002556480425528335,0.0011334084375347127,-0.0018159553391774274,-0.0036428207969611123,-0.0016993418269153628,0.0885439660257702,-0.010087832477817915,0.43440852325730517,0.24774524057826713,0.3108645308341919,0.0013569398205134841,-0.0004897801731798136,0.25104308618241,-0.0021084654975216956,-0.0046686047350533106,0.13738569462208305,0.509602462510332,0.3751424116500527,0.0036483947282643626,-0.0013706344970972118,0.5756841109452984,0.17912172454568162,0.11395699687620243,0.506703885403755,-0.0017620619077204603,-0.0019209724483667163,0.1036972257438972,-0.0014863330106056605,0.0023713186524715506,0.5089094858915314,-0.0001979745628112475,0.09792600514928543,0.0016201085688680142,-0.0043096078110208625,0.0990901970850998,-0.0006999868776995358,0.4967131933256287,0.00040205175502637335,0.0009733898782176366,0.20888329671571804,-0.0011220841637280662,-0.0010543779486618574,0.0019302433875326695,0.3810639930995574,-0.014017442728036924,0.00042042111738190176,0.31128711502302625,-0.001607448508158229,0.29685200100356907,0.43440852325730517,0.46407649596010275,0.24628069491200627,0.5113361145787947,-0.0004999782139482858,-0.0005565718889273757,0.23402702155640775,0.008912775778052167,-0.002182632750668774,0.009914952631165602,0.019644940472671447,0.007365078204327404,0.0019458036662756961,-0.0015069489743454291,0.0034292039003293064,0.130128047573473,-0.0010135807563005634,0.5402129299695867,0.10479724664150761,0.0011048498217581329,0.5309536194813539,-0.0016850262352607207,0.007517553769747083,0.0009476437035596104,0.5029249089014017,-0.0032270307720955156,-0.018874115982645358,-0.0017354968536361722,-0.0007473109384812075,0.315441210607727,0.23761034232872819,0.0006784546345187266,-0.014198587545687617,-0.018874115982645358,0.4521477153900083,-0.002182632750668774,-0.0025462876535097463,0.21045927745703866,0.4320721799113749,0.5756841109452984,-0.0006511160833750352,-0.000714060922829298,0.11061072329850136,-0.0031505226353860144,-0.0004286191849666831,0.01306372711011306,0.4271686064830394,0.0018597015805117815,8.15133781840309e-05,0.3771399287806256,-0.0001940189101029882,0.0022539592760477075,-0.00203326190485651,-0.0013421052962697697,0.012489860086767163,0.1293321256426975,0.42716860648288735,0.009828334155660553,0.47216771998615603,0.2779375065511976,0.00017987977139474298,-0.001351682574863607,-0.005144947559012143,0.3694779026349501,-0.001791658350343041,0.005133094353265321,-0.0011903449215008067,-0.0016453484931989487,-3.373526293850429e-07,0.005608162458470294,-0.0012308938342767907,-0.0016217077782211186,-0.0008077586625198056,-0.0032366347930710094,0.33844936689162475,-0.0019233009654162476,0.03687381947936146,0.1340807384452266,0.00024349155715892574,0.18167478666227901,-0.0015658160997128125,0.000545930419735462,-0.00038766755670780384,-0.0020459960179847326,0.010589850837268188,0.0024562218071646357,-0.0005864395458183243,0.0052180154846596,-0.0004999782139482858,0.47216771998615603,-0.0016247629295560837,0.0005272706786777624,-0.004143938555260045,0.45979576930990934,-0.0009476329472583426,-0.002942039841905474,0.11061072329850136,0.12747825832250248,-0.0005803622183693811,-0.0009937890663800578,0.5402129292065029,-0.0013674862091868935,0.13085460872121663,-0.0013199785411984201,-3.373526293850429e-07,-0.002091997178836597,-0.0028993344153535466,0.14223514288977615,-0.005293026811602426,0.24637359559436234,0.00880382225415804],\"z\":[0.08007753865924555,0.03845676304005913,-0.0006770549937740156,-0.007540664697645752,0.02057473697910249,-0.001549571963788575,0.0001887681733889574,-0.010371980433650802,0.020506139887836016,0.00036379891956024325,0.0013399718999427526,-0.0010975824491875105,-0.00011854945743381386,-0.000507027218267624,0.0049247389076524225,-0.003143057804483459,-0.004009312731761957,1.282688198953596e-05,-0.0022732243755395082,0.003642829271567395,-0.002343575701499841,-0.00137900337127153,-0.0017597935989170327,0.03494775871555674,0.0033693265699132452,-0.37189588648771854,0.02145334175222863,-0.13310298422239292,0.0008324424813315346,-0.0005185696397803062,-0.043077524749088554,-0.0014666634277179255,-0.001777388227161687,-0.0349432720553726,0.7792447730650601,-0.029261954469348775,-0.0028524037460746963,-0.00028522316637641517,-0.36327784356503134,0.03618972615695875,-0.10439906808690286,0.7748894581922969,-0.0026365112759359193,-0.0019926677220430847,-0.09319468508731024,-0.0007906433610852552,-0.0005318655860210154,0.7779955289339876,-0.00046385905833605393,0.021070616844752806,0.006224630946950419,0.0013721554391644651,0.04887454570360111,-9.554773255072293e-05,0.7612596518607262,0.003128644981626237,-0.001074890268932605,0.14087399560940492,-0.0007268882926136748,-0.0019991579604220705,0.004867854453756514,-0.029673506935435384,0.006275709202930888,-0.00014896818311220915,-0.06951828637498272,-0.00044407458882745926,-0.1251010987079271,-0.37189588648771854,-0.18829232674153756,-0.004954029410385424,0.7810836649197226,-0.002426142688788223,0.002222073448281929,0.12767612340438605,-0.009162333517717053,-0.0007280047987940093,-0.000636816666860598,-0.018410216114887343,-0.010278833516883117,0.0010189337487568225,-0.002642328935056499,0.001585595856293813,-0.025392391744863397,-0.00025486465413899356,-0.3409137434524606,-0.09410070898996395,-0.0015279655737195125,-0.3357120463307771,-0.0014533701850745592,-0.008891848484244926,-0.001055295166608345,0.7701227693518589,0.001491818827125809,0.006481656782611166,0.0015618949203224759,0.0008913552707499013,-0.12966645526636628,0.08442468714280138,-0.0008128838870372196,0.004529064450748427,0.006481656782611166,-0.18425694813555848,-0.0007280047987940093,-0.00017741993497663217,0.0756908845337129,-0.3690603928507133,-0.36327784356503134,-0.0004744451143314272,-0.00307039644344562,-0.10065162999599281,0.0006013196351752408,-0.00012095531917686808,-0.011536802997988774,-0.3656373009891261,-0.0030178070752195567,0.0016435146555292058,-0.029232527574709833,-0.002973959830555251,-0.002669980811656793,-0.004076117472851336,-0.0023299950571042645,-0.006172216267425101,0.012445614003300907,-0.365637300984997,-0.010873469631505848,-0.19229967701513015,-0.0470565903192641,-0.0008158050365449025,-0.0011644157576141175,-0.003143057804483459,-0.028865613352488467,-0.001795804016182445,0.011625941540857478,-0.0007584504570615981,-0.001931864111305018,-0.0004137378039458916,0.0018856863242881188,-0.0012805583157147911,-0.0006330717536394005,0.00219591124044813,-0.0018122038203351033,-0.14934220485777577,0.0033481175656952873,-0.017286306086746042,-0.04049021709696676,-0.0005091813978080834,0.03665609289386997,-0.0017519560930152273,0.004801734044374169,-0.00037995805490202293,-0.0016041815576655015,-0.005606165469646359,0.0073670566328664444,0.0004767397792453607,-0.007540664697645752,-0.002426142688788223,-0.19229967701513015,-0.000308087598381434,0.00404953132148255,-0.00042463289577653073,-0.1868541957349784,-0.0011369049769493643,-0.0002608737284586224,-0.10065162999599281,0.23573191607196356,-0.0010184183479784812,-0.0006773330557672156,-0.3409137489797409,-0.0008164665857766498,-0.006105773910183843,-0.0006682954002228423,-0.0004137378039458916,-0.002557164531288006,-0.001312700201173739,0.0826212221467407,0.000679138139379405,-0.00472093153786508,-0.013240123962838895],\"type\":\"scatter3d\",\"uid\":\"e9e2243b-e6ec-4c13-a955-5bcae9269fdb\"},{\"marker\":{\"color\":\"red\"},\"mode\":\"markers\",\"x\":[0.0637496398006523,0.1625353454176754,0.21579455111034002,0.15382560155135086,0.10064472993486613,0.10960712061369526,0.3312853696962725,0.24786331558386038,0.16737941927956773,0.2848854276780347,0.13167235661190108,0.10126938826716117,0.10075041007879187,0.3095444852121832,0.16978766822395447,0.0898423819182465,0.22436298688552936,0.35958969708623145,0.1335210438603593,0.062331433125466275,0.2600668442837765,0.03944569600832326,0.14444238457246403,0.11743928038479037,0.19186139574895789,0.15265299654349884,0.22525418228312338,0.28709533794728714,0.33961688251548605,0.003537044866485694,0.2948569972048804,0.30196020829788967,0.3788680865845654,0.14207789622176467,0.13020052083441466,0.3436957802718601,0.11572061716355474,0.2051881500917575,0.28709533794728714,0.31472512937150143,0.24689037337250072,0.21842926879891036,0.037943763760941995,0.15809512958596994,0.1929172138150653,0.08910348538177845,0.27184011566526506,0.1532895246977206,0.3779593996523307,0.32184522121834575,0.10186202202768936,0.2015714607273333,0.15298038844731018,0.25205810147251906,0.26438167533611995,0.25886052041987173,0.1760869136870309,0.14853191393235263,0.10362201417755486,0.28987573874134,0.20559832738154324,0.3298084722803745,0.13423148843802457,0.30601067462119635,0.0944049955927733,0.11375106662407405,0.17566717864059866,0.22533778935754822,0.2948569972048804,0.17336256376156714,0.27926846541864747,0.133444077301961,0.13292487680076784,0.2987212460832644,0.3152875630289511,0.18045595553230268,0.1241420237084818,0.16681184512978603,0.20641513204610587,0.3136610033986345,0.08642029538200131,0.12370091709893416,0.1329353266616537,0.11387444526406501,0.19521757665016537,0.16129553801506513,0.16561011979908227,0.20283365751293012,0.31261384657053554,0.27089078600208377,0.0835068319070802,0.16020078734439847,0.0486592374823449,0.209813430604889,0.36001895436823306,0.3319332980766101,0.10820065063742898,0.24934246620784592,0.16198099669039132,0.30188256858595314,0.3281020380447527,0.09060501138306541,0.11375106662407405,0.18406836955392739,0.3453253579207267,0.12533592888710346,0.2977288640011306,0.31146959265323776,0.16951825699433187,0.10042072329880572,0.1854714404722798,0.1569579887098363,0.11397519921795572,0.14894027273869487,0.0948405767249616,0.10038412540720418,0.2542713282750753,0.10892184304914214,0.07961792925510411,0.15584715776834612,0.1603767611586817,0.0754166190858987,0.12923266528866778,0.14444238457246403,0.178647094783881,0.1200017128555762,0.1241420237084818,0.1160624233588579,0.17814283051916407,0.3021901174334717,0.3281020380447527,0.2504994124059998,0.12970287179996287,0.3135546987156219,0.12576145007838455,0.2985144462397485,0.1906477041504471,0.32979824270563735,0.2469764898412947,0.3779593996523307,0.2482972392245652,0.13218407044382266,0.11812129094327095,0.18710257139027991,0.17096624354411125,0.10839138062131037,0.3095444852121832,0.12778713478354836,0.17723868837684054,0.2599426921727554,0.2985144462397485,0.0936296647163481,0.11738712624587694,0.33090986191595884,0.12346392162615596,0.07630327826370725,0.27698817028662837,0.1386771831452551,0.20569653989136633,0.14233494078798534,0.1443422690416728,0.14230628933641934,0.20866760118986843,0.3457772755248819,0.14141393583441497,0.1272496198048018,0.14467602330234555,0.19324841613857976,0.18643146105832023,0.34667255629551463,0.23228416413366298,0.17648957279094393,0.10660525075664033,0.1526281370789754,0.18322784790525543,0.35216521080531515,0.22852220658520772,0.06932308767902766,0.35047318631334684,0.184294367550159,0.07229513093186558,0.06110081463158344,0.28948054900738324,0.14220828149150552,0.31472512937150143,0.18894669725246604,0.17577964442869481,0.20047661672388906,0.26868631580934027,0.1386699763149187,0.09696448981404839,0.35110403955991876,0.1121854170254587,0.12346392162615596,0.11388139510238302,0.12223210496174357,0.13142240024967441,0.14848000995183733,0.11955174332285577,0.25255601041759107,0.32184522121834575,0.3312853696962725,0.27089078600208377,0.15853305751939073,0.17265977796833093,0.22436298688552936,0.14816006796549153,0.1482802108960399,0.29379672879763885,0.2904618359566019,0.10655387243985869,0.3140407520414215,0.11938335669540984,0.1545851164314397,0.38999245860431997,0.08173662278780265,0.0971247378777341,0.1482802108960399,0.09526759916168334,0.10894315122042865,0.1063781683925906,0.13145478538758928,0.19798744049328215],\"y\":[0.0534684700907388,-0.0038835758334928505,-0.0052005144358281095,-0.007793828795122513,-0.0012426453590164404,-0.0021007617518366195,-0.023381125278693064,0.0038785292689525485,-0.0013809961458504034,-0.014384667253487943,-0.0026893558514448947,0.0008603649880402696,-0.0024824461031147365,-0.014028480907806734,-0.0019368839696156494,-0.0027485142241997587,-0.008209055414648657,-0.017338198262164334,-0.003958142579525641,-0.0013669563449055218,-0.010575325793179512,-0.0015417248934582034,-0.0031886553147937252,0.00477580867258767,0.05419309958220852,-0.0038178919878836086,-0.01609020046128945,-0.014719976042220057,-0.008006999910886261,0.013176596927729677,0.006260134709951262,0.007911973249313186,-0.02564649650870829,0.0022435105837076853,-0.004100576566651681,-0.019589466021451535,0.030996196176557522,-0.004622841806818793,-0.014719976042220057,-0.01605226524908777,-0.01190169703693861,-0.008846429610630535,-0.001132620973001838,-0.00817023082760798,-0.003068321754613886,6.111525091511406e-05,-0.013815401510721375,0.00014506913885293143,-0.0038946825494523564,-0.002578640243944342,-0.00016290468453441498,-0.013066202798352486,-0.0034980338427253637,-0.012332077612873174,0.007527117980202528,-0.015134747860232903,-0.004247973239041465,-0.004129425575054091,0.0030425754215625527,-0.016684952925511556,-0.004760089768464577,-0.016844315042338524,-0.001847576039272033,-0.004065606948423596,-0.0018079651426084068,0.0030606215324534593,-0.003588361184541079,0.003920675318503366,0.006260134709951262,-0.007894836833435101,0.002985259574989967,-0.0031660408491396125,-0.004023347853748239,-0.00936434566987403,-0.013111900694990295,-0.007559503442598144,-0.003644981688998614,-0.004351773813926444,-0.011670123417044126,0.0063546816424250524,-0.003744596562432673,-0.004111216632049376,-0.0036946539196552317,-0.0022669061677992523,-0.004140104635592804,0.005901861728916299,-0.002897097543175062,-0.010769748358377188,0.0014827197365798433,-0.016624012463294185,-0.0009229223500957754,0.013140111367324792,0.002889369679949336,-0.006972520876095446,-0.016254022743180396,-0.016074041308901346,-0.00378122932333036,-0.0035551605788261102,-0.004512059811988327,0.0012710808081017103,-0.017051324057306416,-0.002325524849020981,0.0030606215324534593,-0.011201226927255925,-0.014153395623184562,0.001959323231612349,-0.01951208527934874,-0.016758566391525467,-0.005054673215291566,-0.003031671156537722,-0.0032294426207682475,-0.0022429308299344412,-0.002683561882901634,-0.0046130506396499585,-0.0007739663562347475,0.001187315667130272,0.0045693801625545935,0.010302797876060166,0.0059807750713443434,-0.003793173896448532,-0.003889192331336439,-0.0018087655991925924,-0.002550218634421086,-0.0031886553147937252,-0.00350885090846404,-0.0008378014954346297,-0.003644981688998614,-0.0019339868848533106,-0.005271414797702047,-0.009105404738837376,-0.017051324057306416,-0.004131662870226031,-0.0035398561118587637,-0.01574663204351227,-0.0018847612305946332,-0.008840629145453308,0.01936783293463731,-0.02105390403456402,-0.010876591441063808,-0.0038946825494523564,-0.0056813526900613524,-0.004197218112482656,-0.00340338582414895,-0.004446096005070064,-0.004379784545734316,-0.0012494429361573445,-0.014028480907806734,-0.003841552603534853,-0.009735505325656878,-0.015759620989972755,-0.008840629145453308,0.008236519606385006,-0.0014069674597474325,-0.023261673650156696,-0.004584265935678338,0.002559952372675804,-0.012588708178563437,0.004949216840295043,-0.003105040779128069,-0.00412956677596771,-0.001084990981545163,0.016486415964076087,-0.0027740113842138533,0.004521922430246009,-0.004309786382568843,-0.002030723260812821,-0.003607148906255733,-0.004879248272552294,0.005651380987979718,-0.01507154307687385,-0.011735872029794264,-0.0035406359971358716,-0.0005270487396716856,-0.002388641824658607,-0.0051251945017128766,-0.02136723797724209,-0.007877739932009237,0.007317610253238552,-0.012296053874145674,-0.008305522527400274,-0.0010263584332916192,-0.0009463118226306208,-0.019687607863408556,-0.005266664588336727,-0.01605226524908777,-0.005091764973862935,-0.003997235295719266,-0.0009400579045213465,-0.01029753192954218,-0.004182782828110536,-0.002624556211351973,-0.02235975613977348,-0.0033485658165345964,-0.004584265935678338,-0.0007591117522202123,-0.0014196520401013508,0.034771213700054385,0.00347330387458475,-0.005574846676932125,-0.014808915702221509,-0.002578640243944342,-0.023381125278693064,-0.016624012463294185,-0.0017281938175141083,-0.004516755821943218,-0.008209055414648657,-0.002894371467961507,-0.003917608708688979,-0.006602077114763502,-0.00795080690976177,-0.003354210540050701,-0.015411470630956133,-0.0033685291611278197,-0.0036559671245061814,-0.026768601712267685,0.0006669811812209632,-0.0028852451899293754,-0.003917608708688979,0.00042816006852494166,-0.003002804004345155,-0.0038625144565399313,-0.002756360871235575,-0.0036392706376053682],\"z\":[-0.04271120292861841,-0.0026074254453781536,-0.0015853858022879513,0.000944245451673175,0.0006247246099420209,-0.0007206035734877375,0.012014912889400126,-0.009974661749545291,-0.000841393003255405,0.004016995363575403,0.0008244729330283032,0.007132391544355618,-0.0008818826467375336,0.008582849899394639,0.0027293307765150106,-0.0008270091131748278,0.002828098799370816,0.007303658840775928,-0.0005013078336789328,-0.0011263255865448932,0.0014721971570370788,-0.00047874133817232036,-0.003560651468633941,-0.004430628267624379,-0.04857617522177342,-0.0019085346905543977,0.007006931312958979,0.007868462880510475,0.001651234066419257,-0.0133072203531896,-0.018453367488092558,-0.011128728640069632,0.010835917146151706,-0.0039010900917409008,-0.0003101180125299587,0.010401165305255118,-0.026534779886078424,0.0036715151137454854,0.007868462880510475,0.0023347976173100234,0.002233400131531147,0.0019730323627950666,1.1045509008518786e-05,0.0022367923909787342,0.001743000794094413,-0.0010520392266920703,0.0036006720128609923,-0.002640949281115715,0.002076381595846108,-0.0004607936459314965,0.0007380199712943867,0.0035688215034142532,-0.0005433733523209396,0.004694662529592728,-0.008526824287364045,0.004079538439068714,-0.0016555427865426642,-0.0013618813330166148,0.012267090328984633,0.004655180272742418,-0.0015954486271242238,0.002529761030505475,0.0027457351369169986,-0.008274073261529617,-0.0014312878030790564,0.0055055260932078106,-0.0018113026669602662,-0.007946553148759333,-0.018453367488092558,0.0006424260454083025,-0.006270171181550306,-0.0007123729490667969,-0.0005469843214620391,0.00010439993085348206,0.0018247117791375862,0.008224456608483175,-0.0011019422720333848,0.004514274757139077,0.003560830483765042,-0.00916526145114908,0.0012347715521413532,-0.0004274535038759135,0.00015795701509158577,-0.0011332112913753814,-0.001210637737417913,-0.0016537787684629563,-0.0028643893897692366,0.001641394542690077,0.0009091914309933797,0.008257260850526199,-0.0006867984242788463,-0.009788093960218586,0.0010000974500111934,-4.409823690045669e-05,0.0060591199090638545,0.0037181775879893643,0.0001684369893136257,-0.002996960851989523,-0.00021816110761807903,-0.008615484868221848,0.002546906370087453,-0.0012614838280978642,0.0055055260932078106,0.0037880252223758495,0.01122725350352318,-0.002783109534927117,0.00855003552045524,0.005979335165105281,-2.9924605601784046e-05,-0.0005771216567591531,-0.0015737842760694739,0.0015556361933371432,-0.0006766149944344056,0.0003948429642158989,0.0010627312739128938,0.0006120548264755475,-0.008549748468501808,-0.01171282194002552,-0.0024569724352461364,-0.001956098748028823,0.0004646850282855554,-0.00033770976783340325,-0.0009998874312871023,-0.003560651468633941,-0.0011506578243683356,-0.001110960794828379,-0.0011019422720333848,-0.00031184798552949446,-0.001682631057943236,-0.0006977611487629709,0.002546906370087453,-0.000689083488032209,-0.0007162980760493956,0.007377454768637975,0.004471823271291088,0.0010922257160397675,-0.019851089171462104,0.00511620228598158,0.0028268369475114275,0.002076381595846108,-0.002627120696371869,-0.0015492922620286857,-0.0006201816555534901,-0.0008205084858858507,-0.0014387604643829042,0.003923648558892634,0.008582849899394639,-0.0006358077154414441,0.0027114021232395665,0.005026227749311194,0.0010922257160397675,0.012153248040475968,-0.0014125729133028365,0.009176114414285091,0.004192760903619946,0.0009699760686579688,0.003088857658091987,-0.008847531560848575,-0.0010499545962708709,-0.0006105436765403648,0.004365259303918198,0.008310023363718035,0.005037192649248267,-0.0067303518403937865,7.0767113293820325e-06,-0.00023308123559646166,-0.0017081587133862973,-0.0007555935676718403,0.014959026161423944,0.002203891460329907,0.002517304260199236,-0.0008043629641280288,0.0018337589962927304,0.0014312927915581658,0.0006866130720580924,0.0065691743972508265,-0.0009073327297362801,-0.005441542294556621,0.004278266976777819,0.0010777630667528463,0.00012998964757211895,-0.0007077173076678333,0.006695992652187987,0.00023647688686238516,0.0023347976173100234,0.00013606159858628767,-0.0026631841194995234,0.005366670636453195,0.00383235742818877,-0.0005849163947321788,-0.0002740568316945072,0.007673036775396844,-0.0033456323885796297,0.004192760903619946,0.0016291330479788633,-0.0010874109203480834,-0.03153807077403136,-0.002008061686306896,0.00112310448547682,0.005102675485351936,-0.0004607936459314965,0.012014912889400126,0.008257260850526199,0.004249358025058363,-0.001201233258061275,0.002828098799370816,-0.0020938734258664493,0.0015570486253455036,-0.002110236793051103,-0.0006577477320133828,0.00021943274903766263,0.003737347628925058,-0.0003382745543525051,0.0002091811445500514,0.011413010768238026,-0.0010550062557216384,-0.0001644097335217167,0.0015570486253455036,-0.0005978739924833512,-0.003704580535700904,-0.0003485716069480842,-0.0015255235580395356,-0.0011234742557769918],\"type\":\"scatter3d\",\"uid\":\"c2d68f59-6e27-4d97-b876-d7e0df6f9f02\"}],                        {\"template\":{\"data\":{\"barpolar\":[{\"marker\":{\"line\":{\"color\":\"#E5ECF6\",\"width\":0.5},\"pattern\":{\"fillmode\":\"overlay\",\"size\":10,\"solidity\":0.2}},\"type\":\"barpolar\"}],\"bar\":[{\"error_x\":{\"color\":\"#2a3f5f\"},\"error_y\":{\"color\":\"#2a3f5f\"},\"marker\":{\"line\":{\"color\":\"#E5ECF6\",\"width\":0.5},\"pattern\":{\"fillmode\":\"overlay\",\"size\":10,\"solidity\":0.2}},\"type\":\"bar\"}],\"carpet\":[{\"aaxis\":{\"endlinecolor\":\"#2a3f5f\",\"gridcolor\":\"white\",\"linecolor\":\"white\",\"minorgridcolor\":\"white\",\"startlinecolor\":\"#2a3f5f\"},\"baxis\":{\"endlinecolor\":\"#2a3f5f\",\"gridcolor\":\"white\",\"linecolor\":\"white\",\"minorgridcolor\":\"white\",\"startlinecolor\":\"#2a3f5f\"},\"type\":\"carpet\"}],\"choropleth\":[{\"colorbar\":{\"outlinewidth\":0,\"ticks\":\"\"},\"type\":\"choropleth\"}],\"contourcarpet\":[{\"colorbar\":{\"outlinewidth\":0,\"ticks\":\"\"},\"type\":\"contourcarpet\"}],\"contour\":[{\"colorbar\":{\"outlinewidth\":0,\"ticks\":\"\"},\"colorscale\":[[0.0,\"#0d0887\"],[0.1111111111111111,\"#46039f\"],[0.2222222222222222,\"#7201a8\"],[0.3333333333333333,\"#9c179e\"],[0.4444444444444444,\"#bd3786\"],[0.5555555555555556,\"#d8576b\"],[0.6666666666666666,\"#ed7953\"],[0.7777777777777778,\"#fb9f3a\"],[0.8888888888888888,\"#fdca26\"],[1.0,\"#f0f921\"]],\"type\":\"contour\"}],\"heatmapgl\":[{\"colorbar\":{\"outlinewidth\":0,\"ticks\":\"\"},\"colorscale\":[[0.0,\"#0d0887\"],[0.1111111111111111,\"#46039f\"],[0.2222222222222222,\"#7201a8\"],[0.3333333333333333,\"#9c179e\"],[0.4444444444444444,\"#bd3786\"],[0.5555555555555556,\"#d8576b\"],[0.6666666666666666,\"#ed7953\"],[0.7777777777777778,\"#fb9f3a\"],[0.8888888888888888,\"#fdca26\"],[1.0,\"#f0f921\"]],\"type\":\"heatmapgl\"}],\"heatmap\":[{\"colorbar\":{\"outlinewidth\":0,\"ticks\":\"\"},\"colorscale\":[[0.0,\"#0d0887\"],[0.1111111111111111,\"#46039f\"],[0.2222222222222222,\"#7201a8\"],[0.3333333333333333,\"#9c179e\"],[0.4444444444444444,\"#bd3786\"],[0.5555555555555556,\"#d8576b\"],[0.6666666666666666,\"#ed7953\"],[0.7777777777777778,\"#fb9f3a\"],[0.8888888888888888,\"#fdca26\"],[1.0,\"#f0f921\"]],\"type\":\"heatmap\"}],\"histogram2dcontour\":[{\"colorbar\":{\"outlinewidth\":0,\"ticks\":\"\"},\"colorscale\":[[0.0,\"#0d0887\"],[0.1111111111111111,\"#46039f\"],[0.2222222222222222,\"#7201a8\"],[0.3333333333333333,\"#9c179e\"],[0.4444444444444444,\"#bd3786\"],[0.5555555555555556,\"#d8576b\"],[0.6666666666666666,\"#ed7953\"],[0.7777777777777778,\"#fb9f3a\"],[0.8888888888888888,\"#fdca26\"],[1.0,\"#f0f921\"]],\"type\":\"histogram2dcontour\"}],\"histogram2d\":[{\"colorbar\":{\"outlinewidth\":0,\"ticks\":\"\"},\"colorscale\":[[0.0,\"#0d0887\"],[0.1111111111111111,\"#46039f\"],[0.2222222222222222,\"#7201a8\"],[0.3333333333333333,\"#9c179e\"],[0.4444444444444444,\"#bd3786\"],[0.5555555555555556,\"#d8576b\"],[0.6666666666666666,\"#ed7953\"],[0.7777777777777778,\"#fb9f3a\"],[0.8888888888888888,\"#fdca26\"],[1.0,\"#f0f921\"]],\"type\":\"histogram2d\"}],\"histogram\":[{\"marker\":{\"pattern\":{\"fillmode\":\"overlay\",\"size\":10,\"solidity\":0.2}},\"type\":\"histogram\"}],\"mesh3d\":[{\"colorbar\":{\"outlinewidth\":0,\"ticks\":\"\"},\"type\":\"mesh3d\"}],\"parcoords\":[{\"line\":{\"colorbar\":{\"outlinewidth\":0,\"ticks\":\"\"}},\"type\":\"parcoords\"}],\"pie\":[{\"automargin\":true,\"type\":\"pie\"}],\"scatter3d\":[{\"line\":{\"colorbar\":{\"outlinewidth\":0,\"ticks\":\"\"}},\"marker\":{\"colorbar\":{\"outlinewidth\":0,\"ticks\":\"\"}},\"type\":\"scatter3d\"}],\"scattercarpet\":[{\"marker\":{\"colorbar\":{\"outlinewidth\":0,\"ticks\":\"\"}},\"type\":\"scattercarpet\"}],\"scattergeo\":[{\"marker\":{\"colorbar\":{\"outlinewidth\":0,\"ticks\":\"\"}},\"type\":\"scattergeo\"}],\"scattergl\":[{\"marker\":{\"colorbar\":{\"outlinewidth\":0,\"ticks\":\"\"}},\"type\":\"scattergl\"}],\"scattermapbox\":[{\"marker\":{\"colorbar\":{\"outlinewidth\":0,\"ticks\":\"\"}},\"type\":\"scattermapbox\"}],\"scatterpolargl\":[{\"marker\":{\"colorbar\":{\"outlinewidth\":0,\"ticks\":\"\"}},\"type\":\"scatterpolargl\"}],\"scatterpolar\":[{\"marker\":{\"colorbar\":{\"outlinewidth\":0,\"ticks\":\"\"}},\"type\":\"scatterpolar\"}],\"scatter\":[{\"fillpattern\":{\"fillmode\":\"overlay\",\"size\":10,\"solidity\":0.2},\"type\":\"scatter\"}],\"scatterternary\":[{\"marker\":{\"colorbar\":{\"outlinewidth\":0,\"ticks\":\"\"}},\"type\":\"scatterternary\"}],\"surface\":[{\"colorbar\":{\"outlinewidth\":0,\"ticks\":\"\"},\"colorscale\":[[0.0,\"#0d0887\"],[0.1111111111111111,\"#46039f\"],[0.2222222222222222,\"#7201a8\"],[0.3333333333333333,\"#9c179e\"],[0.4444444444444444,\"#bd3786\"],[0.5555555555555556,\"#d8576b\"],[0.6666666666666666,\"#ed7953\"],[0.7777777777777778,\"#fb9f3a\"],[0.8888888888888888,\"#fdca26\"],[1.0,\"#f0f921\"]],\"type\":\"surface\"}],\"table\":[{\"cells\":{\"fill\":{\"color\":\"#EBF0F8\"},\"line\":{\"color\":\"white\"}},\"header\":{\"fill\":{\"color\":\"#C8D4E3\"},\"line\":{\"color\":\"white\"}},\"type\":\"table\"}]},\"layout\":{\"annotationdefaults\":{\"arrowcolor\":\"#2a3f5f\",\"arrowhead\":0,\"arrowwidth\":1},\"autotypenumbers\":\"strict\",\"coloraxis\":{\"colorbar\":{\"outlinewidth\":0,\"ticks\":\"\"}},\"colorscale\":{\"diverging\":[[0,\"#8e0152\"],[0.1,\"#c51b7d\"],[0.2,\"#de77ae\"],[0.3,\"#f1b6da\"],[0.4,\"#fde0ef\"],[0.5,\"#f7f7f7\"],[0.6,\"#e6f5d0\"],[0.7,\"#b8e186\"],[0.8,\"#7fbc41\"],[0.9,\"#4d9221\"],[1,\"#276419\"]],\"sequential\":[[0.0,\"#0d0887\"],[0.1111111111111111,\"#46039f\"],[0.2222222222222222,\"#7201a8\"],[0.3333333333333333,\"#9c179e\"],[0.4444444444444444,\"#bd3786\"],[0.5555555555555556,\"#d8576b\"],[0.6666666666666666,\"#ed7953\"],[0.7777777777777778,\"#fb9f3a\"],[0.8888888888888888,\"#fdca26\"],[1.0,\"#f0f921\"]],\"sequentialminus\":[[0.0,\"#0d0887\"],[0.1111111111111111,\"#46039f\"],[0.2222222222222222,\"#7201a8\"],[0.3333333333333333,\"#9c179e\"],[0.4444444444444444,\"#bd3786\"],[0.5555555555555556,\"#d8576b\"],[0.6666666666666666,\"#ed7953\"],[0.7777777777777778,\"#fb9f3a\"],[0.8888888888888888,\"#fdca26\"],[1.0,\"#f0f921\"]]},\"colorway\":[\"#636efa\",\"#EF553B\",\"#00cc96\",\"#ab63fa\",\"#FFA15A\",\"#19d3f3\",\"#FF6692\",\"#B6E880\",\"#FF97FF\",\"#FECB52\"],\"font\":{\"color\":\"#2a3f5f\"},\"geo\":{\"bgcolor\":\"white\",\"lakecolor\":\"white\",\"landcolor\":\"#E5ECF6\",\"showlakes\":true,\"showland\":true,\"subunitcolor\":\"white\"},\"hoverlabel\":{\"align\":\"left\"},\"hovermode\":\"closest\",\"mapbox\":{\"style\":\"light\"},\"paper_bgcolor\":\"white\",\"plot_bgcolor\":\"#E5ECF6\",\"polar\":{\"angularaxis\":{\"gridcolor\":\"white\",\"linecolor\":\"white\",\"ticks\":\"\"},\"bgcolor\":\"#E5ECF6\",\"radialaxis\":{\"gridcolor\":\"white\",\"linecolor\":\"white\",\"ticks\":\"\"}},\"scene\":{\"xaxis\":{\"backgroundcolor\":\"#E5ECF6\",\"gridcolor\":\"white\",\"gridwidth\":2,\"linecolor\":\"white\",\"showbackground\":true,\"ticks\":\"\",\"zerolinecolor\":\"white\"},\"yaxis\":{\"backgroundcolor\":\"#E5ECF6\",\"gridcolor\":\"white\",\"gridwidth\":2,\"linecolor\":\"white\",\"showbackground\":true,\"ticks\":\"\",\"zerolinecolor\":\"white\"},\"zaxis\":{\"backgroundcolor\":\"#E5ECF6\",\"gridcolor\":\"white\",\"gridwidth\":2,\"linecolor\":\"white\",\"showbackground\":true,\"ticks\":\"\",\"zerolinecolor\":\"white\"}},\"shapedefaults\":{\"line\":{\"color\":\"#2a3f5f\"}},\"ternary\":{\"aaxis\":{\"gridcolor\":\"white\",\"linecolor\":\"white\",\"ticks\":\"\"},\"baxis\":{\"gridcolor\":\"white\",\"linecolor\":\"white\",\"ticks\":\"\"},\"bgcolor\":\"#E5ECF6\",\"caxis\":{\"gridcolor\":\"white\",\"linecolor\":\"white\",\"ticks\":\"\"}},\"title\":{\"x\":0.05},\"xaxis\":{\"automargin\":true,\"gridcolor\":\"white\",\"linecolor\":\"white\",\"ticks\":\"\",\"title\":{\"standoff\":15},\"zerolinecolor\":\"white\",\"zerolinewidth\":2},\"yaxis\":{\"automargin\":true,\"gridcolor\":\"white\",\"linecolor\":\"white\",\"ticks\":\"\",\"title\":{\"standoff\":15},\"zerolinecolor\":\"white\",\"zerolinewidth\":2}}},\"width\":800,\"height\":800},                        {\"responsive\": true}                    ).then(function(){\n",
       "                            \n",
       "var gd = document.getElementById('e6e63bea-d5a4-4b6f-be1e-0bcd597379f0');\n",
       "var x = new MutationObserver(function (mutations, observer) {{\n",
       "        var display = window.getComputedStyle(gd).display;\n",
       "        if (!display || display === 'none') {{\n",
       "            console.log([gd, 'removed!']);\n",
       "            Plotly.purge(gd);\n",
       "            observer.disconnect();\n",
       "        }}\n",
       "}});\n",
       "\n",
       "// Listen for the removal of the full notebook cells\n",
       "var notebookContainer = gd.closest('#notebook-container');\n",
       "if (notebookContainer) {{\n",
       "    x.observe(notebookContainer, {childList: true});\n",
       "}}\n",
       "\n",
       "// Listen for the clearing of the current output cell\n",
       "var outputEl = gd.closest('.output');\n",
       "if (outputEl) {{\n",
       "    x.observe(outputEl, {childList: true});\n",
       "}}\n",
       "\n",
       "                        })                };                });            </script>        </div>"
      ]
     },
     "metadata": {},
     "output_type": "display_data"
    }
   ],
   "source": [
    "show3D(reduced_data, y_train_encoded, model)"
   ]
  },
  {
   "cell_type": "code",
   "execution_count": 30,
   "id": "communist-portuguese",
   "metadata": {},
   "outputs": [],
   "source": [
    "# pca = PCA(n_components=3)\n",
    "reduced_data = svd.fit_transform(X_test)"
   ]
  },
  {
   "cell_type": "code",
   "execution_count": 31,
   "id": "stuck-idaho",
   "metadata": {},
   "outputs": [
    {
     "name": "stdout",
     "output_type": "stream",
     "text": [
      "Confusion matrix: \n",
      " [[51 29]\n",
      " [ 1 91]]\n",
      "\n",
      "Classification report: \n",
      "               precision    recall  f1-score   support\n",
      "\n",
      "      Modern       0.98      0.64      0.77        80\n",
      " Renaissance       0.76      0.99      0.86        92\n",
      "\n",
      "    accuracy                           0.83       172\n",
      "   macro avg       0.87      0.81      0.82       172\n",
      "weighted avg       0.86      0.83      0.82       172\n",
      "\n"
     ]
    }
   ],
   "source": [
    "y_test_pred = model.predict(reduced_data)\n",
    "report(y_test, y_test_pred)"
   ]
  },
  {
   "cell_type": "code",
   "execution_count": 32,
   "id": "indian-spending",
   "metadata": {},
   "outputs": [
    {
     "data": {
      "application/vnd.plotly.v1+json": {
       "config": {
        "plotlyServerURL": "https://plot.ly"
       },
       "data": [
        {
         "colorscale": [
          [
           0,
           "rgb(0,0,255)"
          ],
          [
           0,
           "rgb(255,0,0)"
          ]
         ],
         "showscale": false,
         "type": "surface",
         "uid": "d56db81b-d475-4902-bfa7-956818bcc3c1",
         "x": [
          [
           0,
           0.062850516498205,
           0.12570103299641,
           0.188551549494615,
           0.25140206599282,
           0.314252582491025,
           0.37710309898923,
           0.439953615487435,
           0.50280413198564,
           0.565654648483845
          ],
          [
           0,
           0.062850516498205,
           0.12570103299641,
           0.188551549494615,
           0.25140206599282,
           0.314252582491025,
           0.37710309898923,
           0.439953615487435,
           0.50280413198564,
           0.565654648483845
          ],
          [
           0,
           0.062850516498205,
           0.12570103299641,
           0.188551549494615,
           0.25140206599282,
           0.314252582491025,
           0.37710309898923,
           0.439953615487435,
           0.50280413198564,
           0.565654648483845
          ],
          [
           0,
           0.062850516498205,
           0.12570103299641,
           0.188551549494615,
           0.25140206599282,
           0.314252582491025,
           0.37710309898923,
           0.439953615487435,
           0.50280413198564,
           0.565654648483845
          ],
          [
           0,
           0.062850516498205,
           0.12570103299641,
           0.188551549494615,
           0.25140206599282,
           0.314252582491025,
           0.37710309898923,
           0.439953615487435,
           0.50280413198564,
           0.565654648483845
          ],
          [
           0,
           0.062850516498205,
           0.12570103299641,
           0.188551549494615,
           0.25140206599282,
           0.314252582491025,
           0.37710309898923,
           0.439953615487435,
           0.50280413198564,
           0.565654648483845
          ],
          [
           0,
           0.062850516498205,
           0.12570103299641,
           0.188551549494615,
           0.25140206599282,
           0.314252582491025,
           0.37710309898923,
           0.439953615487435,
           0.50280413198564,
           0.565654648483845
          ],
          [
           0,
           0.062850516498205,
           0.12570103299641,
           0.188551549494615,
           0.25140206599282,
           0.314252582491025,
           0.37710309898923,
           0.439953615487435,
           0.50280413198564,
           0.565654648483845
          ],
          [
           0,
           0.062850516498205,
           0.12570103299641,
           0.188551549494615,
           0.25140206599282,
           0.314252582491025,
           0.37710309898923,
           0.439953615487435,
           0.50280413198564,
           0.565654648483845
          ],
          [
           0,
           0.062850516498205,
           0.12570103299641,
           0.188551549494615,
           0.25140206599282,
           0.314252582491025,
           0.37710309898923,
           0.439953615487435,
           0.50280413198564,
           0.565654648483845
          ]
         ],
         "y": [
          [
           -0.025719621098514604,
           -0.025719621098514604,
           -0.025719621098514604,
           -0.025719621098514604,
           -0.025719621098514604,
           -0.025719621098514604,
           -0.025719621098514604,
           -0.025719621098514604,
           -0.025719621098514604,
           -0.025719621098514604
          ],
          [
           0.0710345318105644,
           0.0710345318105644,
           0.0710345318105644,
           0.0710345318105644,
           0.0710345318105644,
           0.0710345318105644,
           0.0710345318105644,
           0.0710345318105644,
           0.0710345318105644,
           0.0710345318105644
          ],
          [
           0.1677886847196434,
           0.1677886847196434,
           0.1677886847196434,
           0.1677886847196434,
           0.1677886847196434,
           0.1677886847196434,
           0.1677886847196434,
           0.1677886847196434,
           0.1677886847196434,
           0.1677886847196434
          ],
          [
           0.2645428376287224,
           0.2645428376287224,
           0.2645428376287224,
           0.2645428376287224,
           0.2645428376287224,
           0.2645428376287224,
           0.2645428376287224,
           0.2645428376287224,
           0.2645428376287224,
           0.2645428376287224
          ],
          [
           0.3612969905378014,
           0.3612969905378014,
           0.3612969905378014,
           0.3612969905378014,
           0.3612969905378014,
           0.3612969905378014,
           0.3612969905378014,
           0.3612969905378014,
           0.3612969905378014,
           0.3612969905378014
          ],
          [
           0.4580511434468804,
           0.4580511434468804,
           0.4580511434468804,
           0.4580511434468804,
           0.4580511434468804,
           0.4580511434468804,
           0.4580511434468804,
           0.4580511434468804,
           0.4580511434468804,
           0.4580511434468804
          ],
          [
           0.5548052963559594,
           0.5548052963559594,
           0.5548052963559594,
           0.5548052963559594,
           0.5548052963559594,
           0.5548052963559594,
           0.5548052963559594,
           0.5548052963559594,
           0.5548052963559594,
           0.5548052963559594
          ],
          [
           0.6515594492650385,
           0.6515594492650385,
           0.6515594492650385,
           0.6515594492650385,
           0.6515594492650385,
           0.6515594492650385,
           0.6515594492650385,
           0.6515594492650385,
           0.6515594492650385,
           0.6515594492650385
          ],
          [
           0.7483136021741175,
           0.7483136021741175,
           0.7483136021741175,
           0.7483136021741175,
           0.7483136021741175,
           0.7483136021741175,
           0.7483136021741175,
           0.7483136021741175,
           0.7483136021741175,
           0.7483136021741175
          ],
          [
           0.8450677550831964,
           0.8450677550831964,
           0.8450677550831964,
           0.8450677550831964,
           0.8450677550831964,
           0.8450677550831964,
           0.8450677550831964,
           0.8450677550831964,
           0.8450677550831964,
           0.8450677550831964
          ]
         ],
         "z": [
          [
           -6.38130949577768,
           -0.9142945685510315,
           4.552720358675618,
           10.019735285902266,
           15.486750213128914,
           20.95376514035556,
           26.420780067582207,
           31.887794994808857,
           37.354809922035514,
           42.82182484926215
          ],
          [
           -8.662978583032206,
           -3.1959636558055573,
           2.2710512714210918,
           7.73806619864774,
           13.20508112587439,
           18.672096053101036,
           24.139110980327683,
           29.606125907554333,
           35.07314083478099,
           40.54015576200763
          ],
          [
           -10.94464767028673,
           -5.477632743060083,
           -0.010617815833433249,
           5.456397111393215,
           10.923412038619864,
           16.390426965846512,
           21.857441893073158,
           27.324456820299808,
           32.791471747526465,
           38.2584866747531
          ],
          [
           -13.226316757541257,
           -7.759301830314607,
           -2.2922869030879585,
           3.1747280241386897,
           8.64174295136534,
           14.108757878591987,
           19.575772805818634,
           25.04278773304528,
           30.509802660271937,
           35.97681758749858
          ],
          [
           -15.507985844795783,
           -10.040970917569135,
           -4.573955990342484,
           0.8930589368841639,
           6.360073864110813,
           11.827088791337463,
           17.294103718564106,
           22.761118645790756,
           28.228133573017413,
           33.69514850024405
          ],
          [
           -17.789654932050308,
           -12.32264000482366,
           -6.85562507759701,
           -1.388610150370361,
           4.078404776856288,
           9.545419704082937,
           15.012434631309583,
           20.47944955853623,
           25.94646448576289,
           31.413479412989528
          ],
          [
           -20.071324019304832,
           -14.604309092078184,
           -9.137294164851536,
           -3.670279237624888,
           1.7967356896017612,
           7.2637506168284105,
           12.730765544055055,
           18.197780471281703,
           23.664795398508364,
           29.131810325735
          ],
          [
           -22.352993106559364,
           -16.885978179332714,
           -11.418963252106064,
           -5.951948324879415,
           -0.4849333976527658,
           4.982081529573883,
           10.449096456800529,
           15.916111384027177,
           21.383126311253836,
           26.85014123848047
          ],
          [
           -24.634662193813888,
           -19.167647266587238,
           -13.700632339360588,
           -8.23361741213394,
           -2.766602484907291,
           2.7004124423193585,
           8.167427369546004,
           13.634442296772653,
           19.101457223999308,
           24.568472151225947
          ],
          [
           -26.916331281068413,
           -21.449316353841763,
           -15.982301426615114,
           -10.515286499388464,
           -5.048271572161815,
           0.4187433550648333,
           5.885758282291478,
           11.352773209518128,
           16.819788136744783,
           22.286803063971423
          ]
         ]
        },
        {
         "marker": {
          "color": "blue"
         },
         "mode": "markers",
         "type": "scatter3d",
         "uid": "6ec7b857-fcdc-4725-9a23-c773063a48c4",
         "x": [
          0.008220403300417758,
          0.16934362846908338,
          0.02521107595937412,
          0.007251205988866877,
          0.16038901175693737,
          0.02518543045698802,
          0.016476617644100407,
          0.023810039618924243,
          0.022794520707594846,
          0.03387396154366968,
          0.1375598653415707,
          0.025552316378735916,
          0.017664524955117965,
          0,
          0.059527460419818594,
          0.1805504295209211,
          0.06050786982972624,
          0.12451333619740305,
          0.04067713989279909,
          0.15078495511371,
          0.09112618100408627,
          0.03416119662440106,
          0.014311282049318334,
          0.048229700528202434,
          0.13666006218180185,
          0.019681374331320584,
          0.0638640550914032,
          0.009607395095342924,
          0.02203536878295771,
          0.03387247269728042,
          0.1124005131952129,
          0.017734107067228028,
          0.16479898679257673,
          0.011401661125467009,
          0.32105128893458856,
          0.011313393348221198,
          0.017307282888339694,
          0.2965697840000789,
          0.010704507635873502,
          0.014588052074307235,
          0.014207331588404492,
          0.03296320574433316,
          0.1363864664445811,
          0.02498214527161382,
          0.06982878537652518,
          0.09351508686545269,
          0.05494817333464883,
          0.10672721913262481,
          0.09268857289407845,
          0.13329410756385715,
          0.04249851844314821,
          0.023049033485392608,
          0.035958520983607904,
          0.13841221736377893,
          0.07317477037417766,
          0.15528321973629144,
          0.014588052074307235,
          0,
          0.04647727761308479,
          0.06906365904692413,
          0.022713109028565853,
          0.22031326295519363,
          0.15571155033895498,
          0.025552316378735916,
          0.16029780667935722,
          0.014588052074307235,
          0.15802180706231517,
          0.09040687407674941,
          0.024849195136758033,
          0.021950116457859332,
          0.22400320876817006,
          0.06472669038580363,
          0.023239998464144568,
          0.11572838527448402,
          0.15267653416169807,
          0.03387396154366968,
          0.11304629476476317,
          0.09182223983065163,
          0.02131300390537478,
          0.07121251729051925
         ],
         "y": [
          0.15889393243968566,
          -0.005148137239515709,
          0.26725429965438807,
          0.16044847274524437,
          -0.0032852911826988023,
          0.21088645476321552,
          0.1173203920665236,
          0.832809762079782,
          0.8450677550831964,
          0.39346940383769724,
          0.0029485944669203033,
          0.2692511168906829,
          0.23301569377353457,
          0,
          -0.002881194342940732,
          -0.008701818667808442,
          -0.0016663544794025046,
          -0.005117206832273149,
          -0.0006759604874846614,
          -0.006346797519152168,
          -0.0036767234404973086,
          0.19433159857672444,
          0.20797590048992495,
          -0.0011856699707719067,
          -0.002451796847497218,
          -0.0008769211185603381,
          -0.0027861995215588613,
          0.15076139668320812,
          0.8202938909597923,
          0.25709649156259096,
          -0.0006251048654678731,
          0.43715525568633024,
          -0.0058791401477776934,
          0.24631040595462775,
          -0.009262220288623202,
          0.2694152563333109,
          0.4199325669871015,
          -0.008314435301083821,
          0.25568028342607463,
          0.11379310487552227,
          -0.0007029901925682707,
          0.25776332933731755,
          -0.0025628283524893537,
          0.26396665172619715,
          -0.0031247529611889073,
          0.002502519213110006,
          -0.002545490649478729,
          0.0008984531412945282,
          0.0034837517112979066,
          0.0019467911321616647,
          0.10393904661106487,
          0.2330883943509129,
          0.2569360760292566,
          -0.00419137312823567,
          -0.00330795526417621,
          -0.007100926473416088,
          0.11379310487552227,
          0,
          -0.0019015882666508733,
          -3.691768859022516e-05,
          0.8225767276411867,
          -0.004605733152893336,
          0.00023864334161969507,
          0.2692511168906829,
          -0.004541706379765288,
          0.11379310487552227,
          0.0025096311992432656,
          -0.004100555079508766,
          0.213960445032621,
          0.7991627115862312,
          -0.012569766380791244,
          -0.00020605156614129762,
          0.4152748973463189,
          -0.0038480040274592063,
          -0.005075908881760555,
          0.39346940383769724,
          -0.004070593794772833,
          -0.0017614783544975747,
          0.22009067721837836,
          -0.002846726901077655
         ],
         "z": [
          0.07564326260201894,
          -0.0034735655988864297,
          0.8773538020052514,
          0.07623130195172961,
          0.0025299270904816577,
          0.0969785712067517,
          0.04721384388555039,
          -0.36270232958925824,
          -0.3670088534155889,
          0.22564069304488985,
          0.0025282077213591016,
          0.8852705378352339,
          0.08687333930170874,
          0,
          -0.0025496335414125623,
          -0.004428053340040457,
          -0.0017825741789226955,
          -0.0029532127055982966,
          -0.0013330785132041646,
          -0.0034292771074825347,
          -0.0022511046075943475,
          0.07923985397137338,
          0.10003399851060946,
          0.00032053369744762967,
          -0.0025001979441236022,
          -0.0003443190298112476,
          0.0006727234526356853,
          0.06053732264473621,
          -0.3581728232477579,
          0.04594276822498819,
          -0.0029220489367886163,
          -0.0327297096263846,
          -0.0005502013168901991,
          0.20151075725249093,
          -0.005423634186844305,
          0.21443240058052793,
          -0.030139808515928207,
          -0.003662881750381326,
          0.21191453247505665,
          0.05398053366120607,
          -0.0005168809753508535,
          0.045991407109489374,
          -0.0007426704120981395,
          0.8710895738738149,
          -0.002327781876632196,
          0.0017712305393382756,
          -0.0018054089437186565,
          0.01054440752571683,
          -0.005212673360361138,
          -0.007649298969919637,
          0.043827539212819615,
          0.06964378815658168,
          0.04646494663232049,
          -0.003814855447485214,
          -0.0019643047182700928,
          -0.0018124843806070024,
          0.05398053366120607,
          0,
          -0.0012526913102139364,
          -0.0024178103564555966,
          -0.35906234383000923,
          0.0017961674613649204,
          -0.003085902411202046,
          0.8852705378352339,
          -0.004204935610998723,
          0.05398053366120607,
          -0.0001449309367595991,
          -0.002444730731496685,
          0.11210917800018316,
          -0.35046446168565576,
          -0.0052051264499432355,
          -0.001628053164883775,
          -0.03151843360737943,
          -0.0018558799712216256,
          -0.0020045117875244055,
          0.22564069304488985,
          -0.0023452564973318038,
          -0.0027300155076240367,
          0.10163621569523866,
          -0.0008220703272979642
         ]
        },
        {
         "marker": {
          "color": "red"
         },
         "mode": "markers",
         "type": "scatter3d",
         "uid": "1f3e9225-201e-485b-b7b7-05b94a3aca31",
         "x": [
          0.2450807916783103,
          0.09584557374123572,
          0.19008574787882998,
          0.10376047371340402,
          0.22989863418509066,
          0.3529120397936232,
          0.3061560909872183,
          0.1839830943164221,
          0.14520439970126378,
          0.3152864302923038,
          0.31426024886120585,
          0.37965835136417203,
          0.14881570988709653,
          0.12637961378182413,
          0.2450807916783103,
          0.14034430207973314,
          0.30073792152926787,
          0.1941528353739848,
          0.27491763460935503,
          0.2562251825505068,
          0.27779237162061576,
          0.179658454039139,
          0.3769507362538516,
          0.0842102348589417,
          0.31426024886120585,
          0.13619588268003335,
          0.33039506550530234,
          0.27251908967507604,
          0.2978246396215573,
          0.16300851835718866,
          0.2261714615904723,
          0.1283306625328318,
          0.16962992121112405,
          0.22519521869561207,
          0.3339982672899821,
          0.16687500863376176,
          0.2689736200954709,
          0.4295632863742406,
          0.3653739457831688,
          0.12085087455704967,
          0.14757714426300358,
          0.4714388082619679,
          0.13519656854425569,
          0.31191558492252347,
          0.2919265550102943,
          0.10596989225742173,
          0.13845707069845106,
          0.21295351355102704,
          0.2555875255468237,
          0.3051455051554274,
          0.3788499194079401,
          0.23094427933194067,
          0.14425429910772727,
          0.20146877468362687,
          0.1731880231447718,
          0.1508884970677631,
          0.32994066553851975,
          0.2681384990347644,
          0.30229576722668183,
          0.28987568641955674,
          0.24628495945356202,
          0.07573088378462722,
          0.4073287389679766,
          0.11975954170715337,
          0.32680094057819115,
          0.18732552723038098,
          0.12265752588391214,
          0.15531935168661334,
          0.10974558768666773,
          0.35369758553487046,
          0.17068322050254225,
          0.1607707457458796,
          0.5240618146477928,
          0.13014346219925657,
          0.2029881566710721,
          0.1898992539271139,
          0.08245090565522192,
          0.565654648483845,
          0.14799340277320877,
          0.3942629576577077,
          0.31833849511424145,
          0.17001569684247542,
          0.11991165488685347,
          0.11503514495012368,
          0.198814429750517,
          0.34094678974843484,
          0.25721167594034205,
          0.352141053438876,
          0.28430726650046734,
          0.20802798448433926,
          0.3607732333885626,
          0.408776496884394
         ],
         "y": [
          -0.0033940392096650962,
          -0.004718330186367573,
          -0.009062037056696132,
          -0.004955448876388623,
          -0.011245374757285834,
          -0.017770725704894803,
          0.007848976152585337,
          -0.006834433936564195,
          -0.006568462486017033,
          -0.011922171586430538,
          -0.013563317548759168,
          -0.015092879723890333,
          0.0038542590002346895,
          -0.005427141589638598,
          -0.0033940392096650962,
          -0.0020438432507127544,
          -0.012828372345247311,
          -0.005591737585926689,
          -0.008441885236208426,
          -0.00641513533564512,
          -0.013283348134990528,
          -0.0021961282522236715,
          -0.01796194951322513,
          -0.004374151466132452,
          -0.013563317548759168,
          -0.005974971187784644,
          -0.01648937482722965,
          -0.012708638325268572,
          -0.006513345001874481,
          -0.00675221693863178,
          -0.010252368894843282,
          -0.004684079842973369,
          -0.007429942274523033,
          -0.0056708947000712,
          -0.014657493763510858,
          -0.007967273039643834,
          -0.005735492882874186,
          -0.022284409223657025,
          -0.012473034987114537,
          0.0012787168556784088,
          -0.0068338762495500985,
          -0.025719621098514604,
          -0.005694526431148921,
          -0.006583452768580101,
          -0.012995655680166534,
          -0.0052813946378831925,
          -0.0057044577277850185,
          -0.008059224951649055,
          -0.013443646091433047,
          -0.009266390401076512,
          -0.017075063872203887,
          -0.011083397431025125,
          -0.006118714630200385,
          -0.007866878582754233,
          -0.008397703147219908,
          -0.007697533169828794,
          -0.017531619413428713,
          -0.009863382079583654,
          -0.01574562074426772,
          -0.011156023604724735,
          -0.004959396519129222,
          -0.0038698908441316135,
          -0.02115392008215581,
          -0.003607174931809615,
          -0.00809645581779233,
          -0.003911144930587864,
          -0.0054955459366930835,
          -0.005284347528065053,
          -0.003177943512110221,
          -0.010053584911823496,
          0.022578753696661073,
          -0.007761883015349203,
          -0.01591161338318316,
          -0.006099283778115411,
          -0.008951618117363317,
          -0.00896395737846852,
          -0.0027155017630534897,
          -0.0241519255059811,
          0.002788787339970145,
          -0.02026467769578582,
          -0.003828877884931397,
          -0.007506135507874587,
          -0.004963831875997735,
          -0.003281702990755471,
          -0.0061730272295481585,
          -0.0162567960827944,
          -0.011426452165424851,
          -0.014166993859626517,
          -0.008586989004711595,
          -0.0018418726408129776,
          -0.012318842696780108,
          -0.021674015575078014
         ],
         "z": [
          0.0157146683846218,
          -0.0018468455795518702,
          -0.0060905510675326865,
          -0.002639782163622892,
          -0.00647827762185258,
          -0.008480278821839176,
          -0.0038805680344047755,
          -0.005037359776069183,
          -0.0033587332555631566,
          -0.008120149875560203,
          -0.00824413894242454,
          -0.0073886022485348795,
          0.004795764510807724,
          -0.003503343032137363,
          0.0157146683846218,
          0.0007164243548312729,
          -0.007576368244125063,
          -0.003983507072302325,
          0.0003297103975526859,
          -0.0028313630743846416,
          -0.006834408976310963,
          -0.003310243068607382,
          -0.009370283132636877,
          -0.0023694814691921457,
          -0.00824413894242454,
          -0.004465643420192249,
          -0.008795779677957364,
          -0.005851323804063014,
          0.010611427277259044,
          -0.0073125095237807185,
          -0.009905182757642518,
          -0.0029787712648725122,
          -0.003923007986641045,
          -0.0013091642305755006,
          -0.007957644056092015,
          -0.004953029334421804,
          0.011765011860222144,
          -0.010019010963218796,
          0.009866742023034135,
          0.015541994029608038,
          -0.005211310650525108,
          -0.01202662351938061,
          -0.004726015990391824,
          0.012101751652213803,
          -0.0092132891346125,
          -0.005000385480171919,
          -0.005267285787597413,
          -0.005568850440874379,
          -0.0062498194436129695,
          -0.006610617096208704,
          -0.00823998842464512,
          -0.007781719622689122,
          -0.0038806619587210774,
          -0.004616273694637422,
          -0.004631228133785376,
          -0.004704882966348116,
          -0.008219388685472109,
          -0.006350803074937096,
          -0.007813394133341929,
          -0.007909486224861232,
          0.011044899088792316,
          -0.0019956202237749465,
          -0.009321561460452226,
          -0.007289706995222481,
          0.00021684630913061616,
          -0.00508777143428683,
          -0.003060537308141071,
          -0.004168334346596678,
          -0.004210691938160682,
          -0.006693555253200744,
          -0.023174153906718002,
          -0.0032394234045119855,
          0.016096461934946207,
          -0.003811042361461986,
          -0.0049961049215269185,
          -0.004770019643416322,
          -0.002122221242315445,
          -0.015036522626539553,
          -0.0027739888303168155,
          -0.008550948339793727,
          0.004741305531847688,
          -0.0032787872971089312,
          -0.005673953898234566,
          -0.0031618837538324933,
          -0.006353058434406525,
          -0.0089815325545724,
          -0.007123150272276393,
          -0.006673372582306413,
          -0.00337068259828961,
          -0.0016453335745316813,
          0.009765533393855795,
          -0.01022253464221956
         ]
        }
       ],
       "layout": {
        "height": 800,
        "template": {
         "data": {
          "bar": [
           {
            "error_x": {
             "color": "#2a3f5f"
            },
            "error_y": {
             "color": "#2a3f5f"
            },
            "marker": {
             "line": {
              "color": "#E5ECF6",
              "width": 0.5
             },
             "pattern": {
              "fillmode": "overlay",
              "size": 10,
              "solidity": 0.2
             }
            },
            "type": "bar"
           }
          ],
          "barpolar": [
           {
            "marker": {
             "line": {
              "color": "#E5ECF6",
              "width": 0.5
             },
             "pattern": {
              "fillmode": "overlay",
              "size": 10,
              "solidity": 0.2
             }
            },
            "type": "barpolar"
           }
          ],
          "carpet": [
           {
            "aaxis": {
             "endlinecolor": "#2a3f5f",
             "gridcolor": "white",
             "linecolor": "white",
             "minorgridcolor": "white",
             "startlinecolor": "#2a3f5f"
            },
            "baxis": {
             "endlinecolor": "#2a3f5f",
             "gridcolor": "white",
             "linecolor": "white",
             "minorgridcolor": "white",
             "startlinecolor": "#2a3f5f"
            },
            "type": "carpet"
           }
          ],
          "choropleth": [
           {
            "colorbar": {
             "outlinewidth": 0,
             "ticks": ""
            },
            "type": "choropleth"
           }
          ],
          "contour": [
           {
            "colorbar": {
             "outlinewidth": 0,
             "ticks": ""
            },
            "colorscale": [
             [
              0,
              "#0d0887"
             ],
             [
              0.1111111111111111,
              "#46039f"
             ],
             [
              0.2222222222222222,
              "#7201a8"
             ],
             [
              0.3333333333333333,
              "#9c179e"
             ],
             [
              0.4444444444444444,
              "#bd3786"
             ],
             [
              0.5555555555555556,
              "#d8576b"
             ],
             [
              0.6666666666666666,
              "#ed7953"
             ],
             [
              0.7777777777777778,
              "#fb9f3a"
             ],
             [
              0.8888888888888888,
              "#fdca26"
             ],
             [
              1,
              "#f0f921"
             ]
            ],
            "type": "contour"
           }
          ],
          "contourcarpet": [
           {
            "colorbar": {
             "outlinewidth": 0,
             "ticks": ""
            },
            "type": "contourcarpet"
           }
          ],
          "heatmap": [
           {
            "colorbar": {
             "outlinewidth": 0,
             "ticks": ""
            },
            "colorscale": [
             [
              0,
              "#0d0887"
             ],
             [
              0.1111111111111111,
              "#46039f"
             ],
             [
              0.2222222222222222,
              "#7201a8"
             ],
             [
              0.3333333333333333,
              "#9c179e"
             ],
             [
              0.4444444444444444,
              "#bd3786"
             ],
             [
              0.5555555555555556,
              "#d8576b"
             ],
             [
              0.6666666666666666,
              "#ed7953"
             ],
             [
              0.7777777777777778,
              "#fb9f3a"
             ],
             [
              0.8888888888888888,
              "#fdca26"
             ],
             [
              1,
              "#f0f921"
             ]
            ],
            "type": "heatmap"
           }
          ],
          "heatmapgl": [
           {
            "colorbar": {
             "outlinewidth": 0,
             "ticks": ""
            },
            "colorscale": [
             [
              0,
              "#0d0887"
             ],
             [
              0.1111111111111111,
              "#46039f"
             ],
             [
              0.2222222222222222,
              "#7201a8"
             ],
             [
              0.3333333333333333,
              "#9c179e"
             ],
             [
              0.4444444444444444,
              "#bd3786"
             ],
             [
              0.5555555555555556,
              "#d8576b"
             ],
             [
              0.6666666666666666,
              "#ed7953"
             ],
             [
              0.7777777777777778,
              "#fb9f3a"
             ],
             [
              0.8888888888888888,
              "#fdca26"
             ],
             [
              1,
              "#f0f921"
             ]
            ],
            "type": "heatmapgl"
           }
          ],
          "histogram": [
           {
            "marker": {
             "pattern": {
              "fillmode": "overlay",
              "size": 10,
              "solidity": 0.2
             }
            },
            "type": "histogram"
           }
          ],
          "histogram2d": [
           {
            "colorbar": {
             "outlinewidth": 0,
             "ticks": ""
            },
            "colorscale": [
             [
              0,
              "#0d0887"
             ],
             [
              0.1111111111111111,
              "#46039f"
             ],
             [
              0.2222222222222222,
              "#7201a8"
             ],
             [
              0.3333333333333333,
              "#9c179e"
             ],
             [
              0.4444444444444444,
              "#bd3786"
             ],
             [
              0.5555555555555556,
              "#d8576b"
             ],
             [
              0.6666666666666666,
              "#ed7953"
             ],
             [
              0.7777777777777778,
              "#fb9f3a"
             ],
             [
              0.8888888888888888,
              "#fdca26"
             ],
             [
              1,
              "#f0f921"
             ]
            ],
            "type": "histogram2d"
           }
          ],
          "histogram2dcontour": [
           {
            "colorbar": {
             "outlinewidth": 0,
             "ticks": ""
            },
            "colorscale": [
             [
              0,
              "#0d0887"
             ],
             [
              0.1111111111111111,
              "#46039f"
             ],
             [
              0.2222222222222222,
              "#7201a8"
             ],
             [
              0.3333333333333333,
              "#9c179e"
             ],
             [
              0.4444444444444444,
              "#bd3786"
             ],
             [
              0.5555555555555556,
              "#d8576b"
             ],
             [
              0.6666666666666666,
              "#ed7953"
             ],
             [
              0.7777777777777778,
              "#fb9f3a"
             ],
             [
              0.8888888888888888,
              "#fdca26"
             ],
             [
              1,
              "#f0f921"
             ]
            ],
            "type": "histogram2dcontour"
           }
          ],
          "mesh3d": [
           {
            "colorbar": {
             "outlinewidth": 0,
             "ticks": ""
            },
            "type": "mesh3d"
           }
          ],
          "parcoords": [
           {
            "line": {
             "colorbar": {
              "outlinewidth": 0,
              "ticks": ""
             }
            },
            "type": "parcoords"
           }
          ],
          "pie": [
           {
            "automargin": true,
            "type": "pie"
           }
          ],
          "scatter": [
           {
            "fillpattern": {
             "fillmode": "overlay",
             "size": 10,
             "solidity": 0.2
            },
            "type": "scatter"
           }
          ],
          "scatter3d": [
           {
            "line": {
             "colorbar": {
              "outlinewidth": 0,
              "ticks": ""
             }
            },
            "marker": {
             "colorbar": {
              "outlinewidth": 0,
              "ticks": ""
             }
            },
            "type": "scatter3d"
           }
          ],
          "scattercarpet": [
           {
            "marker": {
             "colorbar": {
              "outlinewidth": 0,
              "ticks": ""
             }
            },
            "type": "scattercarpet"
           }
          ],
          "scattergeo": [
           {
            "marker": {
             "colorbar": {
              "outlinewidth": 0,
              "ticks": ""
             }
            },
            "type": "scattergeo"
           }
          ],
          "scattergl": [
           {
            "marker": {
             "colorbar": {
              "outlinewidth": 0,
              "ticks": ""
             }
            },
            "type": "scattergl"
           }
          ],
          "scattermapbox": [
           {
            "marker": {
             "colorbar": {
              "outlinewidth": 0,
              "ticks": ""
             }
            },
            "type": "scattermapbox"
           }
          ],
          "scatterpolar": [
           {
            "marker": {
             "colorbar": {
              "outlinewidth": 0,
              "ticks": ""
             }
            },
            "type": "scatterpolar"
           }
          ],
          "scatterpolargl": [
           {
            "marker": {
             "colorbar": {
              "outlinewidth": 0,
              "ticks": ""
             }
            },
            "type": "scatterpolargl"
           }
          ],
          "scatterternary": [
           {
            "marker": {
             "colorbar": {
              "outlinewidth": 0,
              "ticks": ""
             }
            },
            "type": "scatterternary"
           }
          ],
          "surface": [
           {
            "colorbar": {
             "outlinewidth": 0,
             "ticks": ""
            },
            "colorscale": [
             [
              0,
              "#0d0887"
             ],
             [
              0.1111111111111111,
              "#46039f"
             ],
             [
              0.2222222222222222,
              "#7201a8"
             ],
             [
              0.3333333333333333,
              "#9c179e"
             ],
             [
              0.4444444444444444,
              "#bd3786"
             ],
             [
              0.5555555555555556,
              "#d8576b"
             ],
             [
              0.6666666666666666,
              "#ed7953"
             ],
             [
              0.7777777777777778,
              "#fb9f3a"
             ],
             [
              0.8888888888888888,
              "#fdca26"
             ],
             [
              1,
              "#f0f921"
             ]
            ],
            "type": "surface"
           }
          ],
          "table": [
           {
            "cells": {
             "fill": {
              "color": "#EBF0F8"
             },
             "line": {
              "color": "white"
             }
            },
            "header": {
             "fill": {
              "color": "#C8D4E3"
             },
             "line": {
              "color": "white"
             }
            },
            "type": "table"
           }
          ]
         },
         "layout": {
          "annotationdefaults": {
           "arrowcolor": "#2a3f5f",
           "arrowhead": 0,
           "arrowwidth": 1
          },
          "autotypenumbers": "strict",
          "coloraxis": {
           "colorbar": {
            "outlinewidth": 0,
            "ticks": ""
           }
          },
          "colorscale": {
           "diverging": [
            [
             0,
             "#8e0152"
            ],
            [
             0.1,
             "#c51b7d"
            ],
            [
             0.2,
             "#de77ae"
            ],
            [
             0.3,
             "#f1b6da"
            ],
            [
             0.4,
             "#fde0ef"
            ],
            [
             0.5,
             "#f7f7f7"
            ],
            [
             0.6,
             "#e6f5d0"
            ],
            [
             0.7,
             "#b8e186"
            ],
            [
             0.8,
             "#7fbc41"
            ],
            [
             0.9,
             "#4d9221"
            ],
            [
             1,
             "#276419"
            ]
           ],
           "sequential": [
            [
             0,
             "#0d0887"
            ],
            [
             0.1111111111111111,
             "#46039f"
            ],
            [
             0.2222222222222222,
             "#7201a8"
            ],
            [
             0.3333333333333333,
             "#9c179e"
            ],
            [
             0.4444444444444444,
             "#bd3786"
            ],
            [
             0.5555555555555556,
             "#d8576b"
            ],
            [
             0.6666666666666666,
             "#ed7953"
            ],
            [
             0.7777777777777778,
             "#fb9f3a"
            ],
            [
             0.8888888888888888,
             "#fdca26"
            ],
            [
             1,
             "#f0f921"
            ]
           ],
           "sequentialminus": [
            [
             0,
             "#0d0887"
            ],
            [
             0.1111111111111111,
             "#46039f"
            ],
            [
             0.2222222222222222,
             "#7201a8"
            ],
            [
             0.3333333333333333,
             "#9c179e"
            ],
            [
             0.4444444444444444,
             "#bd3786"
            ],
            [
             0.5555555555555556,
             "#d8576b"
            ],
            [
             0.6666666666666666,
             "#ed7953"
            ],
            [
             0.7777777777777778,
             "#fb9f3a"
            ],
            [
             0.8888888888888888,
             "#fdca26"
            ],
            [
             1,
             "#f0f921"
            ]
           ]
          },
          "colorway": [
           "#636efa",
           "#EF553B",
           "#00cc96",
           "#ab63fa",
           "#FFA15A",
           "#19d3f3",
           "#FF6692",
           "#B6E880",
           "#FF97FF",
           "#FECB52"
          ],
          "font": {
           "color": "#2a3f5f"
          },
          "geo": {
           "bgcolor": "white",
           "lakecolor": "white",
           "landcolor": "#E5ECF6",
           "showlakes": true,
           "showland": true,
           "subunitcolor": "white"
          },
          "hoverlabel": {
           "align": "left"
          },
          "hovermode": "closest",
          "mapbox": {
           "style": "light"
          },
          "paper_bgcolor": "white",
          "plot_bgcolor": "#E5ECF6",
          "polar": {
           "angularaxis": {
            "gridcolor": "white",
            "linecolor": "white",
            "ticks": ""
           },
           "bgcolor": "#E5ECF6",
           "radialaxis": {
            "gridcolor": "white",
            "linecolor": "white",
            "ticks": ""
           }
          },
          "scene": {
           "xaxis": {
            "backgroundcolor": "#E5ECF6",
            "gridcolor": "white",
            "gridwidth": 2,
            "linecolor": "white",
            "showbackground": true,
            "ticks": "",
            "zerolinecolor": "white"
           },
           "yaxis": {
            "backgroundcolor": "#E5ECF6",
            "gridcolor": "white",
            "gridwidth": 2,
            "linecolor": "white",
            "showbackground": true,
            "ticks": "",
            "zerolinecolor": "white"
           },
           "zaxis": {
            "backgroundcolor": "#E5ECF6",
            "gridcolor": "white",
            "gridwidth": 2,
            "linecolor": "white",
            "showbackground": true,
            "ticks": "",
            "zerolinecolor": "white"
           }
          },
          "shapedefaults": {
           "line": {
            "color": "#2a3f5f"
           }
          },
          "ternary": {
           "aaxis": {
            "gridcolor": "white",
            "linecolor": "white",
            "ticks": ""
           },
           "baxis": {
            "gridcolor": "white",
            "linecolor": "white",
            "ticks": ""
           },
           "bgcolor": "#E5ECF6",
           "caxis": {
            "gridcolor": "white",
            "linecolor": "white",
            "ticks": ""
           }
          },
          "title": {
           "x": 0.05
          },
          "xaxis": {
           "automargin": true,
           "gridcolor": "white",
           "linecolor": "white",
           "ticks": "",
           "title": {
            "standoff": 15
           },
           "zerolinecolor": "white",
           "zerolinewidth": 2
          },
          "yaxis": {
           "automargin": true,
           "gridcolor": "white",
           "linecolor": "white",
           "ticks": "",
           "title": {
            "standoff": 15
           },
           "zerolinecolor": "white",
           "zerolinewidth": 2
          }
         }
        },
        "width": 800
       }
      },
      "text/html": [
       "<div>                            <div id=\"6ac27efb-50b1-4f8d-bdf8-ac989d4a9c85\" class=\"plotly-graph-div\" style=\"height:800px; width:800px;\"></div>            <script type=\"text/javascript\">                require([\"plotly\"], function(Plotly) {                    window.PLOTLYENV=window.PLOTLYENV || {};                                    if (document.getElementById(\"6ac27efb-50b1-4f8d-bdf8-ac989d4a9c85\")) {                    Plotly.newPlot(                        \"6ac27efb-50b1-4f8d-bdf8-ac989d4a9c85\",                        [{\"colorscale\":[[0,\"rgb(0,0,255)\"],[0,\"rgb(255,0,0)\"]],\"showscale\":false,\"x\":[[0.0,0.062850516498205,0.12570103299641,0.188551549494615,0.25140206599282,0.314252582491025,0.37710309898923,0.439953615487435,0.50280413198564,0.565654648483845],[0.0,0.062850516498205,0.12570103299641,0.188551549494615,0.25140206599282,0.314252582491025,0.37710309898923,0.439953615487435,0.50280413198564,0.565654648483845],[0.0,0.062850516498205,0.12570103299641,0.188551549494615,0.25140206599282,0.314252582491025,0.37710309898923,0.439953615487435,0.50280413198564,0.565654648483845],[0.0,0.062850516498205,0.12570103299641,0.188551549494615,0.25140206599282,0.314252582491025,0.37710309898923,0.439953615487435,0.50280413198564,0.565654648483845],[0.0,0.062850516498205,0.12570103299641,0.188551549494615,0.25140206599282,0.314252582491025,0.37710309898923,0.439953615487435,0.50280413198564,0.565654648483845],[0.0,0.062850516498205,0.12570103299641,0.188551549494615,0.25140206599282,0.314252582491025,0.37710309898923,0.439953615487435,0.50280413198564,0.565654648483845],[0.0,0.062850516498205,0.12570103299641,0.188551549494615,0.25140206599282,0.314252582491025,0.37710309898923,0.439953615487435,0.50280413198564,0.565654648483845],[0.0,0.062850516498205,0.12570103299641,0.188551549494615,0.25140206599282,0.314252582491025,0.37710309898923,0.439953615487435,0.50280413198564,0.565654648483845],[0.0,0.062850516498205,0.12570103299641,0.188551549494615,0.25140206599282,0.314252582491025,0.37710309898923,0.439953615487435,0.50280413198564,0.565654648483845],[0.0,0.062850516498205,0.12570103299641,0.188551549494615,0.25140206599282,0.314252582491025,0.37710309898923,0.439953615487435,0.50280413198564,0.565654648483845]],\"y\":[[-0.025719621098514604,-0.025719621098514604,-0.025719621098514604,-0.025719621098514604,-0.025719621098514604,-0.025719621098514604,-0.025719621098514604,-0.025719621098514604,-0.025719621098514604,-0.025719621098514604],[0.0710345318105644,0.0710345318105644,0.0710345318105644,0.0710345318105644,0.0710345318105644,0.0710345318105644,0.0710345318105644,0.0710345318105644,0.0710345318105644,0.0710345318105644],[0.1677886847196434,0.1677886847196434,0.1677886847196434,0.1677886847196434,0.1677886847196434,0.1677886847196434,0.1677886847196434,0.1677886847196434,0.1677886847196434,0.1677886847196434],[0.2645428376287224,0.2645428376287224,0.2645428376287224,0.2645428376287224,0.2645428376287224,0.2645428376287224,0.2645428376287224,0.2645428376287224,0.2645428376287224,0.2645428376287224],[0.3612969905378014,0.3612969905378014,0.3612969905378014,0.3612969905378014,0.3612969905378014,0.3612969905378014,0.3612969905378014,0.3612969905378014,0.3612969905378014,0.3612969905378014],[0.4580511434468804,0.4580511434468804,0.4580511434468804,0.4580511434468804,0.4580511434468804,0.4580511434468804,0.4580511434468804,0.4580511434468804,0.4580511434468804,0.4580511434468804],[0.5548052963559594,0.5548052963559594,0.5548052963559594,0.5548052963559594,0.5548052963559594,0.5548052963559594,0.5548052963559594,0.5548052963559594,0.5548052963559594,0.5548052963559594],[0.6515594492650385,0.6515594492650385,0.6515594492650385,0.6515594492650385,0.6515594492650385,0.6515594492650385,0.6515594492650385,0.6515594492650385,0.6515594492650385,0.6515594492650385],[0.7483136021741175,0.7483136021741175,0.7483136021741175,0.7483136021741175,0.7483136021741175,0.7483136021741175,0.7483136021741175,0.7483136021741175,0.7483136021741175,0.7483136021741175],[0.8450677550831964,0.8450677550831964,0.8450677550831964,0.8450677550831964,0.8450677550831964,0.8450677550831964,0.8450677550831964,0.8450677550831964,0.8450677550831964,0.8450677550831964]],\"z\":[[-6.38130949577768,-0.9142945685510315,4.552720358675618,10.019735285902266,15.486750213128914,20.95376514035556,26.420780067582207,31.887794994808857,37.354809922035514,42.82182484926215],[-8.662978583032206,-3.1959636558055573,2.2710512714210918,7.73806619864774,13.20508112587439,18.672096053101036,24.139110980327683,29.606125907554333,35.07314083478099,40.54015576200763],[-10.94464767028673,-5.477632743060083,-0.010617815833433249,5.456397111393215,10.923412038619864,16.390426965846512,21.857441893073158,27.324456820299808,32.791471747526465,38.2584866747531],[-13.226316757541257,-7.759301830314607,-2.2922869030879585,3.1747280241386897,8.64174295136534,14.108757878591987,19.575772805818634,25.04278773304528,30.509802660271937,35.97681758749858],[-15.507985844795783,-10.040970917569135,-4.573955990342484,0.8930589368841639,6.360073864110813,11.827088791337463,17.294103718564106,22.761118645790756,28.228133573017413,33.69514850024405],[-17.789654932050308,-12.32264000482366,-6.85562507759701,-1.388610150370361,4.078404776856288,9.545419704082937,15.012434631309583,20.47944955853623,25.94646448576289,31.413479412989528],[-20.071324019304832,-14.604309092078184,-9.137294164851536,-3.670279237624888,1.7967356896017612,7.2637506168284105,12.730765544055055,18.197780471281703,23.664795398508364,29.131810325735],[-22.352993106559364,-16.885978179332714,-11.418963252106064,-5.951948324879415,-0.4849333976527658,4.982081529573883,10.449096456800529,15.916111384027177,21.383126311253836,26.85014123848047],[-24.634662193813888,-19.167647266587238,-13.700632339360588,-8.23361741213394,-2.766602484907291,2.7004124423193585,8.167427369546004,13.634442296772653,19.101457223999308,24.568472151225947],[-26.916331281068413,-21.449316353841763,-15.982301426615114,-10.515286499388464,-5.048271572161815,0.4187433550648333,5.885758282291478,11.352773209518128,16.819788136744783,22.286803063971423]],\"type\":\"surface\",\"uid\":\"d56db81b-d475-4902-bfa7-956818bcc3c1\"},{\"marker\":{\"color\":\"blue\"},\"mode\":\"markers\",\"x\":[0.008220403300417758,0.16934362846908338,0.02521107595937412,0.007251205988866877,0.16038901175693737,0.02518543045698802,0.016476617644100407,0.023810039618924243,0.022794520707594846,0.03387396154366968,0.1375598653415707,0.025552316378735916,0.017664524955117965,0.0,0.059527460419818594,0.1805504295209211,0.06050786982972624,0.12451333619740305,0.04067713989279909,0.15078495511371,0.09112618100408627,0.03416119662440106,0.014311282049318334,0.048229700528202434,0.13666006218180185,0.019681374331320584,0.0638640550914032,0.009607395095342924,0.02203536878295771,0.03387247269728042,0.1124005131952129,0.017734107067228028,0.16479898679257673,0.011401661125467009,0.32105128893458856,0.011313393348221198,0.017307282888339694,0.2965697840000789,0.010704507635873502,0.014588052074307235,0.014207331588404492,0.03296320574433316,0.1363864664445811,0.02498214527161382,0.06982878537652518,0.09351508686545269,0.05494817333464883,0.10672721913262481,0.09268857289407845,0.13329410756385715,0.04249851844314821,0.023049033485392608,0.035958520983607904,0.13841221736377893,0.07317477037417766,0.15528321973629144,0.014588052074307235,0.0,0.04647727761308479,0.06906365904692413,0.022713109028565853,0.22031326295519363,0.15571155033895498,0.025552316378735916,0.16029780667935722,0.014588052074307235,0.15802180706231517,0.09040687407674941,0.024849195136758033,0.021950116457859332,0.22400320876817006,0.06472669038580363,0.023239998464144568,0.11572838527448402,0.15267653416169807,0.03387396154366968,0.11304629476476317,0.09182223983065163,0.02131300390537478,0.07121251729051925],\"y\":[0.15889393243968566,-0.005148137239515709,0.26725429965438807,0.16044847274524437,-0.0032852911826988023,0.21088645476321552,0.1173203920665236,0.832809762079782,0.8450677550831964,0.39346940383769724,0.0029485944669203033,0.2692511168906829,0.23301569377353457,0.0,-0.002881194342940732,-0.008701818667808442,-0.0016663544794025046,-0.005117206832273149,-0.0006759604874846614,-0.006346797519152168,-0.0036767234404973086,0.19433159857672444,0.20797590048992495,-0.0011856699707719067,-0.002451796847497218,-0.0008769211185603381,-0.0027861995215588613,0.15076139668320812,0.8202938909597923,0.25709649156259096,-0.0006251048654678731,0.43715525568633024,-0.0058791401477776934,0.24631040595462775,-0.009262220288623202,0.2694152563333109,0.4199325669871015,-0.008314435301083821,0.25568028342607463,0.11379310487552227,-0.0007029901925682707,0.25776332933731755,-0.0025628283524893537,0.26396665172619715,-0.0031247529611889073,0.002502519213110006,-0.002545490649478729,0.0008984531412945282,0.0034837517112979066,0.0019467911321616647,0.10393904661106487,0.2330883943509129,0.2569360760292566,-0.00419137312823567,-0.00330795526417621,-0.007100926473416088,0.11379310487552227,0.0,-0.0019015882666508733,-3.691768859022516e-05,0.8225767276411867,-0.004605733152893336,0.00023864334161969507,0.2692511168906829,-0.004541706379765288,0.11379310487552227,0.0025096311992432656,-0.004100555079508766,0.213960445032621,0.7991627115862312,-0.012569766380791244,-0.00020605156614129762,0.4152748973463189,-0.0038480040274592063,-0.005075908881760555,0.39346940383769724,-0.004070593794772833,-0.0017614783544975747,0.22009067721837836,-0.002846726901077655],\"z\":[0.07564326260201894,-0.0034735655988864297,0.8773538020052514,0.07623130195172961,0.0025299270904816577,0.0969785712067517,0.04721384388555039,-0.36270232958925824,-0.3670088534155889,0.22564069304488985,0.0025282077213591016,0.8852705378352339,0.08687333930170874,0.0,-0.0025496335414125623,-0.004428053340040457,-0.0017825741789226955,-0.0029532127055982966,-0.0013330785132041646,-0.0034292771074825347,-0.0022511046075943475,0.07923985397137338,0.10003399851060946,0.00032053369744762967,-0.0025001979441236022,-0.0003443190298112476,0.0006727234526356853,0.06053732264473621,-0.3581728232477579,0.04594276822498819,-0.0029220489367886163,-0.0327297096263846,-0.0005502013168901991,0.20151075725249093,-0.005423634186844305,0.21443240058052793,-0.030139808515928207,-0.003662881750381326,0.21191453247505665,0.05398053366120607,-0.0005168809753508535,0.045991407109489374,-0.0007426704120981395,0.8710895738738149,-0.002327781876632196,0.0017712305393382756,-0.0018054089437186565,0.01054440752571683,-0.005212673360361138,-0.007649298969919637,0.043827539212819615,0.06964378815658168,0.04646494663232049,-0.003814855447485214,-0.0019643047182700928,-0.0018124843806070024,0.05398053366120607,0.0,-0.0012526913102139364,-0.0024178103564555966,-0.35906234383000923,0.0017961674613649204,-0.003085902411202046,0.8852705378352339,-0.004204935610998723,0.05398053366120607,-0.0001449309367595991,-0.002444730731496685,0.11210917800018316,-0.35046446168565576,-0.0052051264499432355,-0.001628053164883775,-0.03151843360737943,-0.0018558799712216256,-0.0020045117875244055,0.22564069304488985,-0.0023452564973318038,-0.0027300155076240367,0.10163621569523866,-0.0008220703272979642],\"type\":\"scatter3d\",\"uid\":\"6ec7b857-fcdc-4725-9a23-c773063a48c4\"},{\"marker\":{\"color\":\"red\"},\"mode\":\"markers\",\"x\":[0.2450807916783103,0.09584557374123572,0.19008574787882998,0.10376047371340402,0.22989863418509066,0.3529120397936232,0.3061560909872183,0.1839830943164221,0.14520439970126378,0.3152864302923038,0.31426024886120585,0.37965835136417203,0.14881570988709653,0.12637961378182413,0.2450807916783103,0.14034430207973314,0.30073792152926787,0.1941528353739848,0.27491763460935503,0.2562251825505068,0.27779237162061576,0.179658454039139,0.3769507362538516,0.0842102348589417,0.31426024886120585,0.13619588268003335,0.33039506550530234,0.27251908967507604,0.2978246396215573,0.16300851835718866,0.2261714615904723,0.1283306625328318,0.16962992121112405,0.22519521869561207,0.3339982672899821,0.16687500863376176,0.2689736200954709,0.4295632863742406,0.3653739457831688,0.12085087455704967,0.14757714426300358,0.4714388082619679,0.13519656854425569,0.31191558492252347,0.2919265550102943,0.10596989225742173,0.13845707069845106,0.21295351355102704,0.2555875255468237,0.3051455051554274,0.3788499194079401,0.23094427933194067,0.14425429910772727,0.20146877468362687,0.1731880231447718,0.1508884970677631,0.32994066553851975,0.2681384990347644,0.30229576722668183,0.28987568641955674,0.24628495945356202,0.07573088378462722,0.4073287389679766,0.11975954170715337,0.32680094057819115,0.18732552723038098,0.12265752588391214,0.15531935168661334,0.10974558768666773,0.35369758553487046,0.17068322050254225,0.1607707457458796,0.5240618146477928,0.13014346219925657,0.2029881566710721,0.1898992539271139,0.08245090565522192,0.565654648483845,0.14799340277320877,0.3942629576577077,0.31833849511424145,0.17001569684247542,0.11991165488685347,0.11503514495012368,0.198814429750517,0.34094678974843484,0.25721167594034205,0.352141053438876,0.28430726650046734,0.20802798448433926,0.3607732333885626,0.408776496884394],\"y\":[-0.0033940392096650962,-0.004718330186367573,-0.009062037056696132,-0.004955448876388623,-0.011245374757285834,-0.017770725704894803,0.007848976152585337,-0.006834433936564195,-0.006568462486017033,-0.011922171586430538,-0.013563317548759168,-0.015092879723890333,0.0038542590002346895,-0.005427141589638598,-0.0033940392096650962,-0.0020438432507127544,-0.012828372345247311,-0.005591737585926689,-0.008441885236208426,-0.00641513533564512,-0.013283348134990528,-0.0021961282522236715,-0.01796194951322513,-0.004374151466132452,-0.013563317548759168,-0.005974971187784644,-0.01648937482722965,-0.012708638325268572,-0.006513345001874481,-0.00675221693863178,-0.010252368894843282,-0.004684079842973369,-0.007429942274523033,-0.0056708947000712,-0.014657493763510858,-0.007967273039643834,-0.005735492882874186,-0.022284409223657025,-0.012473034987114537,0.0012787168556784088,-0.0068338762495500985,-0.025719621098514604,-0.005694526431148921,-0.006583452768580101,-0.012995655680166534,-0.0052813946378831925,-0.0057044577277850185,-0.008059224951649055,-0.013443646091433047,-0.009266390401076512,-0.017075063872203887,-0.011083397431025125,-0.006118714630200385,-0.007866878582754233,-0.008397703147219908,-0.007697533169828794,-0.017531619413428713,-0.009863382079583654,-0.01574562074426772,-0.011156023604724735,-0.004959396519129222,-0.0038698908441316135,-0.02115392008215581,-0.003607174931809615,-0.00809645581779233,-0.003911144930587864,-0.0054955459366930835,-0.005284347528065053,-0.003177943512110221,-0.010053584911823496,0.022578753696661073,-0.007761883015349203,-0.01591161338318316,-0.006099283778115411,-0.008951618117363317,-0.00896395737846852,-0.0027155017630534897,-0.0241519255059811,0.002788787339970145,-0.02026467769578582,-0.003828877884931397,-0.007506135507874587,-0.004963831875997735,-0.003281702990755471,-0.0061730272295481585,-0.0162567960827944,-0.011426452165424851,-0.014166993859626517,-0.008586989004711595,-0.0018418726408129776,-0.012318842696780108,-0.021674015575078014],\"z\":[0.0157146683846218,-0.0018468455795518702,-0.0060905510675326865,-0.002639782163622892,-0.00647827762185258,-0.008480278821839176,-0.0038805680344047755,-0.005037359776069183,-0.0033587332555631566,-0.008120149875560203,-0.00824413894242454,-0.0073886022485348795,0.004795764510807724,-0.003503343032137363,0.0157146683846218,0.0007164243548312729,-0.007576368244125063,-0.003983507072302325,0.0003297103975526859,-0.0028313630743846416,-0.006834408976310963,-0.003310243068607382,-0.009370283132636877,-0.0023694814691921457,-0.00824413894242454,-0.004465643420192249,-0.008795779677957364,-0.005851323804063014,0.010611427277259044,-0.0073125095237807185,-0.009905182757642518,-0.0029787712648725122,-0.003923007986641045,-0.0013091642305755006,-0.007957644056092015,-0.004953029334421804,0.011765011860222144,-0.010019010963218796,0.009866742023034135,0.015541994029608038,-0.005211310650525108,-0.01202662351938061,-0.004726015990391824,0.012101751652213803,-0.0092132891346125,-0.005000385480171919,-0.005267285787597413,-0.005568850440874379,-0.0062498194436129695,-0.006610617096208704,-0.00823998842464512,-0.007781719622689122,-0.0038806619587210774,-0.004616273694637422,-0.004631228133785376,-0.004704882966348116,-0.008219388685472109,-0.006350803074937096,-0.007813394133341929,-0.007909486224861232,0.011044899088792316,-0.0019956202237749465,-0.009321561460452226,-0.007289706995222481,0.00021684630913061616,-0.00508777143428683,-0.003060537308141071,-0.004168334346596678,-0.004210691938160682,-0.006693555253200744,-0.023174153906718002,-0.0032394234045119855,0.016096461934946207,-0.003811042361461986,-0.0049961049215269185,-0.004770019643416322,-0.002122221242315445,-0.015036522626539553,-0.0027739888303168155,-0.008550948339793727,0.004741305531847688,-0.0032787872971089312,-0.005673953898234566,-0.0031618837538324933,-0.006353058434406525,-0.0089815325545724,-0.007123150272276393,-0.006673372582306413,-0.00337068259828961,-0.0016453335745316813,0.009765533393855795,-0.01022253464221956],\"type\":\"scatter3d\",\"uid\":\"1f3e9225-201e-485b-b7b7-05b94a3aca31\"}],                        {\"template\":{\"data\":{\"barpolar\":[{\"marker\":{\"line\":{\"color\":\"#E5ECF6\",\"width\":0.5},\"pattern\":{\"fillmode\":\"overlay\",\"size\":10,\"solidity\":0.2}},\"type\":\"barpolar\"}],\"bar\":[{\"error_x\":{\"color\":\"#2a3f5f\"},\"error_y\":{\"color\":\"#2a3f5f\"},\"marker\":{\"line\":{\"color\":\"#E5ECF6\",\"width\":0.5},\"pattern\":{\"fillmode\":\"overlay\",\"size\":10,\"solidity\":0.2}},\"type\":\"bar\"}],\"carpet\":[{\"aaxis\":{\"endlinecolor\":\"#2a3f5f\",\"gridcolor\":\"white\",\"linecolor\":\"white\",\"minorgridcolor\":\"white\",\"startlinecolor\":\"#2a3f5f\"},\"baxis\":{\"endlinecolor\":\"#2a3f5f\",\"gridcolor\":\"white\",\"linecolor\":\"white\",\"minorgridcolor\":\"white\",\"startlinecolor\":\"#2a3f5f\"},\"type\":\"carpet\"}],\"choropleth\":[{\"colorbar\":{\"outlinewidth\":0,\"ticks\":\"\"},\"type\":\"choropleth\"}],\"contourcarpet\":[{\"colorbar\":{\"outlinewidth\":0,\"ticks\":\"\"},\"type\":\"contourcarpet\"}],\"contour\":[{\"colorbar\":{\"outlinewidth\":0,\"ticks\":\"\"},\"colorscale\":[[0.0,\"#0d0887\"],[0.1111111111111111,\"#46039f\"],[0.2222222222222222,\"#7201a8\"],[0.3333333333333333,\"#9c179e\"],[0.4444444444444444,\"#bd3786\"],[0.5555555555555556,\"#d8576b\"],[0.6666666666666666,\"#ed7953\"],[0.7777777777777778,\"#fb9f3a\"],[0.8888888888888888,\"#fdca26\"],[1.0,\"#f0f921\"]],\"type\":\"contour\"}],\"heatmapgl\":[{\"colorbar\":{\"outlinewidth\":0,\"ticks\":\"\"},\"colorscale\":[[0.0,\"#0d0887\"],[0.1111111111111111,\"#46039f\"],[0.2222222222222222,\"#7201a8\"],[0.3333333333333333,\"#9c179e\"],[0.4444444444444444,\"#bd3786\"],[0.5555555555555556,\"#d8576b\"],[0.6666666666666666,\"#ed7953\"],[0.7777777777777778,\"#fb9f3a\"],[0.8888888888888888,\"#fdca26\"],[1.0,\"#f0f921\"]],\"type\":\"heatmapgl\"}],\"heatmap\":[{\"colorbar\":{\"outlinewidth\":0,\"ticks\":\"\"},\"colorscale\":[[0.0,\"#0d0887\"],[0.1111111111111111,\"#46039f\"],[0.2222222222222222,\"#7201a8\"],[0.3333333333333333,\"#9c179e\"],[0.4444444444444444,\"#bd3786\"],[0.5555555555555556,\"#d8576b\"],[0.6666666666666666,\"#ed7953\"],[0.7777777777777778,\"#fb9f3a\"],[0.8888888888888888,\"#fdca26\"],[1.0,\"#f0f921\"]],\"type\":\"heatmap\"}],\"histogram2dcontour\":[{\"colorbar\":{\"outlinewidth\":0,\"ticks\":\"\"},\"colorscale\":[[0.0,\"#0d0887\"],[0.1111111111111111,\"#46039f\"],[0.2222222222222222,\"#7201a8\"],[0.3333333333333333,\"#9c179e\"],[0.4444444444444444,\"#bd3786\"],[0.5555555555555556,\"#d8576b\"],[0.6666666666666666,\"#ed7953\"],[0.7777777777777778,\"#fb9f3a\"],[0.8888888888888888,\"#fdca26\"],[1.0,\"#f0f921\"]],\"type\":\"histogram2dcontour\"}],\"histogram2d\":[{\"colorbar\":{\"outlinewidth\":0,\"ticks\":\"\"},\"colorscale\":[[0.0,\"#0d0887\"],[0.1111111111111111,\"#46039f\"],[0.2222222222222222,\"#7201a8\"],[0.3333333333333333,\"#9c179e\"],[0.4444444444444444,\"#bd3786\"],[0.5555555555555556,\"#d8576b\"],[0.6666666666666666,\"#ed7953\"],[0.7777777777777778,\"#fb9f3a\"],[0.8888888888888888,\"#fdca26\"],[1.0,\"#f0f921\"]],\"type\":\"histogram2d\"}],\"histogram\":[{\"marker\":{\"pattern\":{\"fillmode\":\"overlay\",\"size\":10,\"solidity\":0.2}},\"type\":\"histogram\"}],\"mesh3d\":[{\"colorbar\":{\"outlinewidth\":0,\"ticks\":\"\"},\"type\":\"mesh3d\"}],\"parcoords\":[{\"line\":{\"colorbar\":{\"outlinewidth\":0,\"ticks\":\"\"}},\"type\":\"parcoords\"}],\"pie\":[{\"automargin\":true,\"type\":\"pie\"}],\"scatter3d\":[{\"line\":{\"colorbar\":{\"outlinewidth\":0,\"ticks\":\"\"}},\"marker\":{\"colorbar\":{\"outlinewidth\":0,\"ticks\":\"\"}},\"type\":\"scatter3d\"}],\"scattercarpet\":[{\"marker\":{\"colorbar\":{\"outlinewidth\":0,\"ticks\":\"\"}},\"type\":\"scattercarpet\"}],\"scattergeo\":[{\"marker\":{\"colorbar\":{\"outlinewidth\":0,\"ticks\":\"\"}},\"type\":\"scattergeo\"}],\"scattergl\":[{\"marker\":{\"colorbar\":{\"outlinewidth\":0,\"ticks\":\"\"}},\"type\":\"scattergl\"}],\"scattermapbox\":[{\"marker\":{\"colorbar\":{\"outlinewidth\":0,\"ticks\":\"\"}},\"type\":\"scattermapbox\"}],\"scatterpolargl\":[{\"marker\":{\"colorbar\":{\"outlinewidth\":0,\"ticks\":\"\"}},\"type\":\"scatterpolargl\"}],\"scatterpolar\":[{\"marker\":{\"colorbar\":{\"outlinewidth\":0,\"ticks\":\"\"}},\"type\":\"scatterpolar\"}],\"scatter\":[{\"fillpattern\":{\"fillmode\":\"overlay\",\"size\":10,\"solidity\":0.2},\"type\":\"scatter\"}],\"scatterternary\":[{\"marker\":{\"colorbar\":{\"outlinewidth\":0,\"ticks\":\"\"}},\"type\":\"scatterternary\"}],\"surface\":[{\"colorbar\":{\"outlinewidth\":0,\"ticks\":\"\"},\"colorscale\":[[0.0,\"#0d0887\"],[0.1111111111111111,\"#46039f\"],[0.2222222222222222,\"#7201a8\"],[0.3333333333333333,\"#9c179e\"],[0.4444444444444444,\"#bd3786\"],[0.5555555555555556,\"#d8576b\"],[0.6666666666666666,\"#ed7953\"],[0.7777777777777778,\"#fb9f3a\"],[0.8888888888888888,\"#fdca26\"],[1.0,\"#f0f921\"]],\"type\":\"surface\"}],\"table\":[{\"cells\":{\"fill\":{\"color\":\"#EBF0F8\"},\"line\":{\"color\":\"white\"}},\"header\":{\"fill\":{\"color\":\"#C8D4E3\"},\"line\":{\"color\":\"white\"}},\"type\":\"table\"}]},\"layout\":{\"annotationdefaults\":{\"arrowcolor\":\"#2a3f5f\",\"arrowhead\":0,\"arrowwidth\":1},\"autotypenumbers\":\"strict\",\"coloraxis\":{\"colorbar\":{\"outlinewidth\":0,\"ticks\":\"\"}},\"colorscale\":{\"diverging\":[[0,\"#8e0152\"],[0.1,\"#c51b7d\"],[0.2,\"#de77ae\"],[0.3,\"#f1b6da\"],[0.4,\"#fde0ef\"],[0.5,\"#f7f7f7\"],[0.6,\"#e6f5d0\"],[0.7,\"#b8e186\"],[0.8,\"#7fbc41\"],[0.9,\"#4d9221\"],[1,\"#276419\"]],\"sequential\":[[0.0,\"#0d0887\"],[0.1111111111111111,\"#46039f\"],[0.2222222222222222,\"#7201a8\"],[0.3333333333333333,\"#9c179e\"],[0.4444444444444444,\"#bd3786\"],[0.5555555555555556,\"#d8576b\"],[0.6666666666666666,\"#ed7953\"],[0.7777777777777778,\"#fb9f3a\"],[0.8888888888888888,\"#fdca26\"],[1.0,\"#f0f921\"]],\"sequentialminus\":[[0.0,\"#0d0887\"],[0.1111111111111111,\"#46039f\"],[0.2222222222222222,\"#7201a8\"],[0.3333333333333333,\"#9c179e\"],[0.4444444444444444,\"#bd3786\"],[0.5555555555555556,\"#d8576b\"],[0.6666666666666666,\"#ed7953\"],[0.7777777777777778,\"#fb9f3a\"],[0.8888888888888888,\"#fdca26\"],[1.0,\"#f0f921\"]]},\"colorway\":[\"#636efa\",\"#EF553B\",\"#00cc96\",\"#ab63fa\",\"#FFA15A\",\"#19d3f3\",\"#FF6692\",\"#B6E880\",\"#FF97FF\",\"#FECB52\"],\"font\":{\"color\":\"#2a3f5f\"},\"geo\":{\"bgcolor\":\"white\",\"lakecolor\":\"white\",\"landcolor\":\"#E5ECF6\",\"showlakes\":true,\"showland\":true,\"subunitcolor\":\"white\"},\"hoverlabel\":{\"align\":\"left\"},\"hovermode\":\"closest\",\"mapbox\":{\"style\":\"light\"},\"paper_bgcolor\":\"white\",\"plot_bgcolor\":\"#E5ECF6\",\"polar\":{\"angularaxis\":{\"gridcolor\":\"white\",\"linecolor\":\"white\",\"ticks\":\"\"},\"bgcolor\":\"#E5ECF6\",\"radialaxis\":{\"gridcolor\":\"white\",\"linecolor\":\"white\",\"ticks\":\"\"}},\"scene\":{\"xaxis\":{\"backgroundcolor\":\"#E5ECF6\",\"gridcolor\":\"white\",\"gridwidth\":2,\"linecolor\":\"white\",\"showbackground\":true,\"ticks\":\"\",\"zerolinecolor\":\"white\"},\"yaxis\":{\"backgroundcolor\":\"#E5ECF6\",\"gridcolor\":\"white\",\"gridwidth\":2,\"linecolor\":\"white\",\"showbackground\":true,\"ticks\":\"\",\"zerolinecolor\":\"white\"},\"zaxis\":{\"backgroundcolor\":\"#E5ECF6\",\"gridcolor\":\"white\",\"gridwidth\":2,\"linecolor\":\"white\",\"showbackground\":true,\"ticks\":\"\",\"zerolinecolor\":\"white\"}},\"shapedefaults\":{\"line\":{\"color\":\"#2a3f5f\"}},\"ternary\":{\"aaxis\":{\"gridcolor\":\"white\",\"linecolor\":\"white\",\"ticks\":\"\"},\"baxis\":{\"gridcolor\":\"white\",\"linecolor\":\"white\",\"ticks\":\"\"},\"bgcolor\":\"#E5ECF6\",\"caxis\":{\"gridcolor\":\"white\",\"linecolor\":\"white\",\"ticks\":\"\"}},\"title\":{\"x\":0.05},\"xaxis\":{\"automargin\":true,\"gridcolor\":\"white\",\"linecolor\":\"white\",\"ticks\":\"\",\"title\":{\"standoff\":15},\"zerolinecolor\":\"white\",\"zerolinewidth\":2},\"yaxis\":{\"automargin\":true,\"gridcolor\":\"white\",\"linecolor\":\"white\",\"ticks\":\"\",\"title\":{\"standoff\":15},\"zerolinecolor\":\"white\",\"zerolinewidth\":2}}},\"width\":800,\"height\":800},                        {\"responsive\": true}                    ).then(function(){\n",
       "                            \n",
       "var gd = document.getElementById('6ac27efb-50b1-4f8d-bdf8-ac989d4a9c85');\n",
       "var x = new MutationObserver(function (mutations, observer) {{\n",
       "        var display = window.getComputedStyle(gd).display;\n",
       "        if (!display || display === 'none') {{\n",
       "            console.log([gd, 'removed!']);\n",
       "            Plotly.purge(gd);\n",
       "            observer.disconnect();\n",
       "        }}\n",
       "}});\n",
       "\n",
       "// Listen for the removal of the full notebook cells\n",
       "var notebookContainer = gd.closest('#notebook-container');\n",
       "if (notebookContainer) {{\n",
       "    x.observe(notebookContainer, {childList: true});\n",
       "}}\n",
       "\n",
       "// Listen for the clearing of the current output cell\n",
       "var outputEl = gd.closest('.output');\n",
       "if (outputEl) {{\n",
       "    x.observe(outputEl, {childList: true});\n",
       "}}\n",
       "\n",
       "                        })                };                });            </script>        </div>"
      ]
     },
     "metadata": {},
     "output_type": "display_data"
    }
   ],
   "source": [
    "show3D(reduced_data, y_test_encoded, model)"
   ]
  },
  {
   "cell_type": "code",
   "execution_count": null,
   "id": "cooked-astronomy",
   "metadata": {},
   "outputs": [],
   "source": []
  },
  {
   "cell_type": "code",
   "execution_count": null,
   "id": "hybrid-slovakia",
   "metadata": {},
   "outputs": [],
   "source": []
  }
 ],
 "metadata": {
  "kernelspec": {
   "display_name": "Python 3",
   "language": "python",
   "name": "python3"
  },
  "language_info": {
   "codemirror_mode": {
    "name": "ipython",
    "version": 3
   },
   "file_extension": ".py",
   "mimetype": "text/x-python",
   "name": "python",
   "nbconvert_exporter": "python",
   "pygments_lexer": "ipython3",
   "version": "3.8.10"
  }
 },
 "nbformat": 4,
 "nbformat_minor": 5
}
