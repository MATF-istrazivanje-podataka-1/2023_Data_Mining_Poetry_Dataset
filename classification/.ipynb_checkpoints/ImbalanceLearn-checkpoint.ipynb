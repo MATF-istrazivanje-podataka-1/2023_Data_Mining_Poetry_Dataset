{
 "cells": [
  {
   "cell_type": "markdown",
   "id": "public-display",
   "metadata": {},
   "source": [
    "# Imbalanced learn"
   ]
  },
  {
   "cell_type": "code",
   "execution_count": 1,
   "id": "insured-venue",
   "metadata": {},
   "outputs": [],
   "source": [
    "# pip install imblearn"
   ]
  },
  {
   "cell_type": "code",
   "execution_count": 2,
   "id": "apparent-relay",
   "metadata": {},
   "outputs": [],
   "source": [
    "import pandas as pd\n",
    "import numpy as np\n",
    "import matplotlib.pyplot as plt\n",
    "\n",
    "from collections import Counter\n",
    "from termcolor import colored\n",
    "\n",
    "from imblearn.over_sampling import RandomOverSampler\n",
    "\n",
    "from sklearn import svm\n",
    "from sklearn.neighbors import KNeighborsClassifier\n",
    "from sklearn.naive_bayes import MultinomialNB\n",
    "from sklearn.metrics import accuracy_score, confusion_matrix, classification_report, roc_curve, roc_auc_score\n",
    "from sklearn.model_selection import train_test_split"
   ]
  },
  {
   "cell_type": "markdown",
   "id": "charitable-border",
   "metadata": {},
   "source": [
    "Read in training data:"
   ]
  },
  {
   "cell_type": "code",
   "execution_count": 3,
   "id": "suspected-gospel",
   "metadata": {},
   "outputs": [],
   "source": [
    "X_train = pd.read_csv('../data/train/X_train.csv')\n",
    "y_train_type = np.ravel(pd.read_csv('../data/train/y_train_type.csv'))\n",
    "y_train_age_type = np.ravel(pd.read_csv('../data/train/y_train_age_type.csv'))"
   ]
  },
  {
   "cell_type": "markdown",
   "id": "proved-print",
   "metadata": {},
   "source": [
    "Read in test data:"
   ]
  },
  {
   "cell_type": "code",
   "execution_count": 4,
   "id": "speaking-finance",
   "metadata": {},
   "outputs": [],
   "source": [
    "X_test = pd.read_csv('../data/test/X_test.csv')\n",
    "y_test_type = np.ravel(pd.read_csv('../data/test/y_test_type.csv'))\n",
    "y_test_age_type = np.ravel(pd.read_csv('../data/test/y_test_age_type.csv'))"
   ]
  },
  {
   "cell_type": "code",
   "execution_count": 5,
   "id": "liquid-fisher",
   "metadata": {},
   "outputs": [],
   "source": [
    "def showHist(data):\n",
    "    plt.style.use('seaborn-pastel')\n",
    "    plt.figure(figsize=(12,8))\n",
    "    plt.hist(data)\n",
    "    plt.xticks(rotation=50)\n",
    "    plt.title(\"Histogram\")\n",
    "    plt.show()"
   ]
  },
  {
   "cell_type": "code",
   "execution_count": 6,
   "id": "missing-sharp",
   "metadata": {},
   "outputs": [],
   "source": [
    "def predictAndReport(model, X, Y):\n",
    "    pred = model.predict(X)\n",
    "    print('Confusion matrix: \\n', confusion_matrix(Y, pred))\n",
    "    print('\\nClassification report: \\n', classification_report(Y, pred, zero_division=True))"
   ]
  },
  {
   "cell_type": "markdown",
   "id": "english-hazard",
   "metadata": {},
   "source": [
    "# -----------------------------------------------------------------------------------------------"
   ]
  },
  {
   "cell_type": "markdown",
   "id": "voluntary-burden",
   "metadata": {},
   "source": [
    "# Classes from atribute type "
   ]
  },
  {
   "cell_type": "code",
   "execution_count": 7,
   "id": "opened-radical",
   "metadata": {},
   "outputs": [],
   "source": [
    "X_train_type, X_val_type, y_train_type, y_val_type = train_test_split(X_train, y_train_type, train_size=0.7)"
   ]
  },
  {
   "cell_type": "code",
   "execution_count": 8,
   "id": "extraordinary-biology",
   "metadata": {},
   "outputs": [
    {
     "data": {
      "image/png": "[encoded data removed]",
      "text/plain": [
       "<Figure size 864x576 with 1 Axes>"
      ]
     },
     "metadata": {
      "needs_background": "light"
     },
     "output_type": "display_data"
    }
   ],
   "source": [
    "showHist(y_train_type)"
   ]
  },
  {
   "cell_type": "markdown",
   "id": "broad-overview",
   "metadata": {},
   "source": [
    "## Multinomial Naive Bayes without any imbalanced learn method"
   ]
  },
  {
   "cell_type": "code",
   "execution_count": 9,
   "id": "later-router",
   "metadata": {
    "scrolled": true
   },
   "outputs": [
    {
     "data": {
      "text/html": [
       "<style>#sk-container-id-1 {color: black;background-color: white;}#sk-container-id-1 pre{padding: 0;}#sk-container-id-1 div.sk-toggleable {background-color: white;}#sk-container-id-1 label.sk-toggleable__label {cursor: pointer;display: block;width: 100%;margin-bottom: 0;padding: 0.3em;box-sizing: border-box;text-align: center;}#sk-container-id-1 label.sk-toggleable__label-arrow:before {content: \"▸\";float: left;margin-right: 0.25em;color: #696969;}#sk-container-id-1 label.sk-toggleable__label-arrow:hover:before {color: black;}#sk-container-id-1 div.sk-estimator:hover label.sk-toggleable__label-arrow:before {color: black;}#sk-container-id-1 div.sk-toggleable__content {max-height: 0;max-width: 0;overflow: hidden;text-align: left;background-color: #f0f8ff;}#sk-container-id-1 div.sk-toggleable__content pre {margin: 0.2em;color: black;border-radius: 0.25em;background-color: #f0f8ff;}#sk-container-id-1 input.sk-toggleable__control:checked~div.sk-toggleable__content {max-height: 200px;max-width: 100%;overflow: auto;}#sk-container-id-1 input.sk-toggleable__control:checked~label.sk-toggleable__label-arrow:before {content: \"▾\";}#sk-container-id-1 div.sk-estimator input.sk-toggleable__control:checked~label.sk-toggleable__label {background-color: #d4ebff;}#sk-container-id-1 div.sk-label input.sk-toggleable__control:checked~label.sk-toggleable__label {background-color: #d4ebff;}#sk-container-id-1 input.sk-hidden--visually {border: 0;clip: rect(1px 1px 1px 1px);clip: rect(1px, 1px, 1px, 1px);height: 1px;margin: -1px;overflow: hidden;padding: 0;position: absolute;width: 1px;}#sk-container-id-1 div.sk-estimator {font-family: monospace;background-color: #f0f8ff;border: 1px dotted black;border-radius: 0.25em;box-sizing: border-box;margin-bottom: 0.5em;}#sk-container-id-1 div.sk-estimator:hover {background-color: #d4ebff;}#sk-container-id-1 div.sk-parallel-item::after {content: \"\";width: 100%;border-bottom: 1px solid gray;flex-grow: 1;}#sk-container-id-1 div.sk-label:hover label.sk-toggleable__label {background-color: #d4ebff;}#sk-container-id-1 div.sk-serial::before {content: \"\";position: absolute;border-left: 1px solid gray;box-sizing: border-box;top: 0;bottom: 0;left: 50%;z-index: 0;}#sk-container-id-1 div.sk-serial {display: flex;flex-direction: column;align-items: center;background-color: white;padding-right: 0.2em;padding-left: 0.2em;position: relative;}#sk-container-id-1 div.sk-item {position: relative;z-index: 1;}#sk-container-id-1 div.sk-parallel {display: flex;align-items: stretch;justify-content: center;background-color: white;position: relative;}#sk-container-id-1 div.sk-item::before, #sk-container-id-1 div.sk-parallel-item::before {content: \"\";position: absolute;border-left: 1px solid gray;box-sizing: border-box;top: 0;bottom: 0;left: 50%;z-index: -1;}#sk-container-id-1 div.sk-parallel-item {display: flex;flex-direction: column;z-index: 1;position: relative;background-color: white;}#sk-container-id-1 div.sk-parallel-item:first-child::after {align-self: flex-end;width: 50%;}#sk-container-id-1 div.sk-parallel-item:last-child::after {align-self: flex-start;width: 50%;}#sk-container-id-1 div.sk-parallel-item:only-child::after {width: 0;}#sk-container-id-1 div.sk-dashed-wrapped {border: 1px dashed gray;margin: 0 0.4em 0.5em 0.4em;box-sizing: border-box;padding-bottom: 0.4em;background-color: white;}#sk-container-id-1 div.sk-label label {font-family: monospace;font-weight: bold;display: inline-block;line-height: 1.2em;}#sk-container-id-1 div.sk-label-container {text-align: center;}#sk-container-id-1 div.sk-container {/* jupyter's `normalize.less` sets `[hidden] { display: none; }` but bootstrap.min.css set `[hidden] { display: none !important; }` so we also need the `!important` here to be able to override the default hidden behavior on the sphinx rendered scikit-learn.org. See: https://github.com/scikit-learn/scikit-learn/issues/21755 */display: inline-block !important;position: relative;}#sk-container-id-1 div.sk-text-repr-fallback {display: none;}</style><div id=\"sk-container-id-1\" class=\"sk-top-container\"><div class=\"sk-text-repr-fallback\"><pre>MultinomialNB(alpha=0.01, fit_prior=False)</pre><b>In a Jupyter environment, please rerun this cell to show the HTML representation or trust the notebook. <br />On GitHub, the HTML representation is unable to render, please try loading this page with nbviewer.org.</b></div><div class=\"sk-container\" hidden><div class=\"sk-item\"><div class=\"sk-estimator sk-toggleable\"><input class=\"sk-toggleable__control sk-hidden--visually\" id=\"sk-estimator-id-1\" type=\"checkbox\" checked><label for=\"sk-estimator-id-1\" class=\"sk-toggleable__label sk-toggleable__label-arrow\">MultinomialNB</label><div class=\"sk-toggleable__content\"><pre>MultinomialNB(alpha=0.01, fit_prior=False)</pre></div></div></div></div></div>"
      ],
      "text/plain": [
       "MultinomialNB(alpha=0.01, fit_prior=False)"
      ]
     },
     "execution_count": 9,
     "metadata": {},
     "output_type": "execute_result"
    }
   ],
   "source": [
    "model = MultinomialNB(alpha= 0.01, class_prior= None, fit_prior= False)\n",
    "model.fit(X_train_type, y_train_type)"
   ]
  },
  {
   "cell_type": "markdown",
   "id": "double-prefix",
   "metadata": {},
   "source": [
    "Prediction on train data:"
   ]
  },
  {
   "cell_type": "code",
   "execution_count": 10,
   "id": "robust-activity",
   "metadata": {},
   "outputs": [
    {
     "name": "stdout",
     "output_type": "stream",
     "text": [
      "Confusion matrix: \n",
      " [[146   5   9]\n",
      " [  0  31   0]\n",
      " [  0   8  81]]\n",
      "\n",
      "Classification report: \n",
      "                       precision    recall  f1-score   support\n",
      "\n",
      "                Love       1.00      0.91      0.95       160\n",
      "Mythology & Folklore       0.70      1.00      0.83        31\n",
      "              Nature       0.90      0.91      0.91        89\n",
      "\n",
      "            accuracy                           0.92       280\n",
      "           macro avg       0.87      0.94      0.90       280\n",
      "        weighted avg       0.94      0.92      0.92       280\n",
      "\n"
     ]
    }
   ],
   "source": [
    "predictAndReport(model, X_train_type, y_train_type)"
   ]
  },
  {
   "cell_type": "markdown",
   "id": "polyphonic-division",
   "metadata": {},
   "source": [
    "Prediction on validation data:"
   ]
  },
  {
   "cell_type": "code",
   "execution_count": 11,
   "id": "beautiful-garbage",
   "metadata": {},
   "outputs": [
    {
     "name": "stdout",
     "output_type": "stream",
     "text": [
      "Confusion matrix: \n",
      " [[34 24 11]\n",
      " [ 3  8  1]\n",
      " [ 6 22 12]]\n",
      "\n",
      "Classification report: \n",
      "                       precision    recall  f1-score   support\n",
      "\n",
      "                Love       0.79      0.49      0.61        69\n",
      "Mythology & Folklore       0.15      0.67      0.24        12\n",
      "              Nature       0.50      0.30      0.37        40\n",
      "\n",
      "            accuracy                           0.45       121\n",
      "           macro avg       0.48      0.49      0.41       121\n",
      "        weighted avg       0.63      0.45      0.49       121\n",
      "\n"
     ]
    }
   ],
   "source": [
    "predictAndReport(model, X_val_type, y_val_type)"
   ]
  },
  {
   "cell_type": "markdown",
   "id": "heavy-inspection",
   "metadata": {},
   "source": [
    "## Multinomial Naive Bayes with RandomOverSampler method"
   ]
  },
  {
   "cell_type": "code",
   "execution_count": 12,
   "id": "canadian-welcome",
   "metadata": {},
   "outputs": [],
   "source": [
    "ros = RandomOverSampler(random_state=0, sampling_strategy='all')\n",
    "X_resampled, y_resampled = ros.fit_resample(X_train_type, y_train_type)"
   ]
  },
  {
   "cell_type": "code",
   "execution_count": 13,
   "id": "joined-chicago",
   "metadata": {},
   "outputs": [
    {
     "data": {
      "image/png": "[encoded data removed]",
      "text/plain": [
       "<Figure size 864x576 with 1 Axes>"
      ]
     },
     "metadata": {
      "needs_background": "light"
     },
     "output_type": "display_data"
    }
   ],
   "source": [
    "showHist(y_resampled)"
   ]
  },
  {
   "cell_type": "code",
   "execution_count": 14,
   "id": "loose-invasion",
   "metadata": {
    "scrolled": true
   },
   "outputs": [
    {
     "data": {
      "text/html": [
       "<style>#sk-container-id-2 {color: black;background-color: white;}#sk-container-id-2 pre{padding: 0;}#sk-container-id-2 div.sk-toggleable {background-color: white;}#sk-container-id-2 label.sk-toggleable__label {cursor: pointer;display: block;width: 100%;margin-bottom: 0;padding: 0.3em;box-sizing: border-box;text-align: center;}#sk-container-id-2 label.sk-toggleable__label-arrow:before {content: \"▸\";float: left;margin-right: 0.25em;color: #696969;}#sk-container-id-2 label.sk-toggleable__label-arrow:hover:before {color: black;}#sk-container-id-2 div.sk-estimator:hover label.sk-toggleable__label-arrow:before {color: black;}#sk-container-id-2 div.sk-toggleable__content {max-height: 0;max-width: 0;overflow: hidden;text-align: left;background-color: #f0f8ff;}#sk-container-id-2 div.sk-toggleable__content pre {margin: 0.2em;color: black;border-radius: 0.25em;background-color: #f0f8ff;}#sk-container-id-2 input.sk-toggleable__control:checked~div.sk-toggleable__content {max-height: 200px;max-width: 100%;overflow: auto;}#sk-container-id-2 input.sk-toggleable__control:checked~label.sk-toggleable__label-arrow:before {content: \"▾\";}#sk-container-id-2 div.sk-estimator input.sk-toggleable__control:checked~label.sk-toggleable__label {background-color: #d4ebff;}#sk-container-id-2 div.sk-label input.sk-toggleable__control:checked~label.sk-toggleable__label {background-color: #d4ebff;}#sk-container-id-2 input.sk-hidden--visually {border: 0;clip: rect(1px 1px 1px 1px);clip: rect(1px, 1px, 1px, 1px);height: 1px;margin: -1px;overflow: hidden;padding: 0;position: absolute;width: 1px;}#sk-container-id-2 div.sk-estimator {font-family: monospace;background-color: #f0f8ff;border: 1px dotted black;border-radius: 0.25em;box-sizing: border-box;margin-bottom: 0.5em;}#sk-container-id-2 div.sk-estimator:hover {background-color: #d4ebff;}#sk-container-id-2 div.sk-parallel-item::after {content: \"\";width: 100%;border-bottom: 1px solid gray;flex-grow: 1;}#sk-container-id-2 div.sk-label:hover label.sk-toggleable__label {background-color: #d4ebff;}#sk-container-id-2 div.sk-serial::before {content: \"\";position: absolute;border-left: 1px solid gray;box-sizing: border-box;top: 0;bottom: 0;left: 50%;z-index: 0;}#sk-container-id-2 div.sk-serial {display: flex;flex-direction: column;align-items: center;background-color: white;padding-right: 0.2em;padding-left: 0.2em;position: relative;}#sk-container-id-2 div.sk-item {position: relative;z-index: 1;}#sk-container-id-2 div.sk-parallel {display: flex;align-items: stretch;justify-content: center;background-color: white;position: relative;}#sk-container-id-2 div.sk-item::before, #sk-container-id-2 div.sk-parallel-item::before {content: \"\";position: absolute;border-left: 1px solid gray;box-sizing: border-box;top: 0;bottom: 0;left: 50%;z-index: -1;}#sk-container-id-2 div.sk-parallel-item {display: flex;flex-direction: column;z-index: 1;position: relative;background-color: white;}#sk-container-id-2 div.sk-parallel-item:first-child::after {align-self: flex-end;width: 50%;}#sk-container-id-2 div.sk-parallel-item:last-child::after {align-self: flex-start;width: 50%;}#sk-container-id-2 div.sk-parallel-item:only-child::after {width: 0;}#sk-container-id-2 div.sk-dashed-wrapped {border: 1px dashed gray;margin: 0 0.4em 0.5em 0.4em;box-sizing: border-box;padding-bottom: 0.4em;background-color: white;}#sk-container-id-2 div.sk-label label {font-family: monospace;font-weight: bold;display: inline-block;line-height: 1.2em;}#sk-container-id-2 div.sk-label-container {text-align: center;}#sk-container-id-2 div.sk-container {/* jupyter's `normalize.less` sets `[hidden] { display: none; }` but bootstrap.min.css set `[hidden] { display: none !important; }` so we also need the `!important` here to be able to override the default hidden behavior on the sphinx rendered scikit-learn.org. See: https://github.com/scikit-learn/scikit-learn/issues/21755 */display: inline-block !important;position: relative;}#sk-container-id-2 div.sk-text-repr-fallback {display: none;}</style><div id=\"sk-container-id-2\" class=\"sk-top-container\"><div class=\"sk-text-repr-fallback\"><pre>MultinomialNB(alpha=0.01, fit_prior=False)</pre><b>In a Jupyter environment, please rerun this cell to show the HTML representation or trust the notebook. <br />On GitHub, the HTML representation is unable to render, please try loading this page with nbviewer.org.</b></div><div class=\"sk-container\" hidden><div class=\"sk-item\"><div class=\"sk-estimator sk-toggleable\"><input class=\"sk-toggleable__control sk-hidden--visually\" id=\"sk-estimator-id-2\" type=\"checkbox\" checked><label for=\"sk-estimator-id-2\" class=\"sk-toggleable__label sk-toggleable__label-arrow\">MultinomialNB</label><div class=\"sk-toggleable__content\"><pre>MultinomialNB(alpha=0.01, fit_prior=False)</pre></div></div></div></div></div>"
      ],
      "text/plain": [
       "MultinomialNB(alpha=0.01, fit_prior=False)"
      ]
     },
     "execution_count": 14,
     "metadata": {},
     "output_type": "execute_result"
    }
   ],
   "source": [
    "model.fit(X_resampled, y_resampled)"
   ]
  },
  {
   "cell_type": "markdown",
   "id": "imperial-possession",
   "metadata": {},
   "source": [
    "Prediction on test data:"
   ]
  },
  {
   "cell_type": "code",
   "execution_count": 15,
   "id": "manufactured-freedom",
   "metadata": {},
   "outputs": [
    {
     "name": "stdout",
     "output_type": "stream",
     "text": [
      "Confusion matrix: \n",
      " [[150   4   6]\n",
      " [  0 159   1]\n",
      " [  4  11 145]]\n",
      "\n",
      "Classification report: \n",
      "                       precision    recall  f1-score   support\n",
      "\n",
      "                Love       0.97      0.94      0.96       160\n",
      "Mythology & Folklore       0.91      0.99      0.95       160\n",
      "              Nature       0.95      0.91      0.93       160\n",
      "\n",
      "            accuracy                           0.95       480\n",
      "           macro avg       0.95      0.95      0.95       480\n",
      "        weighted avg       0.95      0.95      0.95       480\n",
      "\n"
     ]
    }
   ],
   "source": [
    "predictAndReport(model, X_resampled, y_resampled)"
   ]
  },
  {
   "cell_type": "markdown",
   "id": "modified-league",
   "metadata": {},
   "source": [
    "Prediction on validation data:"
   ]
  },
  {
   "cell_type": "code",
   "execution_count": 16,
   "id": "intermediate-brand",
   "metadata": {},
   "outputs": [
    {
     "name": "stdout",
     "output_type": "stream",
     "text": [
      "Confusion matrix: \n",
      " [[58  1 10]\n",
      " [10  0  2]\n",
      " [19  4 17]]\n",
      "\n",
      "Classification report: \n",
      "                       precision    recall  f1-score   support\n",
      "\n",
      "                Love       0.67      0.84      0.74        69\n",
      "Mythology & Folklore       0.00      0.00      0.00        12\n",
      "              Nature       0.59      0.42      0.49        40\n",
      "\n",
      "            accuracy                           0.62       121\n",
      "           macro avg       0.42      0.42      0.41       121\n",
      "        weighted avg       0.57      0.62      0.59       121\n",
      "\n"
     ]
    }
   ],
   "source": [
    "predictAndReport(model, X_val_type, y_val_type)"
   ]
  },
  {
   "cell_type": "markdown",
   "id": "musical-catch",
   "metadata": {},
   "source": [
    "### Prediction on test data:"
   ]
  },
  {
   "cell_type": "code",
   "execution_count": 17,
   "id": "tough-contrary",
   "metadata": {},
   "outputs": [
    {
     "name": "stdout",
     "output_type": "stream",
     "text": [
      "Confusion matrix: \n",
      " [[87  2  8]\n",
      " [ 8  3  5]\n",
      " [23  5 31]]\n",
      "\n",
      "Classification report: \n",
      "                       precision    recall  f1-score   support\n",
      "\n",
      "                Love       0.74      0.90      0.81        97\n",
      "Mythology & Folklore       0.30      0.19      0.23        16\n",
      "              Nature       0.70      0.53      0.60        59\n",
      "\n",
      "            accuracy                           0.70       172\n",
      "           macro avg       0.58      0.54      0.55       172\n",
      "        weighted avg       0.69      0.70      0.68       172\n",
      "\n"
     ]
    }
   ],
   "source": [
    "predictAndReport(model, X_test, y_test_type)"
   ]
  },
  {
   "cell_type": "markdown",
   "id": "extraordinary-finance",
   "metadata": {},
   "source": [
    "# -----------------------------------------------------------------------------------------------"
   ]
  },
  {
   "cell_type": "markdown",
   "id": "amino-temple",
   "metadata": {},
   "source": [
    "# Classes from atribute age_type "
   ]
  },
  {
   "cell_type": "code",
   "execution_count": 18,
   "id": "owned-contract",
   "metadata": {},
   "outputs": [],
   "source": [
    "X_train_age_type, X_val_age_type, y_train_age_type, y_val_age_type = train_test_split(X_train, y_train_age_type, train_size=0.7)"
   ]
  },
  {
   "cell_type": "code",
   "execution_count": 19,
   "id": "senior-settle",
   "metadata": {},
   "outputs": [
    {
     "data": {
      "image/png": "[encoded data removed]",
      "text/plain": [
       "<Figure size 864x576 with 1 Axes>"
      ]
     },
     "metadata": {
      "needs_background": "light"
     },
     "output_type": "display_data"
    }
   ],
   "source": [
    "showHist(y_train_age_type)"
   ]
  },
  {
   "cell_type": "markdown",
   "id": "welsh-transaction",
   "metadata": {},
   "source": [
    "## Multinomial Naive Bayes without any imbalanced learn method"
   ]
  },
  {
   "cell_type": "code",
   "execution_count": 20,
   "id": "horizontal-separation",
   "metadata": {},
   "outputs": [
    {
     "data": {
      "text/html": [
       "<style>#sk-container-id-3 {color: black;background-color: white;}#sk-container-id-3 pre{padding: 0;}#sk-container-id-3 div.sk-toggleable {background-color: white;}#sk-container-id-3 label.sk-toggleable__label {cursor: pointer;display: block;width: 100%;margin-bottom: 0;padding: 0.3em;box-sizing: border-box;text-align: center;}#sk-container-id-3 label.sk-toggleable__label-arrow:before {content: \"▸\";float: left;margin-right: 0.25em;color: #696969;}#sk-container-id-3 label.sk-toggleable__label-arrow:hover:before {color: black;}#sk-container-id-3 div.sk-estimator:hover label.sk-toggleable__label-arrow:before {color: black;}#sk-container-id-3 div.sk-toggleable__content {max-height: 0;max-width: 0;overflow: hidden;text-align: left;background-color: #f0f8ff;}#sk-container-id-3 div.sk-toggleable__content pre {margin: 0.2em;color: black;border-radius: 0.25em;background-color: #f0f8ff;}#sk-container-id-3 input.sk-toggleable__control:checked~div.sk-toggleable__content {max-height: 200px;max-width: 100%;overflow: auto;}#sk-container-id-3 input.sk-toggleable__control:checked~label.sk-toggleable__label-arrow:before {content: \"▾\";}#sk-container-id-3 div.sk-estimator input.sk-toggleable__control:checked~label.sk-toggleable__label {background-color: #d4ebff;}#sk-container-id-3 div.sk-label input.sk-toggleable__control:checked~label.sk-toggleable__label {background-color: #d4ebff;}#sk-container-id-3 input.sk-hidden--visually {border: 0;clip: rect(1px 1px 1px 1px);clip: rect(1px, 1px, 1px, 1px);height: 1px;margin: -1px;overflow: hidden;padding: 0;position: absolute;width: 1px;}#sk-container-id-3 div.sk-estimator {font-family: monospace;background-color: #f0f8ff;border: 1px dotted black;border-radius: 0.25em;box-sizing: border-box;margin-bottom: 0.5em;}#sk-container-id-3 div.sk-estimator:hover {background-color: #d4ebff;}#sk-container-id-3 div.sk-parallel-item::after {content: \"\";width: 100%;border-bottom: 1px solid gray;flex-grow: 1;}#sk-container-id-3 div.sk-label:hover label.sk-toggleable__label {background-color: #d4ebff;}#sk-container-id-3 div.sk-serial::before {content: \"\";position: absolute;border-left: 1px solid gray;box-sizing: border-box;top: 0;bottom: 0;left: 50%;z-index: 0;}#sk-container-id-3 div.sk-serial {display: flex;flex-direction: column;align-items: center;background-color: white;padding-right: 0.2em;padding-left: 0.2em;position: relative;}#sk-container-id-3 div.sk-item {position: relative;z-index: 1;}#sk-container-id-3 div.sk-parallel {display: flex;align-items: stretch;justify-content: center;background-color: white;position: relative;}#sk-container-id-3 div.sk-item::before, #sk-container-id-3 div.sk-parallel-item::before {content: \"\";position: absolute;border-left: 1px solid gray;box-sizing: border-box;top: 0;bottom: 0;left: 50%;z-index: -1;}#sk-container-id-3 div.sk-parallel-item {display: flex;flex-direction: column;z-index: 1;position: relative;background-color: white;}#sk-container-id-3 div.sk-parallel-item:first-child::after {align-self: flex-end;width: 50%;}#sk-container-id-3 div.sk-parallel-item:last-child::after {align-self: flex-start;width: 50%;}#sk-container-id-3 div.sk-parallel-item:only-child::after {width: 0;}#sk-container-id-3 div.sk-dashed-wrapped {border: 1px dashed gray;margin: 0 0.4em 0.5em 0.4em;box-sizing: border-box;padding-bottom: 0.4em;background-color: white;}#sk-container-id-3 div.sk-label label {font-family: monospace;font-weight: bold;display: inline-block;line-height: 1.2em;}#sk-container-id-3 div.sk-label-container {text-align: center;}#sk-container-id-3 div.sk-container {/* jupyter's `normalize.less` sets `[hidden] { display: none; }` but bootstrap.min.css set `[hidden] { display: none !important; }` so we also need the `!important` here to be able to override the default hidden behavior on the sphinx rendered scikit-learn.org. See: https://github.com/scikit-learn/scikit-learn/issues/21755 */display: inline-block !important;position: relative;}#sk-container-id-3 div.sk-text-repr-fallback {display: none;}</style><div id=\"sk-container-id-3\" class=\"sk-top-container\"><div class=\"sk-text-repr-fallback\"><pre>MultinomialNB(alpha=0.01, fit_prior=False)</pre><b>In a Jupyter environment, please rerun this cell to show the HTML representation or trust the notebook. <br />On GitHub, the HTML representation is unable to render, please try loading this page with nbviewer.org.</b></div><div class=\"sk-container\" hidden><div class=\"sk-item\"><div class=\"sk-estimator sk-toggleable\"><input class=\"sk-toggleable__control sk-hidden--visually\" id=\"sk-estimator-id-3\" type=\"checkbox\" checked><label for=\"sk-estimator-id-3\" class=\"sk-toggleable__label sk-toggleable__label-arrow\">MultinomialNB</label><div class=\"sk-toggleable__content\"><pre>MultinomialNB(alpha=0.01, fit_prior=False)</pre></div></div></div></div></div>"
      ],
      "text/plain": [
       "MultinomialNB(alpha=0.01, fit_prior=False)"
      ]
     },
     "execution_count": 20,
     "metadata": {},
     "output_type": "execute_result"
    }
   ],
   "source": [
    "model = MultinomialNB(alpha= 0.01, class_prior= None, fit_prior= False)\n",
    "model.fit(X_train_age_type, y_train_age_type)"
   ]
  },
  {
   "cell_type": "code",
   "execution_count": 21,
   "id": "russian-reading",
   "metadata": {},
   "outputs": [
    {
     "data": {
      "image/png": "[encoded data removed]",
      "text/plain": [
       "<Figure size 864x576 with 1 Axes>"
      ]
     },
     "metadata": {
      "needs_background": "light"
     },
     "output_type": "display_data"
    }
   ],
   "source": [
    "showHist(y_train_age_type)"
   ]
  },
  {
   "cell_type": "markdown",
   "id": "crucial-nebraska",
   "metadata": {},
   "source": [
    "Prediction on train data:"
   ]
  },
  {
   "cell_type": "code",
   "execution_count": 22,
   "id": "virtual-mounting",
   "metadata": {},
   "outputs": [
    {
     "name": "stdout",
     "output_type": "stream",
     "text": [
      "Confusion matrix: \n",
      " [[ 42   0   0   0   0   0]\n",
      " [  0  16   0   0   0   0]\n",
      " [  2   6  55   0   0   0]\n",
      " [  0   0   0 110   1   7]\n",
      " [  0   0   0   0   9   0]\n",
      " [  0   0   0   0   2  30]]\n",
      "\n",
      "Classification report: \n",
      "                                   precision    recall  f1-score   support\n",
      "\n",
      "                     Modern Love       0.95      1.00      0.98        42\n",
      "     Modern Mythology & Folklore       0.73      1.00      0.84        16\n",
      "                   Modern Nature       1.00      0.87      0.93        63\n",
      "                Renaissance Love       1.00      0.93      0.96       118\n",
      "Renaissance Mythology & Folklore       0.75      1.00      0.86         9\n",
      "              Renaissance Nature       0.81      0.94      0.87        32\n",
      "\n",
      "                        accuracy                           0.94       280\n",
      "                       macro avg       0.87      0.96      0.91       280\n",
      "                    weighted avg       0.95      0.94      0.94       280\n",
      "\n"
     ]
    }
   ],
   "source": [
    "predictAndReport(model, X_train_age_type, y_train_age_type)"
   ]
  },
  {
   "cell_type": "markdown",
   "id": "dental-sequence",
   "metadata": {},
   "source": [
    "Prediction on validation data:"
   ]
  },
  {
   "cell_type": "code",
   "execution_count": 23,
   "id": "israeli-warner",
   "metadata": {},
   "outputs": [
    {
     "name": "stdout",
     "output_type": "stream",
     "text": [
      "Confusion matrix: \n",
      " [[ 7  4  6  2  1  1]\n",
      " [ 3  4  1  0  2  2]\n",
      " [ 4  9  8  0  4  2]\n",
      " [ 1  3  0 22 13  9]\n",
      " [ 0  0  0  5  1  0]\n",
      " [ 0  0  0  0  5  2]]\n",
      "\n",
      "Classification report: \n",
      "                                   precision    recall  f1-score   support\n",
      "\n",
      "                     Modern Love       0.47      0.33      0.39        21\n",
      "     Modern Mythology & Folklore       0.20      0.33      0.25        12\n",
      "                   Modern Nature       0.53      0.30      0.38        27\n",
      "                Renaissance Love       0.76      0.46      0.57        48\n",
      "Renaissance Mythology & Folklore       0.04      0.17      0.06         6\n",
      "              Renaissance Nature       0.12      0.29      0.17         7\n",
      "\n",
      "                        accuracy                           0.36       121\n",
      "                       macro avg       0.35      0.31      0.30       121\n",
      "                    weighted avg       0.53      0.36      0.42       121\n",
      "\n"
     ]
    }
   ],
   "source": [
    "predictAndReport(model, X_val_age_type, y_val_age_type)"
   ]
  },
  {
   "cell_type": "markdown",
   "id": "offshore-wright",
   "metadata": {},
   "source": [
    "## Multinomial Naive Bayes with RandomOverSampler method"
   ]
  },
  {
   "cell_type": "code",
   "execution_count": 24,
   "id": "bigger-senegal",
   "metadata": {},
   "outputs": [],
   "source": [
    "ros = RandomOverSampler(random_state=0, sampling_strategy='all')\n",
    "X_resampled, y_resampled = ros.fit_resample(X_train_age_type, y_train_age_type)"
   ]
  },
  {
   "cell_type": "code",
   "execution_count": 25,
   "id": "catholic-expansion",
   "metadata": {},
   "outputs": [
    {
     "data": {
      "image/png": "[encoded data removed]",
      "text/plain": [
       "<Figure size 864x576 with 1 Axes>"
      ]
     },
     "metadata": {
      "needs_background": "light"
     },
     "output_type": "display_data"
    }
   ],
   "source": [
    "showHist(y_resampled)"
   ]
  },
  {
   "cell_type": "code",
   "execution_count": 26,
   "id": "moving-ability",
   "metadata": {},
   "outputs": [
    {
     "data": {
      "text/html": [
       "<style>#sk-container-id-4 {color: black;background-color: white;}#sk-container-id-4 pre{padding: 0;}#sk-container-id-4 div.sk-toggleable {background-color: white;}#sk-container-id-4 label.sk-toggleable__label {cursor: pointer;display: block;width: 100%;margin-bottom: 0;padding: 0.3em;box-sizing: border-box;text-align: center;}#sk-container-id-4 label.sk-toggleable__label-arrow:before {content: \"▸\";float: left;margin-right: 0.25em;color: #696969;}#sk-container-id-4 label.sk-toggleable__label-arrow:hover:before {color: black;}#sk-container-id-4 div.sk-estimator:hover label.sk-toggleable__label-arrow:before {color: black;}#sk-container-id-4 div.sk-toggleable__content {max-height: 0;max-width: 0;overflow: hidden;text-align: left;background-color: #f0f8ff;}#sk-container-id-4 div.sk-toggleable__content pre {margin: 0.2em;color: black;border-radius: 0.25em;background-color: #f0f8ff;}#sk-container-id-4 input.sk-toggleable__control:checked~div.sk-toggleable__content {max-height: 200px;max-width: 100%;overflow: auto;}#sk-container-id-4 input.sk-toggleable__control:checked~label.sk-toggleable__label-arrow:before {content: \"▾\";}#sk-container-id-4 div.sk-estimator input.sk-toggleable__control:checked~label.sk-toggleable__label {background-color: #d4ebff;}#sk-container-id-4 div.sk-label input.sk-toggleable__control:checked~label.sk-toggleable__label {background-color: #d4ebff;}#sk-container-id-4 input.sk-hidden--visually {border: 0;clip: rect(1px 1px 1px 1px);clip: rect(1px, 1px, 1px, 1px);height: 1px;margin: -1px;overflow: hidden;padding: 0;position: absolute;width: 1px;}#sk-container-id-4 div.sk-estimator {font-family: monospace;background-color: #f0f8ff;border: 1px dotted black;border-radius: 0.25em;box-sizing: border-box;margin-bottom: 0.5em;}#sk-container-id-4 div.sk-estimator:hover {background-color: #d4ebff;}#sk-container-id-4 div.sk-parallel-item::after {content: \"\";width: 100%;border-bottom: 1px solid gray;flex-grow: 1;}#sk-container-id-4 div.sk-label:hover label.sk-toggleable__label {background-color: #d4ebff;}#sk-container-id-4 div.sk-serial::before {content: \"\";position: absolute;border-left: 1px solid gray;box-sizing: border-box;top: 0;bottom: 0;left: 50%;z-index: 0;}#sk-container-id-4 div.sk-serial {display: flex;flex-direction: column;align-items: center;background-color: white;padding-right: 0.2em;padding-left: 0.2em;position: relative;}#sk-container-id-4 div.sk-item {position: relative;z-index: 1;}#sk-container-id-4 div.sk-parallel {display: flex;align-items: stretch;justify-content: center;background-color: white;position: relative;}#sk-container-id-4 div.sk-item::before, #sk-container-id-4 div.sk-parallel-item::before {content: \"\";position: absolute;border-left: 1px solid gray;box-sizing: border-box;top: 0;bottom: 0;left: 50%;z-index: -1;}#sk-container-id-4 div.sk-parallel-item {display: flex;flex-direction: column;z-index: 1;position: relative;background-color: white;}#sk-container-id-4 div.sk-parallel-item:first-child::after {align-self: flex-end;width: 50%;}#sk-container-id-4 div.sk-parallel-item:last-child::after {align-self: flex-start;width: 50%;}#sk-container-id-4 div.sk-parallel-item:only-child::after {width: 0;}#sk-container-id-4 div.sk-dashed-wrapped {border: 1px dashed gray;margin: 0 0.4em 0.5em 0.4em;box-sizing: border-box;padding-bottom: 0.4em;background-color: white;}#sk-container-id-4 div.sk-label label {font-family: monospace;font-weight: bold;display: inline-block;line-height: 1.2em;}#sk-container-id-4 div.sk-label-container {text-align: center;}#sk-container-id-4 div.sk-container {/* jupyter's `normalize.less` sets `[hidden] { display: none; }` but bootstrap.min.css set `[hidden] { display: none !important; }` so we also need the `!important` here to be able to override the default hidden behavior on the sphinx rendered scikit-learn.org. See: https://github.com/scikit-learn/scikit-learn/issues/21755 */display: inline-block !important;position: relative;}#sk-container-id-4 div.sk-text-repr-fallback {display: none;}</style><div id=\"sk-container-id-4\" class=\"sk-top-container\"><div class=\"sk-text-repr-fallback\"><pre>MultinomialNB(alpha=0.01, fit_prior=False)</pre><b>In a Jupyter environment, please rerun this cell to show the HTML representation or trust the notebook. <br />On GitHub, the HTML representation is unable to render, please try loading this page with nbviewer.org.</b></div><div class=\"sk-container\" hidden><div class=\"sk-item\"><div class=\"sk-estimator sk-toggleable\"><input class=\"sk-toggleable__control sk-hidden--visually\" id=\"sk-estimator-id-4\" type=\"checkbox\" checked><label for=\"sk-estimator-id-4\" class=\"sk-toggleable__label sk-toggleable__label-arrow\">MultinomialNB</label><div class=\"sk-toggleable__content\"><pre>MultinomialNB(alpha=0.01, fit_prior=False)</pre></div></div></div></div></div>"
      ],
      "text/plain": [
       "MultinomialNB(alpha=0.01, fit_prior=False)"
      ]
     },
     "execution_count": 26,
     "metadata": {},
     "output_type": "execute_result"
    }
   ],
   "source": [
    "model.fit(X_resampled, y_resampled)"
   ]
  },
  {
   "cell_type": "markdown",
   "id": "falling-copyright",
   "metadata": {},
   "source": [
    "Prediction on train data:"
   ]
  },
  {
   "cell_type": "code",
   "execution_count": 27,
   "id": "religious-front",
   "metadata": {},
   "outputs": [
    {
     "name": "stdout",
     "output_type": "stream",
     "text": [
      "Confusion matrix: \n",
      " [[116   2   0   0   0   0]\n",
      " [  0 118   0   0   0   0]\n",
      " [  3  14 101   0   0   0]\n",
      " [  0   0   0 110   1   7]\n",
      " [  0   0   0   0 118   0]\n",
      " [  0   0   0   0   5 113]]\n",
      "\n",
      "Classification report: \n",
      "                                   precision    recall  f1-score   support\n",
      "\n",
      "                     Modern Love       0.97      0.98      0.98       118\n",
      "     Modern Mythology & Folklore       0.88      1.00      0.94       118\n",
      "                   Modern Nature       1.00      0.86      0.92       118\n",
      "                Renaissance Love       1.00      0.93      0.96       118\n",
      "Renaissance Mythology & Folklore       0.95      1.00      0.98       118\n",
      "              Renaissance Nature       0.94      0.96      0.95       118\n",
      "\n",
      "                        accuracy                           0.95       708\n",
      "                       macro avg       0.96      0.95      0.95       708\n",
      "                    weighted avg       0.96      0.95      0.95       708\n",
      "\n"
     ]
    }
   ],
   "source": [
    "predictAndReport(model, X_resampled, y_resampled)"
   ]
  },
  {
   "cell_type": "markdown",
   "id": "proper-father",
   "metadata": {},
   "source": [
    "Prediction on validation data:"
   ]
  },
  {
   "cell_type": "code",
   "execution_count": 28,
   "id": "marine-lying",
   "metadata": {},
   "outputs": [
    {
     "name": "stdout",
     "output_type": "stream",
     "text": [
      "Confusion matrix: \n",
      " [[ 4  1 10  6  0  0]\n",
      " [ 1  2  3  6  0  0]\n",
      " [ 5  3 14  4  0  1]\n",
      " [ 0  0  0 44  1  3]\n",
      " [ 0  0  0  6  0  0]\n",
      " [ 0  0  0  6  0  1]]\n",
      "\n",
      "Classification report: \n",
      "                                   precision    recall  f1-score   support\n",
      "\n",
      "                     Modern Love       0.40      0.19      0.26        21\n",
      "     Modern Mythology & Folklore       0.33      0.17      0.22        12\n",
      "                   Modern Nature       0.52      0.52      0.52        27\n",
      "                Renaissance Love       0.61      0.92      0.73        48\n",
      "Renaissance Mythology & Folklore       0.00      0.00      0.00         6\n",
      "              Renaissance Nature       0.20      0.14      0.17         7\n",
      "\n",
      "                        accuracy                           0.54       121\n",
      "                       macro avg       0.34      0.32      0.32       121\n",
      "                    weighted avg       0.47      0.54      0.48       121\n",
      "\n"
     ]
    }
   ],
   "source": [
    "predictAndReport(model, X_val_age_type, y_val_age_type)"
   ]
  },
  {
   "cell_type": "markdown",
   "id": "treated-station",
   "metadata": {},
   "source": [
    "### Prediction on test data:"
   ]
  },
  {
   "cell_type": "code",
   "execution_count": 29,
   "id": "regulated-mozambique",
   "metadata": {},
   "outputs": [
    {
     "name": "stdout",
     "output_type": "stream",
     "text": [
      "Confusion matrix: \n",
      " [[ 6  1  9  4  0  0]\n",
      " [ 3  2  4  3  0  0]\n",
      " [ 6  3 27  8  0  1]\n",
      " [ 0  0  0 70  2  5]\n",
      " [ 0  0  0  3  1  0]\n",
      " [ 0  0  0 10  3  1]]\n",
      "\n",
      "Classification report: \n",
      "                                   precision    recall  f1-score   support\n",
      "\n",
      "                     Modern Love       0.40      0.30      0.34        20\n",
      "     Modern Mythology & Folklore       0.33      0.17      0.22        12\n",
      "                   Modern Nature       0.68      0.60      0.64        45\n",
      "                Renaissance Love       0.71      0.91      0.80        77\n",
      "Renaissance Mythology & Folklore       0.17      0.25      0.20         4\n",
      "              Renaissance Nature       0.14      0.07      0.10        14\n",
      "\n",
      "                        accuracy                           0.62       172\n",
      "                       macro avg       0.41      0.38      0.38       172\n",
      "                    weighted avg       0.58      0.62      0.59       172\n",
      "\n"
     ]
    }
   ],
   "source": [
    "predictAndReport(model, X_test, y_test_age_type)"
   ]
  }
 ],
 "metadata": {
  "kernelspec": {
   "display_name": "Python 3",
   "language": "python",
   "name": "python3"
  },
  "language_info": {
   "codemirror_mode": {
    "name": "ipython",
    "version": 3
   },
   "file_extension": ".py",
   "mimetype": "text/x-python",
   "name": "python",
   "nbconvert_exporter": "python",
   "pygments_lexer": "ipython3",
   "version": "3.8.10"
  }
 },
 "nbformat": 4,
 "nbformat_minor": 5
}
