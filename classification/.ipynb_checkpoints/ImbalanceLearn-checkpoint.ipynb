{
 "cells": [
  {
   "cell_type": "markdown",
   "id": "public-display",
   "metadata": {},
   "source": [
    "# Imbalanced learn"
   ]
  },
  {
   "cell_type": "code",
   "execution_count": 1,
   "id": "insured-venue",
   "metadata": {},
   "outputs": [],
   "source": [
    "# pip install imblearn"
   ]
  },
  {
   "cell_type": "code",
   "execution_count": 2,
   "id": "apparent-relay",
   "metadata": {},
   "outputs": [],
   "source": [
    "import pandas as pd\n",
    "import numpy as np\n",
    "import matplotlib.pyplot as plt\n",
    "\n",
    "from collections import Counter\n",
    "from termcolor import colored\n",
    "\n",
    "from imblearn.over_sampling import RandomOverSampler\n",
    "\n",
    "from sklearn import svm\n",
    "from sklearn.neighbors import KNeighborsClassifier\n",
    "from sklearn.naive_bayes import MultinomialNB\n",
    "from sklearn.metrics import accuracy_score, confusion_matrix, classification_report, roc_curve, roc_auc_score\n",
    "from sklearn.model_selection import train_test_split"
   ]
  },
  {
   "cell_type": "markdown",
   "id": "charitable-border",
   "metadata": {},
   "source": [
    "Read in training data:"
   ]
  },
  {
   "cell_type": "code",
   "execution_count": 3,
   "id": "suspected-gospel",
   "metadata": {},
   "outputs": [],
   "source": [
    "X_train = pd.read_csv('../data/train/X_train.csv')\n",
    "y_train_type = np.ravel(pd.read_csv('../data/train/y_train_type.csv'))\n",
    "y_train_age_type = np.ravel(pd.read_csv('../data/train/y_train_age_type.csv'))"
   ]
  },
  {
   "cell_type": "markdown",
   "id": "proved-print",
   "metadata": {},
   "source": [
    "Read in test data:"
   ]
  },
  {
   "cell_type": "code",
   "execution_count": 4,
   "id": "speaking-finance",
   "metadata": {},
   "outputs": [],
   "source": [
    "X_test = pd.read_csv('../data/test/X_test.csv')\n",
    "y_test_type = np.ravel(pd.read_csv('../data/test/y_test_type.csv'))\n",
    "y_test_age_type = np.ravel(pd.read_csv('../data/test/y_test_age_type.csv'))"
   ]
  },
  {
   "cell_type": "code",
   "execution_count": 5,
   "id": "liquid-fisher",
   "metadata": {},
   "outputs": [],
   "source": [
    "def showHist(data):\n",
    "    plt.style.use('seaborn-pastel')\n",
    "    plt.figure(figsize=(12,8))\n",
    "    plt.hist(data)\n",
    "    plt.xticks(rotation=50)\n",
    "    plt.title(\"Histogram\")\n",
    "    plt.show()"
   ]
  },
  {
   "cell_type": "code",
   "execution_count": 6,
   "id": "missing-sharp",
   "metadata": {},
   "outputs": [],
   "source": [
    "def predictAndReport(model, X, Y):\n",
    "    pred = model.predict(X)\n",
    "    print('Confusion matrix: \\n', confusion_matrix(Y, pred))\n",
    "    print('\\nClassification report: \\n', classification_report(Y, pred, zero_division=True))"
   ]
  },
  {
   "cell_type": "markdown",
   "id": "english-hazard",
   "metadata": {},
   "source": [
    "# -----------------------------------------------------------------------------------------------"
   ]
  },
  {
   "cell_type": "markdown",
   "id": "voluntary-burden",
   "metadata": {},
   "source": [
    "# Classes from atribute type "
   ]
  },
  {
   "cell_type": "code",
   "execution_count": 7,
   "id": "opened-radical",
   "metadata": {},
   "outputs": [],
   "source": [
    "X_train_type, X_val_type, y_train_type, y_val_type = train_test_split(X_train, y_train_type, train_size=0.7)"
   ]
  },
  {
   "cell_type": "code",
   "execution_count": 8,
   "id": "extraordinary-biology",
   "metadata": {},
   "outputs": [
    {
     "data": {
      "image/png": "[encoded data removed]",
      "text/plain": [
       "<Figure size 864x576 with 1 Axes>"
      ]
     },
     "metadata": {
      "needs_background": "light"
     },
     "output_type": "display_data"
    }
   ],
   "source": [
    "showHist(y_train_type)"
   ]
  },
  {
   "cell_type": "markdown",
   "id": "broad-overview",
   "metadata": {},
   "source": [
    "## Multinomial Naive Bayes without any imbalanced learn method"
   ]
  },
  {
   "cell_type": "code",
   "execution_count": 9,
   "id": "later-router",
   "metadata": {
    "scrolled": true
   },
   "outputs": [
    {
     "data": {
      "text/html": [
       "<style>#sk-container-id-1 {color: black;background-color: white;}#sk-container-id-1 pre{padding: 0;}#sk-container-id-1 div.sk-toggleable {background-color: white;}#sk-container-id-1 label.sk-toggleable__label {cursor: pointer;display: block;width: 100%;margin-bottom: 0;padding: 0.3em;box-sizing: border-box;text-align: center;}#sk-container-id-1 label.sk-toggleable__label-arrow:before {content: \"▸\";float: left;margin-right: 0.25em;color: #696969;}#sk-container-id-1 label.sk-toggleable__label-arrow:hover:before {color: black;}#sk-container-id-1 div.sk-estimator:hover label.sk-toggleable__label-arrow:before {color: black;}#sk-container-id-1 div.sk-toggleable__content {max-height: 0;max-width: 0;overflow: hidden;text-align: left;background-color: #f0f8ff;}#sk-container-id-1 div.sk-toggleable__content pre {margin: 0.2em;color: black;border-radius: 0.25em;background-color: #f0f8ff;}#sk-container-id-1 input.sk-toggleable__control:checked~div.sk-toggleable__content {max-height: 200px;max-width: 100%;overflow: auto;}#sk-container-id-1 input.sk-toggleable__control:checked~label.sk-toggleable__label-arrow:before {content: \"▾\";}#sk-container-id-1 div.sk-estimator input.sk-toggleable__control:checked~label.sk-toggleable__label {background-color: #d4ebff;}#sk-container-id-1 div.sk-label input.sk-toggleable__control:checked~label.sk-toggleable__label {background-color: #d4ebff;}#sk-container-id-1 input.sk-hidden--visually {border: 0;clip: rect(1px 1px 1px 1px);clip: rect(1px, 1px, 1px, 1px);height: 1px;margin: -1px;overflow: hidden;padding: 0;position: absolute;width: 1px;}#sk-container-id-1 div.sk-estimator {font-family: monospace;background-color: #f0f8ff;border: 1px dotted black;border-radius: 0.25em;box-sizing: border-box;margin-bottom: 0.5em;}#sk-container-id-1 div.sk-estimator:hover {background-color: #d4ebff;}#sk-container-id-1 div.sk-parallel-item::after {content: \"\";width: 100%;border-bottom: 1px solid gray;flex-grow: 1;}#sk-container-id-1 div.sk-label:hover label.sk-toggleable__label {background-color: #d4ebff;}#sk-container-id-1 div.sk-serial::before {content: \"\";position: absolute;border-left: 1px solid gray;box-sizing: border-box;top: 0;bottom: 0;left: 50%;z-index: 0;}#sk-container-id-1 div.sk-serial {display: flex;flex-direction: column;align-items: center;background-color: white;padding-right: 0.2em;padding-left: 0.2em;position: relative;}#sk-container-id-1 div.sk-item {position: relative;z-index: 1;}#sk-container-id-1 div.sk-parallel {display: flex;align-items: stretch;justify-content: center;background-color: white;position: relative;}#sk-container-id-1 div.sk-item::before, #sk-container-id-1 div.sk-parallel-item::before {content: \"\";position: absolute;border-left: 1px solid gray;box-sizing: border-box;top: 0;bottom: 0;left: 50%;z-index: -1;}#sk-container-id-1 div.sk-parallel-item {display: flex;flex-direction: column;z-index: 1;position: relative;background-color: white;}#sk-container-id-1 div.sk-parallel-item:first-child::after {align-self: flex-end;width: 50%;}#sk-container-id-1 div.sk-parallel-item:last-child::after {align-self: flex-start;width: 50%;}#sk-container-id-1 div.sk-parallel-item:only-child::after {width: 0;}#sk-container-id-1 div.sk-dashed-wrapped {border: 1px dashed gray;margin: 0 0.4em 0.5em 0.4em;box-sizing: border-box;padding-bottom: 0.4em;background-color: white;}#sk-container-id-1 div.sk-label label {font-family: monospace;font-weight: bold;display: inline-block;line-height: 1.2em;}#sk-container-id-1 div.sk-label-container {text-align: center;}#sk-container-id-1 div.sk-container {/* jupyter's `normalize.less` sets `[hidden] { display: none; }` but bootstrap.min.css set `[hidden] { display: none !important; }` so we also need the `!important` here to be able to override the default hidden behavior on the sphinx rendered scikit-learn.org. See: https://github.com/scikit-learn/scikit-learn/issues/21755 */display: inline-block !important;position: relative;}#sk-container-id-1 div.sk-text-repr-fallback {display: none;}</style><div id=\"sk-container-id-1\" class=\"sk-top-container\"><div class=\"sk-text-repr-fallback\"><pre>MultinomialNB(alpha=0.01, fit_prior=False)</pre><b>In a Jupyter environment, please rerun this cell to show the HTML representation or trust the notebook. <br />On GitHub, the HTML representation is unable to render, please try loading this page with nbviewer.org.</b></div><div class=\"sk-container\" hidden><div class=\"sk-item\"><div class=\"sk-estimator sk-toggleable\"><input class=\"sk-toggleable__control sk-hidden--visually\" id=\"sk-estimator-id-1\" type=\"checkbox\" checked><label for=\"sk-estimator-id-1\" class=\"sk-toggleable__label sk-toggleable__label-arrow\">MultinomialNB</label><div class=\"sk-toggleable__content\"><pre>MultinomialNB(alpha=0.01, fit_prior=False)</pre></div></div></div></div></div>"
      ],
      "text/plain": [
       "MultinomialNB(alpha=0.01, fit_prior=False)"
      ]
     },
     "execution_count": 9,
     "metadata": {},
     "output_type": "execute_result"
    }
   ],
   "source": [
    "model = MultinomialNB(alpha= 0.01, class_prior= None, fit_prior= False)\n",
    "model.fit(X_train_type, y_train_type)"
   ]
  },
  {
   "cell_type": "markdown",
   "id": "double-prefix",
   "metadata": {},
   "source": [
    "Prediction on train data:"
   ]
  },
  {
   "cell_type": "code",
   "execution_count": 10,
   "id": "robust-activity",
   "metadata": {},
   "outputs": [
    {
     "name": "stdout",
     "output_type": "stream",
     "text": [
      "Confusion matrix: \n",
      " [[146   4   9]\n",
      " [  0  28   0]\n",
      " [  1   5  87]]\n",
      "\n",
      "Classification report: \n",
      "                       precision    recall  f1-score   support\n",
      "\n",
      "                Love       0.99      0.92      0.95       159\n",
      "Mythology & Folklore       0.76      1.00      0.86        28\n",
      "              Nature       0.91      0.94      0.92        93\n",
      "\n",
      "            accuracy                           0.93       280\n",
      "           macro avg       0.89      0.95      0.91       280\n",
      "        weighted avg       0.94      0.93      0.93       280\n",
      "\n"
     ]
    }
   ],
   "source": [
    "predictAndReport(model, X_train_type, y_train_type)"
   ]
  },
  {
   "cell_type": "markdown",
   "id": "polyphonic-division",
   "metadata": {},
   "source": [
    "Prediction on validation data:"
   ]
  },
  {
   "cell_type": "code",
   "execution_count": 11,
   "id": "beautiful-garbage",
   "metadata": {},
   "outputs": [
    {
     "name": "stdout",
     "output_type": "stream",
     "text": [
      "Confusion matrix: \n",
      " [[36 24 10]\n",
      " [ 5  9  1]\n",
      " [ 6 23  7]]\n",
      "\n",
      "Classification report: \n",
      "                       precision    recall  f1-score   support\n",
      "\n",
      "                Love       0.77      0.51      0.62        70\n",
      "Mythology & Folklore       0.16      0.60      0.25        15\n",
      "              Nature       0.39      0.19      0.26        36\n",
      "\n",
      "            accuracy                           0.43       121\n",
      "           macro avg       0.44      0.44      0.38       121\n",
      "        weighted avg       0.58      0.43      0.46       121\n",
      "\n"
     ]
    }
   ],
   "source": [
    "predictAndReport(model, X_val_type, y_val_type)"
   ]
  },
  {
   "cell_type": "markdown",
   "id": "heavy-inspection",
   "metadata": {},
   "source": [
    "## Multinomial Naive Bayes with RandomOverSampler method"
   ]
  },
  {
   "cell_type": "code",
   "execution_count": 12,
   "id": "canadian-welcome",
   "metadata": {},
   "outputs": [],
   "source": [
    "ros = RandomOverSampler(random_state=0, sampling_strategy='all')\n",
    "X_resampled, y_resampled = ros.fit_resample(X_train_type, y_train_type)"
   ]
  },
  {
   "cell_type": "code",
   "execution_count": 13,
   "id": "joined-chicago",
   "metadata": {},
   "outputs": [
    {
     "data": {
      "image/png": "[encoded data removed]",
      "text/plain": [
       "<Figure size 864x576 with 1 Axes>"
      ]
     },
     "metadata": {
      "needs_background": "light"
     },
     "output_type": "display_data"
    }
   ],
   "source": [
    "showHist(y_resampled)"
   ]
  },
  {
   "cell_type": "code",
   "execution_count": 14,
   "id": "loose-invasion",
   "metadata": {
    "scrolled": true
   },
   "outputs": [
    {
     "data": {
      "text/html": [
       "<style>#sk-container-id-2 {color: black;background-color: white;}#sk-container-id-2 pre{padding: 0;}#sk-container-id-2 div.sk-toggleable {background-color: white;}#sk-container-id-2 label.sk-toggleable__label {cursor: pointer;display: block;width: 100%;margin-bottom: 0;padding: 0.3em;box-sizing: border-box;text-align: center;}#sk-container-id-2 label.sk-toggleable__label-arrow:before {content: \"▸\";float: left;margin-right: 0.25em;color: #696969;}#sk-container-id-2 label.sk-toggleable__label-arrow:hover:before {color: black;}#sk-container-id-2 div.sk-estimator:hover label.sk-toggleable__label-arrow:before {color: black;}#sk-container-id-2 div.sk-toggleable__content {max-height: 0;max-width: 0;overflow: hidden;text-align: left;background-color: #f0f8ff;}#sk-container-id-2 div.sk-toggleable__content pre {margin: 0.2em;color: black;border-radius: 0.25em;background-color: #f0f8ff;}#sk-container-id-2 input.sk-toggleable__control:checked~div.sk-toggleable__content {max-height: 200px;max-width: 100%;overflow: auto;}#sk-container-id-2 input.sk-toggleable__control:checked~label.sk-toggleable__label-arrow:before {content: \"▾\";}#sk-container-id-2 div.sk-estimator input.sk-toggleable__control:checked~label.sk-toggleable__label {background-color: #d4ebff;}#sk-container-id-2 div.sk-label input.sk-toggleable__control:checked~label.sk-toggleable__label {background-color: #d4ebff;}#sk-container-id-2 input.sk-hidden--visually {border: 0;clip: rect(1px 1px 1px 1px);clip: rect(1px, 1px, 1px, 1px);height: 1px;margin: -1px;overflow: hidden;padding: 0;position: absolute;width: 1px;}#sk-container-id-2 div.sk-estimator {font-family: monospace;background-color: #f0f8ff;border: 1px dotted black;border-radius: 0.25em;box-sizing: border-box;margin-bottom: 0.5em;}#sk-container-id-2 div.sk-estimator:hover {background-color: #d4ebff;}#sk-container-id-2 div.sk-parallel-item::after {content: \"\";width: 100%;border-bottom: 1px solid gray;flex-grow: 1;}#sk-container-id-2 div.sk-label:hover label.sk-toggleable__label {background-color: #d4ebff;}#sk-container-id-2 div.sk-serial::before {content: \"\";position: absolute;border-left: 1px solid gray;box-sizing: border-box;top: 0;bottom: 0;left: 50%;z-index: 0;}#sk-container-id-2 div.sk-serial {display: flex;flex-direction: column;align-items: center;background-color: white;padding-right: 0.2em;padding-left: 0.2em;position: relative;}#sk-container-id-2 div.sk-item {position: relative;z-index: 1;}#sk-container-id-2 div.sk-parallel {display: flex;align-items: stretch;justify-content: center;background-color: white;position: relative;}#sk-container-id-2 div.sk-item::before, #sk-container-id-2 div.sk-parallel-item::before {content: \"\";position: absolute;border-left: 1px solid gray;box-sizing: border-box;top: 0;bottom: 0;left: 50%;z-index: -1;}#sk-container-id-2 div.sk-parallel-item {display: flex;flex-direction: column;z-index: 1;position: relative;background-color: white;}#sk-container-id-2 div.sk-parallel-item:first-child::after {align-self: flex-end;width: 50%;}#sk-container-id-2 div.sk-parallel-item:last-child::after {align-self: flex-start;width: 50%;}#sk-container-id-2 div.sk-parallel-item:only-child::after {width: 0;}#sk-container-id-2 div.sk-dashed-wrapped {border: 1px dashed gray;margin: 0 0.4em 0.5em 0.4em;box-sizing: border-box;padding-bottom: 0.4em;background-color: white;}#sk-container-id-2 div.sk-label label {font-family: monospace;font-weight: bold;display: inline-block;line-height: 1.2em;}#sk-container-id-2 div.sk-label-container {text-align: center;}#sk-container-id-2 div.sk-container {/* jupyter's `normalize.less` sets `[hidden] { display: none; }` but bootstrap.min.css set `[hidden] { display: none !important; }` so we also need the `!important` here to be able to override the default hidden behavior on the sphinx rendered scikit-learn.org. See: https://github.com/scikit-learn/scikit-learn/issues/21755 */display: inline-block !important;position: relative;}#sk-container-id-2 div.sk-text-repr-fallback {display: none;}</style><div id=\"sk-container-id-2\" class=\"sk-top-container\"><div class=\"sk-text-repr-fallback\"><pre>MultinomialNB(alpha=0.01, fit_prior=False)</pre><b>In a Jupyter environment, please rerun this cell to show the HTML representation or trust the notebook. <br />On GitHub, the HTML representation is unable to render, please try loading this page with nbviewer.org.</b></div><div class=\"sk-container\" hidden><div class=\"sk-item\"><div class=\"sk-estimator sk-toggleable\"><input class=\"sk-toggleable__control sk-hidden--visually\" id=\"sk-estimator-id-2\" type=\"checkbox\" checked><label for=\"sk-estimator-id-2\" class=\"sk-toggleable__label sk-toggleable__label-arrow\">MultinomialNB</label><div class=\"sk-toggleable__content\"><pre>MultinomialNB(alpha=0.01, fit_prior=False)</pre></div></div></div></div></div>"
      ],
      "text/plain": [
       "MultinomialNB(alpha=0.01, fit_prior=False)"
      ]
     },
     "execution_count": 14,
     "metadata": {},
     "output_type": "execute_result"
    }
   ],
   "source": [
    "model.fit(X_resampled, y_resampled)"
   ]
  },
  {
   "cell_type": "markdown",
   "id": "imperial-possession",
   "metadata": {},
   "source": [
    "Prediction on test data:"
   ]
  },
  {
   "cell_type": "code",
   "execution_count": 15,
   "id": "manufactured-freedom",
   "metadata": {},
   "outputs": [
    {
     "name": "stdout",
     "output_type": "stream",
     "text": [
      "Confusion matrix: \n",
      " [[149   4   6]\n",
      " [  0 158   1]\n",
      " [  5   9 145]]\n",
      "\n",
      "Classification report: \n",
      "                       precision    recall  f1-score   support\n",
      "\n",
      "                Love       0.97      0.94      0.95       159\n",
      "Mythology & Folklore       0.92      0.99      0.96       159\n",
      "              Nature       0.95      0.91      0.93       159\n",
      "\n",
      "            accuracy                           0.95       477\n",
      "           macro avg       0.95      0.95      0.95       477\n",
      "        weighted avg       0.95      0.95      0.95       477\n",
      "\n"
     ]
    }
   ],
   "source": [
    "predictAndReport(model, X_resampled, y_resampled)"
   ]
  },
  {
   "cell_type": "markdown",
   "id": "modified-league",
   "metadata": {},
   "source": [
    "Prediction on validation data:"
   ]
  },
  {
   "cell_type": "code",
   "execution_count": 16,
   "id": "intermediate-brand",
   "metadata": {},
   "outputs": [
    {
     "name": "stdout",
     "output_type": "stream",
     "text": [
      "Confusion matrix: \n",
      " [[60  3  7]\n",
      " [13  0  2]\n",
      " [14  6 16]]\n",
      "\n",
      "Classification report: \n",
      "                       precision    recall  f1-score   support\n",
      "\n",
      "                Love       0.69      0.86      0.76        70\n",
      "Mythology & Folklore       0.00      0.00      0.00        15\n",
      "              Nature       0.64      0.44      0.52        36\n",
      "\n",
      "            accuracy                           0.63       121\n",
      "           macro avg       0.44      0.43      0.43       121\n",
      "        weighted avg       0.59      0.63      0.60       121\n",
      "\n"
     ]
    }
   ],
   "source": [
    "predictAndReport(model, X_val_type, y_val_type)"
   ]
  },
  {
   "cell_type": "markdown",
   "id": "musical-catch",
   "metadata": {},
   "source": [
    "### Prediction on test data:"
   ]
  },
  {
   "cell_type": "code",
   "execution_count": 17,
   "id": "tough-contrary",
   "metadata": {},
   "outputs": [
    {
     "name": "stdout",
     "output_type": "stream",
     "text": [
      "Confusion matrix: \n",
      " [[78  6 13]\n",
      " [ 7  4  5]\n",
      " [29  5 25]]\n",
      "\n",
      "Classification report: \n",
      "                       precision    recall  f1-score   support\n",
      "\n",
      "                Love       0.68      0.80      0.74        97\n",
      "Mythology & Folklore       0.27      0.25      0.26        16\n",
      "              Nature       0.58      0.42      0.49        59\n",
      "\n",
      "            accuracy                           0.62       172\n",
      "           macro avg       0.51      0.49      0.50       172\n",
      "        weighted avg       0.61      0.62      0.61       172\n",
      "\n"
     ]
    }
   ],
   "source": [
    "predictAndReport(model, X_test, y_test_type)"
   ]
  },
  {
   "cell_type": "markdown",
   "id": "extraordinary-finance",
   "metadata": {},
   "source": [
    "# -----------------------------------------------------------------------------------------------"
   ]
  },
  {
   "cell_type": "markdown",
   "id": "amino-temple",
   "metadata": {},
   "source": [
    "# Classes from atribute age_type "
   ]
  },
  {
   "cell_type": "code",
   "execution_count": 18,
   "id": "owned-contract",
   "metadata": {},
   "outputs": [],
   "source": [
    "X_train_age_type, X_val_age_type, y_train_age_type, y_val_age_type = train_test_split(X_train, y_train_age_type, train_size=0.5)"
   ]
  },
  {
   "cell_type": "code",
   "execution_count": 19,
   "id": "senior-settle",
   "metadata": {},
   "outputs": [
    {
     "data": {
      "image/png": "[encoded data removed]",
      "text/plain": [
       "<Figure size 864x576 with 1 Axes>"
      ]
     },
     "metadata": {
      "needs_background": "light"
     },
     "output_type": "display_data"
    }
   ],
   "source": [
    "showHist(y_train_age_type)"
   ]
  },
  {
   "cell_type": "markdown",
   "id": "welsh-transaction",
   "metadata": {},
   "source": [
    "## Multinomial Naive Bayes without any imbalanced learn method"
   ]
  },
  {
   "cell_type": "code",
   "execution_count": 20,
   "id": "horizontal-separation",
   "metadata": {},
   "outputs": [
    {
     "data": {
      "text/html": [
       "<style>#sk-container-id-3 {color: black;background-color: white;}#sk-container-id-3 pre{padding: 0;}#sk-container-id-3 div.sk-toggleable {background-color: white;}#sk-container-id-3 label.sk-toggleable__label {cursor: pointer;display: block;width: 100%;margin-bottom: 0;padding: 0.3em;box-sizing: border-box;text-align: center;}#sk-container-id-3 label.sk-toggleable__label-arrow:before {content: \"▸\";float: left;margin-right: 0.25em;color: #696969;}#sk-container-id-3 label.sk-toggleable__label-arrow:hover:before {color: black;}#sk-container-id-3 div.sk-estimator:hover label.sk-toggleable__label-arrow:before {color: black;}#sk-container-id-3 div.sk-toggleable__content {max-height: 0;max-width: 0;overflow: hidden;text-align: left;background-color: #f0f8ff;}#sk-container-id-3 div.sk-toggleable__content pre {margin: 0.2em;color: black;border-radius: 0.25em;background-color: #f0f8ff;}#sk-container-id-3 input.sk-toggleable__control:checked~div.sk-toggleable__content {max-height: 200px;max-width: 100%;overflow: auto;}#sk-container-id-3 input.sk-toggleable__control:checked~label.sk-toggleable__label-arrow:before {content: \"▾\";}#sk-container-id-3 div.sk-estimator input.sk-toggleable__control:checked~label.sk-toggleable__label {background-color: #d4ebff;}#sk-container-id-3 div.sk-label input.sk-toggleable__control:checked~label.sk-toggleable__label {background-color: #d4ebff;}#sk-container-id-3 input.sk-hidden--visually {border: 0;clip: rect(1px 1px 1px 1px);clip: rect(1px, 1px, 1px, 1px);height: 1px;margin: -1px;overflow: hidden;padding: 0;position: absolute;width: 1px;}#sk-container-id-3 div.sk-estimator {font-family: monospace;background-color: #f0f8ff;border: 1px dotted black;border-radius: 0.25em;box-sizing: border-box;margin-bottom: 0.5em;}#sk-container-id-3 div.sk-estimator:hover {background-color: #d4ebff;}#sk-container-id-3 div.sk-parallel-item::after {content: \"\";width: 100%;border-bottom: 1px solid gray;flex-grow: 1;}#sk-container-id-3 div.sk-label:hover label.sk-toggleable__label {background-color: #d4ebff;}#sk-container-id-3 div.sk-serial::before {content: \"\";position: absolute;border-left: 1px solid gray;box-sizing: border-box;top: 0;bottom: 0;left: 50%;z-index: 0;}#sk-container-id-3 div.sk-serial {display: flex;flex-direction: column;align-items: center;background-color: white;padding-right: 0.2em;padding-left: 0.2em;position: relative;}#sk-container-id-3 div.sk-item {position: relative;z-index: 1;}#sk-container-id-3 div.sk-parallel {display: flex;align-items: stretch;justify-content: center;background-color: white;position: relative;}#sk-container-id-3 div.sk-item::before, #sk-container-id-3 div.sk-parallel-item::before {content: \"\";position: absolute;border-left: 1px solid gray;box-sizing: border-box;top: 0;bottom: 0;left: 50%;z-index: -1;}#sk-container-id-3 div.sk-parallel-item {display: flex;flex-direction: column;z-index: 1;position: relative;background-color: white;}#sk-container-id-3 div.sk-parallel-item:first-child::after {align-self: flex-end;width: 50%;}#sk-container-id-3 div.sk-parallel-item:last-child::after {align-self: flex-start;width: 50%;}#sk-container-id-3 div.sk-parallel-item:only-child::after {width: 0;}#sk-container-id-3 div.sk-dashed-wrapped {border: 1px dashed gray;margin: 0 0.4em 0.5em 0.4em;box-sizing: border-box;padding-bottom: 0.4em;background-color: white;}#sk-container-id-3 div.sk-label label {font-family: monospace;font-weight: bold;display: inline-block;line-height: 1.2em;}#sk-container-id-3 div.sk-label-container {text-align: center;}#sk-container-id-3 div.sk-container {/* jupyter's `normalize.less` sets `[hidden] { display: none; }` but bootstrap.min.css set `[hidden] { display: none !important; }` so we also need the `!important` here to be able to override the default hidden behavior on the sphinx rendered scikit-learn.org. See: https://github.com/scikit-learn/scikit-learn/issues/21755 */display: inline-block !important;position: relative;}#sk-container-id-3 div.sk-text-repr-fallback {display: none;}</style><div id=\"sk-container-id-3\" class=\"sk-top-container\"><div class=\"sk-text-repr-fallback\"><pre>MultinomialNB(alpha=0.01, fit_prior=False)</pre><b>In a Jupyter environment, please rerun this cell to show the HTML representation or trust the notebook. <br />On GitHub, the HTML representation is unable to render, please try loading this page with nbviewer.org.</b></div><div class=\"sk-container\" hidden><div class=\"sk-item\"><div class=\"sk-estimator sk-toggleable\"><input class=\"sk-toggleable__control sk-hidden--visually\" id=\"sk-estimator-id-3\" type=\"checkbox\" checked><label for=\"sk-estimator-id-3\" class=\"sk-toggleable__label sk-toggleable__label-arrow\">MultinomialNB</label><div class=\"sk-toggleable__content\"><pre>MultinomialNB(alpha=0.01, fit_prior=False)</pre></div></div></div></div></div>"
      ],
      "text/plain": [
       "MultinomialNB(alpha=0.01, fit_prior=False)"
      ]
     },
     "execution_count": 20,
     "metadata": {},
     "output_type": "execute_result"
    }
   ],
   "source": [
    "model = MultinomialNB(alpha= 0.01, class_prior= None, fit_prior= False)\n",
    "model.fit(X_train_age_type, y_train_age_type)"
   ]
  },
  {
   "cell_type": "code",
   "execution_count": 21,
   "id": "russian-reading",
   "metadata": {},
   "outputs": [
    {
     "data": {
      "image/png": "[encoded data removed]",
      "text/plain": [
       "<Figure size 864x576 with 1 Axes>"
      ]
     },
     "metadata": {
      "needs_background": "light"
     },
     "output_type": "display_data"
    }
   ],
   "source": [
    "showHist(y_train_age_type)"
   ]
  },
  {
   "cell_type": "markdown",
   "id": "crucial-nebraska",
   "metadata": {},
   "source": [
    "Prediction on train data:"
   ]
  },
  {
   "cell_type": "code",
   "execution_count": 22,
   "id": "virtual-mounting",
   "metadata": {},
   "outputs": [
    {
     "name": "stdout",
     "output_type": "stream",
     "text": [
      "Confusion matrix: \n",
      " [[31  0  0  0  0  0]\n",
      " [ 0 14  0  0  0  0]\n",
      " [ 1  3 41  0  0  0]\n",
      " [ 0  0  0 79  1  2]\n",
      " [ 0  0  0  0  9  0]\n",
      " [ 0  0  0  0  0 19]]\n",
      "\n",
      "Classification report: \n",
      "                                   precision    recall  f1-score   support\n",
      "\n",
      "                     Modern Love       0.97      1.00      0.98        31\n",
      "     Modern Mythology & Folklore       0.82      1.00      0.90        14\n",
      "                   Modern Nature       1.00      0.91      0.95        45\n",
      "                Renaissance Love       1.00      0.96      0.98        82\n",
      "Renaissance Mythology & Folklore       0.90      1.00      0.95         9\n",
      "              Renaissance Nature       0.90      1.00      0.95        19\n",
      "\n",
      "                        accuracy                           0.96       200\n",
      "                       macro avg       0.93      0.98      0.95       200\n",
      "                    weighted avg       0.97      0.96      0.97       200\n",
      "\n"
     ]
    }
   ],
   "source": [
    "predictAndReport(model, X_train_age_type, y_train_age_type)"
   ]
  },
  {
   "cell_type": "markdown",
   "id": "dental-sequence",
   "metadata": {},
   "source": [
    "Prediction on validation data:"
   ]
  },
  {
   "cell_type": "code",
   "execution_count": 23,
   "id": "israeli-warner",
   "metadata": {},
   "outputs": [
    {
     "name": "stdout",
     "output_type": "stream",
     "text": [
      "Confusion matrix: \n",
      " [[11  8  4  3  4  2]\n",
      " [ 1  3  4  1  4  1]\n",
      " [ 6 14  9  1 14  1]\n",
      " [ 2  1  0 35 29 17]\n",
      " [ 0  0  0  1  4  1]\n",
      " [ 0  1  0  9  5  5]]\n",
      "\n",
      "Classification report: \n",
      "                                   precision    recall  f1-score   support\n",
      "\n",
      "                     Modern Love       0.55      0.34      0.42        32\n",
      "     Modern Mythology & Folklore       0.11      0.21      0.15        14\n",
      "                   Modern Nature       0.53      0.20      0.29        45\n",
      "                Renaissance Love       0.70      0.42      0.52        84\n",
      "Renaissance Mythology & Folklore       0.07      0.67      0.12         6\n",
      "              Renaissance Nature       0.19      0.25      0.21        20\n",
      "\n",
      "                        accuracy                           0.33       201\n",
      "                       macro avg       0.36      0.35      0.29       201\n",
      "                    weighted avg       0.53      0.33      0.39       201\n",
      "\n"
     ]
    }
   ],
   "source": [
    "predictAndReport(model, X_val_age_type, y_val_age_type)"
   ]
  },
  {
   "cell_type": "markdown",
   "id": "offshore-wright",
   "metadata": {},
   "source": [
    "## Multinomial Naive Bayes with RandomOverSampler method"
   ]
  },
  {
   "cell_type": "code",
   "execution_count": 24,
   "id": "bigger-senegal",
   "metadata": {},
   "outputs": [],
   "source": [
    "ros = RandomOverSampler(random_state=0, sampling_strategy='all')\n",
    "X_resampled, y_resampled = ros.fit_resample(X_train_age_type, y_train_age_type)"
   ]
  },
  {
   "cell_type": "code",
   "execution_count": 25,
   "id": "catholic-expansion",
   "metadata": {},
   "outputs": [
    {
     "data": {
      "image/png": "[encoded data removed]",
      "text/plain": [
       "<Figure size 864x576 with 1 Axes>"
      ]
     },
     "metadata": {
      "needs_background": "light"
     },
     "output_type": "display_data"
    }
   ],
   "source": [
    "showHist(y_resampled)"
   ]
  },
  {
   "cell_type": "code",
   "execution_count": 26,
   "id": "moving-ability",
   "metadata": {},
   "outputs": [
    {
     "data": {
      "text/html": [
       "<style>#sk-container-id-4 {color: black;background-color: white;}#sk-container-id-4 pre{padding: 0;}#sk-container-id-4 div.sk-toggleable {background-color: white;}#sk-container-id-4 label.sk-toggleable__label {cursor: pointer;display: block;width: 100%;margin-bottom: 0;padding: 0.3em;box-sizing: border-box;text-align: center;}#sk-container-id-4 label.sk-toggleable__label-arrow:before {content: \"▸\";float: left;margin-right: 0.25em;color: #696969;}#sk-container-id-4 label.sk-toggleable__label-arrow:hover:before {color: black;}#sk-container-id-4 div.sk-estimator:hover label.sk-toggleable__label-arrow:before {color: black;}#sk-container-id-4 div.sk-toggleable__content {max-height: 0;max-width: 0;overflow: hidden;text-align: left;background-color: #f0f8ff;}#sk-container-id-4 div.sk-toggleable__content pre {margin: 0.2em;color: black;border-radius: 0.25em;background-color: #f0f8ff;}#sk-container-id-4 input.sk-toggleable__control:checked~div.sk-toggleable__content {max-height: 200px;max-width: 100%;overflow: auto;}#sk-container-id-4 input.sk-toggleable__control:checked~label.sk-toggleable__label-arrow:before {content: \"▾\";}#sk-container-id-4 div.sk-estimator input.sk-toggleable__control:checked~label.sk-toggleable__label {background-color: #d4ebff;}#sk-container-id-4 div.sk-label input.sk-toggleable__control:checked~label.sk-toggleable__label {background-color: #d4ebff;}#sk-container-id-4 input.sk-hidden--visually {border: 0;clip: rect(1px 1px 1px 1px);clip: rect(1px, 1px, 1px, 1px);height: 1px;margin: -1px;overflow: hidden;padding: 0;position: absolute;width: 1px;}#sk-container-id-4 div.sk-estimator {font-family: monospace;background-color: #f0f8ff;border: 1px dotted black;border-radius: 0.25em;box-sizing: border-box;margin-bottom: 0.5em;}#sk-container-id-4 div.sk-estimator:hover {background-color: #d4ebff;}#sk-container-id-4 div.sk-parallel-item::after {content: \"\";width: 100%;border-bottom: 1px solid gray;flex-grow: 1;}#sk-container-id-4 div.sk-label:hover label.sk-toggleable__label {background-color: #d4ebff;}#sk-container-id-4 div.sk-serial::before {content: \"\";position: absolute;border-left: 1px solid gray;box-sizing: border-box;top: 0;bottom: 0;left: 50%;z-index: 0;}#sk-container-id-4 div.sk-serial {display: flex;flex-direction: column;align-items: center;background-color: white;padding-right: 0.2em;padding-left: 0.2em;position: relative;}#sk-container-id-4 div.sk-item {position: relative;z-index: 1;}#sk-container-id-4 div.sk-parallel {display: flex;align-items: stretch;justify-content: center;background-color: white;position: relative;}#sk-container-id-4 div.sk-item::before, #sk-container-id-4 div.sk-parallel-item::before {content: \"\";position: absolute;border-left: 1px solid gray;box-sizing: border-box;top: 0;bottom: 0;left: 50%;z-index: -1;}#sk-container-id-4 div.sk-parallel-item {display: flex;flex-direction: column;z-index: 1;position: relative;background-color: white;}#sk-container-id-4 div.sk-parallel-item:first-child::after {align-self: flex-end;width: 50%;}#sk-container-id-4 div.sk-parallel-item:last-child::after {align-self: flex-start;width: 50%;}#sk-container-id-4 div.sk-parallel-item:only-child::after {width: 0;}#sk-container-id-4 div.sk-dashed-wrapped {border: 1px dashed gray;margin: 0 0.4em 0.5em 0.4em;box-sizing: border-box;padding-bottom: 0.4em;background-color: white;}#sk-container-id-4 div.sk-label label {font-family: monospace;font-weight: bold;display: inline-block;line-height: 1.2em;}#sk-container-id-4 div.sk-label-container {text-align: center;}#sk-container-id-4 div.sk-container {/* jupyter's `normalize.less` sets `[hidden] { display: none; }` but bootstrap.min.css set `[hidden] { display: none !important; }` so we also need the `!important` here to be able to override the default hidden behavior on the sphinx rendered scikit-learn.org. See: https://github.com/scikit-learn/scikit-learn/issues/21755 */display: inline-block !important;position: relative;}#sk-container-id-4 div.sk-text-repr-fallback {display: none;}</style><div id=\"sk-container-id-4\" class=\"sk-top-container\"><div class=\"sk-text-repr-fallback\"><pre>MultinomialNB(alpha=0.01, fit_prior=False)</pre><b>In a Jupyter environment, please rerun this cell to show the HTML representation or trust the notebook. <br />On GitHub, the HTML representation is unable to render, please try loading this page with nbviewer.org.</b></div><div class=\"sk-container\" hidden><div class=\"sk-item\"><div class=\"sk-estimator sk-toggleable\"><input class=\"sk-toggleable__control sk-hidden--visually\" id=\"sk-estimator-id-4\" type=\"checkbox\" checked><label for=\"sk-estimator-id-4\" class=\"sk-toggleable__label sk-toggleable__label-arrow\">MultinomialNB</label><div class=\"sk-toggleable__content\"><pre>MultinomialNB(alpha=0.01, fit_prior=False)</pre></div></div></div></div></div>"
      ],
      "text/plain": [
       "MultinomialNB(alpha=0.01, fit_prior=False)"
      ]
     },
     "execution_count": 26,
     "metadata": {},
     "output_type": "execute_result"
    }
   ],
   "source": [
    "model.fit(X_resampled, y_resampled)"
   ]
  },
  {
   "cell_type": "markdown",
   "id": "falling-copyright",
   "metadata": {},
   "source": [
    "Prediction on train data:"
   ]
  },
  {
   "cell_type": "code",
   "execution_count": 27,
   "id": "religious-front",
   "metadata": {},
   "outputs": [
    {
     "name": "stdout",
     "output_type": "stream",
     "text": [
      "Confusion matrix: \n",
      " [[82  0  0  0  0  0]\n",
      " [ 0 82  0  0  0  0]\n",
      " [ 2  6 74  0  0  0]\n",
      " [ 0  0  0 79  1  2]\n",
      " [ 0  0  0  0 82  0]\n",
      " [ 0  0  0  0  0 82]]\n",
      "\n",
      "Classification report: \n",
      "                                   precision    recall  f1-score   support\n",
      "\n",
      "                     Modern Love       0.98      1.00      0.99        82\n",
      "     Modern Mythology & Folklore       0.93      1.00      0.96        82\n",
      "                   Modern Nature       1.00      0.90      0.95        82\n",
      "                Renaissance Love       1.00      0.96      0.98        82\n",
      "Renaissance Mythology & Folklore       0.99      1.00      0.99        82\n",
      "              Renaissance Nature       0.98      1.00      0.99        82\n",
      "\n",
      "                        accuracy                           0.98       492\n",
      "                       macro avg       0.98      0.98      0.98       492\n",
      "                    weighted avg       0.98      0.98      0.98       492\n",
      "\n"
     ]
    }
   ],
   "source": [
    "predictAndReport(model, X_resampled, y_resampled)"
   ]
  },
  {
   "cell_type": "markdown",
   "id": "proper-father",
   "metadata": {},
   "source": [
    "Prediction on validation data:"
   ]
  },
  {
   "cell_type": "code",
   "execution_count": 28,
   "id": "marine-lying",
   "metadata": {},
   "outputs": [
    {
     "name": "stdout",
     "output_type": "stream",
     "text": [
      "Confusion matrix: \n",
      " [[10  4 10  8  0  0]\n",
      " [ 2  1  5  6  0  0]\n",
      " [ 7  5 20 12  1  0]\n",
      " [ 1  0  0 77  2  4]\n",
      " [ 0  0  0  6  0  0]\n",
      " [ 1  0  0 17  2  0]]\n",
      "\n",
      "Classification report: \n",
      "                                   precision    recall  f1-score   support\n",
      "\n",
      "                     Modern Love       0.48      0.31      0.38        32\n",
      "     Modern Mythology & Folklore       0.10      0.07      0.08        14\n",
      "                   Modern Nature       0.57      0.44      0.50        45\n",
      "                Renaissance Love       0.61      0.92      0.73        84\n",
      "Renaissance Mythology & Folklore       0.00      0.00      0.00         6\n",
      "              Renaissance Nature       0.00      0.00      0.00        20\n",
      "\n",
      "                        accuracy                           0.54       201\n",
      "                       macro avg       0.29      0.29      0.28       201\n",
      "                    weighted avg       0.47      0.54      0.48       201\n",
      "\n"
     ]
    }
   ],
   "source": [
    "predictAndReport(model, X_val_age_type, y_val_age_type)"
   ]
  },
  {
   "cell_type": "markdown",
   "id": "treated-station",
   "metadata": {},
   "source": [
    "### Prediction on test data:"
   ]
  },
  {
   "cell_type": "code",
   "execution_count": 29,
   "id": "regulated-mozambique",
   "metadata": {},
   "outputs": [
    {
     "name": "stdout",
     "output_type": "stream",
     "text": [
      "Confusion matrix: \n",
      " [[ 7  1  7  5  0  0]\n",
      " [ 4  3  2  3  0  0]\n",
      " [ 9  5 25  6  0  0]\n",
      " [ 0  0  0 74  1  2]\n",
      " [ 0  0  0  4  0  0]\n",
      " [ 0  0  0 10  2  2]]\n",
      "\n",
      "Classification report: \n",
      "                                   precision    recall  f1-score   support\n",
      "\n",
      "                     Modern Love       0.35      0.35      0.35        20\n",
      "     Modern Mythology & Folklore       0.33      0.25      0.29        12\n",
      "                   Modern Nature       0.74      0.56      0.63        45\n",
      "                Renaissance Love       0.73      0.96      0.83        77\n",
      "Renaissance Mythology & Folklore       0.00      0.00      0.00         4\n",
      "              Renaissance Nature       0.50      0.14      0.22        14\n",
      "\n",
      "                        accuracy                           0.65       172\n",
      "                       macro avg       0.44      0.38      0.39       172\n",
      "                    weighted avg       0.62      0.65      0.61       172\n",
      "\n"
     ]
    }
   ],
   "source": [
    "predictAndReport(model, X_test, y_test_age_type)"
   ]
  }
 ],
 "metadata": {
  "kernelspec": {
   "display_name": "Python 3",
   "language": "python",
   "name": "python3"
  },
  "language_info": {
   "codemirror_mode": {
    "name": "ipython",
    "version": 3
   },
   "file_extension": ".py",
   "mimetype": "text/x-python",
   "name": "python",
   "nbconvert_exporter": "python",
   "pygments_lexer": "ipython3",
   "version": "3.8.10"
  }
 },
 "nbformat": 4,
 "nbformat_minor": 5
}
