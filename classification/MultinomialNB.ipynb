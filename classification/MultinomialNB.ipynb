{
 "cells": [
  {
   "cell_type": "markdown",
   "id": "initial-kinase",
   "metadata": {},
   "source": [
    "# Multinomial Naive Bayes"
   ]
  },
  {
   "cell_type": "code",
   "execution_count": 1,
   "id": "compact-basin",
   "metadata": {},
   "outputs": [],
   "source": [
    "import pandas as pd\n",
    "import numpy as np\n",
    "import matplotlib.pyplot as plt\n",
    "\n",
    "from sklearn.naive_bayes import MultinomialNB\n",
    "\n",
    "from sklearn.feature_extraction.text import CountVectorizer, TfidfVectorizer\n",
    "from sklearn.preprocessing import LabelEncoder\n",
    "from sklearn.metrics import accuracy_score, confusion_matrix, classification_report, roc_auc_score, roc_curve\n",
    "from sklearn.model_selection import train_test_split, GridSearchCV"
   ]
  },
  {
   "cell_type": "code",
   "execution_count": 2,
   "id": "christian-london",
   "metadata": {},
   "outputs": [],
   "source": [
    "# X = df[['author', 'content', 'poem name']].apply(lambda x: ' '.join(x.astype(str)), axis=1)"
   ]
  },
  {
   "cell_type": "markdown",
   "id": "introductory-polyester",
   "metadata": {},
   "source": [
    "Read in training data:"
   ]
  },
  {
   "cell_type": "code",
   "execution_count": 3,
   "id": "aerial-poetry",
   "metadata": {},
   "outputs": [],
   "source": [
    "X_train = pd.read_csv('../data/train/X_train.csv')\n",
    "y_train = np.ravel(pd.read_csv('../data/train/y_train.csv'))"
   ]
  },
  {
   "cell_type": "markdown",
   "id": "detected-percentage",
   "metadata": {},
   "source": [
    "### Model creating and training:"
   ]
  },
  {
   "cell_type": "markdown",
   "id": "forbidden-charter",
   "metadata": {},
   "source": [
    "Before we create and start to train our model, lets test it for which hyperparameters it works the best."
   ]
  },
  {
   "cell_type": "code",
   "execution_count": 4,
   "id": "generous-dubai",
   "metadata": {},
   "outputs": [
    {
     "name": "stdout",
     "output_type": "stream",
     "text": [
      "Fitting 3 folds for each of 20 candidates, totalling 60 fits\n",
      "Best accuracy : 0.900\n",
      "Best hyperparameters : {'alpha': 0.01, 'class_prior': None, 'fit_prior': False}\n",
      "\n"
     ]
    }
   ],
   "source": [
    "params = {'alpha': [0.01, 0.1, 0.5, 1.0, 10.0, ],\n",
    "          'fit_prior': [True, False],\n",
    "          'class_prior': [None, [0.1,]* 2, ]\n",
    "         }\n",
    "\n",
    "multinomial_nb_grid = GridSearchCV(MultinomialNB(), param_grid=params, n_jobs=-1, cv=3, verbose=5)\n",
    "multinomial_nb_grid.fit(X_train,y_train)\n",
    "\n",
    "print('Best accuracy : {:.3f}'.format(multinomial_nb_grid.best_score_))\n",
    "print('Best hyperparameters : {}\\n'.format(multinomial_nb_grid.best_params_))"
   ]
  },
  {
   "cell_type": "code",
   "execution_count": 5,
   "id": "finished-stopping",
   "metadata": {
    "scrolled": false
   },
   "outputs": [
    {
     "data": {
      "text/html": [
       "<style>#sk-container-id-1 {color: black;background-color: white;}#sk-container-id-1 pre{padding: 0;}#sk-container-id-1 div.sk-toggleable {background-color: white;}#sk-container-id-1 label.sk-toggleable__label {cursor: pointer;display: block;width: 100%;margin-bottom: 0;padding: 0.3em;box-sizing: border-box;text-align: center;}#sk-container-id-1 label.sk-toggleable__label-arrow:before {content: \"▸\";float: left;margin-right: 0.25em;color: #696969;}#sk-container-id-1 label.sk-toggleable__label-arrow:hover:before {color: black;}#sk-container-id-1 div.sk-estimator:hover label.sk-toggleable__label-arrow:before {color: black;}#sk-container-id-1 div.sk-toggleable__content {max-height: 0;max-width: 0;overflow: hidden;text-align: left;background-color: #f0f8ff;}#sk-container-id-1 div.sk-toggleable__content pre {margin: 0.2em;color: black;border-radius: 0.25em;background-color: #f0f8ff;}#sk-container-id-1 input.sk-toggleable__control:checked~div.sk-toggleable__content {max-height: 200px;max-width: 100%;overflow: auto;}#sk-container-id-1 input.sk-toggleable__control:checked~label.sk-toggleable__label-arrow:before {content: \"▾\";}#sk-container-id-1 div.sk-estimator input.sk-toggleable__control:checked~label.sk-toggleable__label {background-color: #d4ebff;}#sk-container-id-1 div.sk-label input.sk-toggleable__control:checked~label.sk-toggleable__label {background-color: #d4ebff;}#sk-container-id-1 input.sk-hidden--visually {border: 0;clip: rect(1px 1px 1px 1px);clip: rect(1px, 1px, 1px, 1px);height: 1px;margin: -1px;overflow: hidden;padding: 0;position: absolute;width: 1px;}#sk-container-id-1 div.sk-estimator {font-family: monospace;background-color: #f0f8ff;border: 1px dotted black;border-radius: 0.25em;box-sizing: border-box;margin-bottom: 0.5em;}#sk-container-id-1 div.sk-estimator:hover {background-color: #d4ebff;}#sk-container-id-1 div.sk-parallel-item::after {content: \"\";width: 100%;border-bottom: 1px solid gray;flex-grow: 1;}#sk-container-id-1 div.sk-label:hover label.sk-toggleable__label {background-color: #d4ebff;}#sk-container-id-1 div.sk-serial::before {content: \"\";position: absolute;border-left: 1px solid gray;box-sizing: border-box;top: 0;bottom: 0;left: 50%;z-index: 0;}#sk-container-id-1 div.sk-serial {display: flex;flex-direction: column;align-items: center;background-color: white;padding-right: 0.2em;padding-left: 0.2em;position: relative;}#sk-container-id-1 div.sk-item {position: relative;z-index: 1;}#sk-container-id-1 div.sk-parallel {display: flex;align-items: stretch;justify-content: center;background-color: white;position: relative;}#sk-container-id-1 div.sk-item::before, #sk-container-id-1 div.sk-parallel-item::before {content: \"\";position: absolute;border-left: 1px solid gray;box-sizing: border-box;top: 0;bottom: 0;left: 50%;z-index: -1;}#sk-container-id-1 div.sk-parallel-item {display: flex;flex-direction: column;z-index: 1;position: relative;background-color: white;}#sk-container-id-1 div.sk-parallel-item:first-child::after {align-self: flex-end;width: 50%;}#sk-container-id-1 div.sk-parallel-item:last-child::after {align-self: flex-start;width: 50%;}#sk-container-id-1 div.sk-parallel-item:only-child::after {width: 0;}#sk-container-id-1 div.sk-dashed-wrapped {border: 1px dashed gray;margin: 0 0.4em 0.5em 0.4em;box-sizing: border-box;padding-bottom: 0.4em;background-color: white;}#sk-container-id-1 div.sk-label label {font-family: monospace;font-weight: bold;display: inline-block;line-height: 1.2em;}#sk-container-id-1 div.sk-label-container {text-align: center;}#sk-container-id-1 div.sk-container {/* jupyter's `normalize.less` sets `[hidden] { display: none; }` but bootstrap.min.css set `[hidden] { display: none !important; }` so we also need the `!important` here to be able to override the default hidden behavior on the sphinx rendered scikit-learn.org. See: https://github.com/scikit-learn/scikit-learn/issues/21755 */display: inline-block !important;position: relative;}#sk-container-id-1 div.sk-text-repr-fallback {display: none;}</style><div id=\"sk-container-id-1\" class=\"sk-top-container\"><div class=\"sk-text-repr-fallback\"><pre>MultinomialNB(alpha=0.01, fit_prior=False)</pre><b>In a Jupyter environment, please rerun this cell to show the HTML representation or trust the notebook. <br />On GitHub, the HTML representation is unable to render, please try loading this page with nbviewer.org.</b></div><div class=\"sk-container\" hidden><div class=\"sk-item\"><div class=\"sk-estimator sk-toggleable\"><input class=\"sk-toggleable__control sk-hidden--visually\" id=\"sk-estimator-id-1\" type=\"checkbox\" checked><label for=\"sk-estimator-id-1\" class=\"sk-toggleable__label sk-toggleable__label-arrow\">MultinomialNB</label><div class=\"sk-toggleable__content\"><pre>MultinomialNB(alpha=0.01, fit_prior=False)</pre></div></div></div></div></div>"
      ],
      "text/plain": [
       "MultinomialNB(alpha=0.01, fit_prior=False)"
      ]
     },
     "execution_count": 5,
     "metadata": {},
     "output_type": "execute_result"
    }
   ],
   "source": [
    "model = MultinomialNB(alpha= 0.01, class_prior= None, fit_prior= False)\n",
    "model.fit(X_train, y_train, sample_weight = 1)"
   ]
  },
  {
   "cell_type": "markdown",
   "id": "civilian-ending",
   "metadata": {},
   "source": [
    "### Prediction on training set:"
   ]
  },
  {
   "cell_type": "code",
   "execution_count": 6,
   "id": "musical-teacher",
   "metadata": {
    "scrolled": true
   },
   "outputs": [],
   "source": [
    "y_train_pred = model.predict(X_train)"
   ]
  },
  {
   "cell_type": "code",
   "execution_count": 7,
   "id": "little-contractor",
   "metadata": {
    "scrolled": true
   },
   "outputs": [
    {
     "name": "stdout",
     "output_type": "stream",
     "text": [
      "Confusion matrix: \n",
      " [[181   0]\n",
      " [  0 220]]\n",
      "\n",
      "Classification report: \n",
      "               precision    recall  f1-score   support\n",
      "\n",
      "      Modern       1.00      1.00      1.00       181\n",
      " Renaissance       1.00      1.00      1.00       220\n",
      "\n",
      "    accuracy                           1.00       401\n",
      "   macro avg       1.00      1.00      1.00       401\n",
      "weighted avg       1.00      1.00      1.00       401\n",
      "\n"
     ]
    }
   ],
   "source": [
    "print('Confusion matrix: \\n', confusion_matrix(y_train, y_train_pred))\n",
    "print('\\nClassification report: \\n', classification_report(y_train, y_train_pred, zero_division=True))"
   ]
  },
  {
   "cell_type": "markdown",
   "id": "friendly-geography",
   "metadata": {},
   "source": [
    "### Testing model:"
   ]
  },
  {
   "cell_type": "markdown",
   "id": "equal-thomson",
   "metadata": {},
   "source": [
    "Read in test data:"
   ]
  },
  {
   "cell_type": "code",
   "execution_count": 8,
   "id": "anonymous-lafayette",
   "metadata": {},
   "outputs": [],
   "source": [
    "X_test = pd.read_csv('../data/test/X_test.csv')\n",
    "y_test = np.ravel(pd.read_csv('../data/test/y_test.csv'))"
   ]
  },
  {
   "cell_type": "code",
   "execution_count": 9,
   "id": "governing-friendly",
   "metadata": {},
   "outputs": [],
   "source": [
    "y_test_pred = model.predict(X_test)"
   ]
  },
  {
   "cell_type": "code",
   "execution_count": 10,
   "id": "equal-quantum",
   "metadata": {
    "scrolled": false
   },
   "outputs": [
    {
     "name": "stdout",
     "output_type": "stream",
     "text": [
      "Confusion matrix: \n",
      " [[73  4]\n",
      " [ 0 95]]\n",
      "\n",
      "Classification report: \n",
      "               precision    recall  f1-score   support\n",
      "\n",
      "      Modern       1.00      0.95      0.97        77\n",
      " Renaissance       0.96      1.00      0.98        95\n",
      "\n",
      "    accuracy                           0.98       172\n",
      "   macro avg       0.98      0.97      0.98       172\n",
      "weighted avg       0.98      0.98      0.98       172\n",
      "\n"
     ]
    }
   ],
   "source": [
    "print('Confusion matrix: \\n', confusion_matrix(y_test, y_test_pred))\n",
    "print('\\nClassification report: \\n', classification_report(y_test, y_test_pred, zero_division=True))"
   ]
  },
  {
   "cell_type": "markdown",
   "id": "sunrise-attitude",
   "metadata": {},
   "source": [
    "#### Saving predictions and probablilities for model comparison:"
   ]
  },
  {
   "cell_type": "code",
   "execution_count": 11,
   "id": "available-trick",
   "metadata": {},
   "outputs": [],
   "source": [
    "pd.DataFrame(y_test_pred).to_csv('results/mnb_pred.csv', index=False)\n",
    "pd.DataFrame(model.predict_proba(X_test)[:,1]).to_csv('results/mnb_prob.csv', index=False)"
   ]
  },
  {
   "cell_type": "markdown",
   "id": "norman-porcelain",
   "metadata": {},
   "source": [
    "### ROC curve - for train and for test data"
   ]
  },
  {
   "cell_type": "code",
   "execution_count": 12,
   "id": "passive-victim",
   "metadata": {
    "scrolled": true
   },
   "outputs": [],
   "source": [
    "Encoder = LabelEncoder()\n",
    "y_test = Encoder.fit_transform(y_test)\n",
    "y_train = Encoder.fit_transform(y_train)"
   ]
  },
  {
   "cell_type": "code",
   "execution_count": 13,
   "id": "special-consumer",
   "metadata": {},
   "outputs": [],
   "source": [
    "#test data\n",
    "y_score1 = model.predict_proba(X_test)[:,1]\n",
    "false_positive_rate1, true_positive_rate1, threshold1 = roc_curve(y_test, y_score1)\n",
    "test_score = round(roc_auc_score(y_test, y_score1), 2)\n",
    "#training data\n",
    "y_score2 = model.predict_proba(X_train)[:,1]\n",
    "false_positive_rate2, true_positive_rate2, threshold2 = roc_curve(y_train, y_score2)\n",
    "val_score = round(roc_auc_score(y_train, y_score2), 2)"
   ]
  },
  {
   "cell_type": "code",
   "execution_count": 14,
   "id": "mechanical-advocacy",
   "metadata": {},
   "outputs": [
    {
     "data": {
      "image/png": "[encoded data removed]",
      "text/plain": [
       "<Figure size 576x576 with 1 Axes>"
      ]
     },
     "metadata": {
      "needs_background": "light"
     },
     "output_type": "display_data"
    }
   ],
   "source": [
    "plt.subplots(1, figsize=(8,8))\n",
    "plt.title('ROC curve - Multinomial Naive Bayes')\n",
    "#roc curve for test data\n",
    "plt.plot(false_positive_rate1, true_positive_rate1, label=\"Test data AUC: \" + str(test_score))\n",
    "#roc curve for val data\n",
    "plt.plot(false_positive_rate2, true_positive_rate2, label=\"Val data AUC: \" + str(val_score))\n",
    "plt.plot([0, 1], ls=\"--\")\n",
    "plt.plot([0, 0], [1, 0] , c=\".7\"), plt.plot([1, 1] , c=\".7\")\n",
    "plt.legend(loc='lower right')\n",
    "plt.ylabel('True positive rate')\n",
    "plt.xlabel('False positive rate')\n",
    "plt.show()"
   ]
  },
  {
   "cell_type": "code",
   "execution_count": null,
   "id": "precious-pizza",
   "metadata": {},
   "outputs": [],
   "source": []
  },
  {
   "cell_type": "code",
   "execution_count": null,
   "id": "applied-spread",
   "metadata": {},
   "outputs": [],
   "source": []
  }
 ],
 "metadata": {
  "kernelspec": {
   "display_name": "Python 3",
   "language": "python",
   "name": "python3"
  },
  "language_info": {
   "codemirror_mode": {
    "name": "ipython",
    "version": 3
   },
   "file_extension": ".py",
   "mimetype": "text/x-python",
   "name": "python",
   "nbconvert_exporter": "python",
   "pygments_lexer": "ipython3",
   "version": "3.8.10"
  }
 },
 "nbformat": 4,
 "nbformat_minor": 5
}
